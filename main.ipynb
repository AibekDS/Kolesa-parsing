{
 "cells": [
  {
   "cell_type": "code",
   "execution_count": 1,
   "metadata": {},
   "outputs": [
    {
     "name": "stderr",
     "output_type": "stream",
     "text": [
      "c:\\Users\\moona\\AppData\\Local\\Programs\\Python\\Python312\\Lib\\site-packages\\tqdm\\auto.py:21: TqdmWarning: IProgress not found. Please update jupyter and ipywidgets. See https://ipywidgets.readthedocs.io/en/stable/user_install.html\n",
      "  from .autonotebook import tqdm as notebook_tqdm\n"
     ]
    },
    {
     "ename": "ModuleNotFoundError",
     "evalue": "No module named 'fake_useragent'",
     "output_type": "error",
     "traceback": [
      "\u001b[1;31m---------------------------------------------------------------------------\u001b[0m",
      "\u001b[1;31mModuleNotFoundError\u001b[0m                       Traceback (most recent call last)",
      "Cell \u001b[1;32mIn[1], line 6\u001b[0m\n\u001b[0;32m      4\u001b[0m \u001b[38;5;28;01mimport\u001b[39;00m \u001b[38;5;21;01mcsv\u001b[39;00m\n\u001b[0;32m      5\u001b[0m \u001b[38;5;28;01mfrom\u001b[39;00m \u001b[38;5;21;01mtqdm\u001b[39;00m\u001b[38;5;21;01m.\u001b[39;00m\u001b[38;5;21;01mauto\u001b[39;00m \u001b[38;5;28;01mimport\u001b[39;00m tqdm\n\u001b[1;32m----> 6\u001b[0m \u001b[38;5;28;01mfrom\u001b[39;00m \u001b[38;5;21;01mfake_useragent\u001b[39;00m \u001b[38;5;28;01mimport\u001b[39;00m UserAgent\n\u001b[0;32m      7\u001b[0m \u001b[38;5;28;01mfrom\u001b[39;00m \u001b[38;5;21;01mtime\u001b[39;00m \u001b[38;5;28;01mimport\u001b[39;00m sleep\n",
      "\u001b[1;31mModuleNotFoundError\u001b[0m: No module named 'fake_useragent'"
     ]
    }
   ],
   "source": [
    "import requests\n",
    "from bs4 import BeautifulSoup\n",
    "import json\n",
    "import csv\n",
    "from tqdm.auto import tqdm\n",
    "from fake_useragent import UserAgent\n",
    "from time import sleep"
   ]
  },
  {
   "cell_type": "code",
   "execution_count": 2,
   "metadata": {},
   "outputs": [],
   "source": [
    "user = UserAgent().random\n",
    "headers = {\n",
    "    'Accept': 'text/html,application/xhtml+xml,application/xml;q=0.9,image/avif,image/webp,*/*;q=0.8',\n",
    "    'Accept-Encoding': 'gzip, deflate, br',\n",
    "    'Accept-Language': 'ru-RU,ru;q=0.8,en-US;q=0.5,en;q=0.3',\n",
    "    'Cookie': 'ssaid=a651e730-c6c0-11ee-9165-1f80afa3516c; _ga=GA1.1.a651e730-c6c0-11ee-9165-1f80afa3516c; _ga_K434WRXPFF=GS1.1.1712412225.2.1.1712413268.49.0.144069945; _ym_uid=1707424123492512001; _ym_d=1712405883; _gid=GA1.2.1488568099.1712405883; _ym_isad=2; _fbp=fb.1.1712405883851.2084786351; _tt_enable_cookie=1; _ttp=dQDV1GMZGh3ZEQ5y5hUEqkCSpPY; __gads=ID=ff378d00ed96cd1f:T=1712405883:RT=1712413259:S=ALNI_MbN22spGZ7Qluk9-l-R7gUdUWDUkg; __gpi=UID=00000de5e1acff4c:T=1712405883:RT=1712413259:S=ALNI_Ma3we_VofAGpvcklJDB6QbN8sumcA; __eoi=ID=3ff22d6d95cd6ee4:T=1712405883:RT=1712413259:S=AA-AfjbkU5C3EOJxxRyvcWCkx9IK; gh_show=1; klssid=nrlpo9blk49g0cinoi4je3auhq; _ym_visorc=b; kl_cdn_host=//alakt-kz.kcdn.online; _gat=1; __tld__=null',\n",
    "    'User-Agent': user\n",
    "}"
   ]
  },
  {
   "cell_type": "code",
   "execution_count": 4,
   "metadata": {},
   "outputs": [],
   "source": [
    "with open(f\"car_kolesa.csv\", \"w\", encoding=\"utf-8\") as file:\n",
    "        writer = csv.writer(file)\n",
    "        writer.writerow(\n",
    "            (\n",
    "                'brand',\n",
    "                'name',\n",
    "                'year',\n",
    "                'price',\n",
    "                'city',\n",
    "                'body',\n",
    "                'engine',\n",
    "                'fuel',\n",
    "                'mileage',\n",
    "                'transmission',\n",
    "                'drive',\n",
    "                'color',\n",
    "                'url'\n",
    "            )\n",
    "        )"
   ]
  },
  {
   "cell_type": "code",
   "execution_count": 4,
   "metadata": {},
   "outputs": [],
   "source": [
    "# list_urls = []\n",
    "# for i in tqdm(range(1)):\n",
    "#     url = f\"https://kolesa.kz/cars/avtomobili-s-probegom/?auto-car-grbody=1&page={i}\"    \n",
    "#     req = requests.get(url = url, headers=headers)\n",
    "#     src = req.text\n",
    "#     soup = BeautifulSoup(src, 'lxml')\n",
    "#     layer_1 = soup.find('div', id ='results')\n",
    "#     layer_2 = layer_1.find('div', class_='vip-block')\n",
    "#     find_vip = layer_2.find('div', class_=\"vip-block__grid vip-block__grid--3\").find_all('div', class_=\"vip-block__item vip-card js__a-card\")\n",
    "    \n",
    "#     for j in find_vip:\n",
    "#         href_vip = 'https://kolesa.kz/' + j.find('div', class_=\"vip-card__body\").find('h5').find('a', class_=\"vip-card__link\").get('href')\n",
    "#         list_urls.append(href_vip)\n",
    "    \n",
    "#     find = layer_1.find('div', class_='a-list')\n",
    "#     # print(find)\n",
    "#     find_list = find.find_all('div', class_=\"a-list__item\")\n",
    "#     for j in find_list:\n",
    "#         # print(j)\n",
    "#         card_div = j.find('div', class_=\"a-card  js__a-card\")\n",
    "#         # print(card_div)\n",
    "#         if card_div:\n",
    "#             card_info_div = card_div.find('div', class_=\"a-card__info\")\n",
    "#             # print(card_info_div)\n",
    "#             if card_info_div:\n",
    "#                 card_header_div = card_info_div.find('div', class_=\"a-card__header\")\n",
    "#                 # print(card_header_div)\n",
    "#                 if card_header_div:\n",
    "#                     h5_tag = card_header_div.find('h5')\n",
    "#                     # print(h5_tag)\n",
    "#                     if h5_tag:\n",
    "#                         href = 'https://kolesa.kz/' + h5_tag.find('a').get('href')\n",
    "#                         list_urls.append(href)\n",
    "    \n",
    "#     print(f'iteration {i}, finish')"
   ]
  },
  {
   "cell_type": "code",
   "execution_count": 4,
   "metadata": {},
   "outputs": [
    {
     "name": "stderr",
     "output_type": "stream",
     "text": [
      "  0%|          | 0/10 [00:00<?, ?it/s]"
     ]
    },
    {
     "name": "stderr",
     "output_type": "stream",
     "text": [
      " 10%|█         | 1/10 [00:02<00:18,  2.00s/it]"
     ]
    },
    {
     "name": "stdout",
     "output_type": "stream",
     "text": [
      "23\n",
      "iteration 0, finish\n"
     ]
    },
    {
     "name": "stderr",
     "output_type": "stream",
     "text": [
      " 20%|██        | 2/10 [00:03<00:15,  1.93s/it]"
     ]
    },
    {
     "name": "stdout",
     "output_type": "stream",
     "text": [
      "46\n",
      "iteration 1, finish\n"
     ]
    },
    {
     "name": "stderr",
     "output_type": "stream",
     "text": [
      " 30%|███       | 3/10 [00:05<00:13,  1.88s/it]"
     ]
    },
    {
     "name": "stdout",
     "output_type": "stream",
     "text": [
      "69\n",
      "iteration 2, finish\n"
     ]
    },
    {
     "name": "stderr",
     "output_type": "stream",
     "text": [
      " 40%|████      | 4/10 [00:07<00:11,  1.85s/it]"
     ]
    },
    {
     "name": "stdout",
     "output_type": "stream",
     "text": [
      "92\n",
      "iteration 3, finish\n"
     ]
    },
    {
     "name": "stderr",
     "output_type": "stream",
     "text": [
      " 50%|█████     | 5/10 [00:09<00:09,  1.82s/it]"
     ]
    },
    {
     "name": "stdout",
     "output_type": "stream",
     "text": [
      "115\n",
      "iteration 4, finish\n"
     ]
    },
    {
     "name": "stderr",
     "output_type": "stream",
     "text": [
      " 60%|██████    | 6/10 [00:11<00:07,  1.88s/it]"
     ]
    },
    {
     "name": "stdout",
     "output_type": "stream",
     "text": [
      "138\n",
      "iteration 5, finish\n"
     ]
    },
    {
     "name": "stderr",
     "output_type": "stream",
     "text": [
      " 70%|███████   | 7/10 [00:13<00:05,  1.84s/it]"
     ]
    },
    {
     "name": "stdout",
     "output_type": "stream",
     "text": [
      "161\n",
      "iteration 6, finish\n"
     ]
    },
    {
     "name": "stderr",
     "output_type": "stream",
     "text": [
      " 80%|████████  | 8/10 [00:14<00:03,  1.83s/it]"
     ]
    },
    {
     "name": "stdout",
     "output_type": "stream",
     "text": [
      "184\n",
      "iteration 7, finish\n"
     ]
    },
    {
     "name": "stderr",
     "output_type": "stream",
     "text": [
      " 90%|█████████ | 9/10 [00:16<00:01,  1.92s/it]"
     ]
    },
    {
     "name": "stdout",
     "output_type": "stream",
     "text": [
      "207\n",
      "iteration 8, finish\n"
     ]
    },
    {
     "name": "stderr",
     "output_type": "stream",
     "text": [
      "100%|██████████| 10/10 [00:18<00:00,  1.87s/it]"
     ]
    },
    {
     "name": "stdout",
     "output_type": "stream",
     "text": [
      "230\n",
      "iteration 9, finish\n"
     ]
    },
    {
     "name": "stderr",
     "output_type": "stream",
     "text": [
      "\n"
     ]
    }
   ],
   "source": [
    "list_urls = []\n",
    "for i in tqdm(range(10)):\n",
    "    url = f\"https://kolesa.kz/cars/avtomobili-s-probegom/?auto-car-grbody=1&_sys-hasphoto=2&page={i}\"    \n",
    "    req = requests.get(url=url)\n",
    "    src = req.text\n",
    "    soup = BeautifulSoup(src, 'lxml')\n",
    "    layer_1 = soup.find('div', id='results')\n",
    "    if layer_1:\n",
    "        layer_2 = layer_1.find('div', class_='vip-block')\n",
    "        if layer_2:\n",
    "            find_vip = layer_2.find_all('div', class_=\"vip-block__item vip-card js__a-card\")\n",
    "            for j in find_vip:\n",
    "                href_vip = 'https://kolesa.kz/' + j.find('a', class_=\"vip-card__link\").get('href')\n",
    "                list_urls.append(href_vip)\n",
    "    \n",
    "        find = layer_1.find('div', class_='a-list')\n",
    "        if find:\n",
    "            find_list = find.find_all('div', class_='a-card__picture')\n",
    "            for j in find_list:\n",
    "                if j.find('a'):\n",
    "                    href = 'https://kolesa.kz/' + j.find('a').get('href')\n",
    "                    list_urls.append(href)\n",
    "        else:\n",
    "            print('false')\n",
    "    sleep(1)\n",
    "    print(len(list_urls))\n",
    "            \n",
    "    print(f'iteration {i}, finish')\n"
   ]
  },
  {
   "cell_type": "code",
   "execution_count": 52,
   "metadata": {},
   "outputs": [
    {
     "data": {
      "text/plain": [
       "'https://kolesa.kz//a/show/'"
      ]
     },
     "execution_count": 52,
     "metadata": {},
     "output_type": "execute_result"
    }
   ],
   "source": [
    "'https://kolesa.kz//a/show/164616218'[:-9]"
   ]
  },
  {
   "cell_type": "code",
   "execution_count": 30,
   "metadata": {},
   "outputs": [],
   "source": [
    "main_list = []\n",
    "for i in list_urls:\n",
    "    if i[:-9] == 'https://kolesa.kz//a/show/':\n",
    "        main_list.append(i)"
   ]
  },
  {
   "cell_type": "code",
   "execution_count": 34,
   "metadata": {},
   "outputs": [
    {
     "name": "stdout",
     "output_type": "stream",
     "text": [
      "46\n"
     ]
    }
   ],
   "source": [
    "print(len(set(main_list)))"
   ]
  },
  {
   "cell_type": "code",
   "execution_count": 7,
   "metadata": {},
   "outputs": [
    {
     "name": "stdout",
     "output_type": "stream",
     "text": [
      "Car 1 (https://kolesa.kz//a/show/168421937) data written.\n",
      "Car 2 (https://kolesa.kz//a/show/164313001) data written.\n",
      "Car 3 (https://kolesa.kz//a/show/164701048) data written.\n",
      "Car 4 (https://kolesa.kz//a/show/168322926) data written.\n",
      "Car 5 (https://kolesa.kz//a/show/168457889) data written.\n",
      "Car 6 (https://kolesa.kz//a/show/167626196) data written.\n",
      "Car 7 (https://kolesa.kz//a/show/167295605) data written.\n",
      "Car 8 (https://kolesa.kz//a/show/168327574) data written.\n",
      "Car 9 (https://kolesa.kz//a/show/168587576) data written.\n",
      "Car 10 (https://kolesa.kz//a/show/168179469) data written.\n",
      "Car 11 (https://kolesa.kz//a/show/168129271) data written.\n",
      "Car 12 (https://kolesa.kz//a/show/168586095) data written.\n",
      "Car 13 (https://kolesa.kz//a/show/168587209) data written.\n",
      "Car 14 (https://kolesa.kz//a/show/167553446) data written.\n",
      "Car 15 (https://kolesa.kz//a/show/167438373) data written.\n",
      "Car 16 (https://kolesa.kz//a/show/168574318) data written.\n",
      "Car 17 (https://kolesa.kz//a/show/168586715) data written.\n",
      "Car 18 (https://kolesa.kz//a/show/168535198) data written.\n",
      "Car 19 (https://kolesa.kz//a/show/168533721) data written.\n",
      "Car 20 (https://kolesa.kz//a/show/168314653) data written.\n",
      "Connection timeout occurred while accessing https://kolesa.kz//a/show/168437868. Moving to the next URL.\n",
      "Connection timeout occurred while accessing https://kolesa.kz//a/show/167651605. Moving to the next URL.\n"
     ]
    },
    {
     "ename": "KeyboardInterrupt",
     "evalue": "",
     "output_type": "error",
     "traceback": [
      "\u001b[1;31m---------------------------------------------------------------------------\u001b[0m",
      "\u001b[1;31mTimeoutError\u001b[0m                              Traceback (most recent call last)",
      "File \u001b[1;32mc:\\Users\\moona\\Desktop\\Kolesa parcing\\venv\\Lib\\site-packages\\urllib3\\util\\connection.py:73\u001b[0m, in \u001b[0;36mcreate_connection\u001b[1;34m(address, timeout, source_address, socket_options)\u001b[0m\n\u001b[0;32m     72\u001b[0m     sock\u001b[38;5;241m.\u001b[39mbind(source_address)\n\u001b[1;32m---> 73\u001b[0m \u001b[43msock\u001b[49m\u001b[38;5;241;43m.\u001b[39;49m\u001b[43mconnect\u001b[49m\u001b[43m(\u001b[49m\u001b[43msa\u001b[49m\u001b[43m)\u001b[49m\n\u001b[0;32m     74\u001b[0m \u001b[38;5;66;03m# Break explicitly a reference cycle\u001b[39;00m\n",
      "\u001b[1;31mTimeoutError\u001b[0m: timed out",
      "\nDuring handling of the above exception, another exception occurred:\n",
      "\u001b[1;31mKeyboardInterrupt\u001b[0m                         Traceback (most recent call last)",
      "Cell \u001b[1;32mIn[7], line 7\u001b[0m\n\u001b[0;32m      5\u001b[0m \u001b[38;5;28;01mfor\u001b[39;00m i, url \u001b[38;5;129;01min\u001b[39;00m \u001b[38;5;28menumerate\u001b[39m(main_list):\n\u001b[0;32m      6\u001b[0m     \u001b[38;5;28;01mtry\u001b[39;00m:\n\u001b[1;32m----> 7\u001b[0m         req \u001b[38;5;241m=\u001b[39m \u001b[43mrequests\u001b[49m\u001b[38;5;241;43m.\u001b[39;49m\u001b[43mget\u001b[49m\u001b[43m(\u001b[49m\u001b[43murl\u001b[49m\u001b[43m,\u001b[49m\u001b[43m \u001b[49m\u001b[43mtimeout\u001b[49m\u001b[38;5;241;43m=\u001b[39;49m\u001b[38;5;241;43m5\u001b[39;49m\u001b[43m)\u001b[49m  \u001b[38;5;66;03m# Setting timeout to 5 seconds\u001b[39;00m\n\u001b[0;32m      8\u001b[0m         src \u001b[38;5;241m=\u001b[39m req\u001b[38;5;241m.\u001b[39mtext\n\u001b[0;32m      9\u001b[0m         soup \u001b[38;5;241m=\u001b[39m BeautifulSoup(src, \u001b[38;5;124m'\u001b[39m\u001b[38;5;124mlxml\u001b[39m\u001b[38;5;124m'\u001b[39m)\n",
      "File \u001b[1;32mc:\\Users\\moona\\Desktop\\Kolesa parcing\\venv\\Lib\\site-packages\\requests\\api.py:73\u001b[0m, in \u001b[0;36mget\u001b[1;34m(url, params, **kwargs)\u001b[0m\n\u001b[0;32m     62\u001b[0m \u001b[38;5;28;01mdef\u001b[39;00m \u001b[38;5;21mget\u001b[39m(url, params\u001b[38;5;241m=\u001b[39m\u001b[38;5;28;01mNone\u001b[39;00m, \u001b[38;5;241m*\u001b[39m\u001b[38;5;241m*\u001b[39mkwargs):\n\u001b[0;32m     63\u001b[0m \u001b[38;5;250m    \u001b[39m\u001b[38;5;124mr\u001b[39m\u001b[38;5;124;03m\"\"\"Sends a GET request.\u001b[39;00m\n\u001b[0;32m     64\u001b[0m \n\u001b[0;32m     65\u001b[0m \u001b[38;5;124;03m    :param url: URL for the new :class:`Request` object.\u001b[39;00m\n\u001b[1;32m   (...)\u001b[0m\n\u001b[0;32m     70\u001b[0m \u001b[38;5;124;03m    :rtype: requests.Response\u001b[39;00m\n\u001b[0;32m     71\u001b[0m \u001b[38;5;124;03m    \"\"\"\u001b[39;00m\n\u001b[1;32m---> 73\u001b[0m     \u001b[38;5;28;01mreturn\u001b[39;00m \u001b[43mrequest\u001b[49m\u001b[43m(\u001b[49m\u001b[38;5;124;43m\"\u001b[39;49m\u001b[38;5;124;43mget\u001b[39;49m\u001b[38;5;124;43m\"\u001b[39;49m\u001b[43m,\u001b[49m\u001b[43m \u001b[49m\u001b[43murl\u001b[49m\u001b[43m,\u001b[49m\u001b[43m \u001b[49m\u001b[43mparams\u001b[49m\u001b[38;5;241;43m=\u001b[39;49m\u001b[43mparams\u001b[49m\u001b[43m,\u001b[49m\u001b[43m \u001b[49m\u001b[38;5;241;43m*\u001b[39;49m\u001b[38;5;241;43m*\u001b[39;49m\u001b[43mkwargs\u001b[49m\u001b[43m)\u001b[49m\n",
      "File \u001b[1;32mc:\\Users\\moona\\Desktop\\Kolesa parcing\\venv\\Lib\\site-packages\\requests\\api.py:59\u001b[0m, in \u001b[0;36mrequest\u001b[1;34m(method, url, **kwargs)\u001b[0m\n\u001b[0;32m     55\u001b[0m \u001b[38;5;66;03m# By using the 'with' statement we are sure the session is closed, thus we\u001b[39;00m\n\u001b[0;32m     56\u001b[0m \u001b[38;5;66;03m# avoid leaving sockets open which can trigger a ResourceWarning in some\u001b[39;00m\n\u001b[0;32m     57\u001b[0m \u001b[38;5;66;03m# cases, and look like a memory leak in others.\u001b[39;00m\n\u001b[0;32m     58\u001b[0m \u001b[38;5;28;01mwith\u001b[39;00m sessions\u001b[38;5;241m.\u001b[39mSession() \u001b[38;5;28;01mas\u001b[39;00m session:\n\u001b[1;32m---> 59\u001b[0m     \u001b[38;5;28;01mreturn\u001b[39;00m \u001b[43msession\u001b[49m\u001b[38;5;241;43m.\u001b[39;49m\u001b[43mrequest\u001b[49m\u001b[43m(\u001b[49m\u001b[43mmethod\u001b[49m\u001b[38;5;241;43m=\u001b[39;49m\u001b[43mmethod\u001b[49m\u001b[43m,\u001b[49m\u001b[43m \u001b[49m\u001b[43murl\u001b[49m\u001b[38;5;241;43m=\u001b[39;49m\u001b[43murl\u001b[49m\u001b[43m,\u001b[49m\u001b[43m \u001b[49m\u001b[38;5;241;43m*\u001b[39;49m\u001b[38;5;241;43m*\u001b[39;49m\u001b[43mkwargs\u001b[49m\u001b[43m)\u001b[49m\n",
      "File \u001b[1;32mc:\\Users\\moona\\Desktop\\Kolesa parcing\\venv\\Lib\\site-packages\\requests\\sessions.py:589\u001b[0m, in \u001b[0;36mSession.request\u001b[1;34m(self, method, url, params, data, headers, cookies, files, auth, timeout, allow_redirects, proxies, hooks, stream, verify, cert, json)\u001b[0m\n\u001b[0;32m    584\u001b[0m send_kwargs \u001b[38;5;241m=\u001b[39m {\n\u001b[0;32m    585\u001b[0m     \u001b[38;5;124m\"\u001b[39m\u001b[38;5;124mtimeout\u001b[39m\u001b[38;5;124m\"\u001b[39m: timeout,\n\u001b[0;32m    586\u001b[0m     \u001b[38;5;124m\"\u001b[39m\u001b[38;5;124mallow_redirects\u001b[39m\u001b[38;5;124m\"\u001b[39m: allow_redirects,\n\u001b[0;32m    587\u001b[0m }\n\u001b[0;32m    588\u001b[0m send_kwargs\u001b[38;5;241m.\u001b[39mupdate(settings)\n\u001b[1;32m--> 589\u001b[0m resp \u001b[38;5;241m=\u001b[39m \u001b[38;5;28;43mself\u001b[39;49m\u001b[38;5;241;43m.\u001b[39;49m\u001b[43msend\u001b[49m\u001b[43m(\u001b[49m\u001b[43mprep\u001b[49m\u001b[43m,\u001b[49m\u001b[43m \u001b[49m\u001b[38;5;241;43m*\u001b[39;49m\u001b[38;5;241;43m*\u001b[39;49m\u001b[43msend_kwargs\u001b[49m\u001b[43m)\u001b[49m\n\u001b[0;32m    591\u001b[0m \u001b[38;5;28;01mreturn\u001b[39;00m resp\n",
      "File \u001b[1;32mc:\\Users\\moona\\Desktop\\Kolesa parcing\\venv\\Lib\\site-packages\\requests\\sessions.py:703\u001b[0m, in \u001b[0;36mSession.send\u001b[1;34m(self, request, **kwargs)\u001b[0m\n\u001b[0;32m    700\u001b[0m start \u001b[38;5;241m=\u001b[39m preferred_clock()\n\u001b[0;32m    702\u001b[0m \u001b[38;5;66;03m# Send the request\u001b[39;00m\n\u001b[1;32m--> 703\u001b[0m r \u001b[38;5;241m=\u001b[39m \u001b[43madapter\u001b[49m\u001b[38;5;241;43m.\u001b[39;49m\u001b[43msend\u001b[49m\u001b[43m(\u001b[49m\u001b[43mrequest\u001b[49m\u001b[43m,\u001b[49m\u001b[43m \u001b[49m\u001b[38;5;241;43m*\u001b[39;49m\u001b[38;5;241;43m*\u001b[39;49m\u001b[43mkwargs\u001b[49m\u001b[43m)\u001b[49m\n\u001b[0;32m    705\u001b[0m \u001b[38;5;66;03m# Total elapsed time of the request (approximately)\u001b[39;00m\n\u001b[0;32m    706\u001b[0m elapsed \u001b[38;5;241m=\u001b[39m preferred_clock() \u001b[38;5;241m-\u001b[39m start\n",
      "File \u001b[1;32mc:\\Users\\moona\\Desktop\\Kolesa parcing\\venv\\Lib\\site-packages\\requests\\adapters.py:486\u001b[0m, in \u001b[0;36mHTTPAdapter.send\u001b[1;34m(self, request, stream, timeout, verify, cert, proxies)\u001b[0m\n\u001b[0;32m    483\u001b[0m     timeout \u001b[38;5;241m=\u001b[39m TimeoutSauce(connect\u001b[38;5;241m=\u001b[39mtimeout, read\u001b[38;5;241m=\u001b[39mtimeout)\n\u001b[0;32m    485\u001b[0m \u001b[38;5;28;01mtry\u001b[39;00m:\n\u001b[1;32m--> 486\u001b[0m     resp \u001b[38;5;241m=\u001b[39m \u001b[43mconn\u001b[49m\u001b[38;5;241;43m.\u001b[39;49m\u001b[43murlopen\u001b[49m\u001b[43m(\u001b[49m\n\u001b[0;32m    487\u001b[0m \u001b[43m        \u001b[49m\u001b[43mmethod\u001b[49m\u001b[38;5;241;43m=\u001b[39;49m\u001b[43mrequest\u001b[49m\u001b[38;5;241;43m.\u001b[39;49m\u001b[43mmethod\u001b[49m\u001b[43m,\u001b[49m\n\u001b[0;32m    488\u001b[0m \u001b[43m        \u001b[49m\u001b[43murl\u001b[49m\u001b[38;5;241;43m=\u001b[39;49m\u001b[43murl\u001b[49m\u001b[43m,\u001b[49m\n\u001b[0;32m    489\u001b[0m \u001b[43m        \u001b[49m\u001b[43mbody\u001b[49m\u001b[38;5;241;43m=\u001b[39;49m\u001b[43mrequest\u001b[49m\u001b[38;5;241;43m.\u001b[39;49m\u001b[43mbody\u001b[49m\u001b[43m,\u001b[49m\n\u001b[0;32m    490\u001b[0m \u001b[43m        \u001b[49m\u001b[43mheaders\u001b[49m\u001b[38;5;241;43m=\u001b[39;49m\u001b[43mrequest\u001b[49m\u001b[38;5;241;43m.\u001b[39;49m\u001b[43mheaders\u001b[49m\u001b[43m,\u001b[49m\n\u001b[0;32m    491\u001b[0m \u001b[43m        \u001b[49m\u001b[43mredirect\u001b[49m\u001b[38;5;241;43m=\u001b[39;49m\u001b[38;5;28;43;01mFalse\u001b[39;49;00m\u001b[43m,\u001b[49m\n\u001b[0;32m    492\u001b[0m \u001b[43m        \u001b[49m\u001b[43massert_same_host\u001b[49m\u001b[38;5;241;43m=\u001b[39;49m\u001b[38;5;28;43;01mFalse\u001b[39;49;00m\u001b[43m,\u001b[49m\n\u001b[0;32m    493\u001b[0m \u001b[43m        \u001b[49m\u001b[43mpreload_content\u001b[49m\u001b[38;5;241;43m=\u001b[39;49m\u001b[38;5;28;43;01mFalse\u001b[39;49;00m\u001b[43m,\u001b[49m\n\u001b[0;32m    494\u001b[0m \u001b[43m        \u001b[49m\u001b[43mdecode_content\u001b[49m\u001b[38;5;241;43m=\u001b[39;49m\u001b[38;5;28;43;01mFalse\u001b[39;49;00m\u001b[43m,\u001b[49m\n\u001b[0;32m    495\u001b[0m \u001b[43m        \u001b[49m\u001b[43mretries\u001b[49m\u001b[38;5;241;43m=\u001b[39;49m\u001b[38;5;28;43mself\u001b[39;49m\u001b[38;5;241;43m.\u001b[39;49m\u001b[43mmax_retries\u001b[49m\u001b[43m,\u001b[49m\n\u001b[0;32m    496\u001b[0m \u001b[43m        \u001b[49m\u001b[43mtimeout\u001b[49m\u001b[38;5;241;43m=\u001b[39;49m\u001b[43mtimeout\u001b[49m\u001b[43m,\u001b[49m\n\u001b[0;32m    497\u001b[0m \u001b[43m        \u001b[49m\u001b[43mchunked\u001b[49m\u001b[38;5;241;43m=\u001b[39;49m\u001b[43mchunked\u001b[49m\u001b[43m,\u001b[49m\n\u001b[0;32m    498\u001b[0m \u001b[43m    \u001b[49m\u001b[43m)\u001b[49m\n\u001b[0;32m    500\u001b[0m \u001b[38;5;28;01mexcept\u001b[39;00m (ProtocolError, \u001b[38;5;167;01mOSError\u001b[39;00m) \u001b[38;5;28;01mas\u001b[39;00m err:\n\u001b[0;32m    501\u001b[0m     \u001b[38;5;28;01mraise\u001b[39;00m \u001b[38;5;167;01mConnectionError\u001b[39;00m(err, request\u001b[38;5;241m=\u001b[39mrequest)\n",
      "File \u001b[1;32mc:\\Users\\moona\\Desktop\\Kolesa parcing\\venv\\Lib\\site-packages\\urllib3\\connectionpool.py:793\u001b[0m, in \u001b[0;36mHTTPConnectionPool.urlopen\u001b[1;34m(self, method, url, body, headers, retries, redirect, assert_same_host, timeout, pool_timeout, release_conn, chunked, body_pos, preload_content, decode_content, **response_kw)\u001b[0m\n\u001b[0;32m    790\u001b[0m response_conn \u001b[38;5;241m=\u001b[39m conn \u001b[38;5;28;01mif\u001b[39;00m \u001b[38;5;129;01mnot\u001b[39;00m release_conn \u001b[38;5;28;01melse\u001b[39;00m \u001b[38;5;28;01mNone\u001b[39;00m\n\u001b[0;32m    792\u001b[0m \u001b[38;5;66;03m# Make the request on the HTTPConnection object\u001b[39;00m\n\u001b[1;32m--> 793\u001b[0m response \u001b[38;5;241m=\u001b[39m \u001b[38;5;28;43mself\u001b[39;49m\u001b[38;5;241;43m.\u001b[39;49m\u001b[43m_make_request\u001b[49m\u001b[43m(\u001b[49m\n\u001b[0;32m    794\u001b[0m \u001b[43m    \u001b[49m\u001b[43mconn\u001b[49m\u001b[43m,\u001b[49m\n\u001b[0;32m    795\u001b[0m \u001b[43m    \u001b[49m\u001b[43mmethod\u001b[49m\u001b[43m,\u001b[49m\n\u001b[0;32m    796\u001b[0m \u001b[43m    \u001b[49m\u001b[43murl\u001b[49m\u001b[43m,\u001b[49m\n\u001b[0;32m    797\u001b[0m \u001b[43m    \u001b[49m\u001b[43mtimeout\u001b[49m\u001b[38;5;241;43m=\u001b[39;49m\u001b[43mtimeout_obj\u001b[49m\u001b[43m,\u001b[49m\n\u001b[0;32m    798\u001b[0m \u001b[43m    \u001b[49m\u001b[43mbody\u001b[49m\u001b[38;5;241;43m=\u001b[39;49m\u001b[43mbody\u001b[49m\u001b[43m,\u001b[49m\n\u001b[0;32m    799\u001b[0m \u001b[43m    \u001b[49m\u001b[43mheaders\u001b[49m\u001b[38;5;241;43m=\u001b[39;49m\u001b[43mheaders\u001b[49m\u001b[43m,\u001b[49m\n\u001b[0;32m    800\u001b[0m \u001b[43m    \u001b[49m\u001b[43mchunked\u001b[49m\u001b[38;5;241;43m=\u001b[39;49m\u001b[43mchunked\u001b[49m\u001b[43m,\u001b[49m\n\u001b[0;32m    801\u001b[0m \u001b[43m    \u001b[49m\u001b[43mretries\u001b[49m\u001b[38;5;241;43m=\u001b[39;49m\u001b[43mretries\u001b[49m\u001b[43m,\u001b[49m\n\u001b[0;32m    802\u001b[0m \u001b[43m    \u001b[49m\u001b[43mresponse_conn\u001b[49m\u001b[38;5;241;43m=\u001b[39;49m\u001b[43mresponse_conn\u001b[49m\u001b[43m,\u001b[49m\n\u001b[0;32m    803\u001b[0m \u001b[43m    \u001b[49m\u001b[43mpreload_content\u001b[49m\u001b[38;5;241;43m=\u001b[39;49m\u001b[43mpreload_content\u001b[49m\u001b[43m,\u001b[49m\n\u001b[0;32m    804\u001b[0m \u001b[43m    \u001b[49m\u001b[43mdecode_content\u001b[49m\u001b[38;5;241;43m=\u001b[39;49m\u001b[43mdecode_content\u001b[49m\u001b[43m,\u001b[49m\n\u001b[0;32m    805\u001b[0m \u001b[43m    \u001b[49m\u001b[38;5;241;43m*\u001b[39;49m\u001b[38;5;241;43m*\u001b[39;49m\u001b[43mresponse_kw\u001b[49m\u001b[43m,\u001b[49m\n\u001b[0;32m    806\u001b[0m \u001b[43m\u001b[49m\u001b[43m)\u001b[49m\n\u001b[0;32m    808\u001b[0m \u001b[38;5;66;03m# Everything went great!\u001b[39;00m\n\u001b[0;32m    809\u001b[0m clean_exit \u001b[38;5;241m=\u001b[39m \u001b[38;5;28;01mTrue\u001b[39;00m\n",
      "File \u001b[1;32mc:\\Users\\moona\\Desktop\\Kolesa parcing\\venv\\Lib\\site-packages\\urllib3\\connectionpool.py:467\u001b[0m, in \u001b[0;36mHTTPConnectionPool._make_request\u001b[1;34m(self, conn, method, url, body, headers, retries, timeout, chunked, response_conn, preload_content, decode_content, enforce_content_length)\u001b[0m\n\u001b[0;32m    464\u001b[0m \u001b[38;5;28;01mtry\u001b[39;00m:\n\u001b[0;32m    465\u001b[0m     \u001b[38;5;66;03m# Trigger any extra validation we need to do.\u001b[39;00m\n\u001b[0;32m    466\u001b[0m     \u001b[38;5;28;01mtry\u001b[39;00m:\n\u001b[1;32m--> 467\u001b[0m         \u001b[38;5;28;43mself\u001b[39;49m\u001b[38;5;241;43m.\u001b[39;49m\u001b[43m_validate_conn\u001b[49m\u001b[43m(\u001b[49m\u001b[43mconn\u001b[49m\u001b[43m)\u001b[49m\n\u001b[0;32m    468\u001b[0m     \u001b[38;5;28;01mexcept\u001b[39;00m (SocketTimeout, BaseSSLError) \u001b[38;5;28;01mas\u001b[39;00m e:\n\u001b[0;32m    469\u001b[0m         \u001b[38;5;28mself\u001b[39m\u001b[38;5;241m.\u001b[39m_raise_timeout(err\u001b[38;5;241m=\u001b[39me, url\u001b[38;5;241m=\u001b[39murl, timeout_value\u001b[38;5;241m=\u001b[39mconn\u001b[38;5;241m.\u001b[39mtimeout)\n",
      "File \u001b[1;32mc:\\Users\\moona\\Desktop\\Kolesa parcing\\venv\\Lib\\site-packages\\urllib3\\connectionpool.py:1099\u001b[0m, in \u001b[0;36mHTTPSConnectionPool._validate_conn\u001b[1;34m(self, conn)\u001b[0m\n\u001b[0;32m   1097\u001b[0m \u001b[38;5;66;03m# Force connect early to allow us to validate the connection.\u001b[39;00m\n\u001b[0;32m   1098\u001b[0m \u001b[38;5;28;01mif\u001b[39;00m conn\u001b[38;5;241m.\u001b[39mis_closed:\n\u001b[1;32m-> 1099\u001b[0m     \u001b[43mconn\u001b[49m\u001b[38;5;241;43m.\u001b[39;49m\u001b[43mconnect\u001b[49m\u001b[43m(\u001b[49m\u001b[43m)\u001b[49m\n\u001b[0;32m   1101\u001b[0m \u001b[38;5;66;03m# TODO revise this, see https://github.com/urllib3/urllib3/issues/2791\u001b[39;00m\n\u001b[0;32m   1102\u001b[0m \u001b[38;5;28;01mif\u001b[39;00m \u001b[38;5;129;01mnot\u001b[39;00m conn\u001b[38;5;241m.\u001b[39mis_verified \u001b[38;5;129;01mand\u001b[39;00m \u001b[38;5;129;01mnot\u001b[39;00m conn\u001b[38;5;241m.\u001b[39mproxy_is_verified:\n",
      "File \u001b[1;32mc:\\Users\\moona\\Desktop\\Kolesa parcing\\venv\\Lib\\site-packages\\urllib3\\connection.py:616\u001b[0m, in \u001b[0;36mHTTPSConnection.connect\u001b[1;34m(self)\u001b[0m\n\u001b[0;32m    614\u001b[0m \u001b[38;5;28;01mdef\u001b[39;00m \u001b[38;5;21mconnect\u001b[39m(\u001b[38;5;28mself\u001b[39m) \u001b[38;5;241m-\u001b[39m\u001b[38;5;241m>\u001b[39m \u001b[38;5;28;01mNone\u001b[39;00m:\n\u001b[0;32m    615\u001b[0m     sock: socket\u001b[38;5;241m.\u001b[39msocket \u001b[38;5;241m|\u001b[39m ssl\u001b[38;5;241m.\u001b[39mSSLSocket\n\u001b[1;32m--> 616\u001b[0m     \u001b[38;5;28mself\u001b[39m\u001b[38;5;241m.\u001b[39msock \u001b[38;5;241m=\u001b[39m sock \u001b[38;5;241m=\u001b[39m \u001b[38;5;28;43mself\u001b[39;49m\u001b[38;5;241;43m.\u001b[39;49m\u001b[43m_new_conn\u001b[49m\u001b[43m(\u001b[49m\u001b[43m)\u001b[49m\n\u001b[0;32m    617\u001b[0m     server_hostname: \u001b[38;5;28mstr\u001b[39m \u001b[38;5;241m=\u001b[39m \u001b[38;5;28mself\u001b[39m\u001b[38;5;241m.\u001b[39mhost\n\u001b[0;32m    618\u001b[0m     tls_in_tls \u001b[38;5;241m=\u001b[39m \u001b[38;5;28;01mFalse\u001b[39;00m\n",
      "File \u001b[1;32mc:\\Users\\moona\\Desktop\\Kolesa parcing\\venv\\Lib\\site-packages\\urllib3\\connection.py:198\u001b[0m, in \u001b[0;36mHTTPConnection._new_conn\u001b[1;34m(self)\u001b[0m\n\u001b[0;32m    193\u001b[0m \u001b[38;5;250m\u001b[39m\u001b[38;5;124;03m\"\"\"Establish a socket connection and set nodelay settings on it.\u001b[39;00m\n\u001b[0;32m    194\u001b[0m \n\u001b[0;32m    195\u001b[0m \u001b[38;5;124;03m:return: New socket connection.\u001b[39;00m\n\u001b[0;32m    196\u001b[0m \u001b[38;5;124;03m\"\"\"\u001b[39;00m\n\u001b[0;32m    197\u001b[0m \u001b[38;5;28;01mtry\u001b[39;00m:\n\u001b[1;32m--> 198\u001b[0m     sock \u001b[38;5;241m=\u001b[39m \u001b[43mconnection\u001b[49m\u001b[38;5;241;43m.\u001b[39;49m\u001b[43mcreate_connection\u001b[49m\u001b[43m(\u001b[49m\n\u001b[0;32m    199\u001b[0m \u001b[43m        \u001b[49m\u001b[43m(\u001b[49m\u001b[38;5;28;43mself\u001b[39;49m\u001b[38;5;241;43m.\u001b[39;49m\u001b[43m_dns_host\u001b[49m\u001b[43m,\u001b[49m\u001b[43m \u001b[49m\u001b[38;5;28;43mself\u001b[39;49m\u001b[38;5;241;43m.\u001b[39;49m\u001b[43mport\u001b[49m\u001b[43m)\u001b[49m\u001b[43m,\u001b[49m\n\u001b[0;32m    200\u001b[0m \u001b[43m        \u001b[49m\u001b[38;5;28;43mself\u001b[39;49m\u001b[38;5;241;43m.\u001b[39;49m\u001b[43mtimeout\u001b[49m\u001b[43m,\u001b[49m\n\u001b[0;32m    201\u001b[0m \u001b[43m        \u001b[49m\u001b[43msource_address\u001b[49m\u001b[38;5;241;43m=\u001b[39;49m\u001b[38;5;28;43mself\u001b[39;49m\u001b[38;5;241;43m.\u001b[39;49m\u001b[43msource_address\u001b[49m\u001b[43m,\u001b[49m\n\u001b[0;32m    202\u001b[0m \u001b[43m        \u001b[49m\u001b[43msocket_options\u001b[49m\u001b[38;5;241;43m=\u001b[39;49m\u001b[38;5;28;43mself\u001b[39;49m\u001b[38;5;241;43m.\u001b[39;49m\u001b[43msocket_options\u001b[49m\u001b[43m,\u001b[49m\n\u001b[0;32m    203\u001b[0m \u001b[43m    \u001b[49m\u001b[43m)\u001b[49m\n\u001b[0;32m    204\u001b[0m \u001b[38;5;28;01mexcept\u001b[39;00m socket\u001b[38;5;241m.\u001b[39mgaierror \u001b[38;5;28;01mas\u001b[39;00m e:\n\u001b[0;32m    205\u001b[0m     \u001b[38;5;28;01mraise\u001b[39;00m NameResolutionError(\u001b[38;5;28mself\u001b[39m\u001b[38;5;241m.\u001b[39mhost, \u001b[38;5;28mself\u001b[39m, e) \u001b[38;5;28;01mfrom\u001b[39;00m \u001b[38;5;21;01me\u001b[39;00m\n",
      "File \u001b[1;32mc:\\Users\\moona\\Desktop\\Kolesa parcing\\venv\\Lib\\site-packages\\urllib3\\util\\connection.py:81\u001b[0m, in \u001b[0;36mcreate_connection\u001b[1;34m(address, timeout, source_address, socket_options)\u001b[0m\n\u001b[0;32m     79\u001b[0m         err \u001b[38;5;241m=\u001b[39m _\n\u001b[0;32m     80\u001b[0m         \u001b[38;5;28;01mif\u001b[39;00m sock \u001b[38;5;129;01mis\u001b[39;00m \u001b[38;5;129;01mnot\u001b[39;00m \u001b[38;5;28;01mNone\u001b[39;00m:\n\u001b[1;32m---> 81\u001b[0m             \u001b[43msock\u001b[49m\u001b[38;5;241;43m.\u001b[39;49m\u001b[43mclose\u001b[49m\u001b[43m(\u001b[49m\u001b[43m)\u001b[49m\n\u001b[0;32m     83\u001b[0m \u001b[38;5;28;01mif\u001b[39;00m err \u001b[38;5;129;01mis\u001b[39;00m \u001b[38;5;129;01mnot\u001b[39;00m \u001b[38;5;28;01mNone\u001b[39;00m:\n\u001b[0;32m     84\u001b[0m     \u001b[38;5;28;01mtry\u001b[39;00m:\n",
      "File \u001b[1;32m~\\AppData\\Local\\Programs\\Python\\Python312\\Lib\\socket.py:500\u001b[0m, in \u001b[0;36msocket.close\u001b[1;34m(self)\u001b[0m\n\u001b[0;32m    496\u001b[0m \u001b[38;5;28;01mdef\u001b[39;00m \u001b[38;5;21m_real_close\u001b[39m(\u001b[38;5;28mself\u001b[39m, _ss\u001b[38;5;241m=\u001b[39m_socket\u001b[38;5;241m.\u001b[39msocket):\n\u001b[0;32m    497\u001b[0m     \u001b[38;5;66;03m# This function should not reference any globals. See issue #808164.\u001b[39;00m\n\u001b[0;32m    498\u001b[0m     _ss\u001b[38;5;241m.\u001b[39mclose(\u001b[38;5;28mself\u001b[39m)\n\u001b[1;32m--> 500\u001b[0m \u001b[38;5;28;01mdef\u001b[39;00m \u001b[38;5;21mclose\u001b[39m(\u001b[38;5;28mself\u001b[39m):\n\u001b[0;32m    501\u001b[0m     \u001b[38;5;66;03m# This function should not reference any globals. See issue #808164.\u001b[39;00m\n\u001b[0;32m    502\u001b[0m     \u001b[38;5;28mself\u001b[39m\u001b[38;5;241m.\u001b[39m_closed \u001b[38;5;241m=\u001b[39m \u001b[38;5;28;01mTrue\u001b[39;00m\n\u001b[0;32m    503\u001b[0m     \u001b[38;5;28;01mif\u001b[39;00m \u001b[38;5;28mself\u001b[39m\u001b[38;5;241m.\u001b[39m_io_refs \u001b[38;5;241m<\u001b[39m\u001b[38;5;241m=\u001b[39m \u001b[38;5;241m0\u001b[39m:\n",
      "\u001b[1;31mKeyboardInterrupt\u001b[0m: "
     ]
    }
   ],
   "source": [
    "import requests\n",
    "from bs4 import BeautifulSoup\n",
    "import csv\n",
    "\n",
    "for i, url in enumerate(main_list):\n",
    "    try:\n",
    "        req = requests.get(url, timeout=5)  # Setting timeout to 5 seconds\n",
    "        src = req.text\n",
    "        soup = BeautifulSoup(src, 'lxml')\n",
    "\n",
    "        layer_1 = soup.find('div', class_=\"offer\")\n",
    "        name_header = layer_1.find('header', class_=\"offer__header\")\n",
    "        name = name_header.find('h1', class_=\"offer__title\").text\n",
    "        list_name = name.split()\n",
    "        brand = list_name[0]\n",
    "        name = list_name[-3]\n",
    "        year = int(list_name[-2])\n",
    "\n",
    "        layer_2 = soup.find('section', class_=\"offer__container\")\n",
    "        layer_3 = layer_2.find('div', class_=\"offer__sidebar\").find('div', class_=\"offer__sidebar-info\")\n",
    "\n",
    "        price = layer_3.find('div', class_=\"offer__sidebar-header\").find('div', class_=\"offer__price\").text\n",
    "        price = int(''.join(price.split()[:-1]))\n",
    "\n",
    "        layer_4 = layer_3.find('div', class_=\"offer__parameters\")\n",
    "        dls = layer_4.find_all('dl')\n",
    "\n",
    "        city = dls[0].find('dd').text\n",
    "        body = dls[2].find('dd').text\n",
    "\n",
    "        eng_fuel = (dls[3].find('dd').text).split()\n",
    "        if len(eng_fuel) >= 2:\n",
    "            engine = float(eng_fuel[0])\n",
    "            fuel = eng_fuel[1][1:-1]\n",
    "        else:\n",
    "            engine = None\n",
    "            fuel = eng_fuel[0]\n",
    "\n",
    "        if dls[4].find('dt', title='Пробег'):\n",
    "            mileage = int(''.join(dls[4].find('dd').text.split()[:-1]))\n",
    "            transmission = dls[5].find('dd').text\n",
    "            drive = dls[6].find('dd').text\n",
    "            color = dls[8].find('dd').text.split()[0] if len(dls[8].find('dd').text.split()[0]) > 3 else None\n",
    "        else:\n",
    "            mileage = None\n",
    "            transmission = dls[4].find('dd').text\n",
    "            drive = dls[5].find('dd').text\n",
    "            color = dls[7].find('dd').text.split()[0] if len(dls[7].find('dd').text.split()[0]) > 3 else None\n",
    "\n",
    "        with open(f\"car_kolesa.csv\", \"a\", encoding=\"utf-8\", newline='') as file:\n",
    "            writer = csv.writer(file)\n",
    "            writer.writerow(\n",
    "                (\n",
    "                    brand,\n",
    "                    name,\n",
    "                    year,\n",
    "                    price,\n",
    "                    city,\n",
    "                    body,\n",
    "                    engine,\n",
    "                    fuel,\n",
    "                    mileage,\n",
    "                    transmission,\n",
    "                    drive,\n",
    "                    color\n",
    "                )\n",
    "            )\n",
    "        sleep(2)\n",
    "        print(f\"Car {i+1} ({url}) data written.\")\n",
    "    except requests.exceptions.ConnectTimeout:\n",
    "        print(f\"Connection timeout occurred while accessing {url}. Moving to the next URL.\")\n",
    "        continue\n",
    "    except requests.exceptions.Timeout:\n",
    "        print(f\"Timeout occurred while accessing {url}. Moving to the next URL.\")\n",
    "        continue\n",
    "    except Exception as e:\n",
    "        print(f\"Error processing {url}: {e}\")\n",
    "\n",
    "print('FINISH!!!')\n"
   ]
  },
  {
   "cell_type": "code",
   "execution_count": 5,
   "metadata": {},
   "outputs": [
    {
     "data": {
      "text/plain": [
       "'C:\\\\Users\\\\moona\\\\.wdm\\\\drivers\\\\chromedriver\\\\win64\\\\123.0.6312.105\\\\chromedriver-win32/chromedriver.exe'"
      ]
     },
     "execution_count": 5,
     "metadata": {},
     "output_type": "execute_result"
    }
   ],
   "source": [
    "from selenium import webdriver\n",
    "from selenium.webdriver.chrome.service import Service as ChromeService\n",
    "from webdriver_manager.chrome import ChromeDriverManager\n",
    "from selenium.webdriver.common.by import By\n",
    "from selenium.webdriver.chrome.options import Options\n",
    "from selenium.webdriver.common.keys import Keys\n",
    "from selenium.webdriver.common.action_chains import ActionChains\n",
    "\n",
    "\n",
    "directory=ChromeDriverManager().install()\n",
    "directory"
   ]
  },
  {
   "cell_type": "code",
   "execution_count": 6,
   "metadata": {},
   "outputs": [],
   "source": [
    "useragent = UserAgent()"
   ]
  },
  {
   "cell_type": "code",
   "execution_count": 7,
   "metadata": {},
   "outputs": [],
   "source": [
    "options = Options()\n",
    "options.add_argument(\"--disable-blink-features=AutomationControlled\")\n",
    "options.add_argument(f\"user-agent={useragent.random}\")"
   ]
  },
  {
   "cell_type": "code",
   "execution_count": 8,
   "metadata": {},
   "outputs": [],
   "source": [
    "def parse_data(src, url):\n",
    "    try:\n",
    "        soup = BeautifulSoup(src, 'lxml')\n",
    "\n",
    "        layer_1 = soup.find('div', class_=\"offer\")\n",
    "        name_header = layer_1.find('header', class_=\"offer__header\")\n",
    "        name = name_header.find('h1', class_=\"offer__title\").text\n",
    "        list_name = name.split()\n",
    "        brand = list_name[0]\n",
    "        name = list_name[-3]\n",
    "        year = int(list_name[-2])\n",
    "\n",
    "        layer_2 = soup.find('section', class_=\"offer__container\")\n",
    "        layer_3 = layer_2.find('div', class_=\"offer__sidebar\").find('div', class_=\"offer__sidebar-info\")\n",
    "\n",
    "        price = layer_3.find('div', class_=\"offer__sidebar-header\").find('div', class_=\"offer__price\").text\n",
    "        price = int(''.join(price.split()[:-1]))\n",
    "\n",
    "        layer_4 = layer_3.find('div', class_=\"offer__parameters\")\n",
    "        dls = layer_4.find_all('dl')\n",
    "\n",
    "        city = dls[0].find('dd').text\n",
    "        body = dls[2].find('dd').text\n",
    "\n",
    "        eng_fuel = (dls[3].find('dd').text).split()\n",
    "        if len(eng_fuel) >= 2:\n",
    "            engine = float(eng_fuel[0])\n",
    "            fuel = eng_fuel[1][1:-1]\n",
    "        else:\n",
    "            engine = None\n",
    "            fuel = eng_fuel[0]\n",
    "\n",
    "        if dls[4].find('dt', title='Пробег'):\n",
    "            mileage = int(''.join(dls[4].find('dd').text.split()[:-1]))\n",
    "            transmission = dls[5].find('dd').text\n",
    "            drive = dls[6].find('dd').text\n",
    "            color = dls[8].find('dd').text.split()[0] if len(dls[8].find('dd').text.split()[0]) > 3 else None\n",
    "        else:\n",
    "            mileage = None\n",
    "            transmission = dls[4].find('dd').text\n",
    "            drive = dls[5].find('dd').text\n",
    "            color = dls[7].find('dd').text.split()[0] if len(dls[7].find('dd').text.split()[0]) > 3 else None\n",
    "\n",
    "        with open(f\"car_kolesa.csv\", \"a\", encoding=\"utf-8\", newline='') as file:\n",
    "            writer = csv.writer(file)\n",
    "            writer.writerow(\n",
    "                (\n",
    "                    brand,\n",
    "                    name,\n",
    "                    year,\n",
    "                    price,\n",
    "                    city,\n",
    "                    body,\n",
    "                    engine,\n",
    "                    fuel,\n",
    "                    mileage,\n",
    "                    transmission,\n",
    "                    drive,\n",
    "                    color,\n",
    "                    url\n",
    "                )\n",
    "            )\n",
    "        sleep(2)\n",
    "        print(f\"Car {i+1} ({url}) data written.\")\n",
    "    except requests.exceptions.ConnectTimeout:\n",
    "        print(f\"Connection timeout occurred while accessing {url}. Moving to the next URL.\")\n",
    "    except requests.exceptions.Timeout:\n",
    "        print(f\"Timeout occurred while accessing {url}. Moving to the next URL.\")\n",
    "    except Exception as e:\n",
    "        print(f\"Error processing {url}: {e}\")"
   ]
  },
  {
   "cell_type": "code",
   "execution_count": 9,
   "metadata": {},
   "outputs": [
    {
     "name": "stderr",
     "output_type": "stream",
     "text": [
      "  0%|          | 0/3 [00:00<?, ?it/s]"
     ]
    },
    {
     "name": "stdout",
     "output_type": "stream",
     "text": [
      "Car 1 (https://kolesa.kz//a/show/165978087) data written.\n",
      "Car 1 (https://kolesa.kz//a/show/168266587) data written.\n",
      "Car 1 (https://kolesa.kz//a/show/166396316) data written.\n",
      "Car 1 (https://kolesa.kz//a/show/167185186) data written.\n",
      "Car 1 (https://kolesa.kz//a/show/160417674) data written.\n",
      "Car 1 (https://kolesa.kz//a/show/168592800) data written.\n",
      "Car 1 (https://kolesa.kz//a/show/168595318) data written.\n",
      "Car 1 (https://kolesa.kz//a/show/168365142) data written.\n",
      "Car 1 (https://kolesa.kz//a/show/168306564) data written.\n",
      "Car 1 (https://kolesa.kz//a/show/167964383) data written.\n",
      "Car 1 (https://kolesa.kz//a/show/167553446) data written.\n",
      "Car 1 (https://kolesa.kz//a/show/168227272) data written.\n",
      "Car 1 (https://kolesa.kz//a/show/168536814) data written.\n",
      "Car 1 (https://kolesa.kz//a/show/168345862) data written.\n",
      "Car 1 (https://kolesa.kz//a/show/166505204) data written.\n",
      "Car 1 (https://kolesa.kz//a/show/168227378) data written.\n",
      "Car 1 (https://kolesa.kz//a/show/168227092) data written.\n",
      "Car 1 (https://kolesa.kz//a/show/166339091) data written.\n",
      "Car 1 (https://kolesa.kz//a/show/168252653) data written.\n",
      "Car 1 (https://kolesa.kz//a/show/168345867) data written.\n",
      "Car 1 (https://kolesa.kz//a/show/168542663) data written.\n",
      "Car 1 (https://kolesa.kz//a/show/168329059) data written.\n",
      "Car 1 (https://kolesa.kz//a/show/168541411) data written.\n",
      "23\n",
      "iteration 0, finish\n"
     ]
    },
    {
     "name": "stderr",
     "output_type": "stream",
     "text": [
      " 33%|███▎      | 1/3 [02:18<04:37, 138.76s/it]"
     ]
    },
    {
     "name": "stdout",
     "output_type": "stream",
     "text": [
      "Car 2 (https://kolesa.kz//a/show/161839707) data written.\n",
      "Car 2 (https://kolesa.kz//a/show/168367586) data written.\n",
      "Car 2 (https://kolesa.kz//a/show/164848702) data written.\n",
      "Car 2 (https://kolesa.kz//a/show/168568660) data written.\n",
      "Car 2 (https://kolesa.kz//a/show/168568109) data written.\n",
      "Car 2 (https://kolesa.kz//a/show/168565917) data written.\n",
      "Car 2 (https://kolesa.kz//a/show/168565576) data written.\n",
      "Car 2 (https://kolesa.kz//a/show/168564396) data written.\n",
      "Car 2 (https://kolesa.kz//a/show/168179625) data written.\n",
      "Car 2 (https://kolesa.kz//a/show/168563765) data written.\n",
      "Car 2 (https://kolesa.kz//a/show/167557918) data written.\n",
      "Car 2 (https://kolesa.kz//a/show/168560761) data written.\n",
      "Car 2 (https://kolesa.kz//a/show/168268087) data written.\n",
      "Car 2 (https://kolesa.kz//a/show/168458049) data written.\n",
      "Car 2 (https://kolesa.kz//a/show/168268377) data written.\n",
      "Car 2 (https://kolesa.kz//a/show/168511717) data written.\n",
      "Car 2 (https://kolesa.kz//a/show/168264601) data written.\n",
      "Car 2 (https://kolesa.kz//a/show/168262637) data written.\n",
      "Car 2 (https://kolesa.kz//a/show/168558314) data written.\n",
      "Car 2 (https://kolesa.kz//a/show/168262505) data written.\n",
      "Car 2 (https://kolesa.kz//a/show/168557850) data written.\n",
      "Car 2 (https://kolesa.kz//a/show/168250567) data written.\n",
      "Car 2 (https://kolesa.kz//a/show/168557540) data written.\n",
      "46\n",
      "iteration 1, finish\n"
     ]
    },
    {
     "name": "stderr",
     "output_type": "stream",
     "text": [
      " 67%|██████▋   | 2/3 [04:40<02:20, 140.75s/it]"
     ]
    },
    {
     "name": "stdout",
     "output_type": "stream",
     "text": [
      "Car 3 (https://kolesa.kz//a/show/164569752) data written.\n",
      "Car 3 (https://kolesa.kz//a/show/160084643) data written.\n",
      "Car 3 (https://kolesa.kz//a/show/163968146) data written.\n",
      "Car 3 (https://kolesa.kz//a/show/168565576) data written.\n",
      "Car 3 (https://kolesa.kz//a/show/168564396) data written.\n",
      "Car 3 (https://kolesa.kz//a/show/168179625) data written.\n",
      "Car 3 (https://kolesa.kz//a/show/168563765) data written.\n",
      "Car 3 (https://kolesa.kz//a/show/167557918) data written.\n",
      "Car 3 (https://kolesa.kz//a/show/168560761) data written.\n",
      "Car 3 (https://kolesa.kz//a/show/168268087) data written.\n",
      "Car 3 (https://kolesa.kz//a/show/168458049) data written.\n",
      "Car 3 (https://kolesa.kz//a/show/168268377) data written.\n",
      "Car 3 (https://kolesa.kz//a/show/168511717) data written.\n",
      "Car 3 (https://kolesa.kz//a/show/168264601) data written.\n",
      "Car 3 (https://kolesa.kz//a/show/168262637) data written.\n",
      "Car 3 (https://kolesa.kz//a/show/168558314) data written.\n",
      "Car 3 (https://kolesa.kz//a/show/168262505) data written.\n",
      "Car 3 (https://kolesa.kz//a/show/168557850) data written.\n",
      "Car 3 (https://kolesa.kz//a/show/168250567) data written.\n",
      "Car 3 (https://kolesa.kz//a/show/168557540) data written.\n",
      "Car 3 (https://kolesa.kz//a/show/168246943) data written.\n",
      "Car 3 (https://kolesa.kz//a/show/168556965) data written.\n",
      "Car 3 (https://kolesa.kz//a/show/168245619) data written.\n",
      "69\n",
      "iteration 2, finish\n"
     ]
    },
    {
     "name": "stderr",
     "output_type": "stream",
     "text": [
      "100%|██████████| 3/3 [07:00<00:00, 140.06s/it]\n"
     ]
    },
    {
     "ename": "MaxRetryError",
     "evalue": "HTTPConnectionPool(host='localhost', port=57701): Max retries exceeded with url: /session/ee51974b0cdd17630ef09d88b142e51d/window (Caused by NewConnectionError('<urllib3.connection.HTTPConnection object at 0x0000021B8AF313D0>: Failed to establish a new connection: [WinError 10061] Подключение не установлено, т.к. конечный компьютер отверг запрос на подключение'))",
     "output_type": "error",
     "traceback": [
      "\u001b[1;31m---------------------------------------------------------------------------\u001b[0m",
      "\u001b[1;31mConnectionRefusedError\u001b[0m                    Traceback (most recent call last)",
      "File \u001b[1;32mc:\\Users\\moona\\Desktop\\Kolesa parcing\\venv\\Lib\\site-packages\\urllib3\\connection.py:198\u001b[0m, in \u001b[0;36mHTTPConnection._new_conn\u001b[1;34m(self)\u001b[0m\n\u001b[0;32m    197\u001b[0m \u001b[38;5;28;01mtry\u001b[39;00m:\n\u001b[1;32m--> 198\u001b[0m     sock \u001b[38;5;241m=\u001b[39m \u001b[43mconnection\u001b[49m\u001b[38;5;241;43m.\u001b[39;49m\u001b[43mcreate_connection\u001b[49m\u001b[43m(\u001b[49m\n\u001b[0;32m    199\u001b[0m \u001b[43m        \u001b[49m\u001b[43m(\u001b[49m\u001b[38;5;28;43mself\u001b[39;49m\u001b[38;5;241;43m.\u001b[39;49m\u001b[43m_dns_host\u001b[49m\u001b[43m,\u001b[49m\u001b[43m \u001b[49m\u001b[38;5;28;43mself\u001b[39;49m\u001b[38;5;241;43m.\u001b[39;49m\u001b[43mport\u001b[49m\u001b[43m)\u001b[49m\u001b[43m,\u001b[49m\n\u001b[0;32m    200\u001b[0m \u001b[43m        \u001b[49m\u001b[38;5;28;43mself\u001b[39;49m\u001b[38;5;241;43m.\u001b[39;49m\u001b[43mtimeout\u001b[49m\u001b[43m,\u001b[49m\n\u001b[0;32m    201\u001b[0m \u001b[43m        \u001b[49m\u001b[43msource_address\u001b[49m\u001b[38;5;241;43m=\u001b[39;49m\u001b[38;5;28;43mself\u001b[39;49m\u001b[38;5;241;43m.\u001b[39;49m\u001b[43msource_address\u001b[49m\u001b[43m,\u001b[49m\n\u001b[0;32m    202\u001b[0m \u001b[43m        \u001b[49m\u001b[43msocket_options\u001b[49m\u001b[38;5;241;43m=\u001b[39;49m\u001b[38;5;28;43mself\u001b[39;49m\u001b[38;5;241;43m.\u001b[39;49m\u001b[43msocket_options\u001b[49m\u001b[43m,\u001b[49m\n\u001b[0;32m    203\u001b[0m \u001b[43m    \u001b[49m\u001b[43m)\u001b[49m\n\u001b[0;32m    204\u001b[0m \u001b[38;5;28;01mexcept\u001b[39;00m socket\u001b[38;5;241m.\u001b[39mgaierror \u001b[38;5;28;01mas\u001b[39;00m e:\n",
      "File \u001b[1;32mc:\\Users\\moona\\Desktop\\Kolesa parcing\\venv\\Lib\\site-packages\\urllib3\\util\\connection.py:85\u001b[0m, in \u001b[0;36mcreate_connection\u001b[1;34m(address, timeout, source_address, socket_options)\u001b[0m\n\u001b[0;32m     84\u001b[0m \u001b[38;5;28;01mtry\u001b[39;00m:\n\u001b[1;32m---> 85\u001b[0m     \u001b[38;5;28;01mraise\u001b[39;00m err\n\u001b[0;32m     86\u001b[0m \u001b[38;5;28;01mfinally\u001b[39;00m:\n\u001b[0;32m     87\u001b[0m     \u001b[38;5;66;03m# Break explicitly a reference cycle\u001b[39;00m\n",
      "File \u001b[1;32mc:\\Users\\moona\\Desktop\\Kolesa parcing\\venv\\Lib\\site-packages\\urllib3\\util\\connection.py:73\u001b[0m, in \u001b[0;36mcreate_connection\u001b[1;34m(address, timeout, source_address, socket_options)\u001b[0m\n\u001b[0;32m     72\u001b[0m     sock\u001b[38;5;241m.\u001b[39mbind(source_address)\n\u001b[1;32m---> 73\u001b[0m \u001b[43msock\u001b[49m\u001b[38;5;241;43m.\u001b[39;49m\u001b[43mconnect\u001b[49m\u001b[43m(\u001b[49m\u001b[43msa\u001b[49m\u001b[43m)\u001b[49m\n\u001b[0;32m     74\u001b[0m \u001b[38;5;66;03m# Break explicitly a reference cycle\u001b[39;00m\n",
      "\u001b[1;31mConnectionRefusedError\u001b[0m: [WinError 10061] Подключение не установлено, т.к. конечный компьютер отверг запрос на подключение",
      "\nThe above exception was the direct cause of the following exception:\n",
      "\u001b[1;31mNewConnectionError\u001b[0m                        Traceback (most recent call last)",
      "File \u001b[1;32mc:\\Users\\moona\\Desktop\\Kolesa parcing\\venv\\Lib\\site-packages\\urllib3\\connectionpool.py:793\u001b[0m, in \u001b[0;36mHTTPConnectionPool.urlopen\u001b[1;34m(self, method, url, body, headers, retries, redirect, assert_same_host, timeout, pool_timeout, release_conn, chunked, body_pos, preload_content, decode_content, **response_kw)\u001b[0m\n\u001b[0;32m    792\u001b[0m \u001b[38;5;66;03m# Make the request on the HTTPConnection object\u001b[39;00m\n\u001b[1;32m--> 793\u001b[0m response \u001b[38;5;241m=\u001b[39m \u001b[38;5;28;43mself\u001b[39;49m\u001b[38;5;241;43m.\u001b[39;49m\u001b[43m_make_request\u001b[49m\u001b[43m(\u001b[49m\n\u001b[0;32m    794\u001b[0m \u001b[43m    \u001b[49m\u001b[43mconn\u001b[49m\u001b[43m,\u001b[49m\n\u001b[0;32m    795\u001b[0m \u001b[43m    \u001b[49m\u001b[43mmethod\u001b[49m\u001b[43m,\u001b[49m\n\u001b[0;32m    796\u001b[0m \u001b[43m    \u001b[49m\u001b[43murl\u001b[49m\u001b[43m,\u001b[49m\n\u001b[0;32m    797\u001b[0m \u001b[43m    \u001b[49m\u001b[43mtimeout\u001b[49m\u001b[38;5;241;43m=\u001b[39;49m\u001b[43mtimeout_obj\u001b[49m\u001b[43m,\u001b[49m\n\u001b[0;32m    798\u001b[0m \u001b[43m    \u001b[49m\u001b[43mbody\u001b[49m\u001b[38;5;241;43m=\u001b[39;49m\u001b[43mbody\u001b[49m\u001b[43m,\u001b[49m\n\u001b[0;32m    799\u001b[0m \u001b[43m    \u001b[49m\u001b[43mheaders\u001b[49m\u001b[38;5;241;43m=\u001b[39;49m\u001b[43mheaders\u001b[49m\u001b[43m,\u001b[49m\n\u001b[0;32m    800\u001b[0m \u001b[43m    \u001b[49m\u001b[43mchunked\u001b[49m\u001b[38;5;241;43m=\u001b[39;49m\u001b[43mchunked\u001b[49m\u001b[43m,\u001b[49m\n\u001b[0;32m    801\u001b[0m \u001b[43m    \u001b[49m\u001b[43mretries\u001b[49m\u001b[38;5;241;43m=\u001b[39;49m\u001b[43mretries\u001b[49m\u001b[43m,\u001b[49m\n\u001b[0;32m    802\u001b[0m \u001b[43m    \u001b[49m\u001b[43mresponse_conn\u001b[49m\u001b[38;5;241;43m=\u001b[39;49m\u001b[43mresponse_conn\u001b[49m\u001b[43m,\u001b[49m\n\u001b[0;32m    803\u001b[0m \u001b[43m    \u001b[49m\u001b[43mpreload_content\u001b[49m\u001b[38;5;241;43m=\u001b[39;49m\u001b[43mpreload_content\u001b[49m\u001b[43m,\u001b[49m\n\u001b[0;32m    804\u001b[0m \u001b[43m    \u001b[49m\u001b[43mdecode_content\u001b[49m\u001b[38;5;241;43m=\u001b[39;49m\u001b[43mdecode_content\u001b[49m\u001b[43m,\u001b[49m\n\u001b[0;32m    805\u001b[0m \u001b[43m    \u001b[49m\u001b[38;5;241;43m*\u001b[39;49m\u001b[38;5;241;43m*\u001b[39;49m\u001b[43mresponse_kw\u001b[49m\u001b[43m,\u001b[49m\n\u001b[0;32m    806\u001b[0m \u001b[43m\u001b[49m\u001b[43m)\u001b[49m\n\u001b[0;32m    808\u001b[0m \u001b[38;5;66;03m# Everything went great!\u001b[39;00m\n",
      "File \u001b[1;32mc:\\Users\\moona\\Desktop\\Kolesa parcing\\venv\\Lib\\site-packages\\urllib3\\connectionpool.py:496\u001b[0m, in \u001b[0;36mHTTPConnectionPool._make_request\u001b[1;34m(self, conn, method, url, body, headers, retries, timeout, chunked, response_conn, preload_content, decode_content, enforce_content_length)\u001b[0m\n\u001b[0;32m    495\u001b[0m \u001b[38;5;28;01mtry\u001b[39;00m:\n\u001b[1;32m--> 496\u001b[0m     \u001b[43mconn\u001b[49m\u001b[38;5;241;43m.\u001b[39;49m\u001b[43mrequest\u001b[49m\u001b[43m(\u001b[49m\n\u001b[0;32m    497\u001b[0m \u001b[43m        \u001b[49m\u001b[43mmethod\u001b[49m\u001b[43m,\u001b[49m\n\u001b[0;32m    498\u001b[0m \u001b[43m        \u001b[49m\u001b[43murl\u001b[49m\u001b[43m,\u001b[49m\n\u001b[0;32m    499\u001b[0m \u001b[43m        \u001b[49m\u001b[43mbody\u001b[49m\u001b[38;5;241;43m=\u001b[39;49m\u001b[43mbody\u001b[49m\u001b[43m,\u001b[49m\n\u001b[0;32m    500\u001b[0m \u001b[43m        \u001b[49m\u001b[43mheaders\u001b[49m\u001b[38;5;241;43m=\u001b[39;49m\u001b[43mheaders\u001b[49m\u001b[43m,\u001b[49m\n\u001b[0;32m    501\u001b[0m \u001b[43m        \u001b[49m\u001b[43mchunked\u001b[49m\u001b[38;5;241;43m=\u001b[39;49m\u001b[43mchunked\u001b[49m\u001b[43m,\u001b[49m\n\u001b[0;32m    502\u001b[0m \u001b[43m        \u001b[49m\u001b[43mpreload_content\u001b[49m\u001b[38;5;241;43m=\u001b[39;49m\u001b[43mpreload_content\u001b[49m\u001b[43m,\u001b[49m\n\u001b[0;32m    503\u001b[0m \u001b[43m        \u001b[49m\u001b[43mdecode_content\u001b[49m\u001b[38;5;241;43m=\u001b[39;49m\u001b[43mdecode_content\u001b[49m\u001b[43m,\u001b[49m\n\u001b[0;32m    504\u001b[0m \u001b[43m        \u001b[49m\u001b[43menforce_content_length\u001b[49m\u001b[38;5;241;43m=\u001b[39;49m\u001b[43menforce_content_length\u001b[49m\u001b[43m,\u001b[49m\n\u001b[0;32m    505\u001b[0m \u001b[43m    \u001b[49m\u001b[43m)\u001b[49m\n\u001b[0;32m    507\u001b[0m \u001b[38;5;66;03m# We are swallowing BrokenPipeError (errno.EPIPE) since the server is\u001b[39;00m\n\u001b[0;32m    508\u001b[0m \u001b[38;5;66;03m# legitimately able to close the connection after sending a valid response.\u001b[39;00m\n\u001b[0;32m    509\u001b[0m \u001b[38;5;66;03m# With this behaviour, the received response is still readable.\u001b[39;00m\n",
      "File \u001b[1;32mc:\\Users\\moona\\Desktop\\Kolesa parcing\\venv\\Lib\\site-packages\\urllib3\\connection.py:400\u001b[0m, in \u001b[0;36mHTTPConnection.request\u001b[1;34m(self, method, url, body, headers, chunked, preload_content, decode_content, enforce_content_length)\u001b[0m\n\u001b[0;32m    399\u001b[0m     \u001b[38;5;28mself\u001b[39m\u001b[38;5;241m.\u001b[39mputheader(header, value)\n\u001b[1;32m--> 400\u001b[0m \u001b[38;5;28;43mself\u001b[39;49m\u001b[38;5;241;43m.\u001b[39;49m\u001b[43mendheaders\u001b[49m\u001b[43m(\u001b[49m\u001b[43m)\u001b[49m\n\u001b[0;32m    402\u001b[0m \u001b[38;5;66;03m# If we're given a body we start sending that in chunks.\u001b[39;00m\n",
      "File \u001b[1;32m~\\AppData\\Local\\Programs\\Python\\Python312\\Lib\\http\\client.py:1326\u001b[0m, in \u001b[0;36mHTTPConnection.endheaders\u001b[1;34m(self, message_body, encode_chunked)\u001b[0m\n\u001b[0;32m   1325\u001b[0m     \u001b[38;5;28;01mraise\u001b[39;00m CannotSendHeader()\n\u001b[1;32m-> 1326\u001b[0m \u001b[38;5;28;43mself\u001b[39;49m\u001b[38;5;241;43m.\u001b[39;49m\u001b[43m_send_output\u001b[49m\u001b[43m(\u001b[49m\u001b[43mmessage_body\u001b[49m\u001b[43m,\u001b[49m\u001b[43m \u001b[49m\u001b[43mencode_chunked\u001b[49m\u001b[38;5;241;43m=\u001b[39;49m\u001b[43mencode_chunked\u001b[49m\u001b[43m)\u001b[49m\n",
      "File \u001b[1;32m~\\AppData\\Local\\Programs\\Python\\Python312\\Lib\\http\\client.py:1085\u001b[0m, in \u001b[0;36mHTTPConnection._send_output\u001b[1;34m(self, message_body, encode_chunked)\u001b[0m\n\u001b[0;32m   1084\u001b[0m \u001b[38;5;28;01mdel\u001b[39;00m \u001b[38;5;28mself\u001b[39m\u001b[38;5;241m.\u001b[39m_buffer[:]\n\u001b[1;32m-> 1085\u001b[0m \u001b[38;5;28;43mself\u001b[39;49m\u001b[38;5;241;43m.\u001b[39;49m\u001b[43msend\u001b[49m\u001b[43m(\u001b[49m\u001b[43mmsg\u001b[49m\u001b[43m)\u001b[49m\n\u001b[0;32m   1087\u001b[0m \u001b[38;5;28;01mif\u001b[39;00m message_body \u001b[38;5;129;01mis\u001b[39;00m \u001b[38;5;129;01mnot\u001b[39;00m \u001b[38;5;28;01mNone\u001b[39;00m:\n\u001b[0;32m   1088\u001b[0m \n\u001b[0;32m   1089\u001b[0m     \u001b[38;5;66;03m# create a consistent interface to message_body\u001b[39;00m\n",
      "File \u001b[1;32m~\\AppData\\Local\\Programs\\Python\\Python312\\Lib\\http\\client.py:1029\u001b[0m, in \u001b[0;36mHTTPConnection.send\u001b[1;34m(self, data)\u001b[0m\n\u001b[0;32m   1028\u001b[0m \u001b[38;5;28;01mif\u001b[39;00m \u001b[38;5;28mself\u001b[39m\u001b[38;5;241m.\u001b[39mauto_open:\n\u001b[1;32m-> 1029\u001b[0m     \u001b[38;5;28;43mself\u001b[39;49m\u001b[38;5;241;43m.\u001b[39;49m\u001b[43mconnect\u001b[49m\u001b[43m(\u001b[49m\u001b[43m)\u001b[49m\n\u001b[0;32m   1030\u001b[0m \u001b[38;5;28;01melse\u001b[39;00m:\n",
      "File \u001b[1;32mc:\\Users\\moona\\Desktop\\Kolesa parcing\\venv\\Lib\\site-packages\\urllib3\\connection.py:238\u001b[0m, in \u001b[0;36mHTTPConnection.connect\u001b[1;34m(self)\u001b[0m\n\u001b[0;32m    237\u001b[0m \u001b[38;5;28;01mdef\u001b[39;00m \u001b[38;5;21mconnect\u001b[39m(\u001b[38;5;28mself\u001b[39m) \u001b[38;5;241m-\u001b[39m\u001b[38;5;241m>\u001b[39m \u001b[38;5;28;01mNone\u001b[39;00m:\n\u001b[1;32m--> 238\u001b[0m     \u001b[38;5;28mself\u001b[39m\u001b[38;5;241m.\u001b[39msock \u001b[38;5;241m=\u001b[39m \u001b[38;5;28;43mself\u001b[39;49m\u001b[38;5;241;43m.\u001b[39;49m\u001b[43m_new_conn\u001b[49m\u001b[43m(\u001b[49m\u001b[43m)\u001b[49m\n\u001b[0;32m    239\u001b[0m     \u001b[38;5;28;01mif\u001b[39;00m \u001b[38;5;28mself\u001b[39m\u001b[38;5;241m.\u001b[39m_tunnel_host:\n\u001b[0;32m    240\u001b[0m         \u001b[38;5;66;03m# If we're tunneling it means we're connected to our proxy.\u001b[39;00m\n",
      "File \u001b[1;32mc:\\Users\\moona\\Desktop\\Kolesa parcing\\venv\\Lib\\site-packages\\urllib3\\connection.py:213\u001b[0m, in \u001b[0;36mHTTPConnection._new_conn\u001b[1;34m(self)\u001b[0m\n\u001b[0;32m    212\u001b[0m \u001b[38;5;28;01mexcept\u001b[39;00m \u001b[38;5;167;01mOSError\u001b[39;00m \u001b[38;5;28;01mas\u001b[39;00m e:\n\u001b[1;32m--> 213\u001b[0m     \u001b[38;5;28;01mraise\u001b[39;00m NewConnectionError(\n\u001b[0;32m    214\u001b[0m         \u001b[38;5;28mself\u001b[39m, \u001b[38;5;124mf\u001b[39m\u001b[38;5;124m\"\u001b[39m\u001b[38;5;124mFailed to establish a new connection: \u001b[39m\u001b[38;5;132;01m{\u001b[39;00me\u001b[38;5;132;01m}\u001b[39;00m\u001b[38;5;124m\"\u001b[39m\n\u001b[0;32m    215\u001b[0m     ) \u001b[38;5;28;01mfrom\u001b[39;00m \u001b[38;5;21;01me\u001b[39;00m\n\u001b[0;32m    217\u001b[0m \u001b[38;5;66;03m# Audit hooks are only available in Python 3.8+\u001b[39;00m\n",
      "\u001b[1;31mNewConnectionError\u001b[0m: <urllib3.connection.HTTPConnection object at 0x0000021B8AF313D0>: Failed to establish a new connection: [WinError 10061] Подключение не установлено, т.к. конечный компьютер отверг запрос на подключение",
      "\nThe above exception was the direct cause of the following exception:\n",
      "\u001b[1;31mMaxRetryError\u001b[0m                             Traceback (most recent call last)",
      "Cell \u001b[1;32mIn[9], line 57\u001b[0m\n\u001b[0;32m     55\u001b[0m \u001b[38;5;28;01mfinally\u001b[39;00m:\n\u001b[0;32m     56\u001b[0m     driver\u001b[38;5;241m.\u001b[39mquit()\n\u001b[1;32m---> 57\u001b[0m     \u001b[43mdriver\u001b[49m\u001b[38;5;241;43m.\u001b[39;49m\u001b[43mclose\u001b[49m\u001b[43m(\u001b[49m\u001b[43m)\u001b[49m\n",
      "File \u001b[1;32mc:\\Users\\moona\\Desktop\\Kolesa parcing\\venv\\Lib\\site-packages\\selenium\\webdriver\\remote\\webdriver.py:458\u001b[0m, in \u001b[0;36mWebDriver.close\u001b[1;34m(self)\u001b[0m\n\u001b[0;32m    450\u001b[0m \u001b[38;5;28;01mdef\u001b[39;00m \u001b[38;5;21mclose\u001b[39m(\u001b[38;5;28mself\u001b[39m) \u001b[38;5;241m-\u001b[39m\u001b[38;5;241m>\u001b[39m \u001b[38;5;28;01mNone\u001b[39;00m:\n\u001b[0;32m    451\u001b[0m \u001b[38;5;250m    \u001b[39m\u001b[38;5;124;03m\"\"\"Closes the current window.\u001b[39;00m\n\u001b[0;32m    452\u001b[0m \n\u001b[0;32m    453\u001b[0m \u001b[38;5;124;03m    :Usage:\u001b[39;00m\n\u001b[1;32m   (...)\u001b[0m\n\u001b[0;32m    456\u001b[0m \u001b[38;5;124;03m            driver.close()\u001b[39;00m\n\u001b[0;32m    457\u001b[0m \u001b[38;5;124;03m    \"\"\"\u001b[39;00m\n\u001b[1;32m--> 458\u001b[0m     \u001b[38;5;28;43mself\u001b[39;49m\u001b[38;5;241;43m.\u001b[39;49m\u001b[43mexecute\u001b[49m\u001b[43m(\u001b[49m\u001b[43mCommand\u001b[49m\u001b[38;5;241;43m.\u001b[39;49m\u001b[43mCLOSE\u001b[49m\u001b[43m)\u001b[49m\n",
      "File \u001b[1;32mc:\\Users\\moona\\Desktop\\Kolesa parcing\\venv\\Lib\\site-packages\\selenium\\webdriver\\remote\\webdriver.py:345\u001b[0m, in \u001b[0;36mWebDriver.execute\u001b[1;34m(self, driver_command, params)\u001b[0m\n\u001b[0;32m    342\u001b[0m     \u001b[38;5;28;01melif\u001b[39;00m \u001b[38;5;124m\"\u001b[39m\u001b[38;5;124msessionId\u001b[39m\u001b[38;5;124m\"\u001b[39m \u001b[38;5;129;01mnot\u001b[39;00m \u001b[38;5;129;01min\u001b[39;00m params:\n\u001b[0;32m    343\u001b[0m         params[\u001b[38;5;124m\"\u001b[39m\u001b[38;5;124msessionId\u001b[39m\u001b[38;5;124m\"\u001b[39m] \u001b[38;5;241m=\u001b[39m \u001b[38;5;28mself\u001b[39m\u001b[38;5;241m.\u001b[39msession_id\n\u001b[1;32m--> 345\u001b[0m response \u001b[38;5;241m=\u001b[39m \u001b[38;5;28;43mself\u001b[39;49m\u001b[38;5;241;43m.\u001b[39;49m\u001b[43mcommand_executor\u001b[49m\u001b[38;5;241;43m.\u001b[39;49m\u001b[43mexecute\u001b[49m\u001b[43m(\u001b[49m\u001b[43mdriver_command\u001b[49m\u001b[43m,\u001b[49m\u001b[43m \u001b[49m\u001b[43mparams\u001b[49m\u001b[43m)\u001b[49m\n\u001b[0;32m    346\u001b[0m \u001b[38;5;28;01mif\u001b[39;00m response:\n\u001b[0;32m    347\u001b[0m     \u001b[38;5;28mself\u001b[39m\u001b[38;5;241m.\u001b[39merror_handler\u001b[38;5;241m.\u001b[39mcheck_response(response)\n",
      "File \u001b[1;32mc:\\Users\\moona\\Desktop\\Kolesa parcing\\venv\\Lib\\site-packages\\selenium\\webdriver\\remote\\remote_connection.py:302\u001b[0m, in \u001b[0;36mRemoteConnection.execute\u001b[1;34m(self, command, params)\u001b[0m\n\u001b[0;32m    300\u001b[0m trimmed \u001b[38;5;241m=\u001b[39m \u001b[38;5;28mself\u001b[39m\u001b[38;5;241m.\u001b[39m_trim_large_entries(params)\n\u001b[0;32m    301\u001b[0m LOGGER\u001b[38;5;241m.\u001b[39mdebug(\u001b[38;5;124m\"\u001b[39m\u001b[38;5;132;01m%s\u001b[39;00m\u001b[38;5;124m \u001b[39m\u001b[38;5;132;01m%s\u001b[39;00m\u001b[38;5;124m \u001b[39m\u001b[38;5;132;01m%s\u001b[39;00m\u001b[38;5;124m\"\u001b[39m, command_info[\u001b[38;5;241m0\u001b[39m], url, \u001b[38;5;28mstr\u001b[39m(trimmed))\n\u001b[1;32m--> 302\u001b[0m \u001b[38;5;28;01mreturn\u001b[39;00m \u001b[38;5;28;43mself\u001b[39;49m\u001b[38;5;241;43m.\u001b[39;49m\u001b[43m_request\u001b[49m\u001b[43m(\u001b[49m\u001b[43mcommand_info\u001b[49m\u001b[43m[\u001b[49m\u001b[38;5;241;43m0\u001b[39;49m\u001b[43m]\u001b[49m\u001b[43m,\u001b[49m\u001b[43m \u001b[49m\u001b[43murl\u001b[49m\u001b[43m,\u001b[49m\u001b[43m \u001b[49m\u001b[43mbody\u001b[49m\u001b[38;5;241;43m=\u001b[39;49m\u001b[43mdata\u001b[49m\u001b[43m)\u001b[49m\n",
      "File \u001b[1;32mc:\\Users\\moona\\Desktop\\Kolesa parcing\\venv\\Lib\\site-packages\\selenium\\webdriver\\remote\\remote_connection.py:322\u001b[0m, in \u001b[0;36mRemoteConnection._request\u001b[1;34m(self, method, url, body)\u001b[0m\n\u001b[0;32m    319\u001b[0m     body \u001b[38;5;241m=\u001b[39m \u001b[38;5;28;01mNone\u001b[39;00m\n\u001b[0;32m    321\u001b[0m \u001b[38;5;28;01mif\u001b[39;00m \u001b[38;5;28mself\u001b[39m\u001b[38;5;241m.\u001b[39mkeep_alive:\n\u001b[1;32m--> 322\u001b[0m     response \u001b[38;5;241m=\u001b[39m \u001b[38;5;28;43mself\u001b[39;49m\u001b[38;5;241;43m.\u001b[39;49m\u001b[43m_conn\u001b[49m\u001b[38;5;241;43m.\u001b[39;49m\u001b[43mrequest\u001b[49m\u001b[43m(\u001b[49m\u001b[43mmethod\u001b[49m\u001b[43m,\u001b[49m\u001b[43m \u001b[49m\u001b[43murl\u001b[49m\u001b[43m,\u001b[49m\u001b[43m \u001b[49m\u001b[43mbody\u001b[49m\u001b[38;5;241;43m=\u001b[39;49m\u001b[43mbody\u001b[49m\u001b[43m,\u001b[49m\u001b[43m \u001b[49m\u001b[43mheaders\u001b[49m\u001b[38;5;241;43m=\u001b[39;49m\u001b[43mheaders\u001b[49m\u001b[43m)\u001b[49m\n\u001b[0;32m    323\u001b[0m     statuscode \u001b[38;5;241m=\u001b[39m response\u001b[38;5;241m.\u001b[39mstatus\n\u001b[0;32m    324\u001b[0m \u001b[38;5;28;01melse\u001b[39;00m:\n",
      "File \u001b[1;32mc:\\Users\\moona\\Desktop\\Kolesa parcing\\venv\\Lib\\site-packages\\urllib3\\_request_methods.py:136\u001b[0m, in \u001b[0;36mRequestMethods.request\u001b[1;34m(self, method, url, body, fields, headers, json, **urlopen_kw)\u001b[0m\n\u001b[0;32m    133\u001b[0m     urlopen_kw[\u001b[38;5;124m\"\u001b[39m\u001b[38;5;124mbody\u001b[39m\u001b[38;5;124m\"\u001b[39m] \u001b[38;5;241m=\u001b[39m body\n\u001b[0;32m    135\u001b[0m \u001b[38;5;28;01mif\u001b[39;00m method \u001b[38;5;129;01min\u001b[39;00m \u001b[38;5;28mself\u001b[39m\u001b[38;5;241m.\u001b[39m_encode_url_methods:\n\u001b[1;32m--> 136\u001b[0m     \u001b[38;5;28;01mreturn\u001b[39;00m \u001b[38;5;28;43mself\u001b[39;49m\u001b[38;5;241;43m.\u001b[39;49m\u001b[43mrequest_encode_url\u001b[49m\u001b[43m(\u001b[49m\n\u001b[0;32m    137\u001b[0m \u001b[43m        \u001b[49m\u001b[43mmethod\u001b[49m\u001b[43m,\u001b[49m\n\u001b[0;32m    138\u001b[0m \u001b[43m        \u001b[49m\u001b[43murl\u001b[49m\u001b[43m,\u001b[49m\n\u001b[0;32m    139\u001b[0m \u001b[43m        \u001b[49m\u001b[43mfields\u001b[49m\u001b[38;5;241;43m=\u001b[39;49m\u001b[43mfields\u001b[49m\u001b[43m,\u001b[49m\u001b[43m  \u001b[49m\u001b[38;5;66;43;03m# type: ignore[arg-type]\u001b[39;49;00m\n\u001b[0;32m    140\u001b[0m \u001b[43m        \u001b[49m\u001b[43mheaders\u001b[49m\u001b[38;5;241;43m=\u001b[39;49m\u001b[43mheaders\u001b[49m\u001b[43m,\u001b[49m\n\u001b[0;32m    141\u001b[0m \u001b[43m        \u001b[49m\u001b[38;5;241;43m*\u001b[39;49m\u001b[38;5;241;43m*\u001b[39;49m\u001b[43murlopen_kw\u001b[49m\u001b[43m,\u001b[49m\n\u001b[0;32m    142\u001b[0m \u001b[43m    \u001b[49m\u001b[43m)\u001b[49m\n\u001b[0;32m    143\u001b[0m \u001b[38;5;28;01melse\u001b[39;00m:\n\u001b[0;32m    144\u001b[0m     \u001b[38;5;28;01mreturn\u001b[39;00m \u001b[38;5;28mself\u001b[39m\u001b[38;5;241m.\u001b[39mrequest_encode_body(\n\u001b[0;32m    145\u001b[0m         method, url, fields\u001b[38;5;241m=\u001b[39mfields, headers\u001b[38;5;241m=\u001b[39mheaders, \u001b[38;5;241m*\u001b[39m\u001b[38;5;241m*\u001b[39murlopen_kw\n\u001b[0;32m    146\u001b[0m     )\n",
      "File \u001b[1;32mc:\\Users\\moona\\Desktop\\Kolesa parcing\\venv\\Lib\\site-packages\\urllib3\\_request_methods.py:183\u001b[0m, in \u001b[0;36mRequestMethods.request_encode_url\u001b[1;34m(self, method, url, fields, headers, **urlopen_kw)\u001b[0m\n\u001b[0;32m    180\u001b[0m \u001b[38;5;28;01mif\u001b[39;00m fields:\n\u001b[0;32m    181\u001b[0m     url \u001b[38;5;241m+\u001b[39m\u001b[38;5;241m=\u001b[39m \u001b[38;5;124m\"\u001b[39m\u001b[38;5;124m?\u001b[39m\u001b[38;5;124m\"\u001b[39m \u001b[38;5;241m+\u001b[39m urlencode(fields)\n\u001b[1;32m--> 183\u001b[0m \u001b[38;5;28;01mreturn\u001b[39;00m \u001b[38;5;28;43mself\u001b[39;49m\u001b[38;5;241;43m.\u001b[39;49m\u001b[43murlopen\u001b[49m\u001b[43m(\u001b[49m\u001b[43mmethod\u001b[49m\u001b[43m,\u001b[49m\u001b[43m \u001b[49m\u001b[43murl\u001b[49m\u001b[43m,\u001b[49m\u001b[43m \u001b[49m\u001b[38;5;241;43m*\u001b[39;49m\u001b[38;5;241;43m*\u001b[39;49m\u001b[43mextra_kw\u001b[49m\u001b[43m)\u001b[49m\n",
      "File \u001b[1;32mc:\\Users\\moona\\Desktop\\Kolesa parcing\\venv\\Lib\\site-packages\\urllib3\\poolmanager.py:444\u001b[0m, in \u001b[0;36mPoolManager.urlopen\u001b[1;34m(self, method, url, redirect, **kw)\u001b[0m\n\u001b[0;32m    442\u001b[0m     response \u001b[38;5;241m=\u001b[39m conn\u001b[38;5;241m.\u001b[39murlopen(method, url, \u001b[38;5;241m*\u001b[39m\u001b[38;5;241m*\u001b[39mkw)\n\u001b[0;32m    443\u001b[0m \u001b[38;5;28;01melse\u001b[39;00m:\n\u001b[1;32m--> 444\u001b[0m     response \u001b[38;5;241m=\u001b[39m \u001b[43mconn\u001b[49m\u001b[38;5;241;43m.\u001b[39;49m\u001b[43murlopen\u001b[49m\u001b[43m(\u001b[49m\u001b[43mmethod\u001b[49m\u001b[43m,\u001b[49m\u001b[43m \u001b[49m\u001b[43mu\u001b[49m\u001b[38;5;241;43m.\u001b[39;49m\u001b[43mrequest_uri\u001b[49m\u001b[43m,\u001b[49m\u001b[43m \u001b[49m\u001b[38;5;241;43m*\u001b[39;49m\u001b[38;5;241;43m*\u001b[39;49m\u001b[43mkw\u001b[49m\u001b[43m)\u001b[49m\n\u001b[0;32m    446\u001b[0m redirect_location \u001b[38;5;241m=\u001b[39m redirect \u001b[38;5;129;01mand\u001b[39;00m response\u001b[38;5;241m.\u001b[39mget_redirect_location()\n\u001b[0;32m    447\u001b[0m \u001b[38;5;28;01mif\u001b[39;00m \u001b[38;5;129;01mnot\u001b[39;00m redirect_location:\n",
      "File \u001b[1;32mc:\\Users\\moona\\Desktop\\Kolesa parcing\\venv\\Lib\\site-packages\\urllib3\\connectionpool.py:877\u001b[0m, in \u001b[0;36mHTTPConnectionPool.urlopen\u001b[1;34m(self, method, url, body, headers, retries, redirect, assert_same_host, timeout, pool_timeout, release_conn, chunked, body_pos, preload_content, decode_content, **response_kw)\u001b[0m\n\u001b[0;32m    872\u001b[0m \u001b[38;5;28;01mif\u001b[39;00m \u001b[38;5;129;01mnot\u001b[39;00m conn:\n\u001b[0;32m    873\u001b[0m     \u001b[38;5;66;03m# Try again\u001b[39;00m\n\u001b[0;32m    874\u001b[0m     log\u001b[38;5;241m.\u001b[39mwarning(\n\u001b[0;32m    875\u001b[0m         \u001b[38;5;124m\"\u001b[39m\u001b[38;5;124mRetrying (\u001b[39m\u001b[38;5;132;01m%r\u001b[39;00m\u001b[38;5;124m) after connection broken by \u001b[39m\u001b[38;5;124m'\u001b[39m\u001b[38;5;132;01m%r\u001b[39;00m\u001b[38;5;124m'\u001b[39m\u001b[38;5;124m: \u001b[39m\u001b[38;5;132;01m%s\u001b[39;00m\u001b[38;5;124m\"\u001b[39m, retries, err, url\n\u001b[0;32m    876\u001b[0m     )\n\u001b[1;32m--> 877\u001b[0m     \u001b[38;5;28;01mreturn\u001b[39;00m \u001b[38;5;28;43mself\u001b[39;49m\u001b[38;5;241;43m.\u001b[39;49m\u001b[43murlopen\u001b[49m\u001b[43m(\u001b[49m\n\u001b[0;32m    878\u001b[0m \u001b[43m        \u001b[49m\u001b[43mmethod\u001b[49m\u001b[43m,\u001b[49m\n\u001b[0;32m    879\u001b[0m \u001b[43m        \u001b[49m\u001b[43murl\u001b[49m\u001b[43m,\u001b[49m\n\u001b[0;32m    880\u001b[0m \u001b[43m        \u001b[49m\u001b[43mbody\u001b[49m\u001b[43m,\u001b[49m\n\u001b[0;32m    881\u001b[0m \u001b[43m        \u001b[49m\u001b[43mheaders\u001b[49m\u001b[43m,\u001b[49m\n\u001b[0;32m    882\u001b[0m \u001b[43m        \u001b[49m\u001b[43mretries\u001b[49m\u001b[43m,\u001b[49m\n\u001b[0;32m    883\u001b[0m \u001b[43m        \u001b[49m\u001b[43mredirect\u001b[49m\u001b[43m,\u001b[49m\n\u001b[0;32m    884\u001b[0m \u001b[43m        \u001b[49m\u001b[43massert_same_host\u001b[49m\u001b[43m,\u001b[49m\n\u001b[0;32m    885\u001b[0m \u001b[43m        \u001b[49m\u001b[43mtimeout\u001b[49m\u001b[38;5;241;43m=\u001b[39;49m\u001b[43mtimeout\u001b[49m\u001b[43m,\u001b[49m\n\u001b[0;32m    886\u001b[0m \u001b[43m        \u001b[49m\u001b[43mpool_timeout\u001b[49m\u001b[38;5;241;43m=\u001b[39;49m\u001b[43mpool_timeout\u001b[49m\u001b[43m,\u001b[49m\n\u001b[0;32m    887\u001b[0m \u001b[43m        \u001b[49m\u001b[43mrelease_conn\u001b[49m\u001b[38;5;241;43m=\u001b[39;49m\u001b[43mrelease_conn\u001b[49m\u001b[43m,\u001b[49m\n\u001b[0;32m    888\u001b[0m \u001b[43m        \u001b[49m\u001b[43mchunked\u001b[49m\u001b[38;5;241;43m=\u001b[39;49m\u001b[43mchunked\u001b[49m\u001b[43m,\u001b[49m\n\u001b[0;32m    889\u001b[0m \u001b[43m        \u001b[49m\u001b[43mbody_pos\u001b[49m\u001b[38;5;241;43m=\u001b[39;49m\u001b[43mbody_pos\u001b[49m\u001b[43m,\u001b[49m\n\u001b[0;32m    890\u001b[0m \u001b[43m        \u001b[49m\u001b[43mpreload_content\u001b[49m\u001b[38;5;241;43m=\u001b[39;49m\u001b[43mpreload_content\u001b[49m\u001b[43m,\u001b[49m\n\u001b[0;32m    891\u001b[0m \u001b[43m        \u001b[49m\u001b[43mdecode_content\u001b[49m\u001b[38;5;241;43m=\u001b[39;49m\u001b[43mdecode_content\u001b[49m\u001b[43m,\u001b[49m\n\u001b[0;32m    892\u001b[0m \u001b[43m        \u001b[49m\u001b[38;5;241;43m*\u001b[39;49m\u001b[38;5;241;43m*\u001b[39;49m\u001b[43mresponse_kw\u001b[49m\u001b[43m,\u001b[49m\n\u001b[0;32m    893\u001b[0m \u001b[43m    \u001b[49m\u001b[43m)\u001b[49m\n\u001b[0;32m    895\u001b[0m \u001b[38;5;66;03m# Handle redirect?\u001b[39;00m\n\u001b[0;32m    896\u001b[0m redirect_location \u001b[38;5;241m=\u001b[39m redirect \u001b[38;5;129;01mand\u001b[39;00m response\u001b[38;5;241m.\u001b[39mget_redirect_location()\n",
      "File \u001b[1;32mc:\\Users\\moona\\Desktop\\Kolesa parcing\\venv\\Lib\\site-packages\\urllib3\\connectionpool.py:877\u001b[0m, in \u001b[0;36mHTTPConnectionPool.urlopen\u001b[1;34m(self, method, url, body, headers, retries, redirect, assert_same_host, timeout, pool_timeout, release_conn, chunked, body_pos, preload_content, decode_content, **response_kw)\u001b[0m\n\u001b[0;32m    872\u001b[0m \u001b[38;5;28;01mif\u001b[39;00m \u001b[38;5;129;01mnot\u001b[39;00m conn:\n\u001b[0;32m    873\u001b[0m     \u001b[38;5;66;03m# Try again\u001b[39;00m\n\u001b[0;32m    874\u001b[0m     log\u001b[38;5;241m.\u001b[39mwarning(\n\u001b[0;32m    875\u001b[0m         \u001b[38;5;124m\"\u001b[39m\u001b[38;5;124mRetrying (\u001b[39m\u001b[38;5;132;01m%r\u001b[39;00m\u001b[38;5;124m) after connection broken by \u001b[39m\u001b[38;5;124m'\u001b[39m\u001b[38;5;132;01m%r\u001b[39;00m\u001b[38;5;124m'\u001b[39m\u001b[38;5;124m: \u001b[39m\u001b[38;5;132;01m%s\u001b[39;00m\u001b[38;5;124m\"\u001b[39m, retries, err, url\n\u001b[0;32m    876\u001b[0m     )\n\u001b[1;32m--> 877\u001b[0m     \u001b[38;5;28;01mreturn\u001b[39;00m \u001b[38;5;28;43mself\u001b[39;49m\u001b[38;5;241;43m.\u001b[39;49m\u001b[43murlopen\u001b[49m\u001b[43m(\u001b[49m\n\u001b[0;32m    878\u001b[0m \u001b[43m        \u001b[49m\u001b[43mmethod\u001b[49m\u001b[43m,\u001b[49m\n\u001b[0;32m    879\u001b[0m \u001b[43m        \u001b[49m\u001b[43murl\u001b[49m\u001b[43m,\u001b[49m\n\u001b[0;32m    880\u001b[0m \u001b[43m        \u001b[49m\u001b[43mbody\u001b[49m\u001b[43m,\u001b[49m\n\u001b[0;32m    881\u001b[0m \u001b[43m        \u001b[49m\u001b[43mheaders\u001b[49m\u001b[43m,\u001b[49m\n\u001b[0;32m    882\u001b[0m \u001b[43m        \u001b[49m\u001b[43mretries\u001b[49m\u001b[43m,\u001b[49m\n\u001b[0;32m    883\u001b[0m \u001b[43m        \u001b[49m\u001b[43mredirect\u001b[49m\u001b[43m,\u001b[49m\n\u001b[0;32m    884\u001b[0m \u001b[43m        \u001b[49m\u001b[43massert_same_host\u001b[49m\u001b[43m,\u001b[49m\n\u001b[0;32m    885\u001b[0m \u001b[43m        \u001b[49m\u001b[43mtimeout\u001b[49m\u001b[38;5;241;43m=\u001b[39;49m\u001b[43mtimeout\u001b[49m\u001b[43m,\u001b[49m\n\u001b[0;32m    886\u001b[0m \u001b[43m        \u001b[49m\u001b[43mpool_timeout\u001b[49m\u001b[38;5;241;43m=\u001b[39;49m\u001b[43mpool_timeout\u001b[49m\u001b[43m,\u001b[49m\n\u001b[0;32m    887\u001b[0m \u001b[43m        \u001b[49m\u001b[43mrelease_conn\u001b[49m\u001b[38;5;241;43m=\u001b[39;49m\u001b[43mrelease_conn\u001b[49m\u001b[43m,\u001b[49m\n\u001b[0;32m    888\u001b[0m \u001b[43m        \u001b[49m\u001b[43mchunked\u001b[49m\u001b[38;5;241;43m=\u001b[39;49m\u001b[43mchunked\u001b[49m\u001b[43m,\u001b[49m\n\u001b[0;32m    889\u001b[0m \u001b[43m        \u001b[49m\u001b[43mbody_pos\u001b[49m\u001b[38;5;241;43m=\u001b[39;49m\u001b[43mbody_pos\u001b[49m\u001b[43m,\u001b[49m\n\u001b[0;32m    890\u001b[0m \u001b[43m        \u001b[49m\u001b[43mpreload_content\u001b[49m\u001b[38;5;241;43m=\u001b[39;49m\u001b[43mpreload_content\u001b[49m\u001b[43m,\u001b[49m\n\u001b[0;32m    891\u001b[0m \u001b[43m        \u001b[49m\u001b[43mdecode_content\u001b[49m\u001b[38;5;241;43m=\u001b[39;49m\u001b[43mdecode_content\u001b[49m\u001b[43m,\u001b[49m\n\u001b[0;32m    892\u001b[0m \u001b[43m        \u001b[49m\u001b[38;5;241;43m*\u001b[39;49m\u001b[38;5;241;43m*\u001b[39;49m\u001b[43mresponse_kw\u001b[49m\u001b[43m,\u001b[49m\n\u001b[0;32m    893\u001b[0m \u001b[43m    \u001b[49m\u001b[43m)\u001b[49m\n\u001b[0;32m    895\u001b[0m \u001b[38;5;66;03m# Handle redirect?\u001b[39;00m\n\u001b[0;32m    896\u001b[0m redirect_location \u001b[38;5;241m=\u001b[39m redirect \u001b[38;5;129;01mand\u001b[39;00m response\u001b[38;5;241m.\u001b[39mget_redirect_location()\n",
      "File \u001b[1;32mc:\\Users\\moona\\Desktop\\Kolesa parcing\\venv\\Lib\\site-packages\\urllib3\\connectionpool.py:877\u001b[0m, in \u001b[0;36mHTTPConnectionPool.urlopen\u001b[1;34m(self, method, url, body, headers, retries, redirect, assert_same_host, timeout, pool_timeout, release_conn, chunked, body_pos, preload_content, decode_content, **response_kw)\u001b[0m\n\u001b[0;32m    872\u001b[0m \u001b[38;5;28;01mif\u001b[39;00m \u001b[38;5;129;01mnot\u001b[39;00m conn:\n\u001b[0;32m    873\u001b[0m     \u001b[38;5;66;03m# Try again\u001b[39;00m\n\u001b[0;32m    874\u001b[0m     log\u001b[38;5;241m.\u001b[39mwarning(\n\u001b[0;32m    875\u001b[0m         \u001b[38;5;124m\"\u001b[39m\u001b[38;5;124mRetrying (\u001b[39m\u001b[38;5;132;01m%r\u001b[39;00m\u001b[38;5;124m) after connection broken by \u001b[39m\u001b[38;5;124m'\u001b[39m\u001b[38;5;132;01m%r\u001b[39;00m\u001b[38;5;124m'\u001b[39m\u001b[38;5;124m: \u001b[39m\u001b[38;5;132;01m%s\u001b[39;00m\u001b[38;5;124m\"\u001b[39m, retries, err, url\n\u001b[0;32m    876\u001b[0m     )\n\u001b[1;32m--> 877\u001b[0m     \u001b[38;5;28;01mreturn\u001b[39;00m \u001b[38;5;28;43mself\u001b[39;49m\u001b[38;5;241;43m.\u001b[39;49m\u001b[43murlopen\u001b[49m\u001b[43m(\u001b[49m\n\u001b[0;32m    878\u001b[0m \u001b[43m        \u001b[49m\u001b[43mmethod\u001b[49m\u001b[43m,\u001b[49m\n\u001b[0;32m    879\u001b[0m \u001b[43m        \u001b[49m\u001b[43murl\u001b[49m\u001b[43m,\u001b[49m\n\u001b[0;32m    880\u001b[0m \u001b[43m        \u001b[49m\u001b[43mbody\u001b[49m\u001b[43m,\u001b[49m\n\u001b[0;32m    881\u001b[0m \u001b[43m        \u001b[49m\u001b[43mheaders\u001b[49m\u001b[43m,\u001b[49m\n\u001b[0;32m    882\u001b[0m \u001b[43m        \u001b[49m\u001b[43mretries\u001b[49m\u001b[43m,\u001b[49m\n\u001b[0;32m    883\u001b[0m \u001b[43m        \u001b[49m\u001b[43mredirect\u001b[49m\u001b[43m,\u001b[49m\n\u001b[0;32m    884\u001b[0m \u001b[43m        \u001b[49m\u001b[43massert_same_host\u001b[49m\u001b[43m,\u001b[49m\n\u001b[0;32m    885\u001b[0m \u001b[43m        \u001b[49m\u001b[43mtimeout\u001b[49m\u001b[38;5;241;43m=\u001b[39;49m\u001b[43mtimeout\u001b[49m\u001b[43m,\u001b[49m\n\u001b[0;32m    886\u001b[0m \u001b[43m        \u001b[49m\u001b[43mpool_timeout\u001b[49m\u001b[38;5;241;43m=\u001b[39;49m\u001b[43mpool_timeout\u001b[49m\u001b[43m,\u001b[49m\n\u001b[0;32m    887\u001b[0m \u001b[43m        \u001b[49m\u001b[43mrelease_conn\u001b[49m\u001b[38;5;241;43m=\u001b[39;49m\u001b[43mrelease_conn\u001b[49m\u001b[43m,\u001b[49m\n\u001b[0;32m    888\u001b[0m \u001b[43m        \u001b[49m\u001b[43mchunked\u001b[49m\u001b[38;5;241;43m=\u001b[39;49m\u001b[43mchunked\u001b[49m\u001b[43m,\u001b[49m\n\u001b[0;32m    889\u001b[0m \u001b[43m        \u001b[49m\u001b[43mbody_pos\u001b[49m\u001b[38;5;241;43m=\u001b[39;49m\u001b[43mbody_pos\u001b[49m\u001b[43m,\u001b[49m\n\u001b[0;32m    890\u001b[0m \u001b[43m        \u001b[49m\u001b[43mpreload_content\u001b[49m\u001b[38;5;241;43m=\u001b[39;49m\u001b[43mpreload_content\u001b[49m\u001b[43m,\u001b[49m\n\u001b[0;32m    891\u001b[0m \u001b[43m        \u001b[49m\u001b[43mdecode_content\u001b[49m\u001b[38;5;241;43m=\u001b[39;49m\u001b[43mdecode_content\u001b[49m\u001b[43m,\u001b[49m\n\u001b[0;32m    892\u001b[0m \u001b[43m        \u001b[49m\u001b[38;5;241;43m*\u001b[39;49m\u001b[38;5;241;43m*\u001b[39;49m\u001b[43mresponse_kw\u001b[49m\u001b[43m,\u001b[49m\n\u001b[0;32m    893\u001b[0m \u001b[43m    \u001b[49m\u001b[43m)\u001b[49m\n\u001b[0;32m    895\u001b[0m \u001b[38;5;66;03m# Handle redirect?\u001b[39;00m\n\u001b[0;32m    896\u001b[0m redirect_location \u001b[38;5;241m=\u001b[39m redirect \u001b[38;5;129;01mand\u001b[39;00m response\u001b[38;5;241m.\u001b[39mget_redirect_location()\n",
      "File \u001b[1;32mc:\\Users\\moona\\Desktop\\Kolesa parcing\\venv\\Lib\\site-packages\\urllib3\\connectionpool.py:847\u001b[0m, in \u001b[0;36mHTTPConnectionPool.urlopen\u001b[1;34m(self, method, url, body, headers, retries, redirect, assert_same_host, timeout, pool_timeout, release_conn, chunked, body_pos, preload_content, decode_content, **response_kw)\u001b[0m\n\u001b[0;32m    844\u001b[0m \u001b[38;5;28;01melif\u001b[39;00m \u001b[38;5;28misinstance\u001b[39m(new_e, (\u001b[38;5;167;01mOSError\u001b[39;00m, HTTPException)):\n\u001b[0;32m    845\u001b[0m     new_e \u001b[38;5;241m=\u001b[39m ProtocolError(\u001b[38;5;124m\"\u001b[39m\u001b[38;5;124mConnection aborted.\u001b[39m\u001b[38;5;124m\"\u001b[39m, new_e)\n\u001b[1;32m--> 847\u001b[0m retries \u001b[38;5;241m=\u001b[39m \u001b[43mretries\u001b[49m\u001b[38;5;241;43m.\u001b[39;49m\u001b[43mincrement\u001b[49m\u001b[43m(\u001b[49m\n\u001b[0;32m    848\u001b[0m \u001b[43m    \u001b[49m\u001b[43mmethod\u001b[49m\u001b[43m,\u001b[49m\u001b[43m \u001b[49m\u001b[43murl\u001b[49m\u001b[43m,\u001b[49m\u001b[43m \u001b[49m\u001b[43merror\u001b[49m\u001b[38;5;241;43m=\u001b[39;49m\u001b[43mnew_e\u001b[49m\u001b[43m,\u001b[49m\u001b[43m \u001b[49m\u001b[43m_pool\u001b[49m\u001b[38;5;241;43m=\u001b[39;49m\u001b[38;5;28;43mself\u001b[39;49m\u001b[43m,\u001b[49m\u001b[43m \u001b[49m\u001b[43m_stacktrace\u001b[49m\u001b[38;5;241;43m=\u001b[39;49m\u001b[43msys\u001b[49m\u001b[38;5;241;43m.\u001b[39;49m\u001b[43mexc_info\u001b[49m\u001b[43m(\u001b[49m\u001b[43m)\u001b[49m\u001b[43m[\u001b[49m\u001b[38;5;241;43m2\u001b[39;49m\u001b[43m]\u001b[49m\n\u001b[0;32m    849\u001b[0m \u001b[43m\u001b[49m\u001b[43m)\u001b[49m\n\u001b[0;32m    850\u001b[0m retries\u001b[38;5;241m.\u001b[39msleep()\n\u001b[0;32m    852\u001b[0m \u001b[38;5;66;03m# Keep track of the error for the retry warning.\u001b[39;00m\n",
      "File \u001b[1;32mc:\\Users\\moona\\Desktop\\Kolesa parcing\\venv\\Lib\\site-packages\\urllib3\\util\\retry.py:515\u001b[0m, in \u001b[0;36mRetry.increment\u001b[1;34m(self, method, url, response, error, _pool, _stacktrace)\u001b[0m\n\u001b[0;32m    513\u001b[0m \u001b[38;5;28;01mif\u001b[39;00m new_retry\u001b[38;5;241m.\u001b[39mis_exhausted():\n\u001b[0;32m    514\u001b[0m     reason \u001b[38;5;241m=\u001b[39m error \u001b[38;5;129;01mor\u001b[39;00m ResponseError(cause)\n\u001b[1;32m--> 515\u001b[0m     \u001b[38;5;28;01mraise\u001b[39;00m MaxRetryError(_pool, url, reason) \u001b[38;5;28;01mfrom\u001b[39;00m \u001b[38;5;21;01mreason\u001b[39;00m  \u001b[38;5;66;03m# type: ignore[arg-type]\u001b[39;00m\n\u001b[0;32m    517\u001b[0m log\u001b[38;5;241m.\u001b[39mdebug(\u001b[38;5;124m\"\u001b[39m\u001b[38;5;124mIncremented Retry for (url=\u001b[39m\u001b[38;5;124m'\u001b[39m\u001b[38;5;132;01m%s\u001b[39;00m\u001b[38;5;124m'\u001b[39m\u001b[38;5;124m): \u001b[39m\u001b[38;5;132;01m%r\u001b[39;00m\u001b[38;5;124m\"\u001b[39m, url, new_retry)\n\u001b[0;32m    519\u001b[0m \u001b[38;5;28;01mreturn\u001b[39;00m new_retry\n",
      "\u001b[1;31mMaxRetryError\u001b[0m: HTTPConnectionPool(host='localhost', port=57701): Max retries exceeded with url: /session/ee51974b0cdd17630ef09d88b142e51d/window (Caused by NewConnectionError('<urllib3.connection.HTTPConnection object at 0x0000021B8AF313D0>: Failed to establish a new connection: [WinError 10061] Подключение не установлено, т.к. конечный компьютер отверг запрос на подключение'))"
     ]
    }
   ],
   "source": [
    "#-------------------------------------------------------------------------\n",
    "driver=webdriver.Chrome(service=ChromeService(directory), options=options)\n",
    "# driver.get(url = url)\n",
    "sleep(3)\n",
    "try:\n",
    "    list_urls = []\n",
    "    driver.get(\"https://kolesa.kz/\")\n",
    "    sleep(10)\n",
    "    url = \"https://kolesa.kz/cars/avtomobili-s-probegom/?auto-car-grbody=1&_sys-hasphoto=2&sort_by=add_date-asc&page=1\"\n",
    "    driver.get(url)\n",
    "\n",
    "    for i in tqdm(range(3)):        \n",
    "        soup = BeautifulSoup(driver.page_source, 'lxml')\n",
    "        layer_1 = soup.find('div', id='results')\n",
    "        if layer_1:\n",
    "            layer_2 = layer_1.find('div', class_='vip-block')\n",
    "            if layer_2:\n",
    "                find_vip = layer_2.find_all('div', class_=\"vip-block__item vip-card js__a-card\")\n",
    "                for j in find_vip:\n",
    "                    href_vip = 'https://kolesa.kz/' + j.find('a', class_=\"vip-card__link\").get('href')\n",
    "                    \n",
    "                    driver.execute_script(\"window.open('{}', '_blank');\".format(href_vip))\n",
    "                    driver.switch_to.window(driver.window_handles[1])\n",
    "                    parse_data(driver.page_source, href_vip)\n",
    "                    driver.close()\n",
    "                    driver.switch_to.window(driver.window_handles[-1])\n",
    "                    sleep(2)\n",
    "                    \n",
    "                    list_urls.append(href_vip)\n",
    "\n",
    "            find = layer_1.find('div', class_='a-list')\n",
    "            if find:\n",
    "                find_list = find.find_all('div', class_='a-card__picture')\n",
    "                for j in find_list:\n",
    "                    if j.find('a'):\n",
    "                        href = 'https://kolesa.kz/' + j.find('a').get('href')\n",
    "                        \n",
    "                        driver.execute_script(\"window.open('{}', '_blank');\".format(href))\n",
    "                        driver.switch_to.window(driver.window_handles[1])\n",
    "                        parse_data(driver.page_source, href)\n",
    "                        driver.close()\n",
    "                        driver.switch_to.window(driver.window_handles[-1])\n",
    "                        sleep(2)\n",
    "                        \n",
    "                        list_urls.append(href)\n",
    "        sleep(3)\n",
    "        print(len(list_urls))\n",
    "                \n",
    "        print(f'iteration {i}, finish')\n",
    "        actions = ActionChains(driver)\n",
    "        actions.key_down(Keys.CONTROL).send_keys(Keys.ARROW_RIGHT).key_up(Keys.CONTROL).perform()\n",
    "        \n",
    "except ConnectionRefusedError as e:\n",
    "    print(\"Connection refused. Stopping the script.\")\n",
    "finally:\n",
    "    driver.quit()\n",
    "    driver.close()"
   ]
  },
  {
   "cell_type": "code",
   "execution_count": null,
   "metadata": {},
   "outputs": [],
   "source": [
    "text_area = driver.find_element(By.ID, \"a11y-search-input\")\n",
    "# text_area.send_keys(Keys.CONTROL, \"a\")  # or Keys.COMMAND on Mac\n",
    "text_area.send_keys(\"data science\")\n",
    "\n",
    "text_area.submit()\n",
    "# Исходный код страницы\n",
    "driver.page_source\n",
    "page = bs(driver.page_source)\n",
    "page.find_element(By.ID, \"serp-item\")\n",
    "print(page.find(\"div\", {'class':\"serp-item\"}).get_text())"
   ]
  },
  {
   "cell_type": "markdown",
   "metadata": {},
   "source": [
    "-------------------"
   ]
  },
  {
   "cell_type": "code",
   "execution_count": 2,
   "metadata": {},
   "outputs": [],
   "source": [
    "with open(f\"car_kolesa.csv\", \"w\", encoding=\"utf-8\") as file:\n",
    "        writer = csv.writer(file)\n",
    "        writer.writerow(\n",
    "            (\n",
    "                'brand',\n",
    "                'name',\n",
    "                'year',\n",
    "                'price',\n",
    "                'city',\n",
    "                'body',\n",
    "                'engine',\n",
    "                'fuel',\n",
    "                'mileage',\n",
    "                'transmission',\n",
    "                'drive',\n",
    "                'color',\n",
    "                'url'\n",
    "            )\n",
    "        )"
   ]
  },
  {
   "cell_type": "code",
   "execution_count": 4,
   "metadata": {},
   "outputs": [
    {
     "name": "stderr",
     "output_type": "stream",
     "text": [
      "  0%|          | 0/400 [00:00<?, ?it/s]"
     ]
    },
    {
     "name": "stdout",
     "output_type": "stream",
     "text": [
      "23\n",
      "iteration 1, finish\n",
      "Car https://kolesa.kz//a/show/168596782 data written.\n",
      "Car https://kolesa.kz//a/show/157450553 data written.\n",
      "Car https://kolesa.kz//a/show/136040782 data written.\n",
      "Car https://kolesa.kz//a/show/168859831 data written.\n",
      "Car https://kolesa.kz//a/show/167143076 data written.\n",
      "Car https://kolesa.kz//a/show/166578185 data written.\n",
      "Car https://kolesa.kz//a/show/168588434 data written.\n",
      "Car https://kolesa.kz//a/show/155628958 data written.\n",
      "Car https://kolesa.kz//a/show/159080487 data written.\n",
      "Car https://kolesa.kz//a/show/168869366 data written.\n",
      "Car https://kolesa.kz//a/show/168879716 data written.\n",
      "Car https://kolesa.kz//a/show/168776320 data written.\n",
      "Car https://kolesa.kz//a/show/168879664 data written.\n",
      "Car https://kolesa.kz//a/show/168116017 data written.\n",
      "Car https://kolesa.kz//a/show/167432676 data written.\n",
      "Car https://kolesa.kz//a/show/164932712 data written.\n",
      "Car https://kolesa.kz//a/show/125544677 data written.\n",
      "Car https://kolesa.kz//a/show/168879569 data written.\n",
      "Car https://kolesa.kz//a/show/168659551 data written.\n",
      "Car https://kolesa.kz//a/show/168637745 data written.\n",
      "Car https://kolesa.kz//a/show/168864986 data written.\n",
      "Car https://kolesa.kz//a/show/168879541 data written.\n"
     ]
    },
    {
     "name": "stderr",
     "output_type": "stream",
     "text": [
      "  0%|          | 1/400 [01:20<8:56:34, 80.69s/it]"
     ]
    },
    {
     "name": "stdout",
     "output_type": "stream",
     "text": [
      "Car https://kolesa.kz//a/show/168829711 data written.\n",
      "23\n",
      "iteration 2, finish\n",
      "Car https://kolesa.kz//a/show/168482271 data written.\n",
      "Car https://kolesa.kz//a/show/140775212 data written.\n",
      "Car https://kolesa.kz//a/show/167682885 data written.\n",
      "Car https://kolesa.kz//a/show/167622284 data written.\n",
      "Car https://kolesa.kz//a/show/168879497 data written.\n",
      "Car https://kolesa.kz//a/show/168879463 data written.\n",
      "Car https://kolesa.kz//a/show/166732137 data written.\n",
      "Car https://kolesa.kz//a/show/163919551 data written.\n",
      "Car https://kolesa.kz//a/show/164988765 data written.\n",
      "Car https://kolesa.kz//a/show/168879340 data written.\n",
      "Car https://kolesa.kz//a/show/167837116 data written.\n",
      "Car https://kolesa.kz//a/show/168639473 data written.\n",
      "Car https://kolesa.kz//a/show/167379124 data written.\n",
      "Car https://kolesa.kz//a/show/167904891 data written.\n",
      "Car https://kolesa.kz//a/show/168605093 data written.\n",
      "Car https://kolesa.kz//a/show/168686985 data written.\n",
      "Car https://kolesa.kz//a/show/168879172 data written.\n",
      "Car https://kolesa.kz//a/show/157783392 data written.\n",
      "Car https://kolesa.kz//a/show/168879123 data written.\n",
      "Car https://kolesa.kz//a/show/167889897 data written.\n",
      "Car https://kolesa.kz//a/show/168879028 data written.\n",
      "Car https://kolesa.kz//a/show/168786028 data written.\n"
     ]
    },
    {
     "name": "stderr",
     "output_type": "stream",
     "text": [
      "  0%|          | 2/400 [02:38<8:44:54, 79.13s/it]"
     ]
    },
    {
     "name": "stdout",
     "output_type": "stream",
     "text": [
      "Car https://kolesa.kz//a/show/167140454 data written.\n",
      "23\n",
      "iteration 3, finish\n",
      "Car https://kolesa.kz//a/show/168034409 data written.\n",
      "Car https://kolesa.kz//a/show/168417975 data written.\n",
      "Car https://kolesa.kz//a/show/164048010 data written.\n",
      "Car https://kolesa.kz//a/show/167140454 data written.\n",
      "Car https://kolesa.kz//a/show/154141641 data written.\n",
      "Car https://kolesa.kz//a/show/156702341 data written.\n",
      "Car https://kolesa.kz//a/show/168878777 data written.\n",
      "Car https://kolesa.kz//a/show/168878734 data written.\n",
      "Car https://kolesa.kz//a/show/168836164 data written.\n",
      "Car https://kolesa.kz//a/show/168838393 data written.\n",
      "Car https://kolesa.kz//a/show/168620474 data written.\n",
      "Car https://kolesa.kz//a/show/166424449 data written.\n",
      "Car https://kolesa.kz//a/show/165537243 data written.\n",
      "Car https://kolesa.kz//a/show/168877526 data written.\n",
      "Car https://kolesa.kz//a/show/168878385 data written.\n",
      "Car https://kolesa.kz//a/show/167755738 data written.\n",
      "Car https://kolesa.kz//a/show/168877837 data written.\n",
      "Car https://kolesa.kz//a/show/168878397 data written.\n",
      "Car https://kolesa.kz//a/show/168878381 data written.\n",
      "Car https://kolesa.kz//a/show/168878319 data written.\n",
      "Car https://kolesa.kz//a/show/159117990 data written.\n",
      "Car https://kolesa.kz//a/show/168766808 data written.\n"
     ]
    },
    {
     "name": "stderr",
     "output_type": "stream",
     "text": [
      "  1%|          | 3/400 [04:02<8:57:08, 81.18s/it]"
     ]
    },
    {
     "name": "stdout",
     "output_type": "stream",
     "text": [
      "Car https://kolesa.kz//a/show/166592418 data written.\n",
      "23\n",
      "iteration 4, finish\n",
      "Car https://kolesa.kz//a/show/168471037 data written.\n",
      "Car https://kolesa.kz//a/show/136040782 data written.\n",
      "Car https://kolesa.kz//a/show/168769891 data written.\n",
      "Car https://kolesa.kz//a/show/168878371 data written.\n",
      "Car https://kolesa.kz//a/show/168878303 data written.\n",
      "Car https://kolesa.kz//a/show/168878337 data written.\n",
      "Car https://kolesa.kz//a/show/168236990 data written.\n",
      "Car https://kolesa.kz//a/show/168878175 data written.\n",
      "Car https://kolesa.kz//a/show/168878195 data written.\n",
      "Car https://kolesa.kz//a/show/168878248 data written.\n",
      "Car https://kolesa.kz//a/show/168878193 data written.\n",
      "Car https://kolesa.kz//a/show/168878174 data written.\n",
      "Car https://kolesa.kz//a/show/168877987 data written.\n",
      "Car https://kolesa.kz//a/show/168878082 data written.\n",
      "Car https://kolesa.kz//a/show/168878191 data written.\n",
      "Car https://kolesa.kz//a/show/168878025 data written.\n",
      "Car https://kolesa.kz//a/show/168878149 data written.\n",
      "Car https://kolesa.kz//a/show/168878102 data written.\n",
      "Car https://kolesa.kz//a/show/168877932 data written.\n",
      "Car https://kolesa.kz//a/show/168877977 data written.\n",
      "Car https://kolesa.kz//a/show/168877806 data written.\n",
      "Car https://kolesa.kz//a/show/168878039 data written.\n"
     ]
    },
    {
     "name": "stderr",
     "output_type": "stream",
     "text": [
      "  1%|          | 4/400 [05:19<8:45:24, 79.61s/it]"
     ]
    },
    {
     "name": "stdout",
     "output_type": "stream",
     "text": [
      "Car https://kolesa.kz//a/show/168878026 data written.\n",
      "23\n",
      "iteration 5, finish\n",
      "Car https://kolesa.kz//a/show/168101076 data written.\n",
      "Car https://kolesa.kz//a/show/167960951 data written.\n",
      "Car https://kolesa.kz//a/show/168525524 data written.\n",
      "Car https://kolesa.kz//a/show/168877937 data written.\n",
      "Car https://kolesa.kz//a/show/168424924 data written.\n",
      "Car https://kolesa.kz//a/show/168878035 data written.\n",
      "Car https://kolesa.kz//a/show/167972273 data written.\n",
      "Car https://kolesa.kz//a/show/168877829 data written.\n",
      "Car https://kolesa.kz//a/show/168846870 data written.\n",
      "Car https://kolesa.kz//a/show/168877760 data written.\n",
      "Car https://kolesa.kz//a/show/168877590 data written.\n",
      "Car https://kolesa.kz//a/show/167637210 data written.\n",
      "Car https://kolesa.kz//a/show/167866964 data written.\n",
      "Car https://kolesa.kz//a/show/168855943 data written.\n",
      "Car https://kolesa.kz//a/show/167706567 data written.\n",
      "Car https://kolesa.kz//a/show/168877763 data written.\n",
      "Car https://kolesa.kz//a/show/168877673 data written.\n",
      "Car https://kolesa.kz//a/show/168877694 data written.\n",
      "Car https://kolesa.kz//a/show/168877715 data written.\n",
      "Car https://kolesa.kz//a/show/168877546 data written.\n",
      "Car https://kolesa.kz//a/show/168877699 data written.\n",
      "Car https://kolesa.kz//a/show/168877689 data written.\n"
     ]
    },
    {
     "name": "stderr",
     "output_type": "stream",
     "text": [
      "  1%|▏         | 5/400 [06:35<8:36:15, 78.42s/it]"
     ]
    },
    {
     "name": "stdout",
     "output_type": "stream",
     "text": [
      "Car https://kolesa.kz//a/show/168877664 data written.\n",
      "23\n",
      "iteration 6, finish\n",
      "Car https://kolesa.kz//a/show/167485897 data written.\n",
      "Car https://kolesa.kz//a/show/168358827 data written.\n",
      "Car https://kolesa.kz//a/show/155536626 data written.\n",
      "Car https://kolesa.kz//a/show/165756738 data written.\n",
      "Car https://kolesa.kz//a/show/165785057 data written.\n",
      "Car https://kolesa.kz//a/show/168877633 data written.\n",
      "Car https://kolesa.kz//a/show/163474868 data written.\n",
      "Car https://kolesa.kz//a/show/168775319 data written.\n",
      "Car https://kolesa.kz//a/show/168873833 data written.\n",
      "Car https://kolesa.kz//a/show/168877541 data written.\n",
      "Car https://kolesa.kz//a/show/168877372 data written.\n",
      "Car https://kolesa.kz//a/show/165491873 data written.\n",
      "Car https://kolesa.kz//a/show/166807275 data written.\n",
      "Car https://kolesa.kz//a/show/168877430 data written.\n",
      "Car https://kolesa.kz//a/show/168877125 data written.\n",
      "Car https://kolesa.kz//a/show/168877045 data written.\n",
      "Car https://kolesa.kz//a/show/168529244 data written.\n",
      "Car https://kolesa.kz//a/show/168877340 data written.\n",
      "Car https://kolesa.kz//a/show/164378165 data written.\n",
      "Car https://kolesa.kz//a/show/168877195 data written.\n",
      "Car https://kolesa.kz//a/show/166529026 data written.\n",
      "Car https://kolesa.kz//a/show/168642220 data written.\n"
     ]
    },
    {
     "name": "stderr",
     "output_type": "stream",
     "text": [
      "  2%|▏         | 6/400 [07:52<8:31:38, 77.92s/it]"
     ]
    },
    {
     "name": "stdout",
     "output_type": "stream",
     "text": [
      "Car https://kolesa.kz//a/show/168650374 data written.\n",
      "23\n",
      "iteration 7, finish\n",
      "Car https://kolesa.kz//a/show/168643496 data written.\n",
      "Car https://kolesa.kz//a/show/167960951 data written.\n",
      "Car https://kolesa.kz//a/show/168456257 data written.\n",
      "Car https://kolesa.kz//a/show/168876967 data written.\n",
      "Car https://kolesa.kz//a/show/168877021 data written.\n",
      "Car https://kolesa.kz//a/show/168876582 data written.\n",
      "Car https://kolesa.kz//a/show/168253636 data written.\n",
      "Car https://kolesa.kz//a/show/168876644 data written.\n",
      "Car https://kolesa.kz//a/show/168876545 data written.\n",
      "Car https://kolesa.kz//a/show/168877005 data written.\n",
      "Car https://kolesa.kz//a/show/168876731 data written.\n",
      "Car https://kolesa.kz//a/show/168482510 data written.\n",
      "Car https://kolesa.kz//a/show/168724060 data written.\n",
      "Car https://kolesa.kz//a/show/168580748 data written.\n",
      "Car https://kolesa.kz//a/show/168876737 data written.\n",
      "Car https://kolesa.kz//a/show/168876806 data written.\n",
      "Car https://kolesa.kz//a/show/168876800 data written.\n",
      "Car https://kolesa.kz//a/show/168604676 data written.\n",
      "Car https://kolesa.kz//a/show/167617214 data written.\n",
      "Car https://kolesa.kz//a/show/168876647 data written.\n",
      "Car https://kolesa.kz//a/show/164476591 data written.\n",
      "Car https://kolesa.kz//a/show/168876663 data written.\n"
     ]
    },
    {
     "name": "stderr",
     "output_type": "stream",
     "text": [
      "  2%|▏         | 7/400 [09:10<8:28:51, 77.69s/it]"
     ]
    },
    {
     "name": "stdout",
     "output_type": "stream",
     "text": [
      "Car https://kolesa.kz//a/show/168876510 data written.\n",
      "23\n",
      "iteration 8, finish\n",
      "Car https://kolesa.kz//a/show/159548786 data written.\n",
      "Car https://kolesa.kz//a/show/168544129 data written.\n",
      "Car https://kolesa.kz//a/show/168017353 data written.\n",
      "Car https://kolesa.kz//a/show/167911162 data written.\n",
      "Car https://kolesa.kz//a/show/168833179 data written.\n",
      "Car https://kolesa.kz//a/show/168875037 data written.\n",
      "Car https://kolesa.kz//a/show/168876641 data written.\n",
      "Car https://kolesa.kz//a/show/161984909 data written.\n",
      "Car https://kolesa.kz//a/show/168876254 data written.\n",
      "Car https://kolesa.kz//a/show/168876153 data written.\n",
      "Car https://kolesa.kz//a/show/163604201 data written.\n",
      "Car https://kolesa.kz//a/show/168875350 data written.\n",
      "Car https://kolesa.kz//a/show/168735886 data written.\n",
      "Car https://kolesa.kz//a/show/167579338 data written.\n",
      "Car https://kolesa.kz//a/show/166279454 data written.\n",
      "Car https://kolesa.kz//a/show/168749425 data written.\n",
      "Car https://kolesa.kz//a/show/168828273 data written.\n",
      "Car https://kolesa.kz//a/show/160723349 data written.\n",
      "Car https://kolesa.kz//a/show/167737825 data written.\n",
      "Car https://kolesa.kz//a/show/168875976 data written.\n",
      "Car https://kolesa.kz//a/show/166160348 data written.\n",
      "Car https://kolesa.kz//a/show/168777344 data written.\n"
     ]
    },
    {
     "name": "stderr",
     "output_type": "stream",
     "text": [
      "  2%|▏         | 8/400 [10:25<8:22:31, 76.92s/it]"
     ]
    },
    {
     "name": "stdout",
     "output_type": "stream",
     "text": [
      "Car https://kolesa.kz//a/show/168876203 data written.\n",
      "23\n",
      "iteration 9, finish\n",
      "Car https://kolesa.kz//a/show/168596782 data written.\n",
      "Car https://kolesa.kz//a/show/168289312 data written.\n",
      "Car https://kolesa.kz//a/show/168404468 data written.\n",
      "Car https://kolesa.kz//a/show/168651086 data written.\n",
      "Car https://kolesa.kz//a/show/168875923 data written.\n",
      "Car https://kolesa.kz//a/show/168875578 data written.\n",
      "Car https://kolesa.kz//a/show/163088992 data written.\n",
      "Car https://kolesa.kz//a/show/166843022 data written.\n",
      "Car https://kolesa.kz//a/show/167768369 data written.\n",
      "Car https://kolesa.kz//a/show/168603951 data written.\n",
      "Car https://kolesa.kz//a/show/168605048 data written.\n",
      "Car https://kolesa.kz//a/show/166398254 data written.\n",
      "Car https://kolesa.kz//a/show/166818471 data written.\n",
      "Car https://kolesa.kz//a/show/166049818 data written.\n",
      "Car https://kolesa.kz//a/show/167803819 data written.\n",
      "Car https://kolesa.kz//a/show/168214582 data written.\n",
      "Car https://kolesa.kz//a/show/168872382 data written.\n",
      "Car https://kolesa.kz//a/show/168444386 data written.\n",
      "Car https://kolesa.kz//a/show/168875884 data written.\n",
      "Car https://kolesa.kz//a/show/168875720 data written.\n",
      "Car https://kolesa.kz//a/show/168663824 data written.\n",
      "Car https://kolesa.kz//a/show/168582655 data written.\n"
     ]
    },
    {
     "name": "stderr",
     "output_type": "stream",
     "text": [
      "  2%|▏         | 9/400 [11:43<8:23:09, 77.21s/it]"
     ]
    },
    {
     "name": "stdout",
     "output_type": "stream",
     "text": [
      "Car https://kolesa.kz//a/show/168824993 data written.\n",
      "23\n",
      "iteration 10, finish\n",
      "Car https://kolesa.kz//a/show/168815107 data written.\n",
      "Car https://kolesa.kz//a/show/168417975 data written.\n",
      "Car https://kolesa.kz//a/show/168356458 data written.\n",
      "Car https://kolesa.kz//a/show/167139173 data written.\n",
      "Car https://kolesa.kz//a/show/168771993 data written.\n",
      "Car https://kolesa.kz//a/show/167713003 data written.\n",
      "Car https://kolesa.kz//a/show/168634860 data written.\n",
      "Car https://kolesa.kz//a/show/168638497 data written.\n",
      "Car https://kolesa.kz//a/show/167807045 data written.\n",
      "Car https://kolesa.kz//a/show/167951733 data written.\n",
      "Car https://kolesa.kz//a/show/166596483 data written.\n",
      "Car https://kolesa.kz//a/show/168331282 data written.\n",
      "Car https://kolesa.kz//a/show/168658623 data written.\n",
      "Car https://kolesa.kz//a/show/168871387 data written.\n",
      "Car https://kolesa.kz//a/show/168683084 data written.\n",
      "Car https://kolesa.kz//a/show/168160887 data written.\n",
      "Car https://kolesa.kz//a/show/167476081 data written.\n",
      "Car https://kolesa.kz//a/show/168690797 data written.\n",
      "Car https://kolesa.kz//a/show/168275616 data written.\n",
      "Car https://kolesa.kz//a/show/167222758 data written.\n",
      "Car https://kolesa.kz//a/show/168461326 data written.\n",
      "Car https://kolesa.kz//a/show/167789622 data written.\n"
     ]
    },
    {
     "name": "stderr",
     "output_type": "stream",
     "text": [
      "  2%|▎         | 10/400 [12:58<8:19:04, 76.78s/it]"
     ]
    },
    {
     "name": "stdout",
     "output_type": "stream",
     "text": [
      "Car https://kolesa.kz//a/show/168549472 data written.\n",
      "23\n",
      "iteration 11, finish\n",
      "Car https://kolesa.kz//a/show/157131801 data written.\n",
      "Car https://kolesa.kz//a/show/168828544 data written.\n",
      "Car https://kolesa.kz//a/show/168544129 data written.\n",
      "Car https://kolesa.kz//a/show/168875580 data written.\n",
      "Car https://kolesa.kz//a/show/168874782 data written.\n",
      "Car https://kolesa.kz//a/show/168875303 data written.\n",
      "Car https://kolesa.kz//a/show/158586880 data written.\n",
      "Car https://kolesa.kz//a/show/168875082 data written.\n",
      "Car https://kolesa.kz//a/show/168801856 data written.\n",
      "Car https://kolesa.kz//a/show/168733464 data written.\n",
      "Car https://kolesa.kz//a/show/168684931 data written.\n",
      "Car https://kolesa.kz//a/show/166641315 data written.\n",
      "Car https://kolesa.kz//a/show/168278185 data written.\n",
      "Car https://kolesa.kz//a/show/168662854 data written.\n",
      "Car https://kolesa.kz//a/show/162060099 data written.\n",
      "Car https://kolesa.kz//a/show/168402004 data written.\n",
      "Car https://kolesa.kz//a/show/168386694 data written.\n",
      "Car https://kolesa.kz//a/show/168662363 data written.\n",
      "Car https://kolesa.kz//a/show/168638467 data written.\n",
      "Car https://kolesa.kz//a/show/168257613 data written.\n",
      "Car https://kolesa.kz//a/show/168307837 data written.\n",
      "Car https://kolesa.kz//a/show/168874825 data written.\n"
     ]
    },
    {
     "name": "stderr",
     "output_type": "stream",
     "text": [
      "  3%|▎         | 11/400 [14:15<8:16:55, 76.65s/it]"
     ]
    },
    {
     "name": "stdout",
     "output_type": "stream",
     "text": [
      "Car https://kolesa.kz//a/show/168875176 data written.\n",
      "23\n",
      "iteration 12, finish\n",
      "Car https://kolesa.kz//a/show/168388899 data written.\n",
      "Car https://kolesa.kz//a/show/167256471 data written.\n",
      "Car https://kolesa.kz//a/show/164346571 data written.\n",
      "Car https://kolesa.kz//a/show/164452089 data written.\n",
      "Car https://kolesa.kz//a/show/167851546 data written.\n",
      "Car https://kolesa.kz//a/show/167492026 data written.\n",
      "Car https://kolesa.kz//a/show/167755893 data written.\n",
      "Car https://kolesa.kz//a/show/159682784 data written.\n",
      "Car https://kolesa.kz//a/show/160369450 data written.\n",
      "Car https://kolesa.kz//a/show/168875410 data written.\n",
      "Car https://kolesa.kz//a/show/164745937 data written.\n",
      "Car https://kolesa.kz//a/show/168436539 data written.\n",
      "Car https://kolesa.kz//a/show/168875354 data written.\n",
      "Car https://kolesa.kz//a/show/168874649 data written.\n",
      "Car https://kolesa.kz//a/show/168826941 data written.\n",
      "Car https://kolesa.kz//a/show/168874555 data written.\n",
      "Car https://kolesa.kz//a/show/168875220 data written.\n",
      "Car https://kolesa.kz//a/show/164522728 data written.\n",
      "Car https://kolesa.kz//a/show/168629902 data written.\n",
      "Car https://kolesa.kz//a/show/162570948 data written.\n",
      "Car https://kolesa.kz//a/show/168527970 data written.\n",
      "Car https://kolesa.kz//a/show/168525293 data written.\n"
     ]
    },
    {
     "name": "stderr",
     "output_type": "stream",
     "text": [
      "  3%|▎         | 12/400 [15:30<8:13:41, 76.34s/it]"
     ]
    },
    {
     "name": "stdout",
     "output_type": "stream",
     "text": [
      "Car https://kolesa.kz//a/show/168601135 data written.\n",
      "23\n",
      "iteration 13, finish\n",
      "Car https://kolesa.kz//a/show/168486122 data written.\n",
      "Car https://kolesa.kz//a/show/168840459 data written.\n",
      "Car https://kolesa.kz//a/show/167762336 data written.\n",
      "Car https://kolesa.kz//a/show/168214720 data written.\n",
      "Car https://kolesa.kz//a/show/154512225 data written.\n",
      "Car https://kolesa.kz//a/show/157685826 data written.\n",
      "Car https://kolesa.kz//a/show/168874636 data written.\n",
      "Car https://kolesa.kz//a/show/168874821 data written.\n",
      "Car https://kolesa.kz//a/show/168875057 data written.\n",
      "Car https://kolesa.kz//a/show/168875014 data written.\n",
      "Car https://kolesa.kz//a/show/168681842 data written.\n",
      "Car https://kolesa.kz//a/show/168875103 data written.\n",
      "Car https://kolesa.kz//a/show/168648996 data written.\n",
      "Car https://kolesa.kz//a/show/168718429 data written.\n",
      "Car https://kolesa.kz//a/show/167314955 data written.\n",
      "Car https://kolesa.kz//a/show/168502093 data written.\n",
      "Car https://kolesa.kz//a/show/153198052 data written.\n",
      "Car https://kolesa.kz//a/show/168161689 data written.\n",
      "Car https://kolesa.kz//a/show/168314551 data written.\n",
      "Car https://kolesa.kz//a/show/168270681 data written.\n",
      "Car https://kolesa.kz//a/show/166855971 data written.\n",
      "Car https://kolesa.kz//a/show/168584160 data written.\n"
     ]
    },
    {
     "name": "stderr",
     "output_type": "stream",
     "text": [
      "  3%|▎         | 13/400 [16:46<8:10:37, 76.07s/it]"
     ]
    },
    {
     "name": "stdout",
     "output_type": "stream",
     "text": [
      "Car https://kolesa.kz//a/show/168376858 data written.\n",
      "23\n",
      "iteration 14, finish\n",
      "Car https://kolesa.kz//a/show/166946747 data written.\n",
      "Car https://kolesa.kz//a/show/166737510 data written.\n",
      "Car https://kolesa.kz//a/show/168833317 data written.\n",
      "Car https://kolesa.kz//a/show/168874052 data written.\n",
      "Car https://kolesa.kz//a/show/168608357 data written.\n",
      "Car https://kolesa.kz//a/show/166682201 data written.\n",
      "Car https://kolesa.kz//a/show/160109551 data written.\n",
      "Car https://kolesa.kz//a/show/168437537 data written.\n",
      "Car https://kolesa.kz//a/show/168636653 data written.\n",
      "Car https://kolesa.kz//a/show/168101638 data written.\n",
      "Car https://kolesa.kz//a/show/168718649 data written.\n",
      "Car https://kolesa.kz//a/show/167497664 data written.\n",
      "Car https://kolesa.kz//a/show/168252787 data written.\n",
      "Car https://kolesa.kz//a/show/160138967 data written.\n",
      "Car https://kolesa.kz//a/show/168552645 data written.\n",
      "Car https://kolesa.kz//a/show/158062460 data written.\n",
      "Car https://kolesa.kz//a/show/166543867 data written.\n",
      "Car https://kolesa.kz//a/show/168833834 data written.\n",
      "Car https://kolesa.kz//a/show/168334206 data written.\n",
      "Car https://kolesa.kz//a/show/168874816 data written.\n",
      "Car https://kolesa.kz//a/show/167480718 data written.\n",
      "Car https://kolesa.kz//a/show/162943697 data written.\n"
     ]
    },
    {
     "name": "stderr",
     "output_type": "stream",
     "text": [
      "  4%|▎         | 14/400 [18:02<8:09:10, 76.04s/it]"
     ]
    },
    {
     "name": "stdout",
     "output_type": "stream",
     "text": [
      "Car https://kolesa.kz//a/show/168661705 data written.\n",
      "23\n",
      "iteration 15, finish\n",
      "Car https://kolesa.kz//a/show/168082923 data written.\n",
      "Car https://kolesa.kz//a/show/164224037 data written.\n",
      "Car https://kolesa.kz//a/show/158283069 data written.\n",
      "Car https://kolesa.kz//a/show/168314220 data written.\n",
      "Car https://kolesa.kz//a/show/167510812 data written.\n",
      "Car https://kolesa.kz//a/show/168769762 data written.\n",
      "Car https://kolesa.kz//a/show/168700613 data written.\n",
      "Car https://kolesa.kz//a/show/168533123 data written.\n",
      "Car https://kolesa.kz//a/show/168635945 data written.\n",
      "Car https://kolesa.kz//a/show/168516558 data written.\n",
      "Car https://kolesa.kz//a/show/168548257 data written.\n",
      "Car https://kolesa.kz//a/show/167420662 data written.\n",
      "Car https://kolesa.kz//a/show/160051624 data written.\n",
      "Car https://kolesa.kz//a/show/168780836 data written.\n",
      "Car https://kolesa.kz//a/show/168874643 data written.\n",
      "Car https://kolesa.kz//a/show/168874851 data written.\n",
      "Car https://kolesa.kz//a/show/168205489 data written.\n",
      "Car https://kolesa.kz//a/show/168874655 data written.\n",
      "Car https://kolesa.kz//a/show/168874712 data written.\n",
      "Car https://kolesa.kz//a/show/168855804 data written.\n",
      "Car https://kolesa.kz//a/show/168833610 data written.\n",
      "Car https://kolesa.kz//a/show/168797780 data written.\n"
     ]
    },
    {
     "name": "stderr",
     "output_type": "stream",
     "text": [
      "  4%|▍         | 15/400 [19:20<8:11:10, 76.55s/it]"
     ]
    },
    {
     "name": "stdout",
     "output_type": "stream",
     "text": [
      "Car https://kolesa.kz//a/show/164966291 data written.\n",
      "23\n",
      "iteration 16, finish\n",
      "Car https://kolesa.kz//a/show/168793064 data written.\n",
      "Car https://kolesa.kz//a/show/168265601 data written.\n",
      "Car https://kolesa.kz//a/show/168619030 data written.\n",
      "Car https://kolesa.kz//a/show/168770348 data written.\n",
      "Car https://kolesa.kz//a/show/167871910 data written.\n",
      "Car https://kolesa.kz//a/show/168602661 data written.\n",
      "Car https://kolesa.kz//a/show/168547524 data written.\n",
      "Car https://kolesa.kz//a/show/168548070 data written.\n",
      "Car https://kolesa.kz//a/show/168270577 data written.\n",
      "Car https://kolesa.kz//a/show/168874126 data written.\n",
      "Car https://kolesa.kz//a/show/140037576 data written.\n",
      "Car https://kolesa.kz//a/show/168874222 data written.\n",
      "Car https://kolesa.kz//a/show/165237587 data written.\n",
      "Car https://kolesa.kz//a/show/168409773 data written.\n",
      "Car https://kolesa.kz//a/show/168454514 data written.\n",
      "Car https://kolesa.kz//a/show/168767707 data written.\n",
      "Car https://kolesa.kz//a/show/168769741 data written.\n",
      "Car https://kolesa.kz//a/show/168742751 data written.\n",
      "Car https://kolesa.kz//a/show/166662155 data written.\n",
      "Car https://kolesa.kz//a/show/168662723 data written.\n",
      "Car https://kolesa.kz//a/show/168874327 data written.\n",
      "Car https://kolesa.kz//a/show/168575243 data written.\n"
     ]
    },
    {
     "name": "stderr",
     "output_type": "stream",
     "text": [
      "  4%|▍         | 16/400 [20:36<8:09:21, 76.46s/it]"
     ]
    },
    {
     "name": "stdout",
     "output_type": "stream",
     "text": [
      "Car https://kolesa.kz//a/show/166719473 data written.\n",
      "23\n",
      "iteration 17, finish\n",
      "Car https://kolesa.kz//a/show/168664110 data written.\n",
      "Car https://kolesa.kz//a/show/168475541 data written.\n",
      "Car https://kolesa.kz//a/show/168501762 data written.\n",
      "Car https://kolesa.kz//a/show/166719473 data written.\n",
      "Car https://kolesa.kz//a/show/163309800 data written.\n",
      "Car https://kolesa.kz//a/show/168450998 data written.\n",
      "Car https://kolesa.kz//a/show/168761242 data written.\n",
      "Car https://kolesa.kz//a/show/168873956 data written.\n",
      "Car https://kolesa.kz//a/show/166219122 data written.\n",
      "Car https://kolesa.kz//a/show/168874265 data written.\n",
      "Car https://kolesa.kz//a/show/168861767 data written.\n",
      "Car https://kolesa.kz//a/show/155126581 data written.\n",
      "Car https://kolesa.kz//a/show/154398495 data written.\n",
      "Car https://kolesa.kz//a/show/159290819 data written.\n",
      "Car https://kolesa.kz//a/show/168874269 data written.\n",
      "Car https://kolesa.kz//a/show/168818143 data written.\n",
      "Car https://kolesa.kz//a/show/166466906 data written.\n",
      "Car https://kolesa.kz//a/show/142210080 data written.\n",
      "Car https://kolesa.kz//a/show/168683267 data written.\n",
      "Car https://kolesa.kz//a/show/168584603 data written.\n",
      "Car https://kolesa.kz//a/show/165884012 data written.\n",
      "Car https://kolesa.kz//a/show/151695249 data written.\n"
     ]
    },
    {
     "name": "stderr",
     "output_type": "stream",
     "text": [
      "  4%|▍         | 17/400 [21:53<8:10:18, 76.81s/it]"
     ]
    },
    {
     "name": "stdout",
     "output_type": "stream",
     "text": [
      "Car https://kolesa.kz//a/show/167029249 data written.\n",
      "23\n",
      "iteration 18, finish\n",
      "Car https://kolesa.kz//a/show/151999684 data written.\n",
      "Car https://kolesa.kz//a/show/164224037 data written.\n",
      "Car https://kolesa.kz//a/show/168456297 data written.\n",
      "Car https://kolesa.kz//a/show/167029249 data written.\n",
      "Car https://kolesa.kz//a/show/167432082 data written.\n",
      "Car https://kolesa.kz//a/show/166662751 data written.\n",
      "Car https://kolesa.kz//a/show/168473014 data written.\n",
      "Car https://kolesa.kz//a/show/167777681 data written.\n",
      "Car https://kolesa.kz//a/show/168269186 data written.\n",
      "Car https://kolesa.kz//a/show/167975998 data written.\n",
      "Car https://kolesa.kz//a/show/168157513 data written.\n",
      "Car https://kolesa.kz//a/show/168874225 data written.\n",
      "Car https://kolesa.kz//a/show/168873807 data written.\n",
      "Car https://kolesa.kz//a/show/168873969 data written.\n",
      "Car https://kolesa.kz//a/show/168063504 data written.\n",
      "Car https://kolesa.kz//a/show/168873865 data written.\n",
      "Car https://kolesa.kz//a/show/162730685 data written.\n",
      "Car https://kolesa.kz//a/show/135948145 data written.\n",
      "Car https://kolesa.kz//a/show/167785593 data written.\n",
      "Car https://kolesa.kz//a/show/165868881 data written.\n",
      "Car https://kolesa.kz//a/show/168404183 data written.\n",
      "Car https://kolesa.kz//a/show/168341095 data written.\n"
     ]
    },
    {
     "name": "stderr",
     "output_type": "stream",
     "text": [
      "  4%|▍         | 18/400 [23:14<8:16:24, 77.97s/it]"
     ]
    },
    {
     "name": "stdout",
     "output_type": "stream",
     "text": [
      "Car https://kolesa.kz//a/show/167475503 data written.\n",
      "23\n",
      "iteration 19, finish\n",
      "Car https://kolesa.kz//a/show/168527636 data written.\n",
      "Car https://kolesa.kz//a/show/157131801 data written.\n",
      "Car https://kolesa.kz//a/show/168782669 data written.\n",
      "Car https://kolesa.kz//a/show/167789485 data written.\n",
      "Car https://kolesa.kz//a/show/168329037 data written.\n",
      "Car https://kolesa.kz//a/show/168332617 data written.\n",
      "Car https://kolesa.kz//a/show/168319455 data written.\n",
      "Car https://kolesa.kz//a/show/168873980 data written.\n",
      "Car https://kolesa.kz//a/show/168605723 data written.\n",
      "Car https://kolesa.kz//a/show/168873861 data written.\n",
      "Car https://kolesa.kz//a/show/168857956 data written.\n",
      "Car https://kolesa.kz//a/show/168572528 data written.\n",
      "Car https://kolesa.kz//a/show/166851266 data written.\n",
      "Car https://kolesa.kz//a/show/158465303 data written.\n",
      "Car https://kolesa.kz//a/show/166790823 data written.\n",
      "Car https://kolesa.kz//a/show/168403762 data written.\n",
      "Car https://kolesa.kz//a/show/168542004 data written.\n",
      "Car https://kolesa.kz//a/show/168872386 data written.\n",
      "Car https://kolesa.kz//a/show/168872032 data written.\n",
      "Car https://kolesa.kz//a/show/163007738 data written.\n",
      "Car https://kolesa.kz//a/show/167883934 data written.\n",
      "Car https://kolesa.kz//a/show/168054998 data written.\n"
     ]
    },
    {
     "name": "stderr",
     "output_type": "stream",
     "text": [
      "  5%|▍         | 19/400 [24:31<8:13:35, 77.73s/it]"
     ]
    },
    {
     "name": "stdout",
     "output_type": "stream",
     "text": [
      "Car https://kolesa.kz//a/show/167836380 data written.\n",
      "23\n",
      "iteration 20, finish\n",
      "Car https://kolesa.kz//a/show/166135110 data written.\n",
      "Car https://kolesa.kz//a/show/168441264 data written.\n",
      "Car https://kolesa.kz//a/show/168358827 data written.\n",
      "Car https://kolesa.kz//a/show/167836380 data written.\n",
      "Car https://kolesa.kz//a/show/167719912 data written.\n",
      "Car https://kolesa.kz//a/show/168873557 data written.\n",
      "Car https://kolesa.kz//a/show/168873682 data written.\n",
      "Car https://kolesa.kz//a/show/158765550 data written.\n",
      "Car https://kolesa.kz//a/show/168549396 data written.\n",
      "Car https://kolesa.kz//a/show/162520456 data written.\n",
      "Car https://kolesa.kz//a/show/134207479 data written.\n",
      "Car https://kolesa.kz//a/show/168820926 data written.\n",
      "Car https://kolesa.kz//a/show/167228326 data written.\n",
      "Car https://kolesa.kz//a/show/166435548 data written.\n",
      "Car https://kolesa.kz//a/show/165111274 data written.\n",
      "Car https://kolesa.kz//a/show/168697130 data written.\n",
      "Car https://kolesa.kz//a/show/168690369 data written.\n",
      "Car https://kolesa.kz//a/show/168690098 data written.\n",
      "Car https://kolesa.kz//a/show/154373126 data written.\n",
      "Car https://kolesa.kz//a/show/168689479 data written.\n",
      "Car https://kolesa.kz//a/show/151093762 data written.\n",
      "Car https://kolesa.kz//a/show/168572524 data written.\n"
     ]
    },
    {
     "name": "stderr",
     "output_type": "stream",
     "text": [
      "  5%|▌         | 20/400 [25:47<8:09:03, 77.22s/it]"
     ]
    },
    {
     "name": "stdout",
     "output_type": "stream",
     "text": [
      "Car https://kolesa.kz//a/show/141466013 data written.\n",
      "23\n",
      "iteration 21, finish\n",
      "Car https://kolesa.kz//a/show/164616218 data written.\n",
      "Car https://kolesa.kz//a/show/165855649 data written.\n",
      "Car https://kolesa.kz//a/show/159363311 data written.\n",
      "Car https://kolesa.kz//a/show/168497420 data written.\n",
      "Car https://kolesa.kz//a/show/163320695 data written.\n",
      "Car https://kolesa.kz//a/show/166937849 data written.\n",
      "Car https://kolesa.kz//a/show/168768279 data written.\n",
      "Car https://kolesa.kz//a/show/168873393 data written.\n",
      "Car https://kolesa.kz//a/show/167595562 data written.\n",
      "Car https://kolesa.kz//a/show/168873121 data written.\n",
      "Car https://kolesa.kz//a/show/168873322 data written.\n",
      "Car https://kolesa.kz//a/show/168758466 data written.\n",
      "Car https://kolesa.kz//a/show/168873380 data written.\n",
      "Car https://kolesa.kz//a/show/168546820 data written.\n",
      "Car https://kolesa.kz//a/show/168766519 data written.\n",
      "Car https://kolesa.kz//a/show/165924615 data written.\n",
      "Car https://kolesa.kz//a/show/168677419 data written.\n",
      "Car https://kolesa.kz//a/show/167909725 data written.\n",
      "Car https://kolesa.kz//a/show/165251437 data written.\n",
      "Car https://kolesa.kz//a/show/166448317 data written.\n",
      "Car https://kolesa.kz//a/show/168501361 data written.\n",
      "Car https://kolesa.kz//a/show/168136792 data written.\n"
     ]
    },
    {
     "name": "stderr",
     "output_type": "stream",
     "text": [
      "  5%|▌         | 21/400 [27:10<8:17:24, 78.75s/it]"
     ]
    },
    {
     "name": "stdout",
     "output_type": "stream",
     "text": [
      "Car https://kolesa.kz//a/show/168873313 data written.\n",
      "23\n",
      "iteration 22, finish\n",
      "Car https://kolesa.kz//a/show/167082401 data written.\n",
      "Car https://kolesa.kz//a/show/168663828 data written.\n",
      "Car https://kolesa.kz//a/show/162062444 data written.\n",
      "Car https://kolesa.kz//a/show/168873332 data written.\n",
      "Car https://kolesa.kz//a/show/168873250 data written.\n",
      "Car https://kolesa.kz//a/show/168633887 data written.\n",
      "Car https://kolesa.kz//a/show/168872850 data written.\n",
      "Car https://kolesa.kz//a/show/168767476 data written.\n",
      "Car https://kolesa.kz//a/show/168794578 data written.\n",
      "Car https://kolesa.kz//a/show/168793939 data written.\n",
      "Car https://kolesa.kz//a/show/168456256 data written.\n",
      "Car https://kolesa.kz//a/show/168713306 data written.\n",
      "Car https://kolesa.kz//a/show/167653054 data written.\n",
      "Car https://kolesa.kz//a/show/167828619 data written.\n",
      "Car https://kolesa.kz//a/show/168590071 data written.\n",
      "Car https://kolesa.kz//a/show/159855942 data written.\n",
      "Car https://kolesa.kz//a/show/168649005 data written.\n",
      "Car https://kolesa.kz//a/show/165737750 data written.\n",
      "Car https://kolesa.kz//a/show/167846201 data written.\n",
      "Car https://kolesa.kz//a/show/159503800 data written.\n",
      "Car https://kolesa.kz//a/show/168661360 data written.\n",
      "Car https://kolesa.kz//a/show/168871213 data written.\n"
     ]
    },
    {
     "name": "stderr",
     "output_type": "stream",
     "text": [
      "  6%|▌         | 22/400 [28:26<8:11:20, 77.99s/it]"
     ]
    },
    {
     "name": "stdout",
     "output_type": "stream",
     "text": [
      "Car https://kolesa.kz//a/show/168872674 data written.\n",
      "23\n",
      "iteration 23, finish\n",
      "Car https://kolesa.kz//a/show/168202355 data written.\n",
      "Car https://kolesa.kz//a/show/166927729 data written.\n",
      "Car https://kolesa.kz//a/show/168808375 data written.\n",
      "Car https://kolesa.kz//a/show/168872674 data written.\n",
      "Car https://kolesa.kz//a/show/168872898 data written.\n",
      "Car https://kolesa.kz//a/show/124159058 data written.\n",
      "Car https://kolesa.kz//a/show/168705110 data written.\n",
      "Car https://kolesa.kz//a/show/166220125 data written.\n",
      "Car https://kolesa.kz//a/show/167829825 data written.\n",
      "Car https://kolesa.kz//a/show/168214735 data written.\n",
      "Car https://kolesa.kz//a/show/168199300 data written.\n",
      "Car https://kolesa.kz//a/show/167681079 data written.\n",
      "Car https://kolesa.kz//a/show/168627120 data written.\n",
      "Car https://kolesa.kz//a/show/168596515 data written.\n",
      "Car https://kolesa.kz//a/show/153322117 data written.\n",
      "Car https://kolesa.kz//a/show/167736657 data written.\n",
      "Car https://kolesa.kz//a/show/167527473 data written.\n",
      "Car https://kolesa.kz//a/show/168871710 data written.\n",
      "Car https://kolesa.kz//a/show/168378543 data written.\n",
      "Car https://kolesa.kz//a/show/168646869 data written.\n",
      "Car https://kolesa.kz//a/show/168519367 data written.\n",
      "Car https://kolesa.kz//a/show/162342225 data written.\n"
     ]
    },
    {
     "name": "stderr",
     "output_type": "stream",
     "text": [
      "  6%|▌         | 23/400 [29:42<8:06:33, 77.44s/it]"
     ]
    },
    {
     "name": "stdout",
     "output_type": "stream",
     "text": [
      "Car https://kolesa.kz//a/show/168368932 data written.\n",
      "23\n",
      "iteration 24, finish\n",
      "Car https://kolesa.kz//a/show/168580436 data written.\n",
      "Car https://kolesa.kz//a/show/141823050 data written.\n",
      "Car https://kolesa.kz//a/show/168784989 data written.\n",
      "Car https://kolesa.kz//a/show/168432000 data written.\n",
      "Car https://kolesa.kz//a/show/166947739 data written.\n",
      "Car https://kolesa.kz//a/show/168431985 data written.\n",
      "Car https://kolesa.kz//a/show/167157670 data written.\n",
      "Car https://kolesa.kz//a/show/168520624 data written.\n",
      "Car https://kolesa.kz//a/show/124194021 data written.\n",
      "Car https://kolesa.kz//a/show/164065673 data written.\n",
      "Car https://kolesa.kz//a/show/168872264 data written.\n",
      "Car https://kolesa.kz//a/show/168872549 data written.\n",
      "Car https://kolesa.kz//a/show/168872585 data written.\n",
      "Car https://kolesa.kz//a/show/161709366 data written.\n",
      "Car https://kolesa.kz//a/show/168872184 data written.\n",
      "Car https://kolesa.kz//a/show/165533595 data written.\n",
      "Car https://kolesa.kz//a/show/168492030 data written.\n",
      "Car https://kolesa.kz//a/show/167250222 data written.\n",
      "Car https://kolesa.kz//a/show/168161374 data written.\n",
      "Car https://kolesa.kz//a/show/167935085 data written.\n",
      "Car https://kolesa.kz//a/show/167947541 data written.\n",
      "Car https://kolesa.kz//a/show/168872426 data written.\n"
     ]
    },
    {
     "name": "stderr",
     "output_type": "stream",
     "text": [
      "  6%|▌         | 24/400 [31:01<8:08:32, 77.96s/it]"
     ]
    },
    {
     "name": "stdout",
     "output_type": "stream",
     "text": [
      "Car https://kolesa.kz//a/show/168871302 data written.\n",
      "23\n",
      "iteration 25, finish\n",
      "Car https://kolesa.kz//a/show/168490698 data written.\n",
      "Car https://kolesa.kz//a/show/167610630 data written.\n",
      "Car https://kolesa.kz//a/show/163303470 data written.\n",
      "Car https://kolesa.kz//a/show/166853964 data written.\n",
      "Car https://kolesa.kz//a/show/168872381 data written.\n",
      "Car https://kolesa.kz//a/show/168852668 data written.\n",
      "Car https://kolesa.kz//a/show/168733671 data written.\n",
      "Car https://kolesa.kz//a/show/167725368 data written.\n",
      "Car https://kolesa.kz//a/show/168872128 data written.\n",
      "Car https://kolesa.kz//a/show/168686488 data written.\n",
      "Car https://kolesa.kz//a/show/168658940 data written.\n",
      "Car https://kolesa.kz//a/show/165071574 data written.\n",
      "Car https://kolesa.kz//a/show/166864154 data written.\n",
      "Car https://kolesa.kz//a/show/167384384 data written.\n",
      "Car https://kolesa.kz//a/show/163478543 data written.\n",
      "Car https://kolesa.kz//a/show/168153643 data written.\n",
      "Car https://kolesa.kz//a/show/168872028 data written.\n",
      "Car https://kolesa.kz//a/show/168872042 data written.\n",
      "Car https://kolesa.kz//a/show/168872309 data written.\n",
      "Car https://kolesa.kz//a/show/168872274 data written.\n",
      "Car https://kolesa.kz//a/show/156235294 data written.\n",
      "Car https://kolesa.kz//a/show/168188158 data written.\n"
     ]
    },
    {
     "name": "stderr",
     "output_type": "stream",
     "text": [
      "  6%|▋         | 25/400 [32:17<8:03:18, 77.33s/it]"
     ]
    },
    {
     "name": "stdout",
     "output_type": "stream",
     "text": [
      "Car https://kolesa.kz//a/show/154068822 data written.\n",
      "23\n",
      "iteration 26, finish\n",
      "Car https://kolesa.kz//a/show/168845001 data written.\n",
      "Car https://kolesa.kz//a/show/167566665 data written.\n",
      "Car https://kolesa.kz//a/show/168248346 data written.\n",
      "Car https://kolesa.kz//a/show/168645500 data written.\n",
      "Car https://kolesa.kz//a/show/168634625 data written.\n",
      "Car https://kolesa.kz//a/show/159527344 data written.\n",
      "Car https://kolesa.kz//a/show/168655296 data written.\n",
      "Car https://kolesa.kz//a/show/162574881 data written.\n",
      "Car https://kolesa.kz//a/show/168713486 data written.\n",
      "Car https://kolesa.kz//a/show/151730158 data written.\n",
      "Car https://kolesa.kz//a/show/168599730 data written.\n",
      "Car https://kolesa.kz//a/show/166535514 data written.\n",
      "Car https://kolesa.kz//a/show/165972395 data written.\n",
      "Car https://kolesa.kz//a/show/166158940 data written.\n",
      "Car https://kolesa.kz//a/show/165730666 data written.\n",
      "Car https://kolesa.kz//a/show/168872066 data written.\n",
      "Car https://kolesa.kz//a/show/166322654 data written.\n",
      "Car https://kolesa.kz//a/show/168870446 data written.\n",
      "Car https://kolesa.kz//a/show/168726438 data written.\n",
      "Car https://kolesa.kz//a/show/168871800 data written.\n",
      "Car https://kolesa.kz//a/show/168329049 data written.\n",
      "Car https://kolesa.kz//a/show/168549805 data written.\n"
     ]
    },
    {
     "name": "stderr",
     "output_type": "stream",
     "text": [
      "  6%|▋         | 26/400 [33:34<8:00:43, 77.12s/it]"
     ]
    },
    {
     "name": "stdout",
     "output_type": "stream",
     "text": [
      "Car https://kolesa.kz//a/show/165688409 data written.\n",
      "23\n",
      "iteration 27, finish\n",
      "Car https://kolesa.kz//a/show/168356458 data written.\n",
      "Car https://kolesa.kz//a/show/163063243 data written.\n",
      "Car https://kolesa.kz//a/show/168527636 data written.\n",
      "Car https://kolesa.kz//a/show/168000053 data written.\n",
      "Car https://kolesa.kz//a/show/164455033 data written.\n",
      "Car https://kolesa.kz//a/show/168830303 data written.\n",
      "Car https://kolesa.kz//a/show/168828426 data written.\n",
      "Car https://kolesa.kz//a/show/168545482 data written.\n",
      "Car https://kolesa.kz//a/show/168822189 data written.\n",
      "Car https://kolesa.kz//a/show/168532625 data written.\n",
      "Car https://kolesa.kz//a/show/168527036 data written.\n",
      "Car https://kolesa.kz//a/show/167154914 data written.\n",
      "Car https://kolesa.kz//a/show/163855812 data written.\n",
      "Car https://kolesa.kz//a/show/168514317 data written.\n",
      "Car https://kolesa.kz//a/show/168511215 data written.\n",
      "Car https://kolesa.kz//a/show/168206972 data written.\n",
      "Car https://kolesa.kz//a/show/168501799 data written.\n",
      "Car https://kolesa.kz//a/show/168818538 data written.\n",
      "Car https://kolesa.kz//a/show/168440136 data written.\n",
      "Car https://kolesa.kz//a/show/164804254 data written.\n",
      "Car https://kolesa.kz//a/show/168813367 data written.\n",
      "Car https://kolesa.kz//a/show/168433675 data written.\n"
     ]
    },
    {
     "name": "stderr",
     "output_type": "stream",
     "text": [
      "  7%|▋         | 27/400 [34:49<7:55:47, 76.53s/it]"
     ]
    },
    {
     "name": "stdout",
     "output_type": "stream",
     "text": [
      "Car https://kolesa.kz//a/show/168799662 data written.\n",
      "23\n",
      "iteration 28, finish\n",
      "Car https://kolesa.kz//a/show/168856068 data written.\n",
      "Car https://kolesa.kz//a/show/168101076 data written.\n",
      "Car https://kolesa.kz//a/show/165792841 data written.\n",
      "Car https://kolesa.kz//a/show/168787906 data written.\n",
      "Car https://kolesa.kz//a/show/161877507 data written.\n",
      "Car https://kolesa.kz//a/show/168771752 data written.\n",
      "Car https://kolesa.kz//a/show/168696099 data written.\n",
      "Car https://kolesa.kz//a/show/164894817 data written.\n",
      "Car https://kolesa.kz//a/show/159589759 data written.\n",
      "Car https://kolesa.kz//a/show/167738572 data written.\n",
      "Car https://kolesa.kz//a/show/168457907 data written.\n",
      "Car https://kolesa.kz//a/show/168662068 data written.\n",
      "Car https://kolesa.kz//a/show/162966052 data written.\n",
      "Car https://kolesa.kz//a/show/168457131 data written.\n",
      "Car https://kolesa.kz//a/show/163196290 data written.\n",
      "Car https://kolesa.kz//a/show/168760420 data written.\n",
      "Car https://kolesa.kz//a/show/168449949 data written.\n",
      "Car https://kolesa.kz//a/show/168750379 data written.\n",
      "Car https://kolesa.kz//a/show/166566470 data written.\n",
      "Car https://kolesa.kz//a/show/168421322 data written.\n",
      "Car https://kolesa.kz//a/show/168427849 data written.\n",
      "Car https://kolesa.kz//a/show/168426113 data written.\n"
     ]
    },
    {
     "name": "stderr",
     "output_type": "stream",
     "text": [
      "  7%|▋         | 28/400 [36:05<7:54:05, 76.47s/it]"
     ]
    },
    {
     "name": "stdout",
     "output_type": "stream",
     "text": [
      "Car https://kolesa.kz//a/show/168647543 data written.\n",
      "23\n",
      "iteration 29, finish\n",
      "Car https://kolesa.kz//a/show/168009594 data written.\n",
      "Car https://kolesa.kz//a/show/161419565 data written.\n",
      "Car https://kolesa.kz//a/show/168738004 data written.\n",
      "Car https://kolesa.kz//a/show/168421322 data written.\n",
      "Car https://kolesa.kz//a/show/168427849 data written.\n",
      "Car https://kolesa.kz//a/show/168426113 data written.\n",
      "Car https://kolesa.kz//a/show/168647543 data written.\n",
      "Car https://kolesa.kz//a/show/168409263 data written.\n",
      "Car https://kolesa.kz//a/show/164900119 data written.\n",
      "Car https://kolesa.kz//a/show/168395637 data written.\n",
      "Car https://kolesa.kz//a/show/168394463 data written.\n",
      "Car https://kolesa.kz//a/show/166407608 data written.\n",
      "Car https://kolesa.kz//a/show/168167104 data written.\n",
      "Car https://kolesa.kz//a/show/167274362 data written.\n",
      "Car https://kolesa.kz//a/show/168386678 data written.\n",
      "Car https://kolesa.kz//a/show/168379222 data written.\n",
      "Car https://kolesa.kz//a/show/168375949 data written.\n",
      "Car https://kolesa.kz//a/show/168194237 data written.\n",
      "Car https://kolesa.kz//a/show/168712182 data written.\n",
      "Car https://kolesa.kz//a/show/168370558 data written.\n",
      "Car https://kolesa.kz//a/show/164883824 data written.\n",
      "Car https://kolesa.kz//a/show/168354075 data written.\n"
     ]
    },
    {
     "name": "stderr",
     "output_type": "stream",
     "text": [
      "  7%|▋         | 29/400 [37:23<7:54:34, 76.75s/it]"
     ]
    },
    {
     "name": "stdout",
     "output_type": "stream",
     "text": [
      "Car https://kolesa.kz//a/show/168707999 data written.\n",
      "23\n",
      "iteration 30, finish\n",
      "Car https://kolesa.kz//a/show/167256471 data written.\n",
      "Car https://kolesa.kz//a/show/168544129 data written.\n",
      "Car https://kolesa.kz//a/show/168603066 data written.\n",
      "Car https://kolesa.kz//a/show/168707999 data written.\n",
      "Car https://kolesa.kz//a/show/167926689 data written.\n",
      "Car https://kolesa.kz//a/show/168288454 data written.\n",
      "Car https://kolesa.kz//a/show/162919178 data written.\n",
      "Car https://kolesa.kz//a/show/168310669 data written.\n",
      "Car https://kolesa.kz//a/show/168344931 data written.\n",
      "Car https://kolesa.kz//a/show/165145879 data written.\n",
      "Car https://kolesa.kz//a/show/168102470 data written.\n",
      "Car https://kolesa.kz//a/show/116406056 data written.\n",
      "Car https://kolesa.kz//a/show/168333917 data written.\n",
      "Car https://kolesa.kz//a/show/165567153 data written.\n",
      "Car https://kolesa.kz//a/show/168311869 data written.\n",
      "Car https://kolesa.kz//a/show/168684316 data written.\n",
      "Car https://kolesa.kz//a/show/168577028 data written.\n",
      "Car https://kolesa.kz//a/show/168683262 data written.\n",
      "Car https://kolesa.kz//a/show/168044987 data written.\n",
      "Car https://kolesa.kz//a/show/167548399 data written.\n",
      "Car https://kolesa.kz//a/show/168272419 data written.\n",
      "Car https://kolesa.kz//a/show/168660170 data written.\n"
     ]
    },
    {
     "name": "stderr",
     "output_type": "stream",
     "text": [
      "  8%|▊         | 30/400 [38:40<7:54:44, 76.98s/it]"
     ]
    },
    {
     "name": "stdout",
     "output_type": "stream",
     "text": [
      "Car https://kolesa.kz//a/show/168154634 data written.\n",
      "23\n",
      "iteration 31, finish\n",
      "Car https://kolesa.kz//a/show/167744201 data written.\n",
      "Car https://kolesa.kz//a/show/167871081 data written.\n",
      "Car https://kolesa.kz//a/show/168340077 data written.\n",
      "Car https://kolesa.kz//a/show/168486296 data written.\n",
      "Car https://kolesa.kz//a/show/168262207 data written.\n",
      "Car https://kolesa.kz//a/show/167425819 data written.\n",
      "Car https://kolesa.kz//a/show/168147851 data written.\n",
      "Car https://kolesa.kz//a/show/168212882 data written.\n",
      "Car https://kolesa.kz//a/show/168210721 data written.\n",
      "Car https://kolesa.kz//a/show/168653399 data written.\n",
      "Car https://kolesa.kz//a/show/147512416 data written.\n",
      "Car https://kolesa.kz//a/show/168642687 data written.\n",
      "Car https://kolesa.kz//a/show/166204052 data written.\n",
      "Car https://kolesa.kz//a/show/167675090 data written.\n",
      "Car https://kolesa.kz//a/show/167354506 data written.\n",
      "Car https://kolesa.kz//a/show/168171037 data written.\n",
      "Car https://kolesa.kz//a/show/168135740 data written.\n",
      "Car https://kolesa.kz//a/show/168044033 data written.\n",
      "Car https://kolesa.kz//a/show/167593955 data written.\n",
      "Car https://kolesa.kz//a/show/168124717 data written.\n",
      "Car https://kolesa.kz//a/show/168608981 data written.\n",
      "Car https://kolesa.kz//a/show/166104176 data written.\n"
     ]
    },
    {
     "name": "stderr",
     "output_type": "stream",
     "text": [
      "  8%|▊         | 31/400 [39:56<7:52:16, 76.79s/it]"
     ]
    },
    {
     "name": "stdout",
     "output_type": "stream",
     "text": [
      "Car https://kolesa.kz//a/show/168858886 data written.\n",
      "23\n",
      "iteration 32, finish\n",
      "Car https://kolesa.kz//a/show/168594416 data written.\n",
      "Car https://kolesa.kz//a/show/161839406 data written.\n",
      "Car https://kolesa.kz//a/show/168417975 data written.\n",
      "Car https://kolesa.kz//a/show/168166815 data written.\n",
      "Car https://kolesa.kz//a/show/166651468 data written.\n",
      "Car https://kolesa.kz//a/show/164477311 data written.\n",
      "Car https://kolesa.kz//a/show/168622347 data written.\n",
      "Car https://kolesa.kz//a/show/168111758 data written.\n",
      "Car https://kolesa.kz//a/show/168619519 data written.\n",
      "Car https://kolesa.kz//a/show/168622952 data written.\n",
      "Car https://kolesa.kz//a/show/168105895 data written.\n",
      "Car https://kolesa.kz//a/show/168869004 data written.\n",
      "Car https://kolesa.kz//a/show/168011126 data written.\n",
      "Car https://kolesa.kz//a/show/168866940 data written.\n",
      "Car https://kolesa.kz//a/show/168101370 data written.\n",
      "Car https://kolesa.kz//a/show/168348629 data written.\n",
      "Car https://kolesa.kz//a/show/168097735 data written.\n",
      "Car https://kolesa.kz//a/show/168854955 data written.\n",
      "Car https://kolesa.kz//a/show/168097694 data written.\n",
      "Car https://kolesa.kz//a/show/168756020 data written.\n",
      "Car https://kolesa.kz//a/show/168257242 data written.\n",
      "Car https://kolesa.kz//a/show/165001389 data written.\n"
     ]
    },
    {
     "name": "stderr",
     "output_type": "stream",
     "text": [
      "  8%|▊         | 32/400 [41:12<7:48:58, 76.46s/it]"
     ]
    },
    {
     "name": "stdout",
     "output_type": "stream",
     "text": [
      "Car https://kolesa.kz//a/show/168863617 data written.\n",
      "23\n",
      "iteration 33, finish\n",
      "Car https://kolesa.kz//a/show/168441015 data written.\n",
      "Car https://kolesa.kz//a/show/165748495 data written.\n",
      "Car https://kolesa.kz//a/show/166839405 data written.\n",
      "Car https://kolesa.kz//a/show/168863160 data written.\n",
      "Car https://kolesa.kz//a/show/167840352 data written.\n",
      "Car https://kolesa.kz//a/show/168600150 data written.\n",
      "Car https://kolesa.kz//a/show/168860106 data written.\n",
      "Car https://kolesa.kz//a/show/167698491 data written.\n",
      "Car https://kolesa.kz//a/show/168859922 data written.\n",
      "Car https://kolesa.kz//a/show/167696559 data written.\n",
      "Car https://kolesa.kz//a/show/168855014 data written.\n",
      "Car https://kolesa.kz//a/show/168592660 data written.\n",
      "Car https://kolesa.kz//a/show/167582228 data written.\n",
      "Car https://kolesa.kz//a/show/168588662 data written.\n",
      "Car https://kolesa.kz//a/show/168586576 data written.\n",
      "Car https://kolesa.kz//a/show/168843771 data written.\n",
      "Car https://kolesa.kz//a/show/168845042 data written.\n",
      "Car https://kolesa.kz//a/show/144865792 data written.\n",
      "Car https://kolesa.kz//a/show/164764846 data written.\n",
      "Car https://kolesa.kz//a/show/168757322?fromUserSearch=1 data written.\n",
      "Car https://kolesa.kz//a/show/168589161?fromUserSearch=1 data written.\n",
      "Car https://kolesa.kz//a/show/168481917?fromUserSearch=1 data written.\n",
      "Car https://kolesa.kz//a/show/168136358?fromUserSearch=1 data written.\n"
     ]
    },
    {
     "name": "stderr",
     "output_type": "stream",
     "text": [
      "  8%|▊         | 33/400 [42:30<7:50:03, 76.85s/it]"
     ]
    },
    {
     "name": "stdout",
     "output_type": "stream",
     "text": [
      "23\n",
      "iteration 34, finish\n",
      "Car https://kolesa.kz//a/show/168785573 data written.\n",
      "Car https://kolesa.kz//a/show/158283069 data written.\n",
      "Car https://kolesa.kz//a/show/168775487 data written.\n",
      "Car https://kolesa.kz//a/show/168136358?fromUserSearch=1 data written.\n",
      "Car https://kolesa.kz//a/show/151659057 data written.\n",
      "Car https://kolesa.kz//a/show/166214384?fromUserSearch=1 data written.\n",
      "Car https://kolesa.kz//a/show/167628063 data written.\n",
      "Car https://kolesa.kz//a/show/168465247 data written.\n",
      "Car https://kolesa.kz//a/show/167284792 data written.\n",
      "Car https://kolesa.kz//a/show/168861582 data written.\n",
      "Car https://kolesa.kz//a/show/168764736 data written.\n",
      "Car https://kolesa.kz//a/show/168789958 data written.\n",
      "Car https://kolesa.kz//a/show/168757689 data written.\n",
      "Car https://kolesa.kz//a/show/167405523?fromUserSearch=1 data written.\n",
      "Car https://kolesa.kz//a/show/166937147?fromUserSearch=1 data written.\n",
      "Car https://kolesa.kz//a/show/165146792?fromUserSearch=1 data written.\n",
      "Car https://kolesa.kz//a/show/165105025?fromUserSearch=1 data written.\n",
      "Car https://kolesa.kz//a/show/168871781 data written.\n",
      "Car https://kolesa.kz//a/show/168139440 data written.\n",
      "Car https://kolesa.kz//a/show/168871512 data written.\n",
      "Car https://kolesa.kz//a/show/168844214 data written.\n",
      "Car https://kolesa.kz//a/show/168841013 data written.\n"
     ]
    },
    {
     "name": "stderr",
     "output_type": "stream",
     "text": [
      "  8%|▊         | 34/400 [43:44<7:42:59, 75.90s/it]"
     ]
    },
    {
     "name": "stdout",
     "output_type": "stream",
     "text": [
      "Car https://kolesa.kz//a/show/168573330 data written.\n",
      "23\n",
      "iteration 35, finish\n",
      "Car https://kolesa.kz//a/show/159363311 data written.\n",
      "Car https://kolesa.kz//a/show/168538486 data written.\n",
      "Car https://kolesa.kz//a/show/164833564 data written.\n",
      "Car https://kolesa.kz//a/show/168573330 data written.\n",
      "Car https://kolesa.kz//a/show/168838585 data written.\n",
      "Car https://kolesa.kz//a/show/168088595 data written.\n",
      "Car https://kolesa.kz//a/show/168808410 data written.\n",
      "Car https://kolesa.kz//a/show/168837275 data written.\n",
      "Car https://kolesa.kz//a/show/168611911 data written.\n",
      "Car https://kolesa.kz//a/show/168565788 data written.\n",
      "Car https://kolesa.kz//a/show/168562571 data written.\n",
      "Car https://kolesa.kz//a/show/168796295 data written.\n",
      "Car https://kolesa.kz//a/show/167112503 data written.\n",
      "Car https://kolesa.kz//a/show/168550434 data written.\n",
      "Car https://kolesa.kz//a/show/168834233 data written.\n",
      "Car https://kolesa.kz//a/show/159190785 data written.\n",
      "Car https://kolesa.kz//a/show/168833709 data written.\n",
      "Car https://kolesa.kz//a/show/168832507 data written.\n",
      "Car https://kolesa.kz//a/show/168543476 data written.\n",
      "Car https://kolesa.kz//a/show/168210480 data written.\n",
      "Car https://kolesa.kz//a/show/156987801 data written.\n",
      "Car https://kolesa.kz//a/show/168830726 data written.\n"
     ]
    },
    {
     "name": "stderr",
     "output_type": "stream",
     "text": [
      "  9%|▉         | 35/400 [45:01<7:44:22, 76.34s/it]"
     ]
    },
    {
     "name": "stdout",
     "output_type": "stream",
     "text": [
      "Car https://kolesa.kz//a/show/168537435 data written.\n",
      "23\n",
      "iteration 36, finish\n",
      "Car https://kolesa.kz//a/show/168808274 data written.\n",
      "Car https://kolesa.kz//a/show/168810578 data written.\n",
      "Car https://kolesa.kz//a/show/167018712 data written.\n",
      "Car https://kolesa.kz//a/show/168829148 data written.\n",
      "Car https://kolesa.kz//a/show/167711790 data written.\n",
      "Car https://kolesa.kz//a/show/168827040 data written.\n",
      "Car https://kolesa.kz//a/show/168532178 data written.\n",
      "Car https://kolesa.kz//a/show/168826783 data written.\n",
      "Car https://kolesa.kz//a/show/168826148 data written.\n",
      "Car https://kolesa.kz//a/show/168525792 data written.\n",
      "Car https://kolesa.kz//a/show/168509205 data written.\n",
      "Car https://kolesa.kz//a/show/168508038 data written.\n",
      "Car https://kolesa.kz//a/show/168806378 data written.\n",
      "Car https://kolesa.kz//a/show/166794166 data written.\n",
      "Car https://kolesa.kz//a/show/168819558 data written.\n",
      "Car https://kolesa.kz//a/show/164890301 data written.\n",
      "Car https://kolesa.kz//a/show/168818875 data written.\n",
      "Car https://kolesa.kz//a/show/168815256 data written.\n",
      "Car https://kolesa.kz//a/show/168806313 data written.\n",
      "Car https://kolesa.kz//a/show/168804070 data written.\n",
      "Car https://kolesa.kz//a/show/168803002 data written.\n",
      "Car https://kolesa.kz//a/show/168796136 data written.\n"
     ]
    },
    {
     "name": "stderr",
     "output_type": "stream",
     "text": [
      "  9%|▉         | 36/400 [46:12<7:32:56, 74.66s/it]"
     ]
    },
    {
     "name": "stdout",
     "output_type": "stream",
     "text": [
      "Car https://kolesa.kz//a/show/164960626 data written.\n",
      "23\n",
      "iteration 37, finish\n",
      "Car https://kolesa.kz//a/show/166526805 data written.\n",
      "Car https://kolesa.kz//a/show/168246474 data written.\n",
      "Car https://kolesa.kz//a/show/168027099 data written.\n",
      "Car https://kolesa.kz//a/show/168796136 data written.\n",
      "Car https://kolesa.kz//a/show/164960626 data written.\n",
      "Car https://kolesa.kz//a/show/157742245 data written.\n",
      "Car https://kolesa.kz//a/show/165478403 data written.\n",
      "Car https://kolesa.kz//a/show/168784581 data written.\n",
      "Car https://kolesa.kz//a/show/168783603 data written.\n",
      "Car https://kolesa.kz//a/show/168783743 data written.\n",
      "Car https://kolesa.kz//a/show/168285575 data written.\n",
      "Car https://kolesa.kz//a/show/168781224 data written.\n",
      "Car https://kolesa.kz//a/show/168780031 data written.\n",
      "Car https://kolesa.kz//a/show/166666121 data written.\n",
      "Car https://kolesa.kz//a/show/167972346 data written.\n",
      "Car https://kolesa.kz//a/show/168771534 data written.\n",
      "Car https://kolesa.kz//a/show/162960493 data written.\n",
      "Car https://kolesa.kz//a/show/158602382 data written.\n",
      "Car https://kolesa.kz//a/show/167545566 data written.\n",
      "Car https://kolesa.kz//a/show/168659712 data written.\n",
      "Car https://kolesa.kz//a/show/168489859 data written.\n",
      "Car https://kolesa.kz//a/show/161397515 data written.\n"
     ]
    },
    {
     "name": "stderr",
     "output_type": "stream",
     "text": [
      "  9%|▉         | 37/400 [47:18<7:16:53, 72.21s/it]"
     ]
    },
    {
     "name": "stdout",
     "output_type": "stream",
     "text": [
      "Car https://kolesa.kz//a/show/168487709 data written.\n",
      "23\n",
      "iteration 38, finish\n",
      "Car https://kolesa.kz//a/show/168782669 data written.\n",
      "Car https://kolesa.kz//a/show/159548786 data written.\n",
      "Car https://kolesa.kz//a/show/168738004 data written.\n",
      "Car https://kolesa.kz//a/show/143979941 data written.\n",
      "Car https://kolesa.kz//a/show/168371428 data written.\n",
      "Car https://kolesa.kz//a/show/167404973 data written.\n",
      "Car https://kolesa.kz//a/show/168468409 data written.\n",
      "Car https://kolesa.kz//a/show/167787224 data written.\n",
      "Car https://kolesa.kz//a/show/167800992 data written.\n",
      "Car https://kolesa.kz//a/show/168764616 data written.\n",
      "Car https://kolesa.kz//a/show/168465987 data written.\n",
      "Car https://kolesa.kz//a/show/168097026 data written.\n",
      "Car https://kolesa.kz//a/show/168755369 data written.\n",
      "Car https://kolesa.kz//a/show/167910671 data written.\n",
      "Car https://kolesa.kz//a/show/168752063 data written.\n",
      "Car https://kolesa.kz//a/show/166358048 data written.\n",
      "Car https://kolesa.kz//a/show/168748214 data written.\n",
      "Car https://kolesa.kz//a/show/168746638 data written.\n",
      "Car https://kolesa.kz//a/show/168741308 data written.\n",
      "Car https://kolesa.kz//a/show/168740371 data written.\n",
      "Car https://kolesa.kz//a/show/168427173 data written.\n",
      "Car https://kolesa.kz//a/show/167579995 data written.\n"
     ]
    },
    {
     "name": "stderr",
     "output_type": "stream",
     "text": [
      " 10%|▉         | 38/400 [48:22<7:00:35, 69.71s/it]"
     ]
    },
    {
     "name": "stdout",
     "output_type": "stream",
     "text": [
      "Car https://kolesa.kz//a/show/168738257 data written.\n",
      "23\n",
      "iteration 39, finish\n",
      "Car https://kolesa.kz//a/show/168248346 data written.\n",
      "Car https://kolesa.kz//a/show/168836759 data written.\n",
      "Car https://kolesa.kz//a/show/168677114 data written.\n",
      "Car https://kolesa.kz//a/show/167579995 data written.\n",
      "Car https://kolesa.kz//a/show/168738257 data written.\n",
      "Car https://kolesa.kz//a/show/168734548 data written.\n",
      "Car https://kolesa.kz//a/show/168356967 data written.\n",
      "Car https://kolesa.kz//a/show/168734330 data written.\n",
      "Car https://kolesa.kz//a/show/168392549 data written.\n",
      "Car https://kolesa.kz//a/show/154255163 data written.\n",
      "Car https://kolesa.kz//a/show/168378423 data written.\n",
      "Car https://kolesa.kz//a/show/167899605 data written.\n",
      "Car https://kolesa.kz//a/show/168715841 data written.\n",
      "Car https://kolesa.kz//a/show/158773000 data written.\n",
      "Car https://kolesa.kz//a/show/168370983 data written.\n",
      "Car https://kolesa.kz//a/show/168358587 data written.\n",
      "Car https://kolesa.kz//a/show/168357236 data written.\n",
      "Car https://kolesa.kz//a/show/168540956 data written.\n",
      "Car https://kolesa.kz//a/show/167407909 data written.\n",
      "Car https://kolesa.kz//a/show/168331292 data written.\n",
      "Car https://kolesa.kz//a/show/168713267 data written.\n",
      "Car https://kolesa.kz//a/show/142450920 data written.\n"
     ]
    },
    {
     "name": "stderr",
     "output_type": "stream",
     "text": [
      " 10%|▉         | 39/400 [49:28<6:51:48, 68.44s/it]"
     ]
    },
    {
     "name": "stdout",
     "output_type": "stream",
     "text": [
      "Car https://kolesa.kz//a/show/168713032 data written.\n",
      "23\n",
      "iteration 40, finish\n",
      "Car https://kolesa.kz//a/show/168310204 data written.\n",
      "Car https://kolesa.kz//a/show/166927729 data written.\n",
      "Car https://kolesa.kz//a/show/168737391 data written.\n",
      "Car https://kolesa.kz//a/show/168713032 data written.\n",
      "Car https://kolesa.kz//a/show/168327358 data written.\n",
      "Car https://kolesa.kz//a/show/168317994 data written.\n",
      "Car https://kolesa.kz//a/show/166400689 data written.\n",
      "Car https://kolesa.kz//a/show/168314561 data written.\n",
      "Car https://kolesa.kz//a/show/168309941 data written.\n",
      "Car https://kolesa.kz//a/show/168068562 data written.\n",
      "Car https://kolesa.kz//a/show/168018587 data written.\n",
      "Car https://kolesa.kz//a/show/168690511 data written.\n",
      "Car https://kolesa.kz//a/show/167970172 data written.\n",
      "Car https://kolesa.kz//a/show/168684715 data written.\n",
      "Car https://kolesa.kz//a/show/168681689 data written.\n",
      "Car https://kolesa.kz//a/show/166157971 data written.\n",
      "Car https://kolesa.kz//a/show/168264601 data written.\n",
      "Car https://kolesa.kz//a/show/168258719 data written.\n",
      "Car https://kolesa.kz//a/show/168256821 data written.\n",
      "Car https://kolesa.kz//a/show/168235260 data written.\n",
      "Car https://kolesa.kz//a/show/168225637 data written.\n",
      "Car https://kolesa.kz//a/show/168435945 data written.\n"
     ]
    },
    {
     "name": "stderr",
     "output_type": "stream",
     "text": [
      " 10%|█         | 40/400 [50:32<6:44:15, 67.38s/it]"
     ]
    },
    {
     "name": "stdout",
     "output_type": "stream",
     "text": [
      "Car https://kolesa.kz//a/show/168223602 data written.\n",
      "23\n",
      "iteration 41, finish\n",
      "Car https://kolesa.kz//a/show/168710244 data written.\n",
      "Car https://kolesa.kz//a/show/168358827 data written.\n",
      "Car https://kolesa.kz//a/show/168441264 data written.\n",
      "Car https://kolesa.kz//a/show/168812213?fromUserSearch=1 data written.\n",
      "Car https://kolesa.kz//a/show/157781497 data written.\n",
      "Car https://kolesa.kz//a/show/168221726 data written.\n",
      "Car https://kolesa.kz//a/show/167984379 data written.\n",
      "Car https://kolesa.kz//a/show/168505505 data written.\n",
      "Car https://kolesa.kz//a/show/168668597 data written.\n",
      "Car https://kolesa.kz//a/show/168215791 data written.\n",
      "Car https://kolesa.kz//a/show/159372891 data written.\n",
      "Car https://kolesa.kz//a/show/168666328 data written.\n",
      "Car https://kolesa.kz//a/show/168665016 data written.\n",
      "Car https://kolesa.kz//a/show/168869924 data written.\n",
      "Car https://kolesa.kz//a/show/168181838 data written.\n",
      "Car https://kolesa.kz//a/show/168863898 data written.\n",
      "Car https://kolesa.kz//a/show/168194645 data written.\n",
      "Car https://kolesa.kz//a/show/168869465 data written.\n",
      "Car https://kolesa.kz//a/show/168199470 data written.\n",
      "Car https://kolesa.kz//a/show/168198330 data written.\n",
      "Car https://kolesa.kz//a/show/168869130 data written.\n",
      "Car https://kolesa.kz//a/show/168197136 data written.\n"
     ]
    },
    {
     "name": "stderr",
     "output_type": "stream",
     "text": [
      " 10%|█         | 41/400 [51:38<6:39:15, 66.73s/it]"
     ]
    },
    {
     "name": "stdout",
     "output_type": "stream",
     "text": [
      "Car https://kolesa.kz//a/show/168869576 data written.\n",
      "23\n",
      "iteration 42, finish\n",
      "Car https://kolesa.kz//a/show/168471037 data written.\n",
      "Car https://kolesa.kz//a/show/168518332 data written.\n",
      "Car https://kolesa.kz//a/show/168490880 data written.\n",
      "Car https://kolesa.kz//a/show/168189142 data written.\n",
      "Car https://kolesa.kz//a/show/154452770 data written.\n",
      "Car https://kolesa.kz//a/show/168869553 data written.\n",
      "Car https://kolesa.kz//a/show/168554743 data written.\n",
      "Car https://kolesa.kz//a/show/167654734 data written.\n",
      "Car https://kolesa.kz//a/show/167776672 data written.\n",
      "Car https://kolesa.kz//a/show/168646915 data written.\n",
      "Car https://kolesa.kz//a/show/168867924 data written.\n",
      "Car https://kolesa.kz//a/show/165989612 data written.\n",
      "Car https://kolesa.kz//a/show/168866944 data written.\n",
      "Car https://kolesa.kz//a/show/168166836 data written.\n",
      "Car https://kolesa.kz//a/show/168409155 data written.\n",
      "Car https://kolesa.kz//a/show/168238487 data written.\n",
      "Car https://kolesa.kz//a/show/162019613 data written.\n",
      "Car https://kolesa.kz//a/show/168864036 data written.\n",
      "Car https://kolesa.kz//a/show/168861893 data written.\n",
      "Car https://kolesa.kz//a/show/168628938 data written.\n",
      "Car https://kolesa.kz//a/show/168153458 data written.\n",
      "Car https://kolesa.kz//a/show/168131329 data written.\n"
     ]
    },
    {
     "name": "stderr",
     "output_type": "stream",
     "text": [
      " 10%|█         | 42/400 [52:42<6:34:43, 66.16s/it]"
     ]
    },
    {
     "name": "stdout",
     "output_type": "stream",
     "text": [
      "Car https://kolesa.kz//a/show/168860504 data written.\n",
      "23\n",
      "iteration 43, finish\n",
      "Car https://kolesa.kz//a/show/159332488 data written.\n",
      "Car https://kolesa.kz//a/show/168831743 data written.\n",
      "Car https://kolesa.kz//a/show/168521341 data written.\n",
      "Car https://kolesa.kz//a/show/166947956 data written.\n",
      "Car https://kolesa.kz//a/show/168859282 data written.\n",
      "Car https://kolesa.kz//a/show/168590705 data written.\n",
      "Car https://kolesa.kz//a/show/168859171 data written.\n",
      "Car https://kolesa.kz//a/show/168855457 data written.\n",
      "Car https://kolesa.kz//a/show/168619801 data written.\n",
      "Car https://kolesa.kz//a/show/168731036 data written.\n",
      "Car https://kolesa.kz//a/show/168854910 data written.\n",
      "Car https://kolesa.kz//a/show/167440461 data written.\n",
      "Car https://kolesa.kz//a/show/168602288 data written.\n",
      "Car https://kolesa.kz//a/show/168710299 data written.\n",
      "Car https://kolesa.kz//a/show/168084883 data written.\n",
      "Car https://kolesa.kz//a/show/168494377 data written.\n",
      "Car https://kolesa.kz//a/show/167578673 data written.\n",
      "Car https://kolesa.kz//a/show/168593294 data written.\n",
      "Car https://kolesa.kz//a/show/168852788 data written.\n",
      "Car https://kolesa.kz//a/show/168061702 data written.\n",
      "Car https://kolesa.kz//a/show/167106622 data written.\n",
      "Car https://kolesa.kz//a/show/168589465 data written.\n"
     ]
    },
    {
     "name": "stderr",
     "output_type": "stream",
     "text": [
      " 11%|█         | 43/400 [53:47<6:30:23, 65.61s/it]"
     ]
    },
    {
     "name": "stdout",
     "output_type": "stream",
     "text": [
      "Car https://kolesa.kz//a/show/168851295 data written.\n",
      "23\n",
      "iteration 44, finish\n",
      "Car https://kolesa.kz//a/show/167018712 data written.\n",
      "Car https://kolesa.kz//a/show/167181557 data written.\n",
      "Car https://kolesa.kz//a/show/168806336 data written.\n",
      "Car https://kolesa.kz//a/show/168588730 data written.\n",
      "Car https://kolesa.kz//a/show/168813501 data written.\n",
      "Car https://kolesa.kz//a/show/168579829 data written.\n",
      "Car https://kolesa.kz//a/show/168848802 data written.\n",
      "Car https://kolesa.kz//a/show/167803908 data written.\n",
      "Car https://kolesa.kz//a/show/165363330 data written.\n",
      "Car https://kolesa.kz//a/show/168847349 data written.\n",
      "Car https://kolesa.kz//a/show/168573991 data written.\n",
      "Car https://kolesa.kz//a/show/168757988 data written.\n",
      "Car https://kolesa.kz//a/show/168661609 data written.\n",
      "Car https://kolesa.kz//a/show/168871676 data written.\n",
      "Car https://kolesa.kz//a/show/168870952 data written.\n",
      "Car https://kolesa.kz//a/show/168695909 data written.\n",
      "Car https://kolesa.kz//a/show/156816715 data written.\n",
      "Car https://kolesa.kz//a/show/150505065 data written.\n",
      "Car https://kolesa.kz//a/show/163647244 data written.\n",
      "Car https://kolesa.kz//a/show/166997523 data written.\n",
      "Car https://kolesa.kz//a/show/168414693 data written.\n",
      "Car https://kolesa.kz//a/show/168131876 data written.\n"
     ]
    },
    {
     "name": "stderr",
     "output_type": "stream",
     "text": [
      " 11%|█         | 44/400 [54:52<6:28:28, 65.47s/it]"
     ]
    },
    {
     "name": "stdout",
     "output_type": "stream",
     "text": [
      "Car https://kolesa.kz//a/show/165754305 data written.\n",
      "23\n",
      "iteration 45, finish\n",
      "Car https://kolesa.kz//a/show/166066768 data written.\n",
      "Car https://kolesa.kz//a/show/168418878 data written.\n",
      "Car https://kolesa.kz//a/show/168428448 data written.\n",
      "Car https://kolesa.kz//a/show/168870700 data written.\n",
      "Car https://kolesa.kz//a/show/168363578 data written.\n",
      "Car https://kolesa.kz//a/show/159620015 data written.\n",
      "Car https://kolesa.kz//a/show/158903135 data written.\n",
      "Car https://kolesa.kz//a/show/167726910 data written.\n",
      "Car https://kolesa.kz//a/show/168871255 data written.\n",
      "Car https://kolesa.kz//a/show/161999900 data written.\n",
      "Car https://kolesa.kz//a/show/168538906 data written.\n",
      "Car https://kolesa.kz//a/show/163526050 data written.\n",
      "Car https://kolesa.kz//a/show/168530412 data written.\n",
      "Car https://kolesa.kz//a/show/164088908 data written.\n",
      "Car https://kolesa.kz//a/show/167675662 data written.\n",
      "Car https://kolesa.kz//a/show/151110251 data written.\n",
      "Car https://kolesa.kz//a/show/166217426 data written.\n",
      "Car https://kolesa.kz//a/show/168506217 data written.\n",
      "Car https://kolesa.kz//a/show/166784615 data written.\n",
      "Car https://kolesa.kz//a/show/168042381 data written.\n",
      "Car https://kolesa.kz//a/show/168141989 data written.\n",
      "Car https://kolesa.kz//a/show/168694957 data written.\n"
     ]
    },
    {
     "name": "stderr",
     "output_type": "stream",
     "text": [
      " 11%|█▏        | 45/400 [55:56<6:25:40, 65.18s/it]"
     ]
    },
    {
     "name": "stdout",
     "output_type": "stream",
     "text": [
      "Car https://kolesa.kz//a/show/167856296 data written.\n",
      "23\n",
      "iteration 46, finish\n",
      "Car https://kolesa.kz//a/show/165184889 data written.\n",
      "Car https://kolesa.kz//a/show/167782652 data written.\n",
      "Car https://kolesa.kz//a/show/168371851 data written.\n",
      "Car https://kolesa.kz//a/show/167856296 data written.\n",
      "Car https://kolesa.kz//a/show/168600745 data written.\n",
      "Car https://kolesa.kz//a/show/168765943 data written.\n",
      "Car https://kolesa.kz//a/show/167678692 data written.\n",
      "Car https://kolesa.kz//a/show/168574473 data written.\n",
      "Car https://kolesa.kz//a/show/168758502 data written.\n",
      "Car https://kolesa.kz//a/show/166795617 data written.\n",
      "Car https://kolesa.kz//a/show/168747516 data written.\n",
      "Car https://kolesa.kz//a/show/168742794 data written.\n",
      "Car https://kolesa.kz//a/show/168698020 data written.\n",
      "Car https://kolesa.kz//a/show/167054283 data written.\n",
      "Car https://kolesa.kz//a/show/165438407 data written.\n",
      "Car https://kolesa.kz//a/show/168737747 data written.\n",
      "Car https://kolesa.kz//a/show/161628300 data written.\n",
      "Car https://kolesa.kz//a/show/167566930 data written.\n",
      "Car https://kolesa.kz//a/show/168393355 data written.\n",
      "Car https://kolesa.kz//a/show/168869566 data written.\n",
      "Car https://kolesa.kz//a/show/168868964 data written.\n",
      "Car https://kolesa.kz//a/show/168477465 data written.\n"
     ]
    },
    {
     "name": "stderr",
     "output_type": "stream",
     "text": [
      " 12%|█▏        | 46/400 [57:02<6:24:22, 65.15s/it]"
     ]
    },
    {
     "name": "stdout",
     "output_type": "stream",
     "text": [
      "Car https://kolesa.kz//a/show/168869313 data written.\n",
      "23\n",
      "iteration 47, finish\n",
      "Car https://kolesa.kz//a/show/168551371 data written.\n",
      "Car https://kolesa.kz//a/show/168349903 data written.\n",
      "Car https://kolesa.kz//a/show/168745940 data written.\n",
      "Car https://kolesa.kz//a/show/168869313 data written.\n",
      "Car https://kolesa.kz//a/show/167452461 data written.\n",
      "Car https://kolesa.kz//a/show/168869043 data written.\n",
      "Car https://kolesa.kz//a/show/168470116 data written.\n",
      "Car https://kolesa.kz//a/show/167507996 data written.\n",
      "Car https://kolesa.kz//a/show/168869251 data written.\n",
      "Car https://kolesa.kz//a/show/168440168 data written.\n",
      "Car https://kolesa.kz//a/show/168869129 data written.\n",
      "Car https://kolesa.kz//a/show/168844720 data written.\n",
      "Car https://kolesa.kz//a/show/168707113 data written.\n",
      "Car https://kolesa.kz//a/show/168868125 data written.\n",
      "Car https://kolesa.kz//a/show/168425886 data written.\n",
      "Car https://kolesa.kz//a/show/168867479 data written.\n",
      "Car https://kolesa.kz//a/show/167216076 data written.\n",
      "Car https://kolesa.kz//a/show/168431336 data written.\n",
      "Car https://kolesa.kz//a/show/168412199 data written.\n",
      "Car https://kolesa.kz//a/show/168866792 data written.\n",
      "Car https://kolesa.kz//a/show/168713461 data written.\n",
      "Car https://kolesa.kz//a/show/168406681 data written.\n"
     ]
    },
    {
     "name": "stderr",
     "output_type": "stream",
     "text": [
      " 12%|█▏        | 47/400 [58:06<6:22:15, 64.97s/it]"
     ]
    },
    {
     "name": "stdout",
     "output_type": "stream",
     "text": [
      "Car https://kolesa.kz//a/show/168709837 data written.\n",
      "23\n",
      "iteration 48, finish\n",
      "Car https://kolesa.kz//a/show/168566453 data written.\n",
      "Car https://kolesa.kz//a/show/162062444 data written.\n",
      "Car https://kolesa.kz//a/show/168356458 data written.\n",
      "Car https://kolesa.kz//a/show/167538497 data written.\n",
      "Car https://kolesa.kz//a/show/168865197 data written.\n",
      "Car https://kolesa.kz//a/show/168703947 data written.\n",
      "Car https://kolesa.kz//a/show/168864887 data written.\n",
      "Car https://kolesa.kz//a/show/168088797 data written.\n",
      "Car https://kolesa.kz//a/show/168863495 data written.\n",
      "Car https://kolesa.kz//a/show/168700922 data written.\n",
      "Car https://kolesa.kz//a/show/168356178 data written.\n",
      "Car https://kolesa.kz//a/show/162237412 data written.\n",
      "Car https://kolesa.kz//a/show/168699633 data written.\n",
      "Car https://kolesa.kz//a/show/167412709 data written.\n",
      "Car https://kolesa.kz//a/show/168858970 data written.\n",
      "Car https://kolesa.kz//a/show/168390158 data written.\n",
      "Car https://kolesa.kz//a/show/168856831 data written.\n",
      "Car https://kolesa.kz//a/show/162566745 data written.\n",
      "Car https://kolesa.kz//a/show/168856366 data written.\n",
      "Car https://kolesa.kz//a/show/168692592 data written.\n",
      "Car https://kolesa.kz//a/show/165443316 data written.\n",
      "Car https://kolesa.kz//a/show/168366386 data written.\n"
     ]
    },
    {
     "name": "stderr",
     "output_type": "stream",
     "text": [
      " 12%|█▏        | 48/400 [59:11<6:20:15, 64.82s/it]"
     ]
    },
    {
     "name": "stdout",
     "output_type": "stream",
     "text": [
      "Car https://kolesa.kz//a/show/167929428 data written.\n",
      "23\n",
      "iteration 49, finish\n",
      "Car https://kolesa.kz//a/show/166526805 data written.\n",
      "Car https://kolesa.kz//a/show/168254493 data written.\n",
      "Car https://kolesa.kz//a/show/157042119 data written.\n",
      "Car https://kolesa.kz//a/show/168687020 data written.\n",
      "Car https://kolesa.kz//a/show/168852691 data written.\n",
      "Car https://kolesa.kz//a/show/168847645 data written.\n",
      "Car https://kolesa.kz//a/show/165083042 data written.\n",
      "Car https://kolesa.kz//a/show/168249416 data written.\n",
      "Car https://kolesa.kz//a/show/167726406 data written.\n",
      "Car https://kolesa.kz//a/show/168377443 data written.\n",
      "Car https://kolesa.kz//a/show/168678634 data written.\n",
      "Car https://kolesa.kz//a/show/168850367 data written.\n",
      "Car https://kolesa.kz//a/show/168612495 data written.\n",
      "Car https://kolesa.kz//a/show/166794681 data written.\n",
      "Car https://kolesa.kz//a/show/168370301 data written.\n",
      "Car https://kolesa.kz//a/show/168846464 data written.\n",
      "Car https://kolesa.kz//a/show/168606041 data written.\n",
      "Car https://kolesa.kz//a/show/168364497 data written.\n",
      "Car https://kolesa.kz//a/show/168363162 data written.\n",
      "Car https://kolesa.kz//a/show/168357183 data written.\n",
      "Car https://kolesa.kz//a/show/168845408 data written.\n",
      "Car https://kolesa.kz//a/show/152031738 data written.\n"
     ]
    },
    {
     "name": "stderr",
     "output_type": "stream",
     "text": [
      " 12%|█▏        | 49/400 [1:00:18<6:23:44, 65.60s/it]"
     ]
    },
    {
     "name": "stdout",
     "output_type": "stream",
     "text": [
      "Car https://kolesa.kz//a/show/168844222 data written.\n",
      "23\n",
      "iteration 50, finish\n",
      "Car https://kolesa.kz//a/show/168164361 data written.\n",
      "Car https://kolesa.kz//a/show/168475541 data written.\n",
      "Car https://kolesa.kz//a/show/168631568 data written.\n",
      "Car https://kolesa.kz//a/show/166901996 data written.\n",
      "Car https://kolesa.kz//a/show/168844032 data written.\n",
      "Car https://kolesa.kz//a/show/168594166 data written.\n",
      "Car https://kolesa.kz//a/show/168324619 data written.\n",
      "Car https://kolesa.kz//a/show/168658182 data written.\n",
      "Car https://kolesa.kz//a/show/167816026 data written.\n",
      "Car https://kolesa.kz//a/show/167545274 data written.\n",
      "Car https://kolesa.kz//a/show/168526940 data written.\n",
      "Car https://kolesa.kz//a/show/161175375 data written.\n",
      "Car https://kolesa.kz//a/show/168324394 data written.\n",
      "Car https://kolesa.kz//a/show/168579750 data written.\n",
      "Car https://kolesa.kz//a/show/168650438 data written.\n",
      "Car https://kolesa.kz//a/show/162187879 data written.\n",
      "Car https://kolesa.kz//a/show/168287101 data written.\n",
      "Car https://kolesa.kz//a/show/168316635 data written.\n",
      "Car https://kolesa.kz//a/show/168641983 data written.\n",
      "Car https://kolesa.kz//a/show/168424718 data written.\n",
      "Car https://kolesa.kz//a/show/168830745 data written.\n",
      "Car https://kolesa.kz//a/show/168305081 data written.\n"
     ]
    },
    {
     "name": "stderr",
     "output_type": "stream",
     "text": [
      " 12%|█▎        | 50/400 [1:01:23<6:21:26, 65.39s/it]"
     ]
    },
    {
     "name": "stdout",
     "output_type": "stream",
     "text": [
      "Car https://kolesa.kz//a/show/168828989 data written.\n",
      "23\n",
      "iteration 51, finish\n",
      "Car https://kolesa.kz//a/show/165398404 data written.\n",
      "Car https://kolesa.kz//a/show/168783026 data written.\n",
      "Car https://kolesa.kz//a/show/168808274 data written.\n",
      "Car https://kolesa.kz//a/show/168828496 data written.\n",
      "Car https://kolesa.kz//a/show/168638669 data written.\n",
      "Car https://kolesa.kz//a/show/163030613 data written.\n",
      "Car https://kolesa.kz//a/show/168302796?fromUserSearch=1 data written.\n",
      "Car https://kolesa.kz//a/show/168636757 data written.\n",
      "Car https://kolesa.kz//a/show/168591655 data written.\n",
      "Car https://kolesa.kz//a/show/168635718 data written.\n",
      "Car https://kolesa.kz//a/show/164110078 data written.\n",
      "Car https://kolesa.kz//a/show/168631604 data written.\n",
      "Car https://kolesa.kz//a/show/168164350 data written.\n",
      "Car https://kolesa.kz//a/show/168629911 data written.\n",
      "Car https://kolesa.kz//a/show/167332451 data written.\n",
      "Car https://kolesa.kz//a/show/168278665 data written.\n",
      "Car https://kolesa.kz//a/show/167275469 data written.\n",
      "Car https://kolesa.kz//a/show/168626973 data written.\n",
      "Car https://kolesa.kz//a/show/166988186 data written.\n",
      "Car https://kolesa.kz//a/show/167814568 data written.\n",
      "Car https://kolesa.kz//a/show/168265733 data written.\n",
      "Car https://kolesa.kz//a/show/168125534 data written.\n"
     ]
    },
    {
     "name": "stderr",
     "output_type": "stream",
     "text": [
      " 13%|█▎        | 51/400 [1:02:28<6:20:16, 65.38s/it]"
     ]
    },
    {
     "name": "stdout",
     "output_type": "stream",
     "text": [
      "Car https://kolesa.kz//a/show/147364122 data written.\n",
      "23\n",
      "iteration 52, finish\n",
      "Car https://kolesa.kz//a/show/168645982 data written.\n",
      "Car https://kolesa.kz//a/show/168000114 data written.\n",
      "Car https://kolesa.kz//a/show/167493187 data written.\n",
      "Car https://kolesa.kz//a/show/165594699 data written.\n",
      "Car https://kolesa.kz//a/show/158164725 data written.\n",
      "Car https://kolesa.kz//a/show/164967532 data written.\n",
      "Car https://kolesa.kz//a/show/168181700 data written.\n",
      "Car https://kolesa.kz//a/show/166529244 data written.\n",
      "Car https://kolesa.kz//a/show/168812742 data written.\n",
      "Car https://kolesa.kz//a/show/166262695 data written.\n",
      "Car https://kolesa.kz//a/show/168207395 data written.\n",
      "Car https://kolesa.kz//a/show/168809560 data written.\n",
      "Car https://kolesa.kz//a/show/168809307 data written.\n",
      "Car https://kolesa.kz//a/show/167262924 data written.\n",
      "Car https://kolesa.kz//a/show/168202128 data written.\n",
      "Car https://kolesa.kz//a/show/166351374 data written.\n",
      "Car https://kolesa.kz//a/show/168807773 data written.\n",
      "Car https://kolesa.kz//a/show/164170597 data written.\n",
      "Car https://kolesa.kz//a/show/168807084 data written.\n",
      "Car https://kolesa.kz//a/show/168805257 data written.\n",
      "Car https://kolesa.kz//a/show/168798275 data written.\n",
      "Car https://kolesa.kz//a/show/168610354 data written.\n"
     ]
    },
    {
     "name": "stderr",
     "output_type": "stream",
     "text": [
      " 13%|█▎        | 52/400 [1:03:35<6:22:14, 65.90s/it]"
     ]
    },
    {
     "name": "stdout",
     "output_type": "stream",
     "text": [
      "Car https://kolesa.kz//a/show/168192624 data written.\n",
      "23\n",
      "iteration 53, finish\n",
      "Car https://kolesa.kz//a/show/168566453 data written.\n",
      "Car https://kolesa.kz//a/show/168746206 data written.\n",
      "Car https://kolesa.kz//a/show/168544129 data written.\n",
      "Car https://kolesa.kz//a/show/168795410 data written.\n",
      "Car https://kolesa.kz//a/show/168609207 data written.\n",
      "Car https://kolesa.kz//a/show/168188192 data written.\n",
      "Car https://kolesa.kz//a/show/159869449 data written.\n",
      "Car https://kolesa.kz//a/show/168791520 data written.\n",
      "Car https://kolesa.kz//a/show/168143834 data written.\n",
      "Car https://kolesa.kz//a/show/168180177 data written.\n",
      "Car https://kolesa.kz//a/show/157862681 data written.\n",
      "Car https://kolesa.kz//a/show/168596334 data written.\n",
      "Car https://kolesa.kz//a/show/168791321 data written.\n",
      "Car https://kolesa.kz//a/show/161399816 data written.\n",
      "Car https://kolesa.kz//a/show/165791347 data written.\n",
      "Car https://kolesa.kz//a/show/168588986 data written.\n",
      "Car https://kolesa.kz//a/show/166764070 data written.\n",
      "Car https://kolesa.kz//a/show/168150167 data written.\n",
      "Car https://kolesa.kz//a/show/168583617 data written.\n",
      "Car https://kolesa.kz//a/show/168142703 data written.\n",
      "Car https://kolesa.kz//a/show/158865995 data written.\n",
      "Car https://kolesa.kz//a/show/168121597 data written.\n"
     ]
    },
    {
     "name": "stderr",
     "output_type": "stream",
     "text": [
      " 13%|█▎        | 53/400 [1:04:40<6:19:45, 65.66s/it]"
     ]
    },
    {
     "name": "stdout",
     "output_type": "stream",
     "text": [
      "Car https://kolesa.kz//a/show/168574318 data written.\n",
      "23\n",
      "iteration 54, finish\n",
      "Car https://kolesa.kz//a/show/165659024 data written.\n",
      "Car https://kolesa.kz//a/show/145619996 data written.\n",
      "Car https://kolesa.kz//a/show/163380929 data written.\n",
      "Car https://kolesa.kz//a/show/168121163 data written.\n",
      "Car https://kolesa.kz//a/show/168573697 data written.\n",
      "Car https://kolesa.kz//a/show/168121416 data written.\n",
      "Car https://kolesa.kz//a/show/167561902 data written.\n",
      "Car https://kolesa.kz//a/show/168384158 data written.\n",
      "Car https://kolesa.kz//a/show/168567583 data written.\n",
      "Car https://kolesa.kz//a/show/157735772 data written.\n",
      "Car https://kolesa.kz//a/show/168102280 data written.\n",
      "Car https://kolesa.kz//a/show/168094204 data written.\n",
      "Car https://kolesa.kz//a/show/168566748 data written.\n",
      "Car https://kolesa.kz//a/show/168567486 data written.\n",
      "Car https://kolesa.kz//a/show/160086451 data written.\n",
      "Car https://kolesa.kz//a/show/167221092 data written.\n",
      "Car https://kolesa.kz//a/show/167567434 data written.\n",
      "Car https://kolesa.kz//a/show/167865932 data written.\n",
      "Car https://kolesa.kz//a/show/167310593 data written.\n",
      "Car https://kolesa.kz//a/show/168758201 data written.\n",
      "Car https://kolesa.kz//a/show/166932721 data written.\n",
      "Car https://kolesa.kz//a/show/166702081 data written.\n"
     ]
    },
    {
     "name": "stderr",
     "output_type": "stream",
     "text": [
      " 14%|█▎        | 54/400 [1:05:47<6:19:56, 65.89s/it]"
     ]
    },
    {
     "name": "stdout",
     "output_type": "stream",
     "text": [
      "Car https://kolesa.kz//a/show/168445021 data written.\n",
      "23\n",
      "iteration 55, finish\n",
      "Car https://kolesa.kz//a/show/167018712 data written.\n",
      "Car https://kolesa.kz//a/show/167485897 data written.\n",
      "Car https://kolesa.kz//a/show/168655342 data written.\n",
      "Car https://kolesa.kz//a/show/168668054 data written.\n",
      "Car https://kolesa.kz//a/show/168871007 data written.\n",
      "Car https://kolesa.kz//a/show/168647788 data written.\n",
      "Car https://kolesa.kz//a/show/168467245 data written.\n",
      "Car https://kolesa.kz//a/show/166576366 data written.\n",
      "Car https://kolesa.kz//a/show/157126057 data written.\n",
      "Car https://kolesa.kz//a/show/168871140 data written.\n",
      "Car https://kolesa.kz//a/show/168869154 data written.\n",
      "Car https://kolesa.kz//a/show/168870381 data written.\n",
      "Car https://kolesa.kz//a/show/166993222 data written.\n",
      "Car https://kolesa.kz//a/show/166332407 data written.\n",
      "Car https://kolesa.kz//a/show/168217274 data written.\n",
      "Car https://kolesa.kz//a/show/161763309 data written.\n",
      "Car https://kolesa.kz//a/show/168681634 data written.\n",
      "Car https://kolesa.kz//a/show/159938513 data written.\n",
      "Car https://kolesa.kz//a/show/168871002 data written.\n",
      "Car https://kolesa.kz//a/show/168712704 data written.\n",
      "Car https://kolesa.kz//a/show/168870795 data written.\n",
      "Car https://kolesa.kz//a/show/166363305 data written.\n"
     ]
    },
    {
     "name": "stderr",
     "output_type": "stream",
     "text": [
      " 14%|█▍        | 55/400 [1:06:51<6:16:24, 65.46s/it]"
     ]
    },
    {
     "name": "stdout",
     "output_type": "stream",
     "text": [
      "Car https://kolesa.kz//a/show/168800787 data written.\n",
      "23\n",
      "iteration 56, finish\n",
      "Car https://kolesa.kz//a/show/168818400 data written.\n",
      "Car https://kolesa.kz//a/show/168759857 data written.\n",
      "Car https://kolesa.kz//a/show/168659504 data written.\n",
      "Car https://kolesa.kz//a/show/166363305 data written.\n",
      "Car https://kolesa.kz//a/show/168800787 data written.\n",
      "Car https://kolesa.kz//a/show/133326988 data written.\n",
      "Car https://kolesa.kz//a/show/168440127 data written.\n",
      "Car https://kolesa.kz//a/show/168533365 data written.\n",
      "Car https://kolesa.kz//a/show/168531666 data written.\n",
      "Car https://kolesa.kz//a/show/168530433 data written.\n",
      "Car https://kolesa.kz//a/show/168527655 data written.\n",
      "Car https://kolesa.kz//a/show/165971986 data written.\n",
      "Car https://kolesa.kz//a/show/168871133 data written.\n",
      "Car https://kolesa.kz//a/show/168517438 data written.\n",
      "Car https://kolesa.kz//a/show/117573910 data written.\n",
      "Car https://kolesa.kz//a/show/168501835 data written.\n",
      "Car https://kolesa.kz//a/show/168788896 data written.\n",
      "Car https://kolesa.kz//a/show/168637675 data written.\n",
      "Car https://kolesa.kz//a/show/168726013 data written.\n",
      "Car https://kolesa.kz//a/show/168781095 data written.\n",
      "Car https://kolesa.kz//a/show/168781180 data written.\n",
      "Car https://kolesa.kz//a/show/168779685 data written.\n"
     ]
    },
    {
     "name": "stderr",
     "output_type": "stream",
     "text": [
      " 14%|█▍        | 56/400 [1:07:57<6:15:20, 65.47s/it]"
     ]
    },
    {
     "name": "stdout",
     "output_type": "stream",
     "text": [
      "Car https://kolesa.kz//a/show/168773818 data written.\n",
      "23\n",
      "iteration 57, finish\n",
      "Car https://kolesa.kz//a/show/168631568 data written.\n",
      "Car https://kolesa.kz//a/show/164234011 data written.\n",
      "Car https://kolesa.kz//a/show/167872941 data written.\n",
      "Car https://kolesa.kz//a/show/164013116 data written.\n",
      "Car https://kolesa.kz//a/show/164938091 data written.\n",
      "Car https://kolesa.kz//a/show/168596624 data written.\n",
      "Car https://kolesa.kz//a/show/168579884 data written.\n",
      "Car https://kolesa.kz//a/show/163336943 data written.\n",
      "Car https://kolesa.kz//a/show/168609188 data written.\n",
      "Car https://kolesa.kz//a/show/167614992 data written.\n",
      "Car https://kolesa.kz//a/show/168144612 data written.\n",
      "Car https://kolesa.kz//a/show/152152354 data written.\n",
      "Car https://kolesa.kz//a/show/168486545 data written.\n",
      "Car https://kolesa.kz//a/show/168484738 data written.\n",
      "Car https://kolesa.kz//a/show/167468717 data written.\n",
      "Car https://kolesa.kz//a/show/168483272 data written.\n",
      "Car https://kolesa.kz//a/show/154455979 data written.\n",
      "Car https://kolesa.kz//a/show/168473761 data written.\n",
      "Car https://kolesa.kz//a/show/168758626 data written.\n",
      "Car https://kolesa.kz//a/show/168474124 data written.\n",
      "Car https://kolesa.kz//a/show/168757521 data written.\n",
      "Car https://kolesa.kz//a/show/167243645 data written.\n"
     ]
    },
    {
     "name": "stderr",
     "output_type": "stream",
     "text": [
      " 14%|█▍        | 57/400 [1:09:02<6:13:50, 65.39s/it]"
     ]
    },
    {
     "name": "stdout",
     "output_type": "stream",
     "text": [
      "Car https://kolesa.kz//a/show/168084788 data written.\n",
      "23\n",
      "iteration 58, finish\n",
      "Car https://kolesa.kz//a/show/165418650 data written.\n",
      "Car https://kolesa.kz//a/show/165855649 data written.\n",
      "Car https://kolesa.kz//a/show/168518332 data written.\n",
      "Car https://kolesa.kz//a/show/168084788 data written.\n",
      "Car https://kolesa.kz//a/show/168749037 data written.\n",
      "Car https://kolesa.kz//a/show/168374616 data written.\n",
      "Car https://kolesa.kz//a/show/168746831 data written.\n",
      "Car https://kolesa.kz//a/show/160961202 data written.\n",
      "Car https://kolesa.kz//a/show/166441116 data written.\n",
      "Car https://kolesa.kz//a/show/164613967 data written.\n",
      "Car https://kolesa.kz//a/show/168268838 data written.\n",
      "Car https://kolesa.kz//a/show/168444559 data written.\n",
      "Car https://kolesa.kz//a/show/168431276 data written.\n",
      "Car https://kolesa.kz//a/show/168187993 data written.\n",
      "Car https://kolesa.kz//a/show/168188488 data written.\n",
      "Car https://kolesa.kz//a/show/167495184 data written.\n",
      "Car https://kolesa.kz//a/show/168733289 data written.\n",
      "Car https://kolesa.kz//a/show/168423141 data written.\n",
      "Car https://kolesa.kz//a/show/166212805 data written.\n",
      "Car https://kolesa.kz//a/show/167262813 data written.\n",
      "Car https://kolesa.kz//a/show/166633834 data written.\n",
      "Car https://kolesa.kz//a/show/168416234 data written.\n"
     ]
    },
    {
     "name": "stderr",
     "output_type": "stream",
     "text": [
      " 14%|█▍        | 58/400 [1:10:08<6:13:17, 65.49s/it]"
     ]
    },
    {
     "name": "stdout",
     "output_type": "stream",
     "text": [
      "Car https://kolesa.kz//a/show/168869456 data written.\n",
      "23\n",
      "iteration 59, finish\n",
      "Car https://kolesa.kz//a/show/167955786 data written.\n",
      "Car https://kolesa.kz//a/show/168246474 data written.\n",
      "Car https://kolesa.kz//a/show/168771869 data written.\n",
      "Car https://kolesa.kz//a/show/168416234 data written.\n",
      "Car https://kolesa.kz//a/show/168869456 data written.\n",
      "Car https://kolesa.kz//a/show/168869299 data written.\n",
      "Car https://kolesa.kz//a/show/168136754 data written.\n",
      "Car https://kolesa.kz//a/show/148595896 data written.\n",
      "Car https://kolesa.kz//a/show/168397821 data written.\n",
      "Car https://kolesa.kz//a/show/140392158 data written.\n",
      "Car https://kolesa.kz//a/show/167607599 data written.\n",
      "Car https://kolesa.kz//a/show/168868582 data written.\n",
      "Car https://kolesa.kz//a/show/166680039 data written.\n",
      "Car https://kolesa.kz//a/show/168869107 data written.\n",
      "Car https://kolesa.kz//a/show/168860375 data written.\n",
      "Car https://kolesa.kz//a/show/168391883 data written.\n",
      "Car https://kolesa.kz//a/show/168717265 data written.\n",
      "Car https://kolesa.kz//a/show/168868063 data written.\n",
      "Car https://kolesa.kz//a/show/168390453 data written.\n",
      "Car https://kolesa.kz//a/show/168714857 data written.\n",
      "Car https://kolesa.kz//a/show/168495181 data written.\n",
      "Car https://kolesa.kz//a/show/168385628 data written.\n"
     ]
    },
    {
     "name": "stderr",
     "output_type": "stream",
     "text": [
      " 15%|█▍        | 59/400 [1:11:18<6:20:43, 66.99s/it]"
     ]
    },
    {
     "name": "stdout",
     "output_type": "stream",
     "text": [
      "Car https://kolesa.kz//a/show/166700842 data written.\n",
      "23\n",
      "iteration 60, finish\n",
      "Car https://kolesa.kz//a/show/168712588 data written.\n",
      "Car https://kolesa.kz//a/show/168482271 data written.\n",
      "Car https://kolesa.kz//a/show/168781705 data written.\n",
      "Car https://kolesa.kz//a/show/168186057 data written.\n",
      "Car https://kolesa.kz//a/show/165333344 data written.\n",
      "Car https://kolesa.kz//a/show/168704123 data written.\n",
      "Car https://kolesa.kz//a/show/168862921 data written.\n",
      "Car https://kolesa.kz//a/show/168621690 data written.\n",
      "Car https://kolesa.kz//a/show/162205279 data written.\n",
      "Car https://kolesa.kz//a/show/168862048 data written.\n",
      "Car https://kolesa.kz//a/show/168615516 data written.\n",
      "Car https://kolesa.kz//a/show/167581892 data written.\n",
      "Car https://kolesa.kz//a/show/164333188 data written.\n",
      "Car https://kolesa.kz//a/show/168684422 data written.\n",
      "Car https://kolesa.kz//a/show/168859521 data written.\n",
      "Car https://kolesa.kz//a/show/166153267 data written.\n",
      "Car https://kolesa.kz//a/show/168857738 data written.\n",
      "Car https://kolesa.kz//a/show/168354051 data written.\n",
      "Car https://kolesa.kz//a/show/168855526 data written.\n",
      "Car https://kolesa.kz//a/show/167813051 data written.\n",
      "Car https://kolesa.kz//a/show/168351395 data written.\n",
      "Car https://kolesa.kz//a/show/168834255 data written.\n"
     ]
    },
    {
     "name": "stderr",
     "output_type": "stream",
     "text": [
      " 15%|█▌        | 60/400 [1:12:24<6:18:09, 66.73s/it]"
     ]
    },
    {
     "name": "stdout",
     "output_type": "stream",
     "text": [
      "Car https://kolesa.kz//a/show/168676082 data written.\n",
      "23\n",
      "iteration 61, finish\n",
      "Car https://kolesa.kz//a/show/168009594 data written.\n",
      "Car https://kolesa.kz//a/show/168388899 data written.\n",
      "Car https://kolesa.kz//a/show/157131801 data written.\n",
      "Car https://kolesa.kz//a/show/168037206 data written.\n",
      "Car https://kolesa.kz//a/show/168850444 data written.\n",
      "Car https://kolesa.kz//a/show/168676983 data written.\n",
      "Car https://kolesa.kz//a/show/168384392 data written.\n",
      "Car https://kolesa.kz//a/show/168612980 data written.\n",
      "Car https://kolesa.kz//a/show/168851358 data written.\n",
      "Car https://kolesa.kz//a/show/168222833 data written.\n",
      "Car https://kolesa.kz//a/show/168850961 data written.\n",
      "Car https://kolesa.kz//a/show/168672351 data written.\n",
      "Car https://kolesa.kz//a/show/168851336 data written.\n",
      "Car https://kolesa.kz//a/show/168851111 data written.\n",
      "Car https://kolesa.kz//a/show/117146366 data written.\n",
      "Car https://kolesa.kz//a/show/168307465 data written.\n",
      "Car https://kolesa.kz//a/show/160539572 data written.\n",
      "Car https://kolesa.kz//a/show/168317645 data written.\n",
      "Car https://kolesa.kz//a/show/168662352 data written.\n",
      "Car https://kolesa.kz//a/show/167632347 data written.\n",
      "Car https://kolesa.kz//a/show/168849717 data written.\n",
      "Car https://kolesa.kz//a/show/168289737 data written.\n"
     ]
    },
    {
     "name": "stderr",
     "output_type": "stream",
     "text": [
      " 15%|█▌        | 61/400 [1:13:30<6:14:32, 66.29s/it]"
     ]
    },
    {
     "name": "stdout",
     "output_type": "stream",
     "text": [
      "Car https://kolesa.kz//a/show/167398267 data written.\n",
      "23\n",
      "iteration 62, finish\n",
      "Car https://kolesa.kz//a/show/166927729 data written.\n",
      "Car https://kolesa.kz//a/show/167584982 data written.\n",
      "Car https://kolesa.kz//a/show/164716958 data written.\n",
      "Car https://kolesa.kz//a/show/168845544 data written.\n",
      "Car https://kolesa.kz//a/show/168663502 data written.\n",
      "Car https://kolesa.kz//a/show/168844813 data written.\n",
      "Car https://kolesa.kz//a/show/140328391 data written.\n",
      "Car https://kolesa.kz//a/show/162507338 data written.\n",
      "Car https://kolesa.kz//a/show/168417298 data written.\n",
      "Car https://kolesa.kz//a/show/166386450 data written.\n",
      "Car https://kolesa.kz//a/show/168453041 data written.\n",
      "Car https://kolesa.kz//a/show/166331076 data written.\n",
      "Car https://kolesa.kz//a/show/168842021 data written.\n",
      "Car https://kolesa.kz//a/show/167078714 data written.\n",
      "Car https://kolesa.kz//a/show/168256825 data written.\n",
      "Car https://kolesa.kz//a/show/167158994 data written.\n",
      "Car https://kolesa.kz//a/show/168111495 data written.\n",
      "Car https://kolesa.kz//a/show/168243040 data written.\n",
      "Car https://kolesa.kz//a/show/168840802 data written.\n",
      "Car https://kolesa.kz//a/show/160781293 data written.\n",
      "Car https://kolesa.kz//a/show/168522523 data written.\n",
      "Car https://kolesa.kz//a/show/156460474 data written.\n"
     ]
    },
    {
     "name": "stderr",
     "output_type": "stream",
     "text": [
      " 16%|█▌        | 62/400 [1:14:35<6:11:56, 66.03s/it]"
     ]
    },
    {
     "name": "stdout",
     "output_type": "stream",
     "text": [
      "Car https://kolesa.kz//a/show/162869031 data written.\n",
      "23\n",
      "iteration 63, finish\n",
      "Car https://kolesa.kz//a/show/167584982 data written.\n",
      "Car https://kolesa.kz//a/show/168482271 data written.\n",
      "Car https://kolesa.kz//a/show/168538486 data written.\n",
      "Car https://kolesa.kz//a/show/162869031 data written.\n",
      "Car https://kolesa.kz//a/show/159150563 data written.\n",
      "Car https://kolesa.kz//a/show/168435762 data written.\n",
      "Car https://kolesa.kz//a/show/168232400 data written.\n",
      "Car https://kolesa.kz//a/show/168840075 data written.\n",
      "Car https://kolesa.kz//a/show/167260303 data written.\n",
      "Car https://kolesa.kz//a/show/168839311 data written.\n",
      "Car https://kolesa.kz//a/show/168638870 data written.\n",
      "Car https://kolesa.kz//a/show/168210738 data written.\n",
      "Car https://kolesa.kz//a/show/168638743 data written.\n",
      "Car https://kolesa.kz//a/show/168199250 data written.\n",
      "Car https://kolesa.kz//a/show/168834953 data written.\n",
      "Car https://kolesa.kz//a/show/168194185 data written.\n",
      "Car https://kolesa.kz//a/show/168635386 data written.\n",
      "Car https://kolesa.kz//a/show/168837455 data written.\n",
      "Car https://kolesa.kz//a/show/167991374 data written.\n",
      "Car https://kolesa.kz//a/show/168687548 data written.\n",
      "Car https://kolesa.kz//a/show/168185194 data written.\n",
      "Car https://kolesa.kz//a/show/167620693 data written.\n"
     ]
    },
    {
     "name": "stderr",
     "output_type": "stream",
     "text": [
      " 16%|█▌        | 63/400 [1:15:41<6:09:55, 65.86s/it]"
     ]
    },
    {
     "name": "stdout",
     "output_type": "stream",
     "text": [
      "Car https://kolesa.kz//a/show/168834088 data written.\n",
      "23\n",
      "iteration 64, finish\n",
      "Car https://kolesa.kz//a/show/165792841 data written.\n",
      "Car https://kolesa.kz//a/show/167918294 data written.\n",
      "Car https://kolesa.kz//a/show/168709640 data written.\n",
      "Car https://kolesa.kz//a/show/168184670 data written.\n",
      "Car https://kolesa.kz//a/show/168833524 data written.\n",
      "Car https://kolesa.kz//a/show/168582181 data written.\n",
      "Car https://kolesa.kz//a/show/168178160 data written.\n",
      "Car https://kolesa.kz//a/show/168172456 data written.\n",
      "Car https://kolesa.kz//a/show/168654307 data written.\n",
      "Car https://kolesa.kz//a/show/168171255 data written.\n",
      "Car https://kolesa.kz//a/show/168304622 data written.\n",
      "Car https://kolesa.kz//a/show/168001369 data written.\n",
      "Car https://kolesa.kz//a/show/168831356 data written.\n",
      "Car https://kolesa.kz//a/show/168126317 data written.\n",
      "Car https://kolesa.kz//a/show/164428452 data written.\n",
      "Car https://kolesa.kz//a/show/165373509 data written.\n",
      "Car https://kolesa.kz//a/show/168278815 data written.\n",
      "Car https://kolesa.kz//a/show/167631913 data written.\n",
      "Car https://kolesa.kz//a/show/168433794 data written.\n",
      "Car https://kolesa.kz//a/show/168151646 data written.\n",
      "Car https://kolesa.kz//a/show/168828782 data written.\n",
      "Car https://kolesa.kz//a/show/168610146 data written.\n"
     ]
    },
    {
     "name": "stderr",
     "output_type": "stream",
     "text": [
      " 16%|█▌        | 64/400 [1:16:46<6:08:16, 65.76s/it]"
     ]
    },
    {
     "name": "stdout",
     "output_type": "stream",
     "text": [
      "Car https://kolesa.kz//a/show/168150976 data written.\n",
      "23\n",
      "iteration 65, finish\n",
      "Car https://kolesa.kz//a/show/168781705 data written.\n",
      "Car https://kolesa.kz//a/show/165418650 data written.\n",
      "Car https://kolesa.kz//a/show/166099876 data written.\n",
      "Car https://kolesa.kz//a/show/168150976 data written.\n",
      "Car https://kolesa.kz//a/show/168636414 data written.\n",
      "Car https://kolesa.kz//a/show/162797714 data written.\n",
      "Car https://kolesa.kz//a/show/168828179 data written.\n",
      "Car https://kolesa.kz//a/show/168827964 data written.\n",
      "Car https://kolesa.kz//a/show/163459281 data written.\n",
      "Car https://kolesa.kz//a/show/168826643 data written.\n",
      "Car https://kolesa.kz//a/show/168825733 data written.\n",
      "Car https://kolesa.kz//a/show/168824661 data written.\n",
      "Car https://kolesa.kz//a/show/168823581 data written.\n",
      "Car https://kolesa.kz//a/show/168170505 data written.\n",
      "Car https://kolesa.kz//a/show/167576777 data written.\n",
      "Car https://kolesa.kz//a/show/167919261 data written.\n",
      "Car https://kolesa.kz//a/show/167833112 data written.\n",
      "Car https://kolesa.kz//a/show/168820796 data written.\n",
      "Car https://kolesa.kz//a/show/168580316 data written.\n",
      "Car https://kolesa.kz//a/show/168039596 data written.\n",
      "Car https://kolesa.kz//a/show/168577731 data written.\n",
      "Car https://kolesa.kz//a/show/168083389 data written.\n"
     ]
    },
    {
     "name": "stderr",
     "output_type": "stream",
     "text": [
      " 16%|█▋        | 65/400 [1:17:52<6:07:10, 65.76s/it]"
     ]
    },
    {
     "name": "stdout",
     "output_type": "stream",
     "text": [
      "Car https://kolesa.kz//a/show/167929097 data written.\n",
      "23\n",
      "iteration 66, finish\n",
      "Car https://kolesa.kz//a/show/168644867 data written.\n",
      "Car https://kolesa.kz//a/show/163812409 data written.\n",
      "Car https://kolesa.kz//a/show/168624896 data written.\n",
      "Car https://kolesa.kz//a/show/168567133 data written.\n",
      "Car https://kolesa.kz//a/show/168565565 data written.\n",
      "Car https://kolesa.kz//a/show/168565091 data written.\n",
      "Car https://kolesa.kz//a/show/166636659 data written.\n",
      "Car https://kolesa.kz//a/show/168819439 data written.\n",
      "Car https://kolesa.kz//a/show/167091258 data written.\n",
      "Car https://kolesa.kz//a/show/168814368 data written.\n",
      "Car https://kolesa.kz//a/show/167376578 data written.\n",
      "Car https://kolesa.kz//a/show/168549027 data written.\n",
      "Car https://kolesa.kz//a/show/168759915 data written.\n",
      "Car https://kolesa.kz//a/show/167355675 data written.\n",
      "Car https://kolesa.kz//a/show/168545492 data written.\n",
      "Car https://kolesa.kz//a/show/167340418 data written.\n",
      "Car https://kolesa.kz//a/show/167339292 data written.\n",
      "Car https://kolesa.kz//a/show/167311095 data written.\n",
      "Car https://kolesa.kz//a/show/167453894 data written.\n",
      "Car https://kolesa.kz//a/show/168177716 data written.\n",
      "Car https://kolesa.kz//a/show/168628979 data written.\n",
      "Car https://kolesa.kz//a/show/168477801 data written.\n"
     ]
    },
    {
     "name": "stderr",
     "output_type": "stream",
     "text": [
      " 16%|█▋        | 66/400 [1:18:58<6:07:10, 65.96s/it]"
     ]
    },
    {
     "name": "stdout",
     "output_type": "stream",
     "text": [
      "Car https://kolesa.kz//a/show/168871049 data written.\n",
      "23\n",
      "iteration 67, finish\n",
      "Car https://kolesa.kz//a/show/167921965 data written.\n",
      "Car https://kolesa.kz//a/show/165542025 data written.\n",
      "Car https://kolesa.kz//a/show/162408328 data written.\n",
      "Car https://kolesa.kz//a/show/168871049 data written.\n",
      "Car https://kolesa.kz//a/show/168870059 data written.\n",
      "Car https://kolesa.kz//a/show/165699536 data written.\n",
      "Car https://kolesa.kz//a/show/168870437 data written.\n",
      "Car https://kolesa.kz//a/show/168768167 data written.\n",
      "Car https://kolesa.kz//a/show/168813214 data written.\n",
      "Car https://kolesa.kz//a/show/168685537 data written.\n",
      "Car https://kolesa.kz//a/show/165643527 data written.\n",
      "Car https://kolesa.kz//a/show/168540096 data written.\n",
      "Car https://kolesa.kz//a/show/168538985 data written.\n",
      "Car https://kolesa.kz//a/show/168532476 data written.\n",
      "Car https://kolesa.kz//a/show/168522265 data written.\n",
      "Car https://kolesa.kz//a/show/168522003 data written.\n",
      "Car https://kolesa.kz//a/show/168516640 data written.\n",
      "Car https://kolesa.kz//a/show/168515168 data written.\n",
      "Car https://kolesa.kz//a/show/168216191 data written.\n",
      "Car https://kolesa.kz//a/show/160814837 data written.\n",
      "Car https://kolesa.kz//a/show/167399894 data written.\n",
      "Car https://kolesa.kz//a/show/168511087 data written.\n"
     ]
    },
    {
     "name": "stderr",
     "output_type": "stream",
     "text": [
      " 17%|█▋        | 67/400 [1:20:04<6:05:54, 65.93s/it]"
     ]
    },
    {
     "name": "stdout",
     "output_type": "stream",
     "text": [
      "Car https://kolesa.kz//a/show/168705104 data written.\n",
      "23\n",
      "iteration 68, finish\n",
      "Car https://kolesa.kz//a/show/168828544 data written.\n",
      "Car https://kolesa.kz//a/show/167673370 data written.\n",
      "Car https://kolesa.kz//a/show/168388899 data written.\n",
      "Car https://kolesa.kz//a/show/168705104 data written.\n",
      "Car https://kolesa.kz//a/show/168787221 data written.\n",
      "Car https://kolesa.kz//a/show/165984888 data written.\n",
      "Car https://kolesa.kz//a/show/162262336 data written.\n",
      "Car https://kolesa.kz//a/show/168783366 data written.\n",
      "Car https://kolesa.kz//a/show/168778015 data written.\n",
      "Car https://kolesa.kz//a/show/145754005 data written.\n",
      "Car https://kolesa.kz//a/show/168493376 data written.\n",
      "Car https://kolesa.kz//a/show/167770744 data written.\n",
      "Car https://kolesa.kz//a/show/167122110 data written.\n",
      "Car https://kolesa.kz//a/show/168342507 data written.\n",
      "Car https://kolesa.kz//a/show/168393657 data written.\n",
      "Car https://kolesa.kz//a/show/168609323 data written.\n",
      "Car https://kolesa.kz//a/show/168422023 data written.\n",
      "Car https://kolesa.kz//a/show/151895274 data written.\n",
      "Car https://kolesa.kz//a/show/167848931 data written.\n",
      "Car https://kolesa.kz//a/show/167503570 data written.\n",
      "Car https://kolesa.kz//a/show/168444234 data written.\n",
      "Car https://kolesa.kz//a/show/154157906 data written.\n"
     ]
    },
    {
     "name": "stderr",
     "output_type": "stream",
     "text": [
      " 17%|█▋        | 68/400 [1:21:09<6:03:09, 65.63s/it]"
     ]
    },
    {
     "name": "stdout",
     "output_type": "stream",
     "text": [
      "Car https://kolesa.kz//a/show/168438379 data written.\n",
      "23\n",
      "iteration 69, finish\n",
      "Car https://kolesa.kz//a/show/168376274 data written.\n",
      "Car https://kolesa.kz//a/show/168553254 data written.\n",
      "Car https://kolesa.kz//a/show/160538875 data written.\n",
      "Car https://kolesa.kz//a/show/137385512 data written.\n",
      "Car https://kolesa.kz//a/show/168418139 data written.\n",
      "Car https://kolesa.kz//a/show/168184059 data written.\n",
      "Car https://kolesa.kz//a/show/167960295 data written.\n",
      "Car https://kolesa.kz//a/show/168404077 data written.\n",
      "Car https://kolesa.kz//a/show/168402408 data written.\n",
      "Car https://kolesa.kz//a/show/168269986 data written.\n",
      "Car https://kolesa.kz//a/show/168693137 data written.\n",
      "Car https://kolesa.kz//a/show/168867629 data written.\n",
      "Car https://kolesa.kz//a/show/168292934 data written.\n",
      "Car https://kolesa.kz//a/show/168735091 data written.\n",
      "Car https://kolesa.kz//a/show/167552848 data written.\n",
      "Car https://kolesa.kz//a/show/165669774 data written.\n",
      "Car https://kolesa.kz//a/show/167866607 data written.\n",
      "Car https://kolesa.kz//a/show/168868831 data written.\n",
      "Car https://kolesa.kz//a/show/168648624 data written.\n",
      "Car https://kolesa.kz//a/show/168869047 data written.\n",
      "Car https://kolesa.kz//a/show/168576458 data written.\n",
      "Car https://kolesa.kz//a/show/168868928 data written.\n"
     ]
    },
    {
     "name": "stderr",
     "output_type": "stream",
     "text": [
      " 17%|█▋        | 69/400 [1:22:15<6:01:52, 65.60s/it]"
     ]
    },
    {
     "name": "stdout",
     "output_type": "stream",
     "text": [
      "Car https://kolesa.kz//a/show/168868622 data written.\n",
      "23\n",
      "iteration 70, finish\n",
      "Car https://kolesa.kz//a/show/160938545 data written.\n",
      "Car https://kolesa.kz//a/show/168799021 data written.\n",
      "Car https://kolesa.kz//a/show/168856068 data written.\n",
      "Car https://kolesa.kz//a/show/168363434 data written.\n",
      "Car https://kolesa.kz//a/show/168611728 data written.\n",
      "Car https://kolesa.kz//a/show/168362918 data written.\n",
      "Car https://kolesa.kz//a/show/168361269 data written.\n",
      "Car https://kolesa.kz//a/show/168349831 data written.\n",
      "Car https://kolesa.kz//a/show/168345624 data written.\n",
      "Car https://kolesa.kz//a/show/168710928 data written.\n",
      "Car https://kolesa.kz//a/show/168343444 data written.\n",
      "Car https://kolesa.kz//a/show/167826342 data written.\n",
      "Car https://kolesa.kz//a/show/168552709 data written.\n",
      "Car https://kolesa.kz//a/show/168322708 data written.\n",
      "Car https://kolesa.kz//a/show/168863078 data written.\n",
      "Car https://kolesa.kz//a/show/168862292 data written.\n",
      "Car https://kolesa.kz//a/show/168861282 data written.\n",
      "Car https://kolesa.kz//a/show/168859879 data written.\n",
      "Car https://kolesa.kz//a/show/166916059 data written.\n",
      "Car https://kolesa.kz//a/show/168799618 data written.\n",
      "Car https://kolesa.kz//a/show/168689334 data written.\n",
      "Car https://kolesa.kz//a/show/168859128 data written.\n"
     ]
    },
    {
     "name": "stderr",
     "output_type": "stream",
     "text": [
      " 18%|█▊        | 70/400 [1:23:19<5:59:21, 65.34s/it]"
     ]
    },
    {
     "name": "stdout",
     "output_type": "stream",
     "text": [
      "Car https://kolesa.kz//a/show/168687424 data written.\n",
      "23\n",
      "iteration 71, finish\n",
      "Car https://kolesa.kz//a/show/167872941 data written.\n",
      "Car https://kolesa.kz//a/show/168643496 data written.\n",
      "Car https://kolesa.kz//a/show/165776090 data written.\n",
      "Car https://kolesa.kz//a/show/168266932 data written.\n",
      "Car https://kolesa.kz//a/show/168291555 data written.\n",
      "Car https://kolesa.kz//a/show/168189703 data written.\n",
      "Car https://kolesa.kz//a/show/168852548 data written.\n",
      "Car https://kolesa.kz//a/show/168259300 data written.\n",
      "Car https://kolesa.kz//a/show/168852979 data written.\n",
      "Car https://kolesa.kz//a/show/168257681 data written.\n",
      "Car https://kolesa.kz//a/show/167211181 data written.\n",
      "Car https://kolesa.kz//a/show/168247181 data written.\n",
      "Car https://kolesa.kz//a/show/168852200 data written.\n",
      "Car https://kolesa.kz//a/show/168245288 data written.\n",
      "Car https://kolesa.kz//a/show/165913539 data written.\n",
      "Car https://kolesa.kz//a/show/164822742 data written.\n",
      "Car https://kolesa.kz//a/show/168810778 data written.\n",
      "Car https://kolesa.kz//a/show/168230473 data written.\n",
      "Car https://kolesa.kz//a/show/168499433 data written.\n",
      "Car https://kolesa.kz//a/show/166794729 data written.\n",
      "Car https://kolesa.kz//a/show/158836333 data written.\n",
      "Car https://kolesa.kz//a/show/168683894 data written.\n"
     ]
    },
    {
     "name": "stderr",
     "output_type": "stream",
     "text": [
      " 18%|█▊        | 71/400 [1:24:25<5:58:10, 65.32s/it]"
     ]
    },
    {
     "name": "stdout",
     "output_type": "stream",
     "text": [
      "Car https://kolesa.kz//a/show/168222211 data written.\n",
      "23\n",
      "iteration 72, finish\n",
      "Car https://kolesa.kz//a/show/154835054 data written.\n",
      "Car https://kolesa.kz//a/show/168815107 data written.\n",
      "Car https://kolesa.kz//a/show/168295990 data written.\n",
      "Car https://kolesa.kz//a/show/168222211 data written.\n",
      "Car https://kolesa.kz//a/show/168531981 data written.\n",
      "Car https://kolesa.kz//a/show/166895438 data written.\n",
      "Car https://kolesa.kz//a/show/168843598 data written.\n",
      "Car https://kolesa.kz//a/show/168218280 data written.\n",
      "Car https://kolesa.kz//a/show/168638855 data written.\n",
      "Car https://kolesa.kz//a/show/167557729 data written.\n",
      "Car https://kolesa.kz//a/show/168842562 data written.\n",
      "Car https://kolesa.kz//a/show/168208698 data written.\n",
      "Car https://kolesa.kz//a/show/168778638 data written.\n",
      "Car https://kolesa.kz//a/show/163254427 data written.\n",
      "Car https://kolesa.kz//a/show/168840892 data written.\n",
      "Car https://kolesa.kz//a/show/168429517 data written.\n",
      "Car https://kolesa.kz//a/show/168840138 data written.\n",
      "Car https://kolesa.kz//a/show/156972770 data written.\n",
      "Car https://kolesa.kz//a/show/168667767 data written.\n",
      "Car https://kolesa.kz//a/show/167138700 data written.\n",
      "Car https://kolesa.kz//a/show/168207875 data written.\n",
      "Car https://kolesa.kz//a/show/168667295 data written.\n"
     ]
    },
    {
     "name": "stderr",
     "output_type": "stream",
     "text": [
      " 18%|█▊        | 72/400 [1:25:31<5:58:16, 65.54s/it]"
     ]
    },
    {
     "name": "stdout",
     "output_type": "stream",
     "text": [
      "Car https://kolesa.kz//a/show/163808778 data written.\n",
      "23\n",
      "iteration 73, finish\n",
      "Car https://kolesa.kz//a/show/168472295 data written.\n",
      "Car https://kolesa.kz//a/show/168428448 data written.\n",
      "Car https://kolesa.kz//a/show/166839405 data written.\n",
      "Car https://kolesa.kz//a/show/163808778 data written.\n",
      "Car https://kolesa.kz//a/show/168046455 data written.\n",
      "Car https://kolesa.kz//a/show/164490207 data written.\n",
      "Car https://kolesa.kz//a/show/163206288 data written.\n",
      "Car https://kolesa.kz//a/show/168196242 data written.\n",
      "Car https://kolesa.kz//a/show/168661893 data written.\n",
      "Car https://kolesa.kz//a/show/168194430 data written.\n",
      "Car https://kolesa.kz//a/show/167770655 data written.\n",
      "Car https://kolesa.kz//a/show/168835922 data written.\n",
      "Car https://kolesa.kz//a/show/168836241 data written.\n",
      "Car https://kolesa.kz//a/show/168193008 data written.\n",
      "Car https://kolesa.kz//a/show/168656649 data written.\n",
      "Car https://kolesa.kz//a/show/168834109 data written.\n",
      "Car https://kolesa.kz//a/show/168178473 data written.\n",
      "Car https://kolesa.kz//a/show/168833908 data written.\n",
      "Car https://kolesa.kz//a/show/168178080 data written.\n",
      "Car https://kolesa.kz//a/show/168435428 data written.\n",
      "Car https://kolesa.kz//a/show/167760510 data written.\n",
      "Car https://kolesa.kz//a/show/159275447 data written.\n"
     ]
    },
    {
     "name": "stderr",
     "output_type": "stream",
     "text": [
      " 18%|█▊        | 73/400 [1:26:37<5:58:53, 65.85s/it]"
     ]
    },
    {
     "name": "stdout",
     "output_type": "stream",
     "text": [
      "Car https://kolesa.kz//a/show/168509469 data written.\n",
      "23\n",
      "iteration 74, finish\n",
      "Car https://kolesa.kz//a/show/168811246 data written.\n",
      "Car https://kolesa.kz//a/show/168738004 data written.\n",
      "Car https://kolesa.kz//a/show/168350166 data written.\n",
      "Car https://kolesa.kz//a/show/168509469 data written.\n",
      "Car https://kolesa.kz//a/show/168150271 data written.\n",
      "Car https://kolesa.kz//a/show/168830038 data written.\n",
      "Car https://kolesa.kz//a/show/164567112 data written.\n",
      "Car https://kolesa.kz//a/show/168828610 data written.\n",
      "Car https://kolesa.kz//a/show/168823671 data written.\n",
      "Car https://kolesa.kz//a/show/168823913 data written.\n",
      "Car https://kolesa.kz//a/show/154826265 data written.\n",
      "Car https://kolesa.kz//a/show/167605022 data written.\n",
      "Car https://kolesa.kz//a/show/168656065 data written.\n",
      "Car https://kolesa.kz//a/show/168121356 data written.\n",
      "Car https://kolesa.kz//a/show/168652248 data written.\n",
      "Car https://kolesa.kz//a/show/168820611 data written.\n",
      "Car https://kolesa.kz//a/show/166951451 data written.\n",
      "Car https://kolesa.kz//a/show/164710535 data written.\n",
      "Car https://kolesa.kz//a/show/167966922 data written.\n",
      "Car https://kolesa.kz//a/show/168644812 data written.\n",
      "Car https://kolesa.kz//a/show/168643841 data written.\n",
      "Car https://kolesa.kz//a/show/168627620 data written.\n"
     ]
    },
    {
     "name": "stderr",
     "output_type": "stream",
     "text": [
      " 18%|█▊        | 74/400 [1:27:42<5:56:43, 65.65s/it]"
     ]
    },
    {
     "name": "stdout",
     "output_type": "stream",
     "text": [
      "Car https://kolesa.kz//a/show/168817814 data written.\n",
      "23\n",
      "iteration 75, finish\n",
      "Car https://kolesa.kz//a/show/168586227 data written.\n",
      "Car https://kolesa.kz//a/show/165855649 data written.\n",
      "Car https://kolesa.kz//a/show/167584982 data written.\n",
      "Car https://kolesa.kz//a/show/168627620 data written.\n",
      "Car https://kolesa.kz//a/show/168817814 data written.\n",
      "Car https://kolesa.kz//a/show/168631581 data written.\n",
      "Car https://kolesa.kz//a/show/168417591 data written.\n",
      "Car https://kolesa.kz//a/show/167962094 data written.\n",
      "Car https://kolesa.kz//a/show/167217658 data written.\n",
      "Car https://kolesa.kz//a/show/168291462 data written.\n",
      "Car https://kolesa.kz//a/show/167522976 data written.\n",
      "Car https://kolesa.kz//a/show/167096164 data written.\n",
      "Car https://kolesa.kz//a/show/168795380 data written.\n",
      "Car https://kolesa.kz//a/show/168793043 data written.\n",
      "Car https://kolesa.kz//a/show/167889422 data written.\n",
      "Car https://kolesa.kz//a/show/168624140 data written.\n",
      "Car https://kolesa.kz//a/show/168622909 data written.\n",
      "Car https://kolesa.kz//a/show/162689037 data written.\n",
      "Car https://kolesa.kz//a/show/165881380 data written.\n",
      "Car https://kolesa.kz//a/show/168077580 data written.\n",
      "Car https://kolesa.kz//a/show/166930749 data written.\n",
      "Car https://kolesa.kz//a/show/168038603 data written.\n"
     ]
    },
    {
     "name": "stderr",
     "output_type": "stream",
     "text": [
      " 19%|█▉        | 75/400 [1:28:49<5:56:49, 65.87s/it]"
     ]
    },
    {
     "name": "stdout",
     "output_type": "stream",
     "text": [
      "Car https://kolesa.kz//a/show/168598257 data written.\n",
      "23\n",
      "iteration 76, finish\n",
      "Car https://kolesa.kz//a/show/166294354 data written.\n",
      "Car https://kolesa.kz//a/show/161953904 data written.\n",
      "Car https://kolesa.kz//a/show/168539973 data written.\n",
      "Car https://kolesa.kz//a/show/168593002 data written.\n",
      "Car https://kolesa.kz//a/show/168590278 data written.\n",
      "Car https://kolesa.kz//a/show/168578193 data written.\n",
      "Car https://kolesa.kz//a/show/161536461 data written.\n",
      "Car https://kolesa.kz//a/show/168207757 data written.\n",
      "Car https://kolesa.kz//a/show/168570065 data written.\n",
      "Car https://kolesa.kz//a/show/167356725 data written.\n",
      "Car https://kolesa.kz//a/show/168568378 data written.\n",
      "Car https://kolesa.kz//a/show/167290991 data written.\n",
      "Car https://kolesa.kz//a/show/168812425 data written.\n",
      "Car https://kolesa.kz//a/show/168629343 data written.\n",
      "Car https://kolesa.kz//a/show/168421623 data written.\n",
      "Car https://kolesa.kz//a/show/168127940 data written.\n",
      "Car https://kolesa.kz//a/show/161331874 data written.\n",
      "Car https://kolesa.kz//a/show/157683004 data written.\n",
      "Car https://kolesa.kz//a/show/168870366 data written.\n",
      "Car https://kolesa.kz//a/show/163132006 data written.\n",
      "Car https://kolesa.kz//a/show/168683416 data written.\n",
      "Car https://kolesa.kz//a/show/168536543 data written.\n"
     ]
    },
    {
     "name": "stderr",
     "output_type": "stream",
     "text": [
      " 19%|█▉        | 76/400 [1:29:53<5:53:08, 65.40s/it]"
     ]
    },
    {
     "name": "stdout",
     "output_type": "stream",
     "text": [
      "Car https://kolesa.kz//a/show/168513928 data written.\n",
      "23\n",
      "iteration 77, finish\n",
      "Car https://kolesa.kz//a/show/167766506 data written.\n",
      "Car https://kolesa.kz//a/show/168485678 data written.\n",
      "Car https://kolesa.kz//a/show/166526805 data written.\n",
      "Car https://kolesa.kz//a/show/166886449 data written.\n",
      "Car https://kolesa.kz//a/show/166418937 data written.\n",
      "Car https://kolesa.kz//a/show/168870839 data written.\n",
      "Car https://kolesa.kz//a/show/168417407 data written.\n",
      "Car https://kolesa.kz//a/show/167021614 data written.\n",
      "Car https://kolesa.kz//a/show/165763004 data written.\n",
      "Car https://kolesa.kz//a/show/165460872 data written.\n",
      "Car https://kolesa.kz//a/show/158547166 data written.\n",
      "Car https://kolesa.kz//a/show/168264701 data written.\n",
      "Car https://kolesa.kz//a/show/168870755 data written.\n",
      "Car https://kolesa.kz//a/show/166653427 data written.\n",
      "Car https://kolesa.kz//a/show/168870841 data written.\n",
      "Car https://kolesa.kz//a/show/168626085 data written.\n",
      "Car https://kolesa.kz//a/show/168619900 data written.\n",
      "Car https://kolesa.kz//a/show/168016680 data written.\n",
      "Car https://kolesa.kz//a/show/167853431 data written.\n",
      "Car https://kolesa.kz//a/show/155595858 data written.\n",
      "Car https://kolesa.kz//a/show/168385644 data written.\n",
      "Car https://kolesa.kz//a/show/168091677 data written.\n"
     ]
    },
    {
     "name": "stderr",
     "output_type": "stream",
     "text": [
      " 19%|█▉        | 77/400 [1:30:56<5:48:46, 64.79s/it]"
     ]
    },
    {
     "name": "stdout",
     "output_type": "stream",
     "text": [
      "Car https://kolesa.kz//a/show/168596255 data written.\n",
      "23\n",
      "iteration 78, finish\n",
      "Car https://kolesa.kz//a/show/167236500 data written.\n",
      "Car https://kolesa.kz//a/show/160663151 data written.\n",
      "Car https://kolesa.kz//a/show/167028490 data written.\n",
      "Car https://kolesa.kz//a/show/164885388 data written.\n",
      "Car https://kolesa.kz//a/show/168588528 data written.\n",
      "Car https://kolesa.kz//a/show/166915420 data written.\n",
      "Car https://kolesa.kz//a/show/168411220 data written.\n",
      "Car https://kolesa.kz//a/show/168836982 data written.\n",
      "Car https://kolesa.kz//a/show/168171013 data written.\n",
      "Car https://kolesa.kz//a/show/168817995 data written.\n",
      "Car https://kolesa.kz//a/show/167078368 data written.\n",
      "Car https://kolesa.kz//a/show/168810517 data written.\n",
      "Car https://kolesa.kz//a/show/168832426 data written.\n",
      "Car https://kolesa.kz//a/show/167933840 data written.\n",
      "Car https://kolesa.kz//a/show/166168679 data written.\n",
      "Car https://kolesa.kz//a/show/168541427 data written.\n",
      "Car https://kolesa.kz//a/show/168832556 data written.\n",
      "Car https://kolesa.kz//a/show/168831753 data written.\n",
      "Car https://kolesa.kz//a/show/168472074 data written.\n",
      "Car https://kolesa.kz//a/show/168533721 data written.\n",
      "Car https://kolesa.kz//a/show/168475375 data written.\n",
      "Car https://kolesa.kz//a/show/168333535 data written.\n"
     ]
    },
    {
     "name": "stderr",
     "output_type": "stream",
     "text": [
      " 20%|█▉        | 78/400 [1:32:02<5:48:12, 64.88s/it]"
     ]
    },
    {
     "name": "stdout",
     "output_type": "stream",
     "text": [
      "Car https://kolesa.kz//a/show/168196853 data written.\n",
      "23\n",
      "iteration 79, finish\n",
      "Car https://kolesa.kz//a/show/168486122 data written.\n",
      "Car https://kolesa.kz//a/show/168810578 data written.\n",
      "Car https://kolesa.kz//a/show/168784989 data written.\n",
      "Car https://kolesa.kz//a/show/168826331 data written.\n",
      "Car https://kolesa.kz//a/show/168824876 data written.\n",
      "Car https://kolesa.kz//a/show/168822443 data written.\n",
      "Car https://kolesa.kz//a/show/168821722 data written.\n",
      "Car https://kolesa.kz//a/show/168513703 data written.\n",
      "Car https://kolesa.kz//a/show/168505249 data written.\n",
      "Car https://kolesa.kz//a/show/167735625 data written.\n",
      "Car https://kolesa.kz//a/show/168501527 data written.\n",
      "Car https://kolesa.kz//a/show/168487628 data written.\n",
      "Car https://kolesa.kz//a/show/167108015 data written.\n",
      "Car https://kolesa.kz//a/show/168816469 data written.\n",
      "Car https://kolesa.kz//a/show/168815848 data written.\n",
      "Car https://kolesa.kz//a/show/168815023 data written.\n",
      "Car https://kolesa.kz//a/show/168808893 data written.\n",
      "Car https://kolesa.kz//a/show/168803494 data written.\n",
      "Car https://kolesa.kz//a/show/168480504 data written.\n",
      "Car https://kolesa.kz//a/show/168799375 data written.\n",
      "Car https://kolesa.kz//a/show/168480416 data written.\n",
      "Car https://kolesa.kz//a/show/168798253 data written.\n"
     ]
    },
    {
     "name": "stderr",
     "output_type": "stream",
     "text": [
      " 20%|█▉        | 79/400 [1:33:08<5:49:07, 65.26s/it]"
     ]
    },
    {
     "name": "stdout",
     "output_type": "stream",
     "text": [
      "Car https://kolesa.kz//a/show/168798190 data written.\n",
      "23\n",
      "iteration 80, finish\n",
      "Car https://kolesa.kz//a/show/168756708 data written.\n",
      "Car https://kolesa.kz//a/show/168533438 data written.\n",
      "Car https://kolesa.kz//a/show/168781705 data written.\n",
      "Car https://kolesa.kz//a/show/167937202 data written.\n",
      "Car https://kolesa.kz//a/show/168450735 data written.\n",
      "Car https://kolesa.kz//a/show/168469519 data written.\n",
      "Car https://kolesa.kz//a/show/168434921 data written.\n",
      "Car https://kolesa.kz//a/show/164439940 data written.\n",
      "Car https://kolesa.kz//a/show/168462462 data written.\n",
      "Car https://kolesa.kz//a/show/168448805 data written.\n",
      "Car https://kolesa.kz//a/show/168394550 data written.\n",
      "Car https://kolesa.kz//a/show/168445895 data written.\n",
      "Car https://kolesa.kz//a/show/165353032 data written.\n",
      "Car https://kolesa.kz//a/show/168354995 data written.\n",
      "Car https://kolesa.kz//a/show/168783630 data written.\n",
      "Car https://kolesa.kz//a/show/168782693 data written.\n",
      "Car https://kolesa.kz//a/show/168780394 data written.\n",
      "Car https://kolesa.kz//a/show/167776112 data written.\n",
      "Car https://kolesa.kz//a/show/168418626 data written.\n",
      "Car https://kolesa.kz//a/show/168775312 data written.\n",
      "Car https://kolesa.kz//a/show/168417654 data written.\n",
      "Car https://kolesa.kz//a/show/168772352 data written.\n"
     ]
    },
    {
     "name": "stderr",
     "output_type": "stream",
     "text": [
      " 20%|██        | 80/400 [1:34:13<5:47:53, 65.23s/it]"
     ]
    },
    {
     "name": "stdout",
     "output_type": "stream",
     "text": [
      "Car https://kolesa.kz//a/show/164727494 data written.\n",
      "23\n",
      "iteration 81, finish\n",
      "Car https://kolesa.kz//a/show/168527636 data written.\n",
      "Car https://kolesa.kz//a/show/168633893 data written.\n",
      "Car https://kolesa.kz//a/show/168350166 data written.\n",
      "Car https://kolesa.kz//a/show/164727494 data written.\n",
      "Car https://kolesa.kz//a/show/168390490 data written.\n",
      "Car https://kolesa.kz//a/show/161693297 data written.\n",
      "Car https://kolesa.kz//a/show/167030938 data written.\n",
      "Car https://kolesa.kz//a/show/168535936 data written.\n",
      "Car https://kolesa.kz//a/show/159791108 data written.\n",
      "Car https://kolesa.kz//a/show/164869835 data written.\n",
      "Car https://kolesa.kz//a/show/168377627 data written.\n",
      "Car https://kolesa.kz//a/show/166789604 data written.\n",
      "Car https://kolesa.kz//a/show/167438418 data written.\n",
      "Car https://kolesa.kz//a/show/144362038 data written.\n",
      "Car https://kolesa.kz//a/show/160864082 data written.\n",
      "Car https://kolesa.kz//a/show/168300058 data written.\n",
      "Car https://kolesa.kz//a/show/165340548 data written.\n",
      "Car https://kolesa.kz//a/show/167810617 data written.\n",
      "Car https://kolesa.kz//a/show/168108713 data written.\n",
      "Car https://kolesa.kz//a/show/168352551 data written.\n",
      "Car https://kolesa.kz//a/show/164239253 data written.\n",
      "Car https://kolesa.kz//a/show/168737137 data written.\n"
     ]
    },
    {
     "name": "stderr",
     "output_type": "stream",
     "text": [
      " 20%|██        | 81/400 [1:35:18<5:47:11, 65.30s/it]"
     ]
    },
    {
     "name": "stdout",
     "output_type": "stream",
     "text": [
      "Car https://kolesa.kz//a/show/168084232 data written.\n",
      "23\n",
      "iteration 82, finish\n",
      "Car https://kolesa.kz//a/show/168101076 data written.\n",
      "Car https://kolesa.kz//a/show/165542025 data written.\n",
      "Car https://kolesa.kz//a/show/168533438 data written.\n",
      "Car https://kolesa.kz//a/show/168738641 data written.\n",
      "Car https://kolesa.kz//a/show/165725774 data written.\n",
      "Car https://kolesa.kz//a/show/167136075 data written.\n",
      "Car https://kolesa.kz//a/show/165924566 data written.\n",
      "Car https://kolesa.kz//a/show/168329894 data written.\n",
      "Car https://kolesa.kz//a/show/166382068 data written.\n",
      "Car https://kolesa.kz//a/show/168329493 data written.\n",
      "Car https://kolesa.kz//a/show/166402408 data written.\n",
      "Car https://kolesa.kz//a/show/163160897 data written.\n",
      "Car https://kolesa.kz//a/show/167448168 data written.\n",
      "Car https://kolesa.kz//a/show/168322960 data written.\n",
      "Car https://kolesa.kz//a/show/168726612 data written.\n",
      "Car https://kolesa.kz//a/show/168318789 data written.\n",
      "Car https://kolesa.kz//a/show/167858243 data written.\n",
      "Car https://kolesa.kz//a/show/168316353 data written.\n",
      "Car https://kolesa.kz//a/show/168722949 data written.\n",
      "Car https://kolesa.kz//a/show/168313659 data written.\n",
      "Car https://kolesa.kz//a/show/168687345 data written.\n",
      "Car https://kolesa.kz//a/show/167669047 data written.\n"
     ]
    },
    {
     "name": "stderr",
     "output_type": "stream",
     "text": [
      " 20%|██        | 82/400 [1:36:24<5:47:05, 65.49s/it]"
     ]
    },
    {
     "name": "stdout",
     "output_type": "stream",
     "text": [
      "Car https://kolesa.kz//a/show/168305110 data written.\n",
      "23\n",
      "iteration 83, finish\n",
      "Car https://kolesa.kz//a/show/168465067 data written.\n",
      "Car https://kolesa.kz//a/show/167740469 data written.\n",
      "Car https://kolesa.kz//a/show/168594416 data written.\n",
      "Car https://kolesa.kz//a/show/168305110 data written.\n",
      "Car https://kolesa.kz//a/show/168716338 data written.\n",
      "Car https://kolesa.kz//a/show/168345862 data written.\n",
      "Car https://kolesa.kz//a/show/168294551 data written.\n",
      "Car https://kolesa.kz//a/show/168713166 data written.\n",
      "Car https://kolesa.kz//a/show/164912599 data written.\n",
      "Car https://kolesa.kz//a/show/168713036 data written.\n",
      "Car https://kolesa.kz//a/show/168292274 data written.\n",
      "Car https://kolesa.kz//a/show/168706010 data written.\n",
      "Car https://kolesa.kz//a/show/168283281 data written.\n",
      "Car https://kolesa.kz//a/show/168868262 data written.\n",
      "Car https://kolesa.kz//a/show/166421907 data written.\n",
      "Car https://kolesa.kz//a/show/168700290 data written.\n",
      "Car https://kolesa.kz//a/show/167586599 data written.\n",
      "Car https://kolesa.kz//a/show/168698371 data written.\n",
      "Car https://kolesa.kz//a/show/168755343 data written.\n",
      "Car https://kolesa.kz//a/show/168695046 data written.\n",
      "Car https://kolesa.kz//a/show/167218259 data written.\n",
      "Car https://kolesa.kz//a/show/168868713 data written.\n"
     ]
    },
    {
     "name": "stderr",
     "output_type": "stream",
     "text": [
      " 21%|██        | 83/400 [1:37:31<5:47:28, 65.77s/it]"
     ]
    },
    {
     "name": "stdout",
     "output_type": "stream",
     "text": [
      "Car https://kolesa.kz//a/show/168865620 data written.\n",
      "23\n",
      "iteration 84, finish\n",
      "Car https://kolesa.kz//a/show/155536626 data written.\n",
      "Car https://kolesa.kz//a/show/168484403 data written.\n",
      "Car https://kolesa.kz//a/show/168840459 data written.\n",
      "Car https://kolesa.kz//a/show/168865620 data written.\n",
      "Car https://kolesa.kz//a/show/168262348 data written.\n",
      "Car https://kolesa.kz//a/show/168685274 data written.\n",
      "Car https://kolesa.kz//a/show/168868830 data written.\n",
      "Car https://kolesa.kz//a/show/168259637 data written.\n",
      "Car https://kolesa.kz//a/show/168868171 data written.\n",
      "Car https://kolesa.kz//a/show/167934375 data written.\n",
      "Car https://kolesa.kz//a/show/157669894 data written.\n",
      "Car https://kolesa.kz//a/show/168868365 data written.\n",
      "Car https://kolesa.kz//a/show/168244521 data written.\n",
      "Car https://kolesa.kz//a/show/168675838 data written.\n",
      "Car https://kolesa.kz//a/show/156596330 data written.\n",
      "Car https://kolesa.kz//a/show/168244273 data written.\n",
      "Car https://kolesa.kz//a/show/168867094 data written.\n",
      "Car https://kolesa.kz//a/show/168236007 data written.\n",
      "Car https://kolesa.kz//a/show/168674018 data written.\n",
      "Car https://kolesa.kz//a/show/167987655 data written.\n",
      "Car https://kolesa.kz//a/show/168234532 data written.\n",
      "Car https://kolesa.kz//a/show/168672954 data written.\n"
     ]
    },
    {
     "name": "stderr",
     "output_type": "stream",
     "text": [
      " 21%|██        | 84/400 [1:38:36<5:45:16, 65.56s/it]"
     ]
    },
    {
     "name": "stdout",
     "output_type": "stream",
     "text": [
      "Car https://kolesa.kz//a/show/168233081 data written.\n",
      "23\n",
      "iteration 85, finish\n",
      "Car https://kolesa.kz//a/show/164833564 data written.\n",
      "Car https://kolesa.kz//a/show/168289312 data written.\n",
      "Car https://kolesa.kz//a/show/167668785 data written.\n",
      "Car https://kolesa.kz//a/show/168234532 data written.\n",
      "Car https://kolesa.kz//a/show/168672954 data written.\n",
      "Car https://kolesa.kz//a/show/168233081 data written.\n",
      "Car https://kolesa.kz//a/show/168501474 data written.\n",
      "Car https://kolesa.kz//a/show/168665319 data written.\n",
      "Car https://kolesa.kz//a/show/168662155 data written.\n",
      "Car https://kolesa.kz//a/show/168862463 data written.\n",
      "Car https://kolesa.kz//a/show/168215644 data written.\n",
      "Car https://kolesa.kz//a/show/167598685 data written.\n",
      "Car https://kolesa.kz//a/show/168213770 data written.\n",
      "Car https://kolesa.kz//a/show/166435892 data written.\n",
      "Car https://kolesa.kz//a/show/168858656 data written.\n",
      "Car https://kolesa.kz//a/show/168201595 data written.\n",
      "Car https://kolesa.kz//a/show/168858074 data written.\n",
      "Car https://kolesa.kz//a/show/166462038 data written.\n",
      "Car https://kolesa.kz//a/show/168857477 data written.\n",
      "Car https://kolesa.kz//a/show/168856082 data written.\n",
      "Car https://kolesa.kz//a/show/166910462 data written.\n",
      "Car https://kolesa.kz//a/show/152358484 data written.\n"
     ]
    },
    {
     "name": "stderr",
     "output_type": "stream",
     "text": [
      " 21%|██▏       | 85/400 [1:39:41<5:44:09, 65.56s/it]"
     ]
    },
    {
     "name": "stdout",
     "output_type": "stream",
     "text": [
      "Car https://kolesa.kz//a/show/168356361 data written.\n",
      "23\n",
      "iteration 86, finish\n",
      "Car https://kolesa.kz//a/show/168533438 data written.\n",
      "Car https://kolesa.kz//a/show/168646346 data written.\n",
      "Car https://kolesa.kz//a/show/168367459 data written.\n",
      "Car https://kolesa.kz//a/show/152358484 data written.\n",
      "Car https://kolesa.kz//a/show/168356361 data written.\n",
      "Car https://kolesa.kz//a/show/148170596 data written.\n",
      "Car https://kolesa.kz//a/show/167493191 data written.\n",
      "Car https://kolesa.kz//a/show/168850125 data written.\n",
      "Car https://kolesa.kz//a/show/168149971 data written.\n",
      "Car https://kolesa.kz//a/show/168489006 data written.\n",
      "Car https://kolesa.kz//a/show/168851542 data written.\n",
      "Car https://kolesa.kz//a/show/168145170 data written.\n",
      "Car https://kolesa.kz//a/show/168143208 data written.\n",
      "Car https://kolesa.kz//a/show/167002175 data written.\n",
      "Car https://kolesa.kz//a/show/168653785 data written.\n",
      "Car https://kolesa.kz//a/show/166770690 data written.\n",
      "Car https://kolesa.kz//a/show/168840283 data written.\n",
      "Car https://kolesa.kz//a/show/167960575 data written.\n",
      "Car https://kolesa.kz//a/show/168651120 data written.\n",
      "Car https://kolesa.kz//a/show/168651244 data written.\n",
      "Car https://kolesa.kz//a/show/168098272 data written.\n",
      "Car https://kolesa.kz//a/show/168120541 data written.\n"
     ]
    },
    {
     "name": "stderr",
     "output_type": "stream",
     "text": [
      " 22%|██▏       | 86/400 [1:40:48<5:44:29, 65.83s/it]"
     ]
    },
    {
     "name": "stdout",
     "output_type": "stream",
     "text": [
      "Car https://kolesa.kz//a/show/168617188 data written.\n",
      "23\n",
      "iteration 87, finish\n",
      "Car https://kolesa.kz//a/show/168727889 data written.\n",
      "Car https://kolesa.kz//a/show/165653899 data written.\n",
      "Car https://kolesa.kz//a/show/168747420 data written.\n",
      "Car https://kolesa.kz//a/show/168641216 data written.\n",
      "Car https://kolesa.kz//a/show/168640197 data written.\n",
      "Car https://kolesa.kz//a/show/168557587 data written.\n",
      "Car https://kolesa.kz//a/show/168567087 data written.\n",
      "Car https://kolesa.kz//a/show/168636057 data written.\n",
      "Car https://kolesa.kz//a/show/168841099 data written.\n",
      "Car https://kolesa.kz//a/show/168096495 data written.\n",
      "Car https://kolesa.kz//a/show/168840948 data written.\n",
      "Car https://kolesa.kz//a/show/168417393 data written.\n",
      "Car https://kolesa.kz//a/show/168070768 data written.\n",
      "Car https://kolesa.kz//a/show/168838203 data written.\n",
      "Car https://kolesa.kz//a/show/168057535 data written.\n",
      "Car https://kolesa.kz//a/show/168032020 data written.\n",
      "Car https://kolesa.kz//a/show/168838789 data written.\n",
      "Car https://kolesa.kz//a/show/167694428 data written.\n",
      "Car https://kolesa.kz//a/show/168870670 data written.\n",
      "Car https://kolesa.kz//a/show/166855229 data written.\n",
      "Car https://kolesa.kz//a/show/162038320 data written.\n",
      "Car https://kolesa.kz//a/show/148533600 data written.\n"
     ]
    },
    {
     "name": "stderr",
     "output_type": "stream",
     "text": [
      " 22%|██▏       | 87/400 [1:41:54<5:43:53, 65.92s/it]"
     ]
    },
    {
     "name": "stdout",
     "output_type": "stream",
     "text": [
      "Car https://kolesa.kz//a/show/168869541 data written.\n",
      "23\n",
      "iteration 88, finish\n",
      "Car https://kolesa.kz//a/show/167393225 data written.\n",
      "Car https://kolesa.kz//a/show/168374698 data written.\n",
      "Car https://kolesa.kz//a/show/166609835 data written.\n",
      "Car https://kolesa.kz//a/show/168870277 data written.\n",
      "Car https://kolesa.kz//a/show/168694522 data written.\n",
      "Car https://kolesa.kz//a/show/168416755 data written.\n",
      "Car https://kolesa.kz//a/show/167169948 data written.\n",
      "Car https://kolesa.kz//a/show/165623485 data written.\n",
      "Car https://kolesa.kz//a/show/159759713 data written.\n",
      "Car https://kolesa.kz//a/show/168554292 data written.\n",
      "Car https://kolesa.kz//a/show/168142594 data written.\n",
      "Car https://kolesa.kz//a/show/163573904 data written.\n",
      "Car https://kolesa.kz//a/show/168026040 data written.\n",
      "Car https://kolesa.kz//a/show/168765710 data written.\n",
      "Car https://kolesa.kz//a/show/168541583 data written.\n",
      "Car https://kolesa.kz//a/show/159752543 data written.\n",
      "Car https://kolesa.kz//a/show/168763150 data written.\n",
      "Car https://kolesa.kz//a/show/163715572 data written.\n",
      "Car https://kolesa.kz//a/show/167610630 data written.\n",
      "Car https://kolesa.kz//a/show/168424481 data written.\n",
      "Car https://kolesa.kz//a/show/168527923 data written.\n",
      "Car https://kolesa.kz//a/show/168751387 data written.\n"
     ]
    },
    {
     "name": "stderr",
     "output_type": "stream",
     "text": [
      " 22%|██▏       | 88/400 [1:42:59<5:42:20, 65.84s/it]"
     ]
    },
    {
     "name": "stdout",
     "output_type": "stream",
     "text": [
      "Car https://kolesa.kz//a/show/167676181 data written.\n",
      "23\n",
      "iteration 89, finish\n",
      "Car https://kolesa.kz//a/show/166287249 data written.\n",
      "Car https://kolesa.kz//a/show/168151647 data written.\n",
      "Car https://kolesa.kz//a/show/168787883 data written.\n",
      "Car https://kolesa.kz//a/show/168751387 data written.\n",
      "Car https://kolesa.kz//a/show/167676181 data written.\n",
      "Car https://kolesa.kz//a/show/168526968 data written.\n",
      "Car https://kolesa.kz//a/show/168523454 data written.\n",
      "Car https://kolesa.kz//a/show/167106422 data written.\n",
      "Car https://kolesa.kz//a/show/168518681 data written.\n",
      "Car https://kolesa.kz//a/show/168740864 data written.\n",
      "Car https://kolesa.kz//a/show/168740638 data written.\n",
      "Car https://kolesa.kz//a/show/168502699 data written.\n",
      "Car https://kolesa.kz//a/show/168496137 data written.\n",
      "Car https://kolesa.kz//a/show/168868558 data written.\n",
      "Car https://kolesa.kz//a/show/168868678 data written.\n",
      "Car https://kolesa.kz//a/show/129744060 data written.\n",
      "Car https://kolesa.kz//a/show/168805262 data written.\n",
      "Car https://kolesa.kz//a/show/168495347 data written.\n",
      "Car https://kolesa.kz//a/show/168868526 data written.\n",
      "Car https://kolesa.kz//a/show/167528735 data written.\n",
      "Car https://kolesa.kz//a/show/168489443 data written.\n",
      "Car https://kolesa.kz//a/show/168735002 data written.\n"
     ]
    },
    {
     "name": "stderr",
     "output_type": "stream",
     "text": [
      " 22%|██▏       | 89/400 [1:44:04<5:39:40, 65.53s/it]"
     ]
    },
    {
     "name": "stdout",
     "output_type": "stream",
     "text": [
      "Car https://kolesa.kz//a/show/168868025 data written.\n",
      "23\n",
      "iteration 90, finish\n",
      "Car https://kolesa.kz//a/show/168101076 data written.\n",
      "Car https://kolesa.kz//a/show/168742606 data written.\n",
      "Car https://kolesa.kz//a/show/168085371 data written.\n",
      "Car https://kolesa.kz//a/show/168868025 data written.\n",
      "Car https://kolesa.kz//a/show/168493548 data written.\n",
      "Car https://kolesa.kz//a/show/168475068 data written.\n",
      "Car https://kolesa.kz//a/show/167929583 data written.\n",
      "Car https://kolesa.kz//a/show/168483298 data written.\n",
      "Car https://kolesa.kz//a/show/168476599 data written.\n",
      "Car https://kolesa.kz//a/show/168712863 data written.\n",
      "Car https://kolesa.kz//a/show/167944477 data written.\n",
      "Car https://kolesa.kz//a/show/168531975 data written.\n",
      "Car https://kolesa.kz//a/show/168465428 data written.\n",
      "Car https://kolesa.kz//a/show/168704089 data written.\n",
      "Car https://kolesa.kz//a/show/168862776 data written.\n",
      "Car https://kolesa.kz//a/show/168703318 data written.\n",
      "Car https://kolesa.kz//a/show/168462328 data written.\n",
      "Car https://kolesa.kz//a/show/168698184 data written.\n",
      "Car https://kolesa.kz//a/show/168742216 data written.\n",
      "Car https://kolesa.kz//a/show/168460843 data written.\n",
      "Car https://kolesa.kz//a/show/168689810 data written.\n",
      "Car https://kolesa.kz//a/show/168697653 data written.\n"
     ]
    },
    {
     "name": "stderr",
     "output_type": "stream",
     "text": [
      " 22%|██▎       | 90/400 [1:45:10<5:38:09, 65.45s/it]"
     ]
    },
    {
     "name": "stdout",
     "output_type": "stream",
     "text": [
      "Car https://kolesa.kz//a/show/168846379 data written.\n",
      "23\n",
      "iteration 91, finish\n",
      "Car https://kolesa.kz//a/show/160938545 data written.\n",
      "Car https://kolesa.kz//a/show/168694490 data written.\n",
      "Car https://kolesa.kz//a/show/168310204 data written.\n",
      "Car https://kolesa.kz//a/show/166079551 data written.\n",
      "Car https://kolesa.kz//a/show/167404261 data written.\n",
      "Car https://kolesa.kz//a/show/168449684 data written.\n",
      "Car https://kolesa.kz//a/show/165515690 data written.\n",
      "Car https://kolesa.kz//a/show/160284525 data written.\n",
      "Car https://kolesa.kz//a/show/168859397 data written.\n",
      "Car https://kolesa.kz//a/show/168443549 data written.\n",
      "Car https://kolesa.kz//a/show/166239294 data written.\n",
      "Car https://kolesa.kz//a/show/165020990 data written.\n",
      "Car https://kolesa.kz//a/show/168858513 data written.\n",
      "Car https://kolesa.kz//a/show/168850973 data written.\n",
      "Car https://kolesa.kz//a/show/168444392 data written.\n",
      "Car https://kolesa.kz//a/show/168403701 data written.\n",
      "Car https://kolesa.kz//a/show/156210595 data written.\n",
      "Car https://kolesa.kz//a/show/167749539 data written.\n",
      "Car https://kolesa.kz//a/show/168855194 data written.\n",
      "Car https://kolesa.kz//a/show/168416760 data written.\n",
      "Car https://kolesa.kz//a/show/168426470 data written.\n",
      "Car https://kolesa.kz//a/show/168842092 data written.\n"
     ]
    },
    {
     "name": "stderr",
     "output_type": "stream",
     "text": [
      " 23%|██▎       | 91/400 [1:46:15<5:36:58, 65.43s/it]"
     ]
    },
    {
     "name": "stdout",
     "output_type": "stream",
     "text": [
      "Car https://kolesa.kz//a/show/168678891 data written.\n",
      "23\n",
      "iteration 92, finish\n",
      "Car https://kolesa.kz//a/show/166460180 data written.\n",
      "Car https://kolesa.kz//a/show/168527636 data written.\n",
      "Car https://kolesa.kz//a/show/168424684 data written.\n",
      "Car https://kolesa.kz//a/show/168842092 data written.\n",
      "Car https://kolesa.kz//a/show/168678891 data written.\n",
      "Car https://kolesa.kz//a/show/168392088 data written.\n",
      "Car https://kolesa.kz//a/show/168386083 data written.\n",
      "Car https://kolesa.kz//a/show/168852700 data written.\n",
      "Car https://kolesa.kz//a/show/168675593 data written.\n",
      "Car https://kolesa.kz//a/show/168242268 data written.\n",
      "Car https://kolesa.kz//a/show/117509610 data written.\n",
      "Car https://kolesa.kz//a/show/167762025 data written.\n",
      "Car https://kolesa.kz//a/show/167471494 data written.\n",
      "Car https://kolesa.kz//a/show/165849451 data written.\n",
      "Car https://kolesa.kz//a/show/168663018 data written.\n",
      "Car https://kolesa.kz//a/show/168660037 data written.\n",
      "Car https://kolesa.kz//a/show/168756803 data written.\n",
      "Car https://kolesa.kz//a/show/168846126 data written.\n",
      "Car https://kolesa.kz//a/show/168000222 data written.\n",
      "Car https://kolesa.kz//a/show/168377172 data written.\n",
      "Car https://kolesa.kz//a/show/168844204 data written.\n",
      "Car https://kolesa.kz//a/show/168830317 data written.\n"
     ]
    },
    {
     "name": "stderr",
     "output_type": "stream",
     "text": [
      " 23%|██▎       | 92/400 [1:47:21<5:36:16, 65.51s/it]"
     ]
    },
    {
     "name": "stdout",
     "output_type": "stream",
     "text": [
      "Car https://kolesa.kz//a/show/162777384 data written.\n",
      "23\n",
      "iteration 93, finish\n",
      "Car https://kolesa.kz//a/show/165949937 data written.\n",
      "Car https://kolesa.kz//a/show/163381130 data written.\n",
      "Car https://kolesa.kz//a/show/168661069 data written.\n",
      "Car https://kolesa.kz//a/show/168830317 data written.\n",
      "Car https://kolesa.kz//a/show/162777384 data written.\n",
      "Car https://kolesa.kz//a/show/168736029 data written.\n",
      "Car https://kolesa.kz//a/show/168842003 data written.\n",
      "Car https://kolesa.kz//a/show/168234078 data written.\n",
      "Car https://kolesa.kz//a/show/168841306 data written.\n",
      "Car https://kolesa.kz//a/show/168363504 data written.\n",
      "Car https://kolesa.kz//a/show/168351222 data written.\n",
      "Car https://kolesa.kz//a/show/168578272 data written.\n",
      "Car https://kolesa.kz//a/show/168356628 data written.\n",
      "Car https://kolesa.kz//a/show/168840703 data written.\n",
      "Car https://kolesa.kz//a/show/168353242 data written.\n",
      "Car https://kolesa.kz//a/show/168840416 data written.\n",
      "Car https://kolesa.kz//a/show/168353047 data written.\n",
      "Car https://kolesa.kz//a/show/166148019 data written.\n",
      "Car https://kolesa.kz//a/show/168044565 data written.\n",
      "Car https://kolesa.kz//a/show/168655729 data written.\n",
      "Car https://kolesa.kz//a/show/168344620 data written.\n",
      "Car https://kolesa.kz//a/show/168327545 data written.\n"
     ]
    },
    {
     "name": "stderr",
     "output_type": "stream",
     "text": [
      " 23%|██▎       | 93/400 [1:48:26<5:35:27, 65.56s/it]"
     ]
    },
    {
     "name": "stdout",
     "output_type": "stream",
     "text": [
      "Car https://kolesa.kz//a/show/168583736 data written.\n",
      "23\n",
      "iteration 94, finish\n",
      "Car https://kolesa.kz//a/show/168539973 data written.\n",
      "Car https://kolesa.kz//a/show/164953902 data written.\n",
      "Car https://kolesa.kz//a/show/168745910 data written.\n",
      "Car https://kolesa.kz//a/show/168647771 data written.\n",
      "Car https://kolesa.kz//a/show/168834758 data written.\n",
      "Car https://kolesa.kz//a/show/168325131 data written.\n",
      "Car https://kolesa.kz//a/show/168833956 data written.\n",
      "Car https://kolesa.kz//a/show/165393827 data written.\n",
      "Car https://kolesa.kz//a/show/168801089 data written.\n",
      "Car https://kolesa.kz//a/show/168320244 data written.\n",
      "Car https://kolesa.kz//a/show/168833120 data written.\n",
      "Car https://kolesa.kz//a/show/168632113 data written.\n",
      "Car https://kolesa.kz//a/show/168648983 data written.\n",
      "Car https://kolesa.kz//a/show/168042638 data written.\n",
      "Car https://kolesa.kz//a/show/168831223 data written.\n",
      "Car https://kolesa.kz//a/show/168292030 data written.\n",
      "Car https://kolesa.kz//a/show/160572705 data written.\n",
      "Car https://kolesa.kz//a/show/168046247 data written.\n",
      "Car https://kolesa.kz//a/show/168830295 data written.\n",
      "Car https://kolesa.kz//a/show/168252534 data written.\n",
      "Car https://kolesa.kz//a/show/168289540 data written.\n",
      "Car https://kolesa.kz//a/show/168273928 data written.\n"
     ]
    },
    {
     "name": "stderr",
     "output_type": "stream",
     "text": [
      " 24%|██▎       | 94/400 [1:49:32<5:34:05, 65.51s/it]"
     ]
    },
    {
     "name": "stdout",
     "output_type": "stream",
     "text": [
      "Car https://kolesa.kz//a/show/142862250 data written.\n",
      "23\n",
      "iteration 95, finish\n",
      "Car https://kolesa.kz//a/show/149879008 data written.\n",
      "Car https://kolesa.kz//a/show/168542035 data written.\n",
      "Car https://kolesa.kz//a/show/167038340 data written.\n",
      "Car https://kolesa.kz//a/show/168660228 data written.\n",
      "Car https://kolesa.kz//a/show/168528067 data written.\n",
      "Car https://kolesa.kz//a/show/162526146 data written.\n",
      "Car https://kolesa.kz//a/show/168625149 data written.\n",
      "Car https://kolesa.kz//a/show/168259142 data written.\n",
      "Car https://kolesa.kz//a/show/166085513 data written.\n",
      "Car https://kolesa.kz//a/show/163778964 data written.\n",
      "Car https://kolesa.kz//a/show/167754702 data written.\n",
      "Car https://kolesa.kz//a/show/149622227 data written.\n",
      "Car https://kolesa.kz//a/show/159559852 data written.\n",
      "Car https://kolesa.kz//a/show/166741262 data written.\n",
      "Car https://kolesa.kz//a/show/165815291 data written.\n",
      "Car https://kolesa.kz//a/show/168194954 data written.\n",
      "Car https://kolesa.kz//a/show/168191737 data written.\n",
      "Car https://kolesa.kz//a/show/165703264 data written.\n",
      "Car https://kolesa.kz//a/show/166216351 data written.\n",
      "Car https://kolesa.kz//a/show/168815415 data written.\n",
      "Car https://kolesa.kz//a/show/168813039 data written.\n",
      "Car https://kolesa.kz//a/show/168413871 data written.\n"
     ]
    },
    {
     "name": "stderr",
     "output_type": "stream",
     "text": [
      " 24%|██▍       | 95/400 [1:50:36<5:30:39, 65.05s/it]"
     ]
    },
    {
     "name": "stdout",
     "output_type": "stream",
     "text": [
      "Car https://kolesa.kz//a/show/167480809 data written.\n",
      "23\n",
      "iteration 96, finish\n",
      "Car https://kolesa.kz//a/show/168778392 data written.\n",
      "Car https://kolesa.kz//a/show/168490880 data written.\n",
      "Car https://kolesa.kz//a/show/168191585 data written.\n",
      "Car https://kolesa.kz//a/show/168813039 data written.\n",
      "Car https://kolesa.kz//a/show/168413871 data written.\n",
      "Car https://kolesa.kz//a/show/167480809 data written.\n",
      "Car https://kolesa.kz//a/show/168696528 data written.\n",
      "Car https://kolesa.kz//a/show/168607065 data written.\n",
      "Car https://kolesa.kz//a/show/168810827 data written.\n",
      "Car https://kolesa.kz//a/show/154322539 data written.\n",
      "Car https://kolesa.kz//a/show/168805329 data written.\n",
      "Car https://kolesa.kz//a/show/168601041 data written.\n",
      "Car https://kolesa.kz//a/show/168804439 data written.\n",
      "Car https://kolesa.kz//a/show/168800691 data written.\n",
      "Car https://kolesa.kz//a/show/168598414 data written.\n",
      "Car https://kolesa.kz//a/show/168800522 data written.\n",
      "Car https://kolesa.kz//a/show/168798350 data written.\n",
      "Car https://kolesa.kz//a/show/167637409 data written.\n",
      "Car https://kolesa.kz//a/show/168798680 data written.\n",
      "Car https://kolesa.kz//a/show/168592395 data written.\n",
      "Car https://kolesa.kz//a/show/168797370 data written.\n",
      "Car https://kolesa.kz//a/show/168589545 data written.\n"
     ]
    },
    {
     "name": "stderr",
     "output_type": "stream",
     "text": [
      " 24%|██▍       | 96/400 [1:51:41<5:30:20, 65.20s/it]"
     ]
    },
    {
     "name": "stdout",
     "output_type": "stream",
     "text": [
      "Car https://kolesa.kz//a/show/168796165 data written.\n",
      "23\n",
      "iteration 97, finish\n",
      "Car https://kolesa.kz//a/show/168444215 data written.\n",
      "Car https://kolesa.kz//a/show/168664110 data written.\n",
      "Car https://kolesa.kz//a/show/168769891 data written.\n",
      "Car https://kolesa.kz//a/show/168796165 data written.\n",
      "Car https://kolesa.kz//a/show/168794862 data written.\n",
      "Car https://kolesa.kz//a/show/168587885 data written.\n",
      "Car https://kolesa.kz//a/show/168585970 data written.\n",
      "Car https://kolesa.kz//a/show/168033432 data written.\n",
      "Car https://kolesa.kz//a/show/159882278 data written.\n",
      "Car https://kolesa.kz//a/show/168582769 data written.\n",
      "Car https://kolesa.kz//a/show/168582083 data written.\n",
      "Car https://kolesa.kz//a/show/168789133 data written.\n",
      "Car https://kolesa.kz//a/show/164965578 data written.\n",
      "Car https://kolesa.kz//a/show/164832499 data written.\n",
      "Car https://kolesa.kz//a/show/168758900 data written.\n",
      "Car https://kolesa.kz//a/show/168570577 data written.\n",
      "Car https://kolesa.kz//a/show/168735195 data written.\n",
      "Car https://kolesa.kz//a/show/142679118 data written.\n",
      "Car https://kolesa.kz//a/show/168567442 data written.\n",
      "Car https://kolesa.kz//a/show/168582910 data written.\n",
      "Car https://kolesa.kz//a/show/168769023 data written.\n",
      "Car https://kolesa.kz//a/show/168088640 data written.\n"
     ]
    },
    {
     "name": "stderr",
     "output_type": "stream",
     "text": [
      " 24%|██▍       | 97/400 [1:52:46<5:28:23, 65.03s/it]"
     ]
    },
    {
     "name": "stdout",
     "output_type": "stream",
     "text": [
      "Car https://kolesa.kz//a/show/168078956 data written.\n",
      "23\n",
      "iteration 98, finish\n",
      "Car https://kolesa.kz//a/show/168032892 data written.\n",
      "Car https://kolesa.kz//a/show/168764964 data written.\n",
      "Car https://kolesa.kz//a/show/168553919 data written.\n",
      "Car https://kolesa.kz//a/show/168570577 data written.\n",
      "Car https://kolesa.kz//a/show/168735195 data written.\n",
      "Car https://kolesa.kz//a/show/142679118 data written.\n",
      "Car https://kolesa.kz//a/show/168567442 data written.\n",
      "Car https://kolesa.kz//a/show/168582910 data written.\n",
      "Car https://kolesa.kz//a/show/168769023 data written.\n",
      "Car https://kolesa.kz//a/show/168088640 data written.\n",
      "Car https://kolesa.kz//a/show/168078956 data written.\n",
      "Car https://kolesa.kz//a/show/168076979 data written.\n",
      "Car https://kolesa.kz//a/show/167752789 data written.\n",
      "Car https://kolesa.kz//a/show/168756751 data written.\n",
      "Car https://kolesa.kz//a/show/168565071 data written.\n",
      "Car https://kolesa.kz//a/show/167608580 data written.\n",
      "Car https://kolesa.kz//a/show/167276593 data written.\n",
      "Car https://kolesa.kz//a/show/167550614 data written.\n",
      "Car https://kolesa.kz//a/show/165546302 data written.\n",
      "Car https://kolesa.kz//a/show/161064731 data written.\n",
      "Car https://kolesa.kz//a/show/168870549 data written.\n",
      "Car https://kolesa.kz//a/show/168869250 data written.\n"
     ]
    },
    {
     "name": "stderr",
     "output_type": "stream",
     "text": [
      " 24%|██▍       | 98/400 [1:53:50<5:25:31, 64.67s/it]"
     ]
    },
    {
     "name": "stdout",
     "output_type": "stream",
     "text": [
      "Car https://kolesa.kz//a/show/168870466 data written.\n",
      "23\n",
      "iteration 99, finish\n",
      "Car https://kolesa.kz//a/show/168490698 data written.\n",
      "Car https://kolesa.kz//a/show/167996524 data written.\n",
      "Car https://kolesa.kz//a/show/168811246 data written.\n",
      "Car https://kolesa.kz//a/show/168657910 data written.\n",
      "Car https://kolesa.kz//a/show/168010019 data written.\n",
      "Car https://kolesa.kz//a/show/168698601 data written.\n",
      "Car https://kolesa.kz//a/show/167619105 data written.\n",
      "Car https://kolesa.kz//a/show/167164227 data written.\n",
      "Car https://kolesa.kz//a/show/166887270 data written.\n",
      "Car https://kolesa.kz//a/show/168869817 data written.\n",
      "Car https://kolesa.kz//a/show/168870322 data written.\n",
      "Car https://kolesa.kz//a/show/168682095 data written.\n",
      "Car https://kolesa.kz//a/show/168193664 data written.\n",
      "Car https://kolesa.kz//a/show/166562603 data written.\n",
      "Car https://kolesa.kz//a/show/168647059 data written.\n",
      "Car https://kolesa.kz//a/show/165391007 data written.\n",
      "Car https://kolesa.kz//a/show/168636482 data written.\n",
      "Car https://kolesa.kz//a/show/168631721 data written.\n",
      "Car https://kolesa.kz//a/show/167099976 data written.\n",
      "Car https://kolesa.kz//a/show/168625261 data written.\n",
      "Car https://kolesa.kz//a/show/168226343 data written.\n",
      "Car https://kolesa.kz//a/show/168226342 data written.\n"
     ]
    },
    {
     "name": "stderr",
     "output_type": "stream",
     "text": [
      " 25%|██▍       | 99/400 [1:54:55<5:24:53, 64.76s/it]"
     ]
    },
    {
     "name": "stdout",
     "output_type": "stream",
     "text": [
      "Car https://kolesa.kz//a/show/168620920 data written.\n",
      "23\n",
      "iteration 100, finish\n",
      "Car https://kolesa.kz//a/show/168202355 data written.\n",
      "Car https://kolesa.kz//a/show/168538486 data written.\n",
      "Car https://kolesa.kz//a/show/168856068 data written.\n",
      "Car https://kolesa.kz//a/show/168620920 data written.\n",
      "Car https://kolesa.kz//a/show/168617949 data written.\n",
      "Car https://kolesa.kz//a/show/168616455 data written.\n",
      "Car https://kolesa.kz//a/show/168611506 data written.\n",
      "Car https://kolesa.kz//a/show/166998510 data written.\n",
      "Car https://kolesa.kz//a/show/168597376 data written.\n",
      "Car https://kolesa.kz//a/show/168320095 data written.\n",
      "Car https://kolesa.kz//a/show/168574508 data written.\n",
      "Car https://kolesa.kz//a/show/168573152 data written.\n",
      "Car https://kolesa.kz//a/show/168573290 data written.\n",
      "Car https://kolesa.kz//a/show/168408244 data written.\n",
      "Car https://kolesa.kz//a/show/168568982 data written.\n",
      "Car https://kolesa.kz//a/show/168829796 data written.\n",
      "Car https://kolesa.kz//a/show/168561209 data written.\n",
      "Car https://kolesa.kz//a/show/168827054 data written.\n",
      "Car https://kolesa.kz//a/show/168551592 data written.\n",
      "Car https://kolesa.kz//a/show/168826447 data written.\n",
      "Car https://kolesa.kz//a/show/168594410 data written.\n",
      "Car https://kolesa.kz//a/show/168550256 data written.\n"
     ]
    },
    {
     "name": "stderr",
     "output_type": "stream",
     "text": [
      " 25%|██▌       | 100/400 [1:56:01<5:25:25, 65.09s/it]"
     ]
    },
    {
     "name": "stdout",
     "output_type": "stream",
     "text": [
      "Car https://kolesa.kz//a/show/168821389 data written.\n",
      "23\n",
      "iteration 101, finish\n",
      "Car https://kolesa.kz//a/show/168358819 data written.\n",
      "Car https://kolesa.kz//a/show/167908918 data written.\n",
      "Car https://kolesa.kz//a/show/168322510 data written.\n",
      "Car https://kolesa.kz//a/show/168594410 data written.\n",
      "Car https://kolesa.kz//a/show/168550256 data written.\n",
      "Car https://kolesa.kz//a/show/168821389 data written.\n",
      "Car https://kolesa.kz//a/show/168819387 data written.\n",
      "Car https://kolesa.kz//a/show/168544020 data written.\n",
      "Car https://kolesa.kz//a/show/168818829 data written.\n",
      "Car https://kolesa.kz//a/show/168472569 data written.\n",
      "Car https://kolesa.kz//a/show/168532659 data written.\n",
      "Car https://kolesa.kz//a/show/166007130 data written.\n",
      "Car https://kolesa.kz//a/show/168870385 data written.\n",
      "Car https://kolesa.kz//a/show/168529197 data written.\n",
      "Car https://kolesa.kz//a/show/168673711 data written.\n",
      "Car https://kolesa.kz//a/show/168410751 data written.\n",
      "Car https://kolesa.kz//a/show/168514074 data written.\n",
      "Car https://kolesa.kz//a/show/168505884 data written.\n",
      "Car https://kolesa.kz//a/show/160958248 data written.\n",
      "Car https://kolesa.kz//a/show/168490557 data written.\n",
      "Car https://kolesa.kz//a/show/168643749 data written.\n",
      "Car https://kolesa.kz//a/show/168474115 data written.\n"
     ]
    },
    {
     "name": "stderr",
     "output_type": "stream",
     "text": [
      " 25%|██▌       | 101/400 [1:57:06<5:25:23, 65.30s/it]"
     ]
    },
    {
     "name": "stdout",
     "output_type": "stream",
     "text": [
      "Car https://kolesa.kz//a/show/168491086 data written.\n",
      "23\n",
      "iteration 102, finish\n",
      "Car https://kolesa.kz//a/show/168760229 data written.\n",
      "Car https://kolesa.kz//a/show/168484403 data written.\n",
      "Car https://kolesa.kz//a/show/168809392 data written.\n",
      "Car https://kolesa.kz//a/show/168474115 data written.\n",
      "Car https://kolesa.kz//a/show/168491086 data written.\n",
      "Car https://kolesa.kz//a/show/168804110 data written.\n",
      "Car https://kolesa.kz//a/show/152491606 data written.\n",
      "Car https://kolesa.kz//a/show/165836968 data written.\n",
      "Car https://kolesa.kz//a/show/168355377 data written.\n",
      "Car https://kolesa.kz//a/show/168801626 data written.\n",
      "Car https://kolesa.kz//a/show/167050132 data written.\n",
      "Car https://kolesa.kz//a/show/168454455 data written.\n",
      "Car https://kolesa.kz//a/show/166064953 data written.\n",
      "Car https://kolesa.kz//a/show/168789339 data written.\n",
      "Car https://kolesa.kz//a/show/139122639 data written.\n",
      "Car https://kolesa.kz//a/show/168440364 data written.\n",
      "Car https://kolesa.kz//a/show/168179680 data written.\n",
      "Car https://kolesa.kz//a/show/168430443 data written.\n",
      "Car https://kolesa.kz//a/show/168422054 data written.\n",
      "Car https://kolesa.kz//a/show/168418229 data written.\n",
      "Car https://kolesa.kz//a/show/168006761 data written.\n",
      "Car https://kolesa.kz//a/show/167030340 data written.\n"
     ]
    },
    {
     "name": "stderr",
     "output_type": "stream",
     "text": [
      " 26%|██▌       | 102/400 [1:58:11<5:24:07, 65.26s/it]"
     ]
    },
    {
     "name": "stdout",
     "output_type": "stream",
     "text": [
      "Car https://kolesa.kz//a/show/168390626 data written.\n",
      "23\n",
      "iteration 103, finish\n",
      "Car https://kolesa.kz//a/show/162408328 data written.\n",
      "Car https://kolesa.kz//a/show/168664316 data written.\n",
      "Car https://kolesa.kz//a/show/168828420 data written.\n",
      "Car https://kolesa.kz//a/show/168505884 data written.\n",
      "Car https://kolesa.kz//a/show/160958248 data written.\n",
      "Car https://kolesa.kz//a/show/168490557 data written.\n",
      "Car https://kolesa.kz//a/show/168643749 data written.\n",
      "Car https://kolesa.kz//a/show/168474115 data written.\n",
      "Car https://kolesa.kz//a/show/168491086 data written.\n",
      "Car https://kolesa.kz//a/show/168804110 data written.\n",
      "Car https://kolesa.kz//a/show/152491606 data written.\n",
      "Car https://kolesa.kz//a/show/165836968 data written.\n",
      "Car https://kolesa.kz//a/show/168355377 data written.\n",
      "Car https://kolesa.kz//a/show/168801626 data written.\n",
      "Car https://kolesa.kz//a/show/167050132 data written.\n",
      "Car https://kolesa.kz//a/show/168454455 data written.\n",
      "Car https://kolesa.kz//a/show/166064953 data written.\n",
      "Car https://kolesa.kz//a/show/168789339 data written.\n",
      "Car https://kolesa.kz//a/show/139122639 data written.\n",
      "Car https://kolesa.kz//a/show/168440364 data written.\n",
      "Car https://kolesa.kz//a/show/168179680 data written.\n",
      "Car https://kolesa.kz//a/show/168430443 data written.\n"
     ]
    },
    {
     "name": "stderr",
     "output_type": "stream",
     "text": [
      " 26%|██▌       | 103/400 [1:59:17<5:23:27, 65.35s/it]"
     ]
    },
    {
     "name": "stdout",
     "output_type": "stream",
     "text": [
      "Car https://kolesa.kz//a/show/168422054 data written.\n",
      "23\n",
      "iteration 104, finish\n",
      "Car https://kolesa.kz//a/show/168585465 data written.\n",
      "Car https://kolesa.kz//a/show/168761201 data written.\n",
      "Car https://kolesa.kz//a/show/168771786 data written.\n",
      "Car https://kolesa.kz//a/show/168430443 data written.\n",
      "Car https://kolesa.kz//a/show/168422054 data written.\n",
      "Car https://kolesa.kz//a/show/168418229 data written.\n",
      "Car https://kolesa.kz//a/show/168006761 data written.\n",
      "Car https://kolesa.kz//a/show/167030340 data written.\n",
      "Car https://kolesa.kz//a/show/168390626 data written.\n",
      "Car https://kolesa.kz//a/show/168327884 data written.\n",
      "Car https://kolesa.kz//a/show/166380524 data written.\n",
      "Car https://kolesa.kz//a/show/167485919 data written.\n",
      "Car https://kolesa.kz//a/show/168375314 data written.\n",
      "Car https://kolesa.kz//a/show/168366697 data written.\n",
      "Car https://kolesa.kz//a/show/168359380 data written.\n",
      "Car https://kolesa.kz//a/show/168359660 data written.\n",
      "Car https://kolesa.kz//a/show/168351896 data written.\n",
      "Car https://kolesa.kz//a/show/168249922 data written.\n",
      "Car https://kolesa.kz//a/show/168349144 data written.\n",
      "Car https://kolesa.kz//a/show/168777848 data written.\n",
      "Car https://kolesa.kz//a/show/168335757 data written.\n",
      "Car https://kolesa.kz//a/show/168777237 data written.\n"
     ]
    },
    {
     "name": "stderr",
     "output_type": "stream",
     "text": [
      " 26%|██▌       | 104/400 [2:00:23<5:23:18, 65.53s/it]"
     ]
    },
    {
     "name": "stdout",
     "output_type": "stream",
     "text": [
      "Car https://kolesa.kz//a/show/167737193 data written.\n",
      "23\n",
      "iteration 105, finish\n",
      "Car https://kolesa.kz//a/show/165610224 data written.\n",
      "Car https://kolesa.kz//a/show/168736667 data written.\n",
      "Car https://kolesa.kz//a/show/168211638 data written.\n",
      "Car https://kolesa.kz//a/show/167737193 data written.\n",
      "Car https://kolesa.kz//a/show/167828874 data written.\n",
      "Car https://kolesa.kz//a/show/167679506 data written.\n",
      "Car https://kolesa.kz//a/show/168320139 data written.\n",
      "Car https://kolesa.kz//a/show/168766532 data written.\n",
      "Car https://kolesa.kz//a/show/168320291 data written.\n",
      "Car https://kolesa.kz//a/show/158524648 data written.\n",
      "Car https://kolesa.kz//a/show/168157520 data written.\n",
      "Car https://kolesa.kz//a/show/168510091 data written.\n",
      "Car https://kolesa.kz//a/show/168726659 data written.\n",
      "Car https://kolesa.kz//a/show/168311041 data written.\n",
      "Car https://kolesa.kz//a/show/168308183 data written.\n",
      "Car https://kolesa.kz//a/show/168304495 data written.\n",
      "Car https://kolesa.kz//a/show/143417774 data written.\n",
      "Car https://kolesa.kz//a/show/167951945 data written.\n",
      "Car https://kolesa.kz//a/show/168338905 data written.\n",
      "Car https://kolesa.kz//a/show/168754316 data written.\n",
      "Car https://kolesa.kz//a/show/168752689 data written.\n",
      "Car https://kolesa.kz//a/show/167576624 data written.\n"
     ]
    },
    {
     "name": "stderr",
     "output_type": "stream",
     "text": [
      " 26%|██▋       | 105/400 [2:01:29<5:22:16, 65.55s/it]"
     ]
    },
    {
     "name": "stdout",
     "output_type": "stream",
     "text": [
      "Car https://kolesa.kz//a/show/168095233 data written.\n",
      "23\n",
      "iteration 106, finish\n",
      "Car https://kolesa.kz//a/show/168703635 data written.\n",
      "Car https://kolesa.kz//a/show/168254719 data written.\n",
      "Car https://kolesa.kz//a/show/168667469 data written.\n",
      "Car https://kolesa.kz//a/show/168095233 data written.\n",
      "Car https://kolesa.kz//a/show/168640855 data written.\n",
      "Car https://kolesa.kz//a/show/168265105 data written.\n",
      "Car https://kolesa.kz//a/show/168135986 data written.\n",
      "Car https://kolesa.kz//a/show/168486630 data written.\n",
      "Car https://kolesa.kz//a/show/164445043 data written.\n",
      "Car https://kolesa.kz//a/show/168425866 data written.\n",
      "Car https://kolesa.kz//a/show/168242615 data written.\n",
      "Car https://kolesa.kz//a/show/168735288 data written.\n",
      "Car https://kolesa.kz//a/show/163142175 data written.\n",
      "Car https://kolesa.kz//a/show/168231616 data written.\n",
      "Car https://kolesa.kz//a/show/168346111 data written.\n",
      "Car https://kolesa.kz//a/show/168727454 data written.\n",
      "Car https://kolesa.kz//a/show/168636690 data written.\n",
      "Car https://kolesa.kz//a/show/168865337 data written.\n",
      "Car https://kolesa.kz//a/show/168174133 data written.\n",
      "Car https://kolesa.kz//a/show/165614560 data written.\n",
      "Car https://kolesa.kz//a/show/167184061 data written.\n",
      "Car https://kolesa.kz//a/show/160188711 data written.\n"
     ]
    },
    {
     "name": "stderr",
     "output_type": "stream",
     "text": [
      " 26%|██▋       | 106/400 [2:02:34<5:20:50, 65.48s/it]"
     ]
    },
    {
     "name": "stdout",
     "output_type": "stream",
     "text": [
      "Car https://kolesa.kz//a/show/168867168 data written.\n",
      "23\n",
      "iteration 107, finish\n",
      "Car https://kolesa.kz//a/show/162038320 data written.\n",
      "Car https://kolesa.kz//a/show/168374698 data written.\n",
      "Car https://kolesa.kz//a/show/165999862 data written.\n",
      "Car https://kolesa.kz//a/show/168636690 data written.\n",
      "Car https://kolesa.kz//a/show/168865337 data written.\n",
      "Car https://kolesa.kz//a/show/168174133 data written.\n",
      "Car https://kolesa.kz//a/show/165614560 data written.\n",
      "Car https://kolesa.kz//a/show/167184061 data written.\n",
      "Car https://kolesa.kz//a/show/160188711 data written.\n",
      "Car https://kolesa.kz//a/show/168867168 data written.\n",
      "Car https://kolesa.kz//a/show/165953143 data written.\n",
      "Car https://kolesa.kz//a/show/168865583 data written.\n",
      "Car https://kolesa.kz//a/show/168837439 data written.\n",
      "Car https://kolesa.kz//a/show/168863981 data written.\n",
      "Car https://kolesa.kz//a/show/164663230 data written.\n",
      "Car https://kolesa.kz//a/show/162260956 data written.\n",
      "Car https://kolesa.kz//a/show/168150943 data written.\n",
      "Car https://kolesa.kz//a/show/168862746 data written.\n",
      "Car https://kolesa.kz//a/show/168150376 data written.\n",
      "Car https://kolesa.kz//a/show/168846587 data written.\n",
      "Car https://kolesa.kz//a/show/168711425 data written.\n",
      "Car https://kolesa.kz//a/show/156591787 data written.\n"
     ]
    },
    {
     "name": "stderr",
     "output_type": "stream",
     "text": [
      " 27%|██▋       | 107/400 [2:03:39<5:18:48, 65.29s/it]"
     ]
    },
    {
     "name": "stdout",
     "output_type": "stream",
     "text": [
      "Car https://kolesa.kz//a/show/168143177 data written.\n",
      "23\n",
      "iteration 108, finish\n",
      "Car https://kolesa.kz//a/show/168755999 data written.\n",
      "Car https://kolesa.kz//a/show/168545922 data written.\n",
      "Car https://kolesa.kz//a/show/165837327 data written.\n",
      "Car https://kolesa.kz//a/show/166168169 data written.\n",
      "Car https://kolesa.kz//a/show/168861148 data written.\n",
      "Car https://kolesa.kz//a/show/168066104 data written.\n",
      "Car https://kolesa.kz//a/show/168860755 data written.\n",
      "Car https://kolesa.kz//a/show/162590942 data written.\n",
      "Car https://kolesa.kz//a/show/168701722 data written.\n",
      "Car https://kolesa.kz//a/show/168699500 data written.\n",
      "Car https://kolesa.kz//a/show/168857509 data written.\n",
      "Car https://kolesa.kz//a/show/168856905 data written.\n",
      "Car https://kolesa.kz//a/show/168128810 data written.\n",
      "Car https://kolesa.kz//a/show/168689328 data written.\n",
      "Car https://kolesa.kz//a/show/168120632 data written.\n",
      "Car https://kolesa.kz//a/show/168594962 data written.\n",
      "Car https://kolesa.kz//a/show/168104982 data written.\n",
      "Car https://kolesa.kz//a/show/168099459 data written.\n",
      "Car https://kolesa.kz//a/show/168561100 data written.\n",
      "Car https://kolesa.kz//a/show/168844857 data written.\n",
      "Car https://kolesa.kz//a/show/168280450 data written.\n",
      "Car https://kolesa.kz//a/show/168093233 data written.\n"
     ]
    },
    {
     "name": "stderr",
     "output_type": "stream",
     "text": [
      " 27%|██▋       | 108/400 [2:04:43<5:16:08, 64.96s/it]"
     ]
    },
    {
     "name": "stdout",
     "output_type": "stream",
     "text": [
      "Car https://kolesa.kz//a/show/168669486 data written.\n",
      "23\n",
      "iteration 109, finish\n",
      "Car https://kolesa.kz//a/show/168392594 data written.\n",
      "Car https://kolesa.kz//a/show/168338514 data written.\n",
      "Car https://kolesa.kz//a/show/166968444 data written.\n",
      "Car https://kolesa.kz//a/show/168093233 data written.\n",
      "Car https://kolesa.kz//a/show/168669486 data written.\n",
      "Car https://kolesa.kz//a/show/168844788 data written.\n",
      "Car https://kolesa.kz//a/show/161541323 data written.\n",
      "Car https://kolesa.kz//a/show/165907185 data written.\n",
      "Car https://kolesa.kz//a/show/168080324 data written.\n",
      "Car https://kolesa.kz//a/show/168499093 data written.\n",
      "Car https://kolesa.kz//a/show/148044591 data written.\n",
      "Car https://kolesa.kz//a/show/168667187 data written.\n",
      "Car https://kolesa.kz//a/show/168664084 data written.\n",
      "Car https://kolesa.kz//a/show/168662542 data written.\n",
      "Car https://kolesa.kz//a/show/168630603 data written.\n",
      "Car https://kolesa.kz//a/show/168061526 data written.\n",
      "Car https://kolesa.kz//a/show/168836031 data written.\n",
      "Car https://kolesa.kz//a/show/168017624 data written.\n",
      "Car https://kolesa.kz//a/show/168837400 data written.\n",
      "Car https://kolesa.kz//a/show/167875724 data written.\n",
      "Car https://kolesa.kz//a/show/160488077 data written.\n",
      "Car https://kolesa.kz//a/show/168014247 data written.\n"
     ]
    },
    {
     "name": "stderr",
     "output_type": "stream",
     "text": [
      " 27%|██▋       | 109/400 [2:05:48<5:15:52, 65.13s/it]"
     ]
    },
    {
     "name": "stdout",
     "output_type": "stream",
     "text": [
      "Car https://kolesa.kz//a/show/167767900 data written.\n",
      "23\n",
      "iteration 110, finish\n",
      "Car https://kolesa.kz//a/show/164075937 data written.\n",
      "Car https://kolesa.kz//a/show/168655342 data written.\n",
      "Car https://kolesa.kz//a/show/141159785 data written.\n",
      "Car https://kolesa.kz//a/show/168835544 data written.\n",
      "Car https://kolesa.kz//a/show/168835161 data written.\n",
      "Car https://kolesa.kz//a/show/168652495 data written.\n",
      "Car https://kolesa.kz//a/show/167911548 data written.\n",
      "Car https://kolesa.kz//a/show/164906385 data written.\n",
      "Car https://kolesa.kz//a/show/168870124 data written.\n",
      "Car https://kolesa.kz//a/show/168811398 data written.\n",
      "Car https://kolesa.kz//a/show/168053835 data written.\n",
      "Car https://kolesa.kz//a/show/164214636 data written.\n",
      "Car https://kolesa.kz//a/show/168870065 data written.\n",
      "Car https://kolesa.kz//a/show/168813809 data written.\n",
      "Car https://kolesa.kz//a/show/168182429 data written.\n",
      "Car https://kolesa.kz//a/show/168870200 data written.\n",
      "Car https://kolesa.kz//a/show/168809590 data written.\n",
      "Car https://kolesa.kz//a/show/168788785 data written.\n",
      "Car https://kolesa.kz//a/show/167672063 data written.\n",
      "Car https://kolesa.kz//a/show/167621952?fromUserSearch=1 data written.\n",
      "Car https://kolesa.kz//a/show/168433180 data written.\n",
      "Car https://kolesa.kz//a/show/168261873 data written.\n"
     ]
    },
    {
     "name": "stderr",
     "output_type": "stream",
     "text": [
      " 28%|██▊       | 110/400 [2:06:53<5:14:33, 65.08s/it]"
     ]
    },
    {
     "name": "stdout",
     "output_type": "stream",
     "text": [
      "Car https://kolesa.kz//a/show/168547183 data written.\n",
      "23\n",
      "iteration 111, finish\n",
      "Car https://kolesa.kz//a/show/168121666 data written.\n",
      "Car https://kolesa.kz//a/show/168305274 data written.\n",
      "Car https://kolesa.kz//a/show/168421080 data written.\n",
      "Car https://kolesa.kz//a/show/168547183 data written.\n",
      "Car https://kolesa.kz//a/show/168785365 data written.\n",
      "Car https://kolesa.kz//a/show/168542345 data written.\n",
      "Car https://kolesa.kz//a/show/168785811 data written.\n",
      "Car https://kolesa.kz//a/show/168781623 data written.\n",
      "Car https://kolesa.kz//a/show/168781729 data written.\n",
      "Car https://kolesa.kz//a/show/167857601 data written.\n",
      "Car https://kolesa.kz//a/show/165553564 data written.\n",
      "Car https://kolesa.kz//a/show/168520966 data written.\n",
      "Car https://kolesa.kz//a/show/168776851 data written.\n",
      "Car https://kolesa.kz//a/show/159253258 data written.\n",
      "Car https://kolesa.kz//a/show/167833811 data written.\n",
      "Car https://kolesa.kz//a/show/168524064 data written.\n",
      "Car https://kolesa.kz//a/show/168273420 data written.\n",
      "Car https://kolesa.kz//a/show/167445994 data written.\n",
      "Car https://kolesa.kz//a/show/161153521 data written.\n",
      "Car https://kolesa.kz//a/show/168767061 data written.\n",
      "Car https://kolesa.kz//a/show/167947977 data written.\n",
      "Car https://kolesa.kz//a/show/156075651 data written.\n"
     ]
    },
    {
     "name": "stderr",
     "output_type": "stream",
     "text": [
      " 28%|██▊       | 111/400 [2:07:59<5:13:36, 65.11s/it]"
     ]
    },
    {
     "name": "stdout",
     "output_type": "stream",
     "text": [
      "Car https://kolesa.kz//a/show/155959441 data written.\n",
      "23\n",
      "iteration 112, finish\n",
      "Car https://kolesa.kz//a/show/162743512 data written.\n",
      "Car https://kolesa.kz//a/show/168515654 data written.\n",
      "Car https://kolesa.kz//a/show/163043425 data written.\n",
      "Car https://kolesa.kz//a/show/168520966 data written.\n",
      "Car https://kolesa.kz//a/show/168776851 data written.\n",
      "Car https://kolesa.kz//a/show/159253258 data written.\n",
      "Car https://kolesa.kz//a/show/167833811 data written.\n",
      "Car https://kolesa.kz//a/show/168524064 data written.\n",
      "Car https://kolesa.kz//a/show/168273420 data written.\n",
      "Car https://kolesa.kz//a/show/167445994 data written.\n",
      "Car https://kolesa.kz//a/show/161153521 data written.\n",
      "Car https://kolesa.kz//a/show/168767061 data written.\n",
      "Car https://kolesa.kz//a/show/167947977 data written.\n",
      "Car https://kolesa.kz//a/show/156075651 data written.\n",
      "Car https://kolesa.kz//a/show/155959441 data written.\n",
      "Car https://kolesa.kz//a/show/168760120 data written.\n",
      "Car https://kolesa.kz//a/show/168388175 data written.\n",
      "Car https://kolesa.kz//a/show/168758906 data written.\n",
      "Car https://kolesa.kz//a/show/168758493 data written.\n",
      "Car https://kolesa.kz//a/show/168492276 data written.\n",
      "Car https://kolesa.kz//a/show/168756423 data written.\n",
      "Car https://kolesa.kz//a/show/168488249 data written.\n"
     ]
    },
    {
     "name": "stderr",
     "output_type": "stream",
     "text": [
      " 28%|██▊       | 112/400 [2:09:06<5:15:25, 65.71s/it]"
     ]
    },
    {
     "name": "stdout",
     "output_type": "stream",
     "text": [
      "Car https://kolesa.kz//a/show/168487416 data written.\n",
      "23\n",
      "iteration 113, finish\n",
      "Car https://kolesa.kz//a/show/168134090 data written.\n",
      "Car https://kolesa.kz//a/show/168482285 data written.\n",
      "Car https://kolesa.kz//a/show/168761265 data written.\n",
      "Car https://kolesa.kz//a/show/168702910 data written.\n",
      "Car https://kolesa.kz//a/show/168433738 data written.\n",
      "Car https://kolesa.kz//a/show/168472031 data written.\n",
      "Car https://kolesa.kz//a/show/168373942 data written.\n",
      "Car https://kolesa.kz//a/show/168737454 data written.\n",
      "Car https://kolesa.kz//a/show/156313813 data written.\n",
      "Car https://kolesa.kz//a/show/143278562 data written.\n",
      "Car https://kolesa.kz//a/show/167444201 data written.\n",
      "Car https://kolesa.kz//a/show/165670761 data written.\n",
      "Car https://kolesa.kz//a/show/168446712 data written.\n",
      "Car https://kolesa.kz//a/show/167155348 data written.\n",
      "Car https://kolesa.kz//a/show/168434155 data written.\n",
      "Car https://kolesa.kz//a/show/168325950 data written.\n",
      "Car https://kolesa.kz//a/show/168437089 data written.\n",
      "Car https://kolesa.kz//a/show/168438329 data written.\n",
      "Car https://kolesa.kz//a/show/150123308 data written.\n",
      "Car https://kolesa.kz//a/show/164424071 data written.\n",
      "Car https://kolesa.kz//a/show/159317508 data written.\n",
      "Car https://kolesa.kz//a/show/166342058 data written.\n"
     ]
    },
    {
     "name": "stderr",
     "output_type": "stream",
     "text": [
      " 28%|██▊       | 113/400 [2:10:11<5:13:59, 65.64s/it]"
     ]
    },
    {
     "name": "stdout",
     "output_type": "stream",
     "text": [
      "Car https://kolesa.kz//a/show/167772764 data written.\n",
      "23\n",
      "iteration 114, finish\n",
      "Car https://kolesa.kz//a/show/155536626 data written.\n",
      "Car https://kolesa.kz//a/show/168484403 data written.\n",
      "Car https://kolesa.kz//a/show/166151142 data written.\n",
      "Car https://kolesa.kz//a/show/166342058 data written.\n",
      "Car https://kolesa.kz//a/show/167772764 data written.\n",
      "Car https://kolesa.kz//a/show/167096423 data written.\n",
      "Car https://kolesa.kz//a/show/168398453 data written.\n",
      "Car https://kolesa.kz//a/show/168397264 data written.\n",
      "Car https://kolesa.kz//a/show/155510969 data written.\n",
      "Car https://kolesa.kz//a/show/168393254 data written.\n",
      "Car https://kolesa.kz//a/show/168392372 data written.\n",
      "Car https://kolesa.kz//a/show/142531028 data written.\n",
      "Car https://kolesa.kz//a/show/168708735 data written.\n",
      "Car https://kolesa.kz//a/show/168703522 data written.\n",
      "Car https://kolesa.kz//a/show/168371481 data written.\n",
      "Car https://kolesa.kz//a/show/168694205 data written.\n",
      "Car https://kolesa.kz//a/show/168686446 data written.\n",
      "Car https://kolesa.kz//a/show/164202587 data written.\n",
      "Car https://kolesa.kz//a/show/168362842 data written.\n",
      "Car https://kolesa.kz//a/show/168305177 data written.\n",
      "Car https://kolesa.kz//a/show/168868190 data written.\n",
      "Car https://kolesa.kz//a/show/168320262 data written.\n"
     ]
    },
    {
     "name": "stderr",
     "output_type": "stream",
     "text": [
      " 28%|██▊       | 114/400 [2:11:17<5:13:10, 65.70s/it]"
     ]
    },
    {
     "name": "stdout",
     "output_type": "stream",
     "text": [
      "Car https://kolesa.kz//a/show/168374779 data written.\n",
      "23\n",
      "iteration 115, finish\n",
      "Car https://kolesa.kz//a/show/148443432 data written.\n",
      "Car https://kolesa.kz//a/show/168585465 data written.\n",
      "Car https://kolesa.kz//a/show/167604896 data written.\n",
      "Car https://kolesa.kz//a/show/160673135 data written.\n",
      "Car https://kolesa.kz//a/show/168345198 data written.\n",
      "Car https://kolesa.kz//a/show/168867874 data written.\n",
      "Car https://kolesa.kz//a/show/168340964 data written.\n",
      "Car https://kolesa.kz//a/show/161330638 data written.\n",
      "Car https://kolesa.kz//a/show/165846218 data written.\n",
      "Car https://kolesa.kz//a/show/159949526 data written.\n",
      "Car https://kolesa.kz//a/show/168446652 data written.\n",
      "Car https://kolesa.kz//a/show/168326809 data written.\n",
      "Car https://kolesa.kz//a/show/168676537 data written.\n",
      "Car https://kolesa.kz//a/show/168864286 data written.\n",
      "Car https://kolesa.kz//a/show/168325155 data written.\n",
      "Car https://kolesa.kz//a/show/168863826 data written.\n",
      "Car https://kolesa.kz//a/show/168664121 data written.\n",
      "Car https://kolesa.kz//a/show/168320526 data written.\n",
      "Car https://kolesa.kz//a/show/168663716 data written.\n",
      "Car https://kolesa.kz//a/show/168376286 data written.\n",
      "Car https://kolesa.kz//a/show/168323194 data written.\n",
      "Car https://kolesa.kz//a/show/166182837 data written.\n"
     ]
    },
    {
     "name": "stderr",
     "output_type": "stream",
     "text": [
      " 29%|██▉       | 115/400 [2:12:22<5:10:35, 65.39s/it]"
     ]
    },
    {
     "name": "stdout",
     "output_type": "stream",
     "text": [
      "Car https://kolesa.kz//a/show/168765413 data written.\n",
      "23\n",
      "iteration 116, finish\n",
      "Car https://kolesa.kz//a/show/167474511 data written.\n",
      "Car https://kolesa.kz//a/show/168705854 data written.\n",
      "Car https://kolesa.kz//a/show/147651946 data written.\n",
      "Car https://kolesa.kz//a/show/168326809 data written.\n",
      "Car https://kolesa.kz//a/show/168676537 data written.\n",
      "Car https://kolesa.kz//a/show/168864286 data written.\n",
      "Car https://kolesa.kz//a/show/168325155 data written.\n",
      "Car https://kolesa.kz//a/show/168863826 data written.\n",
      "Car https://kolesa.kz//a/show/168664121 data written.\n",
      "Car https://kolesa.kz//a/show/168320526 data written.\n",
      "Car https://kolesa.kz//a/show/168663716 data written.\n",
      "Car https://kolesa.kz//a/show/168376286 data written.\n",
      "Car https://kolesa.kz//a/show/168323194 data written.\n",
      "Car https://kolesa.kz//a/show/166182837 data written.\n",
      "Car https://kolesa.kz//a/show/168765413 data written.\n",
      "Car https://kolesa.kz//a/show/168859934 data written.\n",
      "Car https://kolesa.kz//a/show/168858780 data written.\n",
      "Car https://kolesa.kz//a/show/168316128 data written.\n",
      "Car https://kolesa.kz//a/show/165714808 data written.\n",
      "Car https://kolesa.kz//a/show/168307314 data written.\n",
      "Car https://kolesa.kz//a/show/168857327 data written.\n",
      "Car https://kolesa.kz//a/show/168854733 data written.\n"
     ]
    },
    {
     "name": "stderr",
     "output_type": "stream",
     "text": [
      " 29%|██▉       | 116/400 [2:13:27<5:09:12, 65.32s/it]"
     ]
    },
    {
     "name": "stdout",
     "output_type": "stream",
     "text": [
      "Car https://kolesa.kz//a/show/168303791 data written.\n",
      "23\n",
      "iteration 117, finish\n",
      "Car https://kolesa.kz//a/show/168698310 data written.\n",
      "Car https://kolesa.kz//a/show/168758858 data written.\n",
      "Car https://kolesa.kz//a/show/168135986 data written.\n",
      "Car https://kolesa.kz//a/show/168303791 data written.\n",
      "Car https://kolesa.kz//a/show/139236581 data written.\n",
      "Car https://kolesa.kz//a/show/168856014 data written.\n",
      "Car https://kolesa.kz//a/show/168855343 data written.\n",
      "Car https://kolesa.kz//a/show/168262427 data written.\n",
      "Car https://kolesa.kz//a/show/168648698 data written.\n",
      "Car https://kolesa.kz//a/show/167348436 data written.\n",
      "Car https://kolesa.kz//a/show/168440918 data written.\n",
      "Car https://kolesa.kz//a/show/168854618 data written.\n",
      "Car https://kolesa.kz//a/show/168853927 data written.\n",
      "Car https://kolesa.kz//a/show/168645870 data written.\n",
      "Car https://kolesa.kz//a/show/168853560 data written.\n",
      "Car https://kolesa.kz//a/show/168644006 data written.\n",
      "Car https://kolesa.kz//a/show/168770479 data written.\n",
      "Car https://kolesa.kz//a/show/168631271 data written.\n",
      "Car https://kolesa.kz//a/show/167372312 data written.\n",
      "Car https://kolesa.kz//a/show/168264082 data written.\n",
      "Car https://kolesa.kz//a/show/168851903 data written.\n",
      "Car https://kolesa.kz//a/show/168225338 data written.\n"
     ]
    },
    {
     "name": "stderr",
     "output_type": "stream",
     "text": [
      " 29%|██▉       | 117/400 [2:14:32<5:08:30, 65.41s/it]"
     ]
    },
    {
     "name": "stdout",
     "output_type": "stream",
     "text": [
      "Car https://kolesa.kz//a/show/168628284 data written.\n",
      "23\n",
      "iteration 118, finish\n",
      "Car https://kolesa.kz//a/show/168631568 data written.\n",
      "Car https://kolesa.kz//a/show/168289312 data written.\n",
      "Car https://kolesa.kz//a/show/168237535 data written.\n",
      "Car https://kolesa.kz//a/show/168225338 data written.\n",
      "Car https://kolesa.kz//a/show/168628284 data written.\n",
      "Car https://kolesa.kz//a/show/167580345 data written.\n",
      "Car https://kolesa.kz//a/show/167441690 data written.\n",
      "Car https://kolesa.kz//a/show/168245104 data written.\n",
      "Car https://kolesa.kz//a/show/168223140 data written.\n",
      "Car https://kolesa.kz//a/show/168839768 data written.\n",
      "Car https://kolesa.kz//a/show/163275741 data written.\n",
      "Car https://kolesa.kz//a/show/164315029 data written.\n",
      "Car https://kolesa.kz//a/show/168235317 data written.\n",
      "Car https://kolesa.kz//a/show/168607691 data written.\n",
      "Car https://kolesa.kz//a/show/168832837 data written.\n",
      "Car https://kolesa.kz//a/show/168024437 data written.\n",
      "Car https://kolesa.kz//a/show/168616595 data written.\n",
      "Car https://kolesa.kz//a/show/168832890 data written.\n",
      "Car https://kolesa.kz//a/show/168218986 data written.\n",
      "Car https://kolesa.kz//a/show/168456896 data written.\n",
      "Car https://kolesa.kz//a/show/168213350 data written.\n",
      "Car https://kolesa.kz//a/show/168208663 data written.\n"
     ]
    },
    {
     "name": "stderr",
     "output_type": "stream",
     "text": [
      " 30%|██▉       | 118/400 [2:15:38<5:07:36, 65.45s/it]"
     ]
    },
    {
     "name": "stdout",
     "output_type": "stream",
     "text": [
      "Car https://kolesa.kz//a/show/168609227 data written.\n",
      "23\n",
      "iteration 119, finish\n",
      "Car https://kolesa.kz//a/show/168653362 data written.\n",
      "Car https://kolesa.kz//a/show/168384192 data written.\n",
      "Car https://kolesa.kz//a/show/167306020 data written.\n",
      "Car https://kolesa.kz//a/show/168830861 data written.\n",
      "Car https://kolesa.kz//a/show/168604507 data written.\n",
      "Car https://kolesa.kz//a/show/168828174 data written.\n",
      "Car https://kolesa.kz//a/show/160771886 data written.\n",
      "Car https://kolesa.kz//a/show/168180394 data written.\n",
      "Car https://kolesa.kz//a/show/168802709 data written.\n",
      "Car https://kolesa.kz//a/show/167594478 data written.\n",
      "Car https://kolesa.kz//a/show/168167386 data written.\n",
      "Car https://kolesa.kz//a/show/168824974 data written.\n",
      "Car https://kolesa.kz//a/show/168797630 data written.\n",
      "Car https://kolesa.kz//a/show/165595464 data written.\n",
      "Car https://kolesa.kz//a/show/166772210 data written.\n",
      "Car https://kolesa.kz//a/show/168822121 data written.\n",
      "Car https://kolesa.kz//a/show/167757236 data written.\n",
      "Car https://kolesa.kz//a/show/168822622 data written.\n",
      "Car https://kolesa.kz//a/show/168138179 data written.\n",
      "Car https://kolesa.kz//a/show/168822272 data written.\n",
      "Car https://kolesa.kz//a/show/168581098 data written.\n",
      "Car https://kolesa.kz//a/show/168822143 data written.\n"
     ]
    },
    {
     "name": "stderr",
     "output_type": "stream",
     "text": [
      " 30%|██▉       | 119/400 [2:16:44<5:07:44, 65.71s/it]"
     ]
    },
    {
     "name": "stdout",
     "output_type": "stream",
     "text": [
      "Car https://kolesa.kz//a/show/168131500 data written.\n",
      "23\n",
      "iteration 120, finish\n",
      "Car https://kolesa.kz//a/show/164616218 data written.\n",
      "Car https://kolesa.kz//a/show/167258775 data written.\n",
      "Car https://kolesa.kz//a/show/164234011 data written.\n",
      "Car https://kolesa.kz//a/show/168131500 data written.\n",
      "Car https://kolesa.kz//a/show/168821478 data written.\n",
      "Car https://kolesa.kz//a/show/166153243 data written.\n",
      "Car https://kolesa.kz//a/show/168578855 data written.\n",
      "Car https://kolesa.kz//a/show/167932272 data written.\n",
      "Car https://kolesa.kz//a/show/168578095 data written.\n",
      "Car https://kolesa.kz//a/show/168808381 data written.\n",
      "Car https://kolesa.kz//a/show/168577989 data written.\n",
      "Car https://kolesa.kz//a/show/160096975 data written.\n",
      "Car https://kolesa.kz//a/show/168110637 data written.\n",
      "Car https://kolesa.kz//a/show/168571886 data written.\n",
      "Car https://kolesa.kz//a/show/168110094 data written.\n",
      "Car https://kolesa.kz//a/show/168571385 data written.\n",
      "Car https://kolesa.kz//a/show/168101971 data written.\n",
      "Car https://kolesa.kz//a/show/168072495 data written.\n",
      "Car https://kolesa.kz//a/show/168524948 data written.\n",
      "Car https://kolesa.kz//a/show/168815940 data written.\n",
      "Car https://kolesa.kz//a/show/168069677 data written.\n",
      "Car https://kolesa.kz//a/show/168072088 data written.\n"
     ]
    },
    {
     "name": "stderr",
     "output_type": "stream",
     "text": [
      " 30%|███       | 120/400 [2:17:51<5:08:22, 66.08s/it]"
     ]
    },
    {
     "name": "stdout",
     "output_type": "stream",
     "text": [
      "Car https://kolesa.kz//a/show/168808854 data written.\n",
      "23\n",
      "iteration 121, finish\n",
      "Car https://kolesa.kz//a/show/168546895 data written.\n",
      "Car https://kolesa.kz//a/show/168656746 data written.\n",
      "Car https://kolesa.kz//a/show/167414239 data written.\n",
      "Car https://kolesa.kz//a/show/168578095 data written.\n",
      "Car https://kolesa.kz//a/show/168808381 data written.\n",
      "Car https://kolesa.kz//a/show/168577989 data written.\n",
      "Car https://kolesa.kz//a/show/160096975 data written.\n",
      "Car https://kolesa.kz//a/show/168110637 data written.\n",
      "Car https://kolesa.kz//a/show/168571886 data written.\n",
      "Car https://kolesa.kz//a/show/168110094 data written.\n",
      "Car https://kolesa.kz//a/show/168571385 data written.\n",
      "Car https://kolesa.kz//a/show/168101971 data written.\n",
      "Car https://kolesa.kz//a/show/168072495 data written.\n",
      "Car https://kolesa.kz//a/show/168524948 data written.\n",
      "Car https://kolesa.kz//a/show/168815940 data written.\n",
      "Car https://kolesa.kz//a/show/168069677 data written.\n",
      "Car https://kolesa.kz//a/show/168072088 data written.\n",
      "Car https://kolesa.kz//a/show/168808854 data written.\n",
      "Car https://kolesa.kz//a/show/168808024 data written.\n",
      "Car https://kolesa.kz//a/show/168063740 data written.\n",
      "Car https://kolesa.kz//a/show/168803019 data written.\n",
      "Car https://kolesa.kz//a/show/168802065 data written.\n"
     ]
    },
    {
     "name": "stderr",
     "output_type": "stream",
     "text": [
      " 30%|███       | 121/400 [2:18:58<5:07:30, 66.13s/it]"
     ]
    },
    {
     "name": "stdout",
     "output_type": "stream",
     "text": [
      "Car https://kolesa.kz//a/show/168794486 data written.\n",
      "23\n",
      "iteration 122, finish\n",
      "Car https://kolesa.kz//a/show/168542154 data written.\n",
      "Car https://kolesa.kz//a/show/168712588 data written.\n",
      "Car https://kolesa.kz//a/show/168210266 data written.\n",
      "Car https://kolesa.kz//a/show/168803019 data written.\n",
      "Car https://kolesa.kz//a/show/168802065 data written.\n",
      "Car https://kolesa.kz//a/show/168794486 data written.\n",
      "Car https://kolesa.kz//a/show/168794149 data written.\n",
      "Car https://kolesa.kz//a/show/165798167 data written.\n",
      "Car https://kolesa.kz//a/show/164959123 data written.\n",
      "Car https://kolesa.kz//a/show/168869557 data written.\n",
      "Car https://kolesa.kz//a/show/168708181 data written.\n",
      "Car https://kolesa.kz//a/show/161044810 data written.\n",
      "Car https://kolesa.kz//a/show/168870199 data written.\n",
      "Car https://kolesa.kz//a/show/165949887 data written.\n",
      "Car https://kolesa.kz//a/show/165179892 data written.\n",
      "Car https://kolesa.kz//a/show/164697021 data written.\n",
      "Car https://kolesa.kz//a/show/168365142 data written.\n",
      "Car https://kolesa.kz//a/show/168094079 data written.\n",
      "Car https://kolesa.kz//a/show/168747821 data written.\n",
      "Car https://kolesa.kz//a/show/168143780 data written.\n",
      "Car https://kolesa.kz//a/show/168565217 data written.\n",
      "Car https://kolesa.kz//a/show/167520929 data written.\n"
     ]
    },
    {
     "name": "stderr",
     "output_type": "stream",
     "text": [
      " 30%|███       | 122/400 [2:20:03<5:05:48, 66.00s/it]"
     ]
    },
    {
     "name": "stdout",
     "output_type": "stream",
     "text": [
      "Car https://kolesa.kz//a/show/165372428 data written.\n",
      "23\n",
      "iteration 123, finish\n",
      "Car https://kolesa.kz//a/show/168367459 data written.\n",
      "Car https://kolesa.kz//a/show/168646816 data written.\n",
      "Car https://kolesa.kz//a/show/165988563 data written.\n",
      "Car https://kolesa.kz//a/show/168558816 data written.\n",
      "Car https://kolesa.kz//a/show/168553421 data written.\n",
      "Car https://kolesa.kz//a/show/168552598 data written.\n",
      "Car https://kolesa.kz//a/show/161645354 data written.\n",
      "Car https://kolesa.kz//a/show/168057611 data written.\n",
      "Car https://kolesa.kz//a/show/156824294 data written.\n",
      "Car https://kolesa.kz//a/show/167700543 data written.\n",
      "Car https://kolesa.kz//a/show/168540295 data written.\n",
      "Car https://kolesa.kz//a/show/168529755 data written.\n",
      "Car https://kolesa.kz//a/show/168531248 data written.\n",
      "Car https://kolesa.kz//a/show/168522919 data written.\n",
      "Car https://kolesa.kz//a/show/168517249 data written.\n",
      "Car https://kolesa.kz//a/show/168510050 data written.\n",
      "Car https://kolesa.kz//a/show/168509714 data written.\n",
      "Car https://kolesa.kz//a/show/168504277 data written.\n",
      "Car https://kolesa.kz//a/show/168812357 data written.\n",
      "Car https://kolesa.kz//a/show/168810152 data written.\n",
      "Car https://kolesa.kz//a/show/168497612 data written.\n",
      "Car https://kolesa.kz//a/show/168809874 data written.\n"
     ]
    },
    {
     "name": "stderr",
     "output_type": "stream",
     "text": [
      " 31%|███       | 123/400 [2:21:08<5:03:07, 65.66s/it]"
     ]
    },
    {
     "name": "stdout",
     "output_type": "stream",
     "text": [
      "Car https://kolesa.kz//a/show/168695360 data written.\n",
      "23\n",
      "iteration 124, finish\n",
      "Car https://kolesa.kz//a/show/168828420 data written.\n",
      "Car https://kolesa.kz//a/show/168799021 data written.\n",
      "Car https://kolesa.kz//a/show/167872941 data written.\n",
      "Car https://kolesa.kz//a/show/168809874 data written.\n",
      "Car https://kolesa.kz//a/show/168695360 data written.\n",
      "Car https://kolesa.kz//a/show/168495327 data written.\n",
      "Car https://kolesa.kz//a/show/168809290 data written.\n",
      "Car https://kolesa.kz//a/show/168806660 data written.\n",
      "Car https://kolesa.kz//a/show/168806161 data written.\n",
      "Car https://kolesa.kz//a/show/168804020 data written.\n",
      "Car https://kolesa.kz//a/show/168797012 data written.\n",
      "Car https://kolesa.kz//a/show/168490267 data written.\n",
      "Car https://kolesa.kz//a/show/168788789 data written.\n",
      "Car https://kolesa.kz//a/show/168666664 data written.\n",
      "Car https://kolesa.kz//a/show/168491509 data written.\n",
      "Car https://kolesa.kz//a/show/168422404 data written.\n",
      "Car https://kolesa.kz//a/show/168785561 data written.\n",
      "Car https://kolesa.kz//a/show/168481775 data written.\n",
      "Car https://kolesa.kz//a/show/168783162 data written.\n",
      "Car https://kolesa.kz//a/show/168479479 data written.\n",
      "Car https://kolesa.kz//a/show/168470771 data written.\n",
      "Car https://kolesa.kz//a/show/168774846 data written.\n"
     ]
    },
    {
     "name": "stderr",
     "output_type": "stream",
     "text": [
      " 31%|███       | 124/400 [2:22:13<5:01:39, 65.58s/it]"
     ]
    },
    {
     "name": "stdout",
     "output_type": "stream",
     "text": [
      "Car https://kolesa.kz//a/show/168458615 data written.\n",
      "23\n",
      "iteration 125, finish\n",
      "Car https://kolesa.kz//a/show/160793069 data written.\n",
      "Car https://kolesa.kz//a/show/167744201 data written.\n",
      "Car https://kolesa.kz//a/show/167566665 data written.\n",
      "Car https://kolesa.kz//a/show/168490267 data written.\n",
      "Car https://kolesa.kz//a/show/168788789 data written.\n",
      "Car https://kolesa.kz//a/show/168666664 data written.\n",
      "Car https://kolesa.kz//a/show/168491509 data written.\n",
      "Car https://kolesa.kz//a/show/168422404 data written.\n",
      "Car https://kolesa.kz//a/show/168785561 data written.\n",
      "Car https://kolesa.kz//a/show/168481775 data written.\n",
      "Car https://kolesa.kz//a/show/168783162 data written.\n",
      "Car https://kolesa.kz//a/show/168479479 data written.\n",
      "Car https://kolesa.kz//a/show/168470771 data written.\n",
      "Car https://kolesa.kz//a/show/168774846 data written.\n",
      "Car https://kolesa.kz//a/show/168458615 data written.\n",
      "Car https://kolesa.kz//a/show/165069846 data written.\n",
      "Car https://kolesa.kz//a/show/167208085 data written.\n",
      "Car https://kolesa.kz//a/show/168771007 data written.\n",
      "Car https://kolesa.kz//a/show/168448369 data written.\n",
      "Car https://kolesa.kz//a/show/167737153 data written.\n",
      "Car https://kolesa.kz//a/show/166925058 data written.\n",
      "Car https://kolesa.kz//a/show/168357047 data written.\n"
     ]
    },
    {
     "name": "stderr",
     "output_type": "stream",
     "text": [
      " 31%|███▏      | 125/400 [2:23:19<5:00:38, 65.59s/it]"
     ]
    },
    {
     "name": "stdout",
     "output_type": "stream",
     "text": [
      "Car https://kolesa.kz//a/show/168622161 data written.\n",
      "23\n",
      "iteration 126, finish\n",
      "Car https://kolesa.kz//a/show/168736667 data written.\n",
      "Car https://kolesa.kz//a/show/168776063 data written.\n",
      "Car https://kolesa.kz//a/show/168732707 data written.\n",
      "Car https://kolesa.kz//a/show/167818725 data written.\n",
      "Car https://kolesa.kz//a/show/168516828 data written.\n",
      "Car https://kolesa.kz//a/show/168421824 data written.\n",
      "Car https://kolesa.kz//a/show/168418428 data written.\n",
      "Car https://kolesa.kz//a/show/160408760 data written.\n",
      "Car https://kolesa.kz//a/show/168360778 data written.\n",
      "Car https://kolesa.kz//a/show/168763255 data written.\n",
      "Car https://kolesa.kz//a/show/167229055 data written.\n",
      "Car https://kolesa.kz//a/show/168320237 data written.\n",
      "Car https://kolesa.kz//a/show/168759220 data written.\n",
      "Car https://kolesa.kz//a/show/166086759 data written.\n",
      "Car https://kolesa.kz//a/show/167981915 data written.\n",
      "Car https://kolesa.kz//a/show/167267642 data written.\n",
      "Car https://kolesa.kz//a/show/168748338 data written.\n",
      "Car https://kolesa.kz//a/show/166114809 data written.\n",
      "Car https://kolesa.kz//a/show/168389772 data written.\n",
      "Car https://kolesa.kz//a/show/168744073 data written.\n",
      "Car https://kolesa.kz//a/show/166667195 data written.\n",
      "Car https://kolesa.kz//a/show/167068871 data written.\n"
     ]
    },
    {
     "name": "stderr",
     "output_type": "stream",
     "text": [
      " 32%|███▏      | 126/400 [2:24:24<4:59:06, 65.50s/it]"
     ]
    },
    {
     "name": "stdout",
     "output_type": "stream",
     "text": [
      "Car https://kolesa.kz//a/show/168374762 data written.\n",
      "23\n",
      "iteration 127, finish\n",
      "Car https://kolesa.kz//a/show/166867003 data written.\n",
      "Car https://kolesa.kz//a/show/167120732 data written.\n",
      "Car https://kolesa.kz//a/show/166624335 data written.\n",
      "Car https://kolesa.kz//a/show/168374762 data written.\n",
      "Car https://kolesa.kz//a/show/168627617 data written.\n",
      "Car https://kolesa.kz//a/show/165838801 data written.\n",
      "Car https://kolesa.kz//a/show/168137107 data written.\n",
      "Car https://kolesa.kz//a/show/166515227 data written.\n",
      "Car https://kolesa.kz//a/show/168351799 data written.\n",
      "Car https://kolesa.kz//a/show/168728771 data written.\n",
      "Car https://kolesa.kz//a/show/168258247 data written.\n",
      "Car https://kolesa.kz//a/show/168727843 data written.\n",
      "Car https://kolesa.kz//a/show/167444276 data written.\n",
      "Car https://kolesa.kz//a/show/168037855 data written.\n",
      "Car https://kolesa.kz//a/show/168332803 data written.\n",
      "Car https://kolesa.kz//a/show/168868002 data written.\n",
      "Car https://kolesa.kz//a/show/158206131 data written.\n",
      "Car https://kolesa.kz//a/show/168866570 data written.\n",
      "Car https://kolesa.kz//a/show/167450338 data written.\n",
      "Car https://kolesa.kz//a/show/168867686 data written.\n",
      "Car https://kolesa.kz//a/show/168256600 data written.\n",
      "Car https://kolesa.kz//a/show/168706682 data written.\n"
     ]
    },
    {
     "name": "stderr",
     "output_type": "stream",
     "text": [
      " 32%|███▏      | 127/400 [2:25:32<5:00:18, 66.00s/it]"
     ]
    },
    {
     "name": "stdout",
     "output_type": "stream",
     "text": [
      "Car https://kolesa.kz//a/show/168705372 data written.\n",
      "23\n",
      "iteration 128, finish\n",
      "Car https://kolesa.kz//a/show/168598655 data written.\n",
      "Car https://kolesa.kz//a/show/168477025 data written.\n",
      "Car https://kolesa.kz//a/show/159481085 data written.\n",
      "Car https://kolesa.kz//a/show/168702002 data written.\n",
      "Car https://kolesa.kz//a/show/168215424 data written.\n",
      "Car https://kolesa.kz//a/show/168700011 data written.\n",
      "Car https://kolesa.kz//a/show/168290339 data written.\n",
      "Car https://kolesa.kz//a/show/168287895 data written.\n",
      "Car https://kolesa.kz//a/show/168698090 data written.\n",
      "Car https://kolesa.kz//a/show/168280038 data written.\n",
      "Car https://kolesa.kz//a/show/166332776 data written.\n",
      "Car https://kolesa.kz//a/show/168693417 data written.\n",
      "Car https://kolesa.kz//a/show/168691153 data written.\n",
      "Car https://kolesa.kz//a/show/168688961 data written.\n",
      "Car https://kolesa.kz//a/show/168687172 data written.\n",
      "Car https://kolesa.kz//a/show/168392382 data written.\n",
      "Car https://kolesa.kz//a/show/167920928 data written.\n",
      "Car https://kolesa.kz//a/show/168862268 data written.\n",
      "Car https://kolesa.kz//a/show/168226904 data written.\n",
      "Car https://kolesa.kz//a/show/168861272 data written.\n",
      "Car https://kolesa.kz//a/show/168859413 data written.\n",
      "Car https://kolesa.kz//a/show/168679607 data written.\n"
     ]
    },
    {
     "name": "stderr",
     "output_type": "stream",
     "text": [
      " 32%|███▏      | 128/400 [2:26:36<4:57:31, 65.63s/it]"
     ]
    },
    {
     "name": "stdout",
     "output_type": "stream",
     "text": [
      "Car https://kolesa.kz//a/show/168397261 data written.\n",
      "23\n",
      "iteration 129, finish\n",
      "Car https://kolesa.kz//a/show/165855649 data written.\n",
      "Car https://kolesa.kz//a/show/168792415 data written.\n",
      "Car https://kolesa.kz//a/show/168501762 data written.\n",
      "Car https://kolesa.kz//a/show/168679607 data written.\n",
      "Car https://kolesa.kz//a/show/168397261 data written.\n",
      "Car https://kolesa.kz//a/show/168679115 data written.\n",
      "Car https://kolesa.kz//a/show/168858275 data written.\n",
      "Car https://kolesa.kz//a/show/168231619 data written.\n",
      "Car https://kolesa.kz//a/show/164594143 data written.\n",
      "Car https://kolesa.kz//a/show/157196083 data written.\n",
      "Car https://kolesa.kz//a/show/168584782 data written.\n",
      "Car https://kolesa.kz//a/show/167712827 data written.\n",
      "Car https://kolesa.kz//a/show/168221972 data written.\n",
      "Car https://kolesa.kz//a/show/168668988 data written.\n",
      "Car https://kolesa.kz//a/show/167539901 data written.\n",
      "Car https://kolesa.kz//a/show/168221343 data written.\n",
      "Car https://kolesa.kz//a/show/168222928 data written.\n",
      "Car https://kolesa.kz//a/show/167133181 data written.\n",
      "Car https://kolesa.kz//a/show/168849760 data written.\n",
      "Car https://kolesa.kz//a/show/168329447 data written.\n",
      "Car https://kolesa.kz//a/show/168194795 data written.\n",
      "Car https://kolesa.kz//a/show/167311870 data written.\n"
     ]
    },
    {
     "name": "stderr",
     "output_type": "stream",
     "text": [
      " 32%|███▏      | 129/400 [2:27:41<4:55:43, 65.48s/it]"
     ]
    },
    {
     "name": "stdout",
     "output_type": "stream",
     "text": [
      "Car https://kolesa.kz//a/show/168765903 data written.\n",
      "23\n",
      "iteration 130, finish\n",
      "Car https://kolesa.kz//a/show/165792841 data written.\n",
      "Car https://kolesa.kz//a/show/168781705 data written.\n",
      "Car https://kolesa.kz//a/show/168475541 data written.\n",
      "Car https://kolesa.kz//a/show/168397261 data written.\n",
      "Car https://kolesa.kz//a/show/168679115 data written.\n",
      "Car https://kolesa.kz//a/show/168858275 data written.\n",
      "Car https://kolesa.kz//a/show/168231619 data written.\n",
      "Car https://kolesa.kz//a/show/164594143 data written.\n",
      "Car https://kolesa.kz//a/show/157196083 data written.\n",
      "Car https://kolesa.kz//a/show/168584782 data written.\n",
      "Car https://kolesa.kz//a/show/167712827 data written.\n",
      "Car https://kolesa.kz//a/show/168221972 data written.\n",
      "Car https://kolesa.kz//a/show/168668988 data written.\n",
      "Car https://kolesa.kz//a/show/167539901 data written.\n",
      "Car https://kolesa.kz//a/show/168221343 data written.\n",
      "Car https://kolesa.kz//a/show/168222928 data written.\n",
      "Car https://kolesa.kz//a/show/167133181 data written.\n",
      "Car https://kolesa.kz//a/show/168849760 data written.\n",
      "Car https://kolesa.kz//a/show/168329447 data written.\n",
      "Car https://kolesa.kz//a/show/168194795 data written.\n",
      "Car https://kolesa.kz//a/show/167311870 data written.\n",
      "Car https://kolesa.kz//a/show/168765903 data written.\n"
     ]
    },
    {
     "name": "stderr",
     "output_type": "stream",
     "text": [
      " 32%|███▎      | 130/400 [2:28:48<4:56:38, 65.92s/it]"
     ]
    },
    {
     "name": "stdout",
     "output_type": "stream",
     "text": [
      "Car https://kolesa.kz//a/show/168187029 data written.\n",
      "23\n",
      "iteration 131, finish\n",
      "Car https://kolesa.kz//a/show/167491019 data written.\n",
      "Car https://kolesa.kz//a/show/168754801 data written.\n",
      "Car https://kolesa.kz//a/show/168302018 data written.\n",
      "Car https://kolesa.kz//a/show/168187029 data written.\n",
      "Car https://kolesa.kz//a/show/142492433 data written.\n",
      "Car https://kolesa.kz//a/show/168186990 data written.\n",
      "Car https://kolesa.kz//a/show/161257669 data written.\n",
      "Car https://kolesa.kz//a/show/168741959 data written.\n",
      "Car https://kolesa.kz//a/show/168182199 data written.\n",
      "Car https://kolesa.kz//a/show/168560187 data written.\n",
      "Car https://kolesa.kz//a/show/168180078 data written.\n",
      "Car https://kolesa.kz//a/show/168172149 data written.\n",
      "Car https://kolesa.kz//a/show/168651860 data written.\n",
      "Car https://kolesa.kz//a/show/168647731 data written.\n",
      "Car https://kolesa.kz//a/show/168838748 data written.\n",
      "Car https://kolesa.kz//a/show/166133307 data written.\n",
      "Car https://kolesa.kz//a/show/168414852 data written.\n",
      "Car https://kolesa.kz//a/show/162536506 data written.\n",
      "Car https://kolesa.kz//a/show/168137193 data written.\n",
      "Car https://kolesa.kz//a/show/163311403 data written.\n",
      "Car https://kolesa.kz//a/show/168715534 data written.\n",
      "Car https://kolesa.kz//a/show/168249618 data written.\n"
     ]
    },
    {
     "name": "stderr",
     "output_type": "stream",
     "text": [
      " 33%|███▎      | 131/400 [2:29:54<4:54:34, 65.70s/it]"
     ]
    },
    {
     "name": "stdout",
     "output_type": "stream",
     "text": [
      "Car https://kolesa.kz//a/show/168831884 data written.\n",
      "23\n",
      "iteration 132, finish\n",
      "Car https://kolesa.kz//a/show/168314980 data written.\n",
      "Car https://kolesa.kz//a/show/168585465 data written.\n",
      "Car https://kolesa.kz//a/show/167702761 data written.\n",
      "Car https://kolesa.kz//a/show/168715534 data written.\n",
      "Car https://kolesa.kz//a/show/168249618 data written.\n",
      "Car https://kolesa.kz//a/show/168831884 data written.\n",
      "Car https://kolesa.kz//a/show/168639827 data written.\n",
      "Car https://kolesa.kz//a/show/168113902 data written.\n",
      "Car https://kolesa.kz//a/show/162123080 data written.\n",
      "Car https://kolesa.kz//a/show/168826855 data written.\n",
      "Car https://kolesa.kz//a/show/168104773 data written.\n",
      "Car https://kolesa.kz//a/show/168826927 data written.\n",
      "Car https://kolesa.kz//a/show/168638457 data written.\n",
      "Car https://kolesa.kz//a/show/168826564 data written.\n",
      "Car https://kolesa.kz//a/show/168825265 data written.\n",
      "Car https://kolesa.kz//a/show/168173538 data written.\n",
      "Car https://kolesa.kz//a/show/168824277 data written.\n",
      "Car https://kolesa.kz//a/show/168823220 data written.\n",
      "Car https://kolesa.kz//a/show/168632751 data written.\n",
      "Car https://kolesa.kz//a/show/168821482 data written.\n",
      "Car https://kolesa.kz//a/show/151755195 data written.\n",
      "Car https://kolesa.kz//a/show/168618007 data written.\n"
     ]
    },
    {
     "name": "stderr",
     "output_type": "stream",
     "text": [
      " 33%|███▎      | 132/400 [2:30:59<4:53:09, 65.63s/it]"
     ]
    },
    {
     "name": "stdout",
     "output_type": "stream",
     "text": [
      "Car https://kolesa.kz//a/show/168615874 data written.\n",
      "23\n",
      "iteration 133, finish\n",
      "Car https://kolesa.kz//a/show/161966876 data written.\n",
      "Car https://kolesa.kz//a/show/168101076 data written.\n",
      "Car https://kolesa.kz//a/show/168778392 data written.\n",
      "Car https://kolesa.kz//a/show/151755195 data written.\n",
      "Car https://kolesa.kz//a/show/168618007 data written.\n",
      "Car https://kolesa.kz//a/show/168615874 data written.\n",
      "Car https://kolesa.kz//a/show/164124877 data written.\n",
      "Car https://kolesa.kz//a/show/168612940 data written.\n",
      "Car https://kolesa.kz//a/show/168601803 data written.\n",
      "Car https://kolesa.kz//a/show/168599075 data written.\n",
      "Car https://kolesa.kz//a/show/161827082 data written.\n",
      "Car https://kolesa.kz//a/show/168059379 data written.\n",
      "Car https://kolesa.kz//a/show/167896689 data written.\n",
      "Car https://kolesa.kz//a/show/166535008 data written.\n",
      "Car https://kolesa.kz//a/show/168592873 data written.\n",
      "Car https://kolesa.kz//a/show/168588130 data written.\n",
      "Car https://kolesa.kz//a/show/168302963 data written.\n",
      "Car https://kolesa.kz//a/show/167062656 data written.\n",
      "Car https://kolesa.kz//a/show/167607617 data written.\n",
      "Car https://kolesa.kz//a/show/168571352 data written.\n",
      "Car https://kolesa.kz//a/show/167597940 data written.\n",
      "Car https://kolesa.kz//a/show/168570097 data written.\n"
     ]
    },
    {
     "name": "stderr",
     "output_type": "stream",
     "text": [
      " 33%|███▎      | 133/400 [2:32:05<4:51:59, 65.62s/it]"
     ]
    },
    {
     "name": "stdout",
     "output_type": "stream",
     "text": [
      "Car https://kolesa.kz//a/show/167488364 data written.\n",
      "23\n",
      "iteration 134, finish\n",
      "Car https://kolesa.kz//a/show/165071945 data written.\n",
      "Car https://kolesa.kz//a/show/163909521 data written.\n",
      "Car https://kolesa.kz//a/show/168254719 data written.\n",
      "Car https://kolesa.kz//a/show/167597940 data written.\n",
      "Car https://kolesa.kz//a/show/168570097 data written.\n",
      "Car https://kolesa.kz//a/show/167488364 data written.\n",
      "Car https://kolesa.kz//a/show/167367432 data written.\n",
      "Car https://kolesa.kz//a/show/168567257 data written.\n",
      "Car https://kolesa.kz//a/show/166792740 data written.\n",
      "Car https://kolesa.kz//a/show/168566982 data written.\n",
      "Car https://kolesa.kz//a/show/160195167 data written.\n",
      "Car https://kolesa.kz//a/show/160152212 data written.\n",
      "Car https://kolesa.kz//a/show/168429297 data written.\n",
      "Car https://kolesa.kz//a/show/167870814 data written.\n",
      "Car https://kolesa.kz//a/show/167025965 data written.\n",
      "Car https://kolesa.kz//a/show/166693010 data written.\n",
      "Car https://kolesa.kz//a/show/165418650 data written.\n",
      "Car https://kolesa.kz//a/show/168237535 data written.\n",
      "Car https://kolesa.kz//a/show/161888028 data written.\n",
      "Car https://kolesa.kz//a/show/168737237 data written.\n",
      "Car https://kolesa.kz//a/show/168630537 data written.\n",
      "Car https://kolesa.kz//a/show/168630128 data written.\n"
     ]
    },
    {
     "name": "stderr",
     "output_type": "stream",
     "text": [
      " 34%|███▎      | 134/400 [2:33:10<4:50:16, 65.48s/it]"
     ]
    },
    {
     "name": "stdout",
     "output_type": "stream",
     "text": [
      "Car https://kolesa.kz//a/show/168521341 data written.\n",
      "23\n",
      "iteration 135, finish\n",
      "Car https://kolesa.kz//a/show/168577926 data written.\n",
      "Car https://kolesa.kz//a/show/147651946 data written.\n",
      "Car https://kolesa.kz//a/show/167059437 data written.\n",
      "Car https://kolesa.kz//a/show/160195167 data written.\n",
      "Car https://kolesa.kz//a/show/160152212 data written.\n",
      "Car https://kolesa.kz//a/show/168429297 data written.\n",
      "Car https://kolesa.kz//a/show/167870814 data written.\n",
      "Car https://kolesa.kz//a/show/167025965 data written.\n",
      "Car https://kolesa.kz//a/show/166693010 data written.\n",
      "Car https://kolesa.kz//a/show/165418650 data written.\n",
      "Car https://kolesa.kz//a/show/168237535 data written.\n",
      "Car https://kolesa.kz//a/show/161888028 data written.\n",
      "Car https://kolesa.kz//a/show/168737237 data written.\n",
      "Car https://kolesa.kz//a/show/168630537 data written.\n",
      "Car https://kolesa.kz//a/show/168630128 data written.\n",
      "Car https://kolesa.kz//a/show/168521341 data written.\n",
      "Car https://kolesa.kz//a/show/165662529 data written.\n",
      "Car https://kolesa.kz//a/show/163008249 data written.\n",
      "Car https://kolesa.kz//a/show/168537729 data written.\n",
      "Car https://kolesa.kz//a/show/168531814 data written.\n",
      "Car https://kolesa.kz//a/show/168529902 data written.\n",
      "Car https://kolesa.kz//a/show/168527727 data written.\n"
     ]
    },
    {
     "name": "stderr",
     "output_type": "stream",
     "text": [
      " 34%|███▍      | 135/400 [2:34:14<4:47:52, 65.18s/it]"
     ]
    },
    {
     "name": "stdout",
     "output_type": "stream",
     "text": [
      "Car https://kolesa.kz//a/show/168777153 data written.\n",
      "23\n",
      "iteration 136, finish\n",
      "Car https://kolesa.kz//a/show/168784290 data written.\n",
      "Car https://kolesa.kz//a/show/168392594 data written.\n",
      "Car https://kolesa.kz//a/show/168851442 data written.\n",
      "Car https://kolesa.kz//a/show/168527727 data written.\n",
      "Car https://kolesa.kz//a/show/168777153 data written.\n",
      "Car https://kolesa.kz//a/show/168517775 data written.\n",
      "Car https://kolesa.kz//a/show/162916069 data written.\n",
      "Car https://kolesa.kz//a/show/168516896 data written.\n",
      "Car https://kolesa.kz//a/show/168766415 data written.\n",
      "Car https://kolesa.kz//a/show/164148318 data written.\n",
      "Car https://kolesa.kz//a/show/168231635 data written.\n",
      "Car https://kolesa.kz//a/show/166614439 data written.\n",
      "Car https://kolesa.kz//a/show/159407213 data written.\n",
      "Car https://kolesa.kz//a/show/167993553 data written.\n",
      "Car https://kolesa.kz//a/show/168512496 data written.\n",
      "Car https://kolesa.kz//a/show/167462134 data written.\n",
      "Car https://kolesa.kz//a/show/168497793 data written.\n",
      "Car https://kolesa.kz//a/show/167416608 data written.\n",
      "Car https://kolesa.kz//a/show/168764537 data written.\n",
      "Car https://kolesa.kz//a/show/165305845 data written.\n",
      "Car https://kolesa.kz//a/show/168489922 data written.\n",
      "Car https://kolesa.kz//a/show/168489293 data written.\n"
     ]
    },
    {
     "name": "stderr",
     "output_type": "stream",
     "text": [
      " 34%|███▍      | 136/400 [2:35:21<4:48:29, 65.57s/it]"
     ]
    },
    {
     "name": "stdout",
     "output_type": "stream",
     "text": [
      "Car https://kolesa.kz//a/show/168486162 data written.\n",
      "23\n",
      "iteration 137, finish\n",
      "Car https://kolesa.kz//a/show/168856906 data written.\n",
      "Car https://kolesa.kz//a/show/168541549 data written.\n",
      "Car https://kolesa.kz//a/show/168479435 data written.\n",
      "Car https://kolesa.kz//a/show/168481155 data written.\n",
      "Car https://kolesa.kz//a/show/168159704 data written.\n",
      "Car https://kolesa.kz//a/show/168125672 data written.\n",
      "Car https://kolesa.kz//a/show/168471558 data written.\n",
      "Car https://kolesa.kz//a/show/168759855 data written.\n",
      "Car https://kolesa.kz//a/show/168756795 data written.\n",
      "Car https://kolesa.kz//a/show/167214183 data written.\n",
      "Car https://kolesa.kz//a/show/168752279 data written.\n",
      "Car https://kolesa.kz//a/show/168434512 data written.\n",
      "Car https://kolesa.kz//a/show/168747361 data written.\n",
      "Car https://kolesa.kz//a/show/168745643 data written.\n",
      "Car https://kolesa.kz//a/show/168462593 data written.\n",
      "Car https://kolesa.kz//a/show/168743712 data written.\n",
      "Car https://kolesa.kz//a/show/168248524 data written.\n",
      "Car https://kolesa.kz//a/show/168665082 data written.\n",
      "Car https://kolesa.kz//a/show/167368489 data written.\n",
      "Car https://kolesa.kz//a/show/168445328 data written.\n",
      "Car https://kolesa.kz//a/show/168735085 data written.\n",
      "Car https://kolesa.kz//a/show/168439370 data written.\n"
     ]
    },
    {
     "name": "stderr",
     "output_type": "stream",
     "text": [
      " 34%|███▍      | 137/400 [2:36:26<4:47:07, 65.51s/it]"
     ]
    },
    {
     "name": "stdout",
     "output_type": "stream",
     "text": [
      "Car https://kolesa.kz//a/show/165865066 data written.\n",
      "23\n",
      "iteration 138, finish\n",
      "Car https://kolesa.kz//a/show/168698619 data written.\n",
      "Car https://kolesa.kz//a/show/168652334 data written.\n",
      "Car https://kolesa.kz//a/show/167848038 data written.\n",
      "Car https://kolesa.kz//a/show/168735085 data written.\n",
      "Car https://kolesa.kz//a/show/168439370 data written.\n",
      "Car https://kolesa.kz//a/show/165865066 data written.\n",
      "Car https://kolesa.kz//a/show/168436451 data written.\n",
      "Car https://kolesa.kz//a/show/167412710 data written.\n",
      "Car https://kolesa.kz//a/show/168413926 data written.\n",
      "Car https://kolesa.kz//a/show/168731407 data written.\n",
      "Car https://kolesa.kz//a/show/168403974 data written.\n",
      "Car https://kolesa.kz//a/show/167537831 data written.\n",
      "Car https://kolesa.kz//a/show/168867513 data written.\n",
      "Car https://kolesa.kz//a/show/168733850 data written.\n",
      "Car https://kolesa.kz//a/show/168384115 data written.\n",
      "Car https://kolesa.kz//a/show/168733851 data written.\n",
      "Car https://kolesa.kz//a/show/162853312 data written.\n",
      "Car https://kolesa.kz//a/show/168732358 data written.\n",
      "Car https://kolesa.kz//a/show/168867285 data written.\n",
      "Car https://kolesa.kz//a/show/160792398 data written.\n",
      "Car https://kolesa.kz//a/show/168815054 data written.\n",
      "Car https://kolesa.kz//a/show/168865914 data written.\n"
     ]
    },
    {
     "name": "stderr",
     "output_type": "stream",
     "text": [
      " 34%|███▍      | 138/400 [2:37:32<4:46:30, 65.61s/it]"
     ]
    },
    {
     "name": "stdout",
     "output_type": "stream",
     "text": [
      "Car https://kolesa.kz//a/show/157112715 data written.\n",
      "23\n",
      "iteration 139, finish\n",
      "Car https://kolesa.kz//a/show/167619105 data written.\n",
      "Car https://kolesa.kz//a/show/164994740 data written.\n",
      "Car https://kolesa.kz//a/show/168652334 data written.\n",
      "Car https://kolesa.kz//a/show/167537831 data written.\n",
      "Car https://kolesa.kz//a/show/168867513 data written.\n",
      "Car https://kolesa.kz//a/show/168733850 data written.\n",
      "Car https://kolesa.kz//a/show/168384115 data written.\n",
      "Car https://kolesa.kz//a/show/168733851 data written.\n",
      "Car https://kolesa.kz//a/show/162853312 data written.\n",
      "Car https://kolesa.kz//a/show/168732358 data written.\n",
      "Car https://kolesa.kz//a/show/168867285 data written.\n",
      "Car https://kolesa.kz//a/show/160792398 data written.\n",
      "Car https://kolesa.kz//a/show/168815054 data written.\n",
      "Car https://kolesa.kz//a/show/168865914 data written.\n",
      "Car https://kolesa.kz//a/show/157112715 data written.\n",
      "Car https://kolesa.kz//a/show/168867006 data written.\n",
      "Car https://kolesa.kz//a/show/168355354 data written.\n",
      "Car https://kolesa.kz//a/show/168711680 data written.\n",
      "Car https://kolesa.kz//a/show/168866375 data written.\n",
      "Car https://kolesa.kz//a/show/168347762 data written.\n",
      "Car https://kolesa.kz//a/show/168865566 data written.\n",
      "Car https://kolesa.kz//a/show/168865040 data written.\n"
     ]
    },
    {
     "name": "stderr",
     "output_type": "stream",
     "text": [
      " 35%|███▍      | 139/400 [2:38:36<4:43:57, 65.28s/it]"
     ]
    },
    {
     "name": "stdout",
     "output_type": "stream",
     "text": [
      "Car https://kolesa.kz//a/show/168711378 data written.\n",
      "23\n",
      "iteration 140, finish\n",
      "Car https://kolesa.kz//a/show/167438883 data written.\n",
      "Car https://kolesa.kz//a/show/165901702 data written.\n",
      "Car https://kolesa.kz//a/show/168014902 data written.\n",
      "Car https://kolesa.kz//a/show/168865040 data written.\n",
      "Car https://kolesa.kz//a/show/168711378 data written.\n",
      "Car https://kolesa.kz//a/show/148445048 data written.\n",
      "Car https://kolesa.kz//a/show/165704426 data written.\n",
      "Car https://kolesa.kz//a/show/168862703 data written.\n",
      "Car https://kolesa.kz//a/show/145172250 data written.\n",
      "Car https://kolesa.kz//a/show/168861298 data written.\n",
      "Car https://kolesa.kz//a/show/168544448 data written.\n",
      "Car https://kolesa.kz//a/show/168245619 data written.\n",
      "Car https://kolesa.kz//a/show/168319801 data written.\n",
      "Car https://kolesa.kz//a/show/168860977 data written.\n",
      "Car https://kolesa.kz//a/show/168706830 data written.\n",
      "Car https://kolesa.kz//a/show/168303771 data written.\n",
      "Car https://kolesa.kz//a/show/168703461 data written.\n",
      "Car https://kolesa.kz//a/show/168310476 data written.\n",
      "Car https://kolesa.kz//a/show/168482529 data written.\n",
      "Car https://kolesa.kz//a/show/168700818 data written.\n",
      "Car https://kolesa.kz//a/show/168859631 data written.\n",
      "Car https://kolesa.kz//a/show/168694906 data written.\n"
     ]
    },
    {
     "name": "stderr",
     "output_type": "stream",
     "text": [
      " 35%|███▌      | 140/400 [2:39:43<4:44:03, 65.55s/it]"
     ]
    },
    {
     "name": "stdout",
     "output_type": "stream",
     "text": [
      "Car https://kolesa.kz//a/show/168858721 data written.\n",
      "23\n",
      "iteration 141, finish\n",
      "Car https://kolesa.kz//a/show/168739959 data written.\n",
      "Car https://kolesa.kz//a/show/168756708 data written.\n",
      "Car https://kolesa.kz//a/show/168529137 data written.\n",
      "Car https://kolesa.kz//a/show/168859631 data written.\n",
      "Car https://kolesa.kz//a/show/168694906 data written.\n",
      "Car https://kolesa.kz//a/show/168858721 data written.\n",
      "Car https://kolesa.kz//a/show/168632957 data written.\n",
      "Car https://kolesa.kz//a/show/168285059 data written.\n",
      "Car https://kolesa.kz//a/show/168857610 data written.\n",
      "Car https://kolesa.kz//a/show/168661235 data written.\n",
      "Car https://kolesa.kz//a/show/141594862 data written.\n",
      "Car https://kolesa.kz//a/show/168280298 data written.\n",
      "Car https://kolesa.kz//a/show/168856292 data written.\n",
      "Car https://kolesa.kz//a/show/168279356 data written.\n",
      "Car https://kolesa.kz//a/show/162508532 data written.\n",
      "Car https://kolesa.kz//a/show/168851337 data written.\n",
      "Car https://kolesa.kz//a/show/168854820 data written.\n",
      "Car https://kolesa.kz//a/show/168630313 data written.\n",
      "Car https://kolesa.kz//a/show/168762220 data written.\n",
      "Car https://kolesa.kz//a/show/168246752 data written.\n",
      "Car https://kolesa.kz//a/show/168853327 data written.\n",
      "Car https://kolesa.kz//a/show/168238962 data written.\n"
     ]
    },
    {
     "name": "stderr",
     "output_type": "stream",
     "text": [
      " 35%|███▌      | 141/400 [2:40:48<4:42:38, 65.48s/it]"
     ]
    },
    {
     "name": "stdout",
     "output_type": "stream",
     "text": [
      "Car https://kolesa.kz//a/show/168234346 data written.\n",
      "23\n",
      "iteration 142, finish\n",
      "Car https://kolesa.kz//a/show/164412907 data written.\n",
      "Car https://kolesa.kz//a/show/165709715 data written.\n",
      "Car https://kolesa.kz//a/show/164048010 data written.\n",
      "Car https://kolesa.kz//a/show/168853327 data written.\n",
      "Car https://kolesa.kz//a/show/168238962 data written.\n",
      "Car https://kolesa.kz//a/show/168234346 data written.\n",
      "Car https://kolesa.kz//a/show/168852574 data written.\n",
      "Car https://kolesa.kz//a/show/168018057 data written.\n",
      "Car https://kolesa.kz//a/show/168679302 data written.\n",
      "Car https://kolesa.kz//a/show/168226397 data written.\n",
      "Car https://kolesa.kz//a/show/168852216 data written.\n",
      "Car https://kolesa.kz//a/show/168224039 data written.\n",
      "Car https://kolesa.kz//a/show/168850445 data written.\n",
      "Car https://kolesa.kz//a/show/168221302 data written.\n",
      "Car https://kolesa.kz//a/show/168847041 data written.\n",
      "Car https://kolesa.kz//a/show/168675244 data written.\n",
      "Car https://kolesa.kz//a/show/168138027 data written.\n",
      "Car https://kolesa.kz//a/show/161093856 data written.\n",
      "Car https://kolesa.kz//a/show/167333028 data written.\n",
      "Car https://kolesa.kz//a/show/168205896 data written.\n",
      "Car https://kolesa.kz//a/show/168844995 data written.\n",
      "Car https://kolesa.kz//a/show/166783036 data written.\n"
     ]
    },
    {
     "name": "stderr",
     "output_type": "stream",
     "text": [
      " 36%|███▌      | 142/400 [2:41:53<4:40:30, 65.24s/it]"
     ]
    },
    {
     "name": "stdout",
     "output_type": "stream",
     "text": [
      "Car https://kolesa.kz//a/show/168189862 data written.\n",
      "23\n",
      "iteration 143, finish\n",
      "Car https://kolesa.kz//a/show/167673370 data written.\n",
      "Car https://kolesa.kz//a/show/167792909 data written.\n",
      "Car https://kolesa.kz//a/show/162062444 data written.\n",
      "Car https://kolesa.kz//a/show/168669079 data written.\n",
      "Car https://kolesa.kz//a/show/168842328 data written.\n",
      "Car https://kolesa.kz//a/show/168843030 data written.\n",
      "Car https://kolesa.kz//a/show/168436946 data written.\n",
      "Car https://kolesa.kz//a/show/167470990 data written.\n",
      "Car https://kolesa.kz//a/show/168841676 data written.\n",
      "Car https://kolesa.kz//a/show/167026376 data written.\n",
      "Car https://kolesa.kz//a/show/164007066 data written.\n",
      "Car https://kolesa.kz//a/show/167289589 data written.\n",
      "Car https://kolesa.kz//a/show/168645876 data written.\n",
      "Car https://kolesa.kz//a/show/168146477 data written.\n",
      "Car https://kolesa.kz//a/show/168653079 data written.\n",
      "Car https://kolesa.kz//a/show/168839949 data written.\n",
      "Car https://kolesa.kz//a/show/168650401 data written.\n",
      "Car https://kolesa.kz//a/show/168137842 data written.\n",
      "Car https://kolesa.kz//a/show/168647809 data written.\n",
      "Car https://kolesa.kz//a/show/161503656 data written.\n",
      "Car https://kolesa.kz//a/show/168803821 data written.\n",
      "Car https://kolesa.kz//a/show/168835503 data written.\n"
     ]
    },
    {
     "name": "stderr",
     "output_type": "stream",
     "text": [
      " 36%|███▌      | 143/400 [2:42:59<4:40:59, 65.60s/it]"
     ]
    },
    {
     "name": "stdout",
     "output_type": "stream",
     "text": [
      "Car https://kolesa.kz//a/show/168128747 data written.\n",
      "23\n",
      "iteration 144, finish\n",
      "Car https://kolesa.kz//a/show/167743100 data written.\n",
      "Car https://kolesa.kz//a/show/168322510 data written.\n",
      "Car https://kolesa.kz//a/show/164268329 data written.\n",
      "Car https://kolesa.kz//a/show/168653079 data written.\n",
      "Car https://kolesa.kz//a/show/168839949 data written.\n",
      "Car https://kolesa.kz//a/show/168650401 data written.\n",
      "Car https://kolesa.kz//a/show/168137842 data written.\n",
      "Car https://kolesa.kz//a/show/168647809 data written.\n",
      "Car https://kolesa.kz//a/show/161503656 data written.\n",
      "Car https://kolesa.kz//a/show/168803821 data written.\n",
      "Car https://kolesa.kz//a/show/168835503 data written.\n",
      "Car https://kolesa.kz//a/show/168128747 data written.\n",
      "Car https://kolesa.kz//a/show/168704153 data written.\n",
      "Car https://kolesa.kz//a/show/168119015 data written.\n",
      "Car https://kolesa.kz//a/show/168107850 data written.\n",
      "Car https://kolesa.kz//a/show/168792342 data written.\n",
      "Car https://kolesa.kz//a/show/140906836 data written.\n",
      "Car https://kolesa.kz//a/show/167991201 data written.\n",
      "Car https://kolesa.kz//a/show/168288037 data written.\n",
      "Car https://kolesa.kz//a/show/168830788 data written.\n",
      "Car https://kolesa.kz//a/show/166456040 data written.\n",
      "Car https://kolesa.kz//a/show/102539328 data written.\n"
     ]
    },
    {
     "name": "stderr",
     "output_type": "stream",
     "text": [
      " 36%|███▌      | 144/400 [2:44:05<4:40:10, 65.67s/it]"
     ]
    },
    {
     "name": "stdout",
     "output_type": "stream",
     "text": [
      "Car https://kolesa.kz//a/show/168533474 data written.\n",
      "23\n",
      "iteration 145, finish\n",
      "Car https://kolesa.kz//a/show/168549887 data written.\n",
      "Car https://kolesa.kz//a/show/168425207 data written.\n",
      "Car https://kolesa.kz//a/show/164813763 data written.\n",
      "Car https://kolesa.kz//a/show/168533474 data written.\n",
      "Car https://kolesa.kz//a/show/167833860 data written.\n",
      "Car https://kolesa.kz//a/show/168827790 data written.\n",
      "Car https://kolesa.kz//a/show/168613204 data written.\n",
      "Car https://kolesa.kz//a/show/168612303 data written.\n",
      "Car https://kolesa.kz//a/show/168100174 data written.\n",
      "Car https://kolesa.kz//a/show/168825569 data written.\n",
      "Car https://kolesa.kz//a/show/167859720 data written.\n",
      "Car https://kolesa.kz//a/show/167154839 data written.\n",
      "Car https://kolesa.kz//a/show/168709916 data written.\n",
      "Car https://kolesa.kz//a/show/168010592 data written.\n",
      "Car https://kolesa.kz//a/show/168821430 data written.\n",
      "Car https://kolesa.kz//a/show/168072591 data written.\n",
      "Car https://kolesa.kz//a/show/168821496 data written.\n",
      "Car https://kolesa.kz//a/show/168062407 data written.\n",
      "Car https://kolesa.kz//a/show/168821299 data written.\n",
      "Car https://kolesa.kz//a/show/168006242 data written.\n",
      "Car https://kolesa.kz//a/show/154392428 data written.\n",
      "Car https://kolesa.kz//a/show/167893954 data written.\n"
     ]
    },
    {
     "name": "stderr",
     "output_type": "stream",
     "text": [
      " 36%|███▋      | 145/400 [2:45:10<4:38:33, 65.54s/it]"
     ]
    },
    {
     "name": "stdout",
     "output_type": "stream",
     "text": [
      "Car https://kolesa.kz//a/show/168820052 data written.\n",
      "23\n",
      "iteration 146, finish\n",
      "Car https://kolesa.kz//a/show/168553919 data written.\n",
      "Car https://kolesa.kz//a/show/168854968 data written.\n",
      "Car https://kolesa.kz//a/show/167682226 data written.\n",
      "Car https://kolesa.kz//a/show/167893954 data written.\n",
      "Car https://kolesa.kz//a/show/168820052 data written.\n",
      "Car https://kolesa.kz//a/show/168593398 data written.\n",
      "Car https://kolesa.kz//a/show/168819233 data written.\n",
      "Car https://kolesa.kz//a/show/168587693 data written.\n",
      "Car https://kolesa.kz//a/show/168586143 data written.\n",
      "Car https://kolesa.kz//a/show/168817967 data written.\n",
      "Car https://kolesa.kz//a/show/168579107 data written.\n",
      "Car https://kolesa.kz//a/show/168577519 data written.\n",
      "Car https://kolesa.kz//a/show/168574849 data written.\n",
      "Car https://kolesa.kz//a/show/151539320 data written.\n",
      "Car https://kolesa.kz//a/show/168813284 data written.\n",
      "Car https://kolesa.kz//a/show/168471720 data written.\n",
      "Car https://kolesa.kz//a/show/168811631 data written.\n",
      "Car https://kolesa.kz//a/show/168812366 data written.\n",
      "Car https://kolesa.kz//a/show/168810190 data written.\n",
      "Car https://kolesa.kz//a/show/168806552 data written.\n",
      "Car https://kolesa.kz//a/show/163901677 data written.\n",
      "Car https://kolesa.kz//a/show/168799715 data written.\n"
     ]
    },
    {
     "name": "stderr",
     "output_type": "stream",
     "text": [
      " 36%|███▋      | 146/400 [2:46:16<4:37:57, 65.66s/it]"
     ]
    },
    {
     "name": "stdout",
     "output_type": "stream",
     "text": [
      "Car https://kolesa.kz//a/show/168798886 data written.\n",
      "23\n",
      "iteration 147, finish\n",
      "Car https://kolesa.kz//a/show/167682226 data written.\n",
      "Car https://kolesa.kz//a/show/165610224 data written.\n",
      "Car https://kolesa.kz//a/show/167341259 data written.\n",
      "Car https://kolesa.kz//a/show/168799715 data written.\n",
      "Car https://kolesa.kz//a/show/168798886 data written.\n",
      "Car https://kolesa.kz//a/show/168789324 data written.\n",
      "Car https://kolesa.kz//a/show/168559710 data written.\n",
      "Car https://kolesa.kz//a/show/168789992 data written.\n",
      "Car https://kolesa.kz//a/show/162500902 data written.\n",
      "Car https://kolesa.kz//a/show/168557180 data written.\n",
      "Car https://kolesa.kz//a/show/168551744 data written.\n",
      "Car https://kolesa.kz//a/show/168643670 data written.\n",
      "Car https://kolesa.kz//a/show/165972480 data written.\n",
      "Car https://kolesa.kz//a/show/153456884 data written.\n",
      "Car https://kolesa.kz//a/show/167566354 data written.\n",
      "Car https://kolesa.kz//a/show/144911011 data written.\n",
      "Car https://kolesa.kz//a/show/168489917 data written.\n",
      "Car https://kolesa.kz//a/show/168573089 data written.\n",
      "Car https://kolesa.kz//a/show/168518482 data written.\n",
      "Car https://kolesa.kz//a/show/166850623?fromUserSearch=1 data written.\n",
      "Car https://kolesa.kz//a/show/168247503 data written.\n",
      "Car https://kolesa.kz//a/show/168732707 data written.\n"
     ]
    },
    {
     "name": "stderr",
     "output_type": "stream",
     "text": [
      " 37%|███▋      | 147/400 [2:47:20<4:35:15, 65.28s/it]"
     ]
    },
    {
     "name": "stdout",
     "output_type": "stream",
     "text": [
      "Car https://kolesa.kz//a/show/168483013 data written.\n",
      "23\n",
      "iteration 148, finish\n",
      "Car https://kolesa.kz//a/show/168778392 data written.\n",
      "Car https://kolesa.kz//a/show/168835814 data written.\n",
      "Car https://kolesa.kz//a/show/168828420 data written.\n",
      "Car https://kolesa.kz//a/show/168559710 data written.\n",
      "Car https://kolesa.kz//a/show/168789992 data written.\n",
      "Car https://kolesa.kz//a/show/162500902 data written.\n",
      "Car https://kolesa.kz//a/show/168557180 data written.\n",
      "Car https://kolesa.kz//a/show/168551744 data written.\n",
      "Car https://kolesa.kz//a/show/168643670 data written.\n",
      "Car https://kolesa.kz//a/show/165972480 data written.\n",
      "Car https://kolesa.kz//a/show/153456884 data written.\n",
      "Car https://kolesa.kz//a/show/167566354 data written.\n",
      "Car https://kolesa.kz//a/show/144911011 data written.\n",
      "Car https://kolesa.kz//a/show/168489917 data written.\n",
      "Car https://kolesa.kz//a/show/168573089 data written.\n",
      "Car https://kolesa.kz//a/show/168518482 data written.\n",
      "Car https://kolesa.kz//a/show/166850623?fromUserSearch=1 data written.\n",
      "Car https://kolesa.kz//a/show/168247503 data written.\n",
      "Car https://kolesa.kz//a/show/168732707 data written.\n",
      "Car https://kolesa.kz//a/show/168483013 data written.\n",
      "Car https://kolesa.kz//a/show/164749154 data written.\n",
      "Car https://kolesa.kz//a/show/149981767 data written.\n"
     ]
    },
    {
     "name": "stderr",
     "output_type": "stream",
     "text": [
      " 37%|███▋      | 148/400 [2:48:25<4:33:44, 65.18s/it]"
     ]
    },
    {
     "name": "stdout",
     "output_type": "stream",
     "text": [
      "Car https://kolesa.kz//a/show/168868254 data written.\n",
      "23\n",
      "iteration 149, finish\n",
      "Car https://kolesa.kz//a/show/166655057 data written.\n",
      "Car https://kolesa.kz//a/show/168643496 data written.\n",
      "Car https://kolesa.kz//a/show/168549887 data written.\n",
      "Car https://kolesa.kz//a/show/168247503 data written.\n",
      "Car https://kolesa.kz//a/show/168732707 data written.\n",
      "Car https://kolesa.kz//a/show/168483013 data written.\n",
      "Car https://kolesa.kz//a/show/164749154 data written.\n",
      "Car https://kolesa.kz//a/show/149981767 data written.\n",
      "Car https://kolesa.kz//a/show/168868254 data written.\n",
      "Car https://kolesa.kz//a/show/168602515 data written.\n",
      "Car https://kolesa.kz//a/show/168786553 data written.\n",
      "Car https://kolesa.kz//a/show/168738035 data written.\n",
      "Car https://kolesa.kz//a/show/168344674 data written.\n",
      "Car https://kolesa.kz//a/show/167511419 data written.\n",
      "Car https://kolesa.kz//a/show/166151142 data written.\n",
      "Car https://kolesa.kz//a/show/165323340 data written.\n",
      "Car https://kolesa.kz//a/show/166572571 data written.\n",
      "Car https://kolesa.kz//a/show/154639855 data written.\n",
      "Car https://kolesa.kz//a/show/168560811 data written.\n",
      "Car https://kolesa.kz//a/show/168730975 data written.\n",
      "Car https://kolesa.kz//a/show/168555403 data written.\n",
      "Car https://kolesa.kz//a/show/168819572 data written.\n"
     ]
    },
    {
     "name": "stderr",
     "output_type": "stream",
     "text": [
      " 37%|███▋      | 149/400 [2:49:30<4:32:28, 65.13s/it]"
     ]
    },
    {
     "name": "stdout",
     "output_type": "stream",
     "text": [
      "Car https://kolesa.kz//a/show/167328960 data written.\n",
      "23\n",
      "iteration 150, finish\n",
      "Car https://kolesa.kz//a/show/163381130 data written.\n",
      "Car https://kolesa.kz//a/show/168345647 data written.\n",
      "Car https://kolesa.kz//a/show/163843583 data written.\n",
      "Car https://kolesa.kz//a/show/168555403 data written.\n",
      "Car https://kolesa.kz//a/show/168819572 data written.\n",
      "Car https://kolesa.kz//a/show/167328960 data written.\n",
      "Car https://kolesa.kz//a/show/168819365 data written.\n",
      "Car https://kolesa.kz//a/show/168435757 data written.\n",
      "Car https://kolesa.kz//a/show/168552636 data written.\n",
      "Car https://kolesa.kz//a/show/167811271 data written.\n",
      "Car https://kolesa.kz//a/show/168146337 data written.\n",
      "Car https://kolesa.kz//a/show/168809881 data written.\n",
      "Car https://kolesa.kz//a/show/168708204 data written.\n",
      "Car https://kolesa.kz//a/show/168541122 data written.\n",
      "Car https://kolesa.kz//a/show/168536612 data written.\n",
      "Car https://kolesa.kz//a/show/168533765 data written.\n",
      "Car https://kolesa.kz//a/show/167909295 data written.\n",
      "Car https://kolesa.kz//a/show/168785653 data written.\n",
      "Car https://kolesa.kz//a/show/168252508 data written.\n",
      "Car https://kolesa.kz//a/show/167574502 data written.\n",
      "Car https://kolesa.kz//a/show/161997746 data written.\n",
      "Car https://kolesa.kz//a/show/168499296 data written.\n"
     ]
    },
    {
     "name": "stderr",
     "output_type": "stream",
     "text": [
      " 38%|███▊      | 150/400 [2:50:37<4:32:33, 65.42s/it]"
     ]
    },
    {
     "name": "stdout",
     "output_type": "stream",
     "text": [
      "Car https://kolesa.kz//a/show/168709746 data written.\n",
      "23\n",
      "iteration 151, finish\n",
      "Car https://kolesa.kz//a/show/168520156 data written.\n",
      "Car https://kolesa.kz//a/show/159802181 data written.\n",
      "Car https://kolesa.kz//a/show/166881470 data written.\n",
      "Car https://kolesa.kz//a/show/161997746 data written.\n",
      "Car https://kolesa.kz//a/show/168499296 data written.\n",
      "Car https://kolesa.kz//a/show/168709746 data written.\n",
      "Car https://kolesa.kz//a/show/168277276 data written.\n",
      "Car https://kolesa.kz//a/show/167578924 data written.\n",
      "Car https://kolesa.kz//a/show/168486116 data written.\n",
      "Car https://kolesa.kz//a/show/168755929 data written.\n",
      "Car https://kolesa.kz//a/show/168479742 data written.\n",
      "Car https://kolesa.kz//a/show/168478291 data written.\n",
      "Car https://kolesa.kz//a/show/168759507 data written.\n",
      "Car https://kolesa.kz//a/show/168477759 data written.\n",
      "Car https://kolesa.kz//a/show/168754401 data written.\n",
      "Car https://kolesa.kz//a/show/168292389 data written.\n",
      "Car https://kolesa.kz//a/show/168753677 data written.\n",
      "Car https://kolesa.kz//a/show/165708191 data written.\n",
      "Car https://kolesa.kz//a/show/167256256 data written.\n",
      "Car https://kolesa.kz//a/show/168468410 data written.\n",
      "Car https://kolesa.kz//a/show/168742590 data written.\n",
      "Car https://kolesa.kz//a/show/168466603 data written.\n"
     ]
    },
    {
     "name": "stderr",
     "output_type": "stream",
     "text": [
      " 38%|███▊      | 151/400 [2:51:42<4:31:46, 65.49s/it]"
     ]
    },
    {
     "name": "stdout",
     "output_type": "stream",
     "text": [
      "Car https://kolesa.kz//a/show/167578901 data written.\n",
      "23\n",
      "iteration 152, finish\n",
      "Car https://kolesa.kz//a/show/140775212 data written.\n",
      "Car https://kolesa.kz//a/show/168191585 data written.\n",
      "Car https://kolesa.kz//a/show/162408328 data written.\n",
      "Car https://kolesa.kz//a/show/168742590 data written.\n",
      "Car https://kolesa.kz//a/show/168466603 data written.\n",
      "Car https://kolesa.kz//a/show/167578901 data written.\n",
      "Car https://kolesa.kz//a/show/168322909 data written.\n",
      "Car https://kolesa.kz//a/show/168739308 data written.\n",
      "Car https://kolesa.kz//a/show/165990882 data written.\n",
      "Car https://kolesa.kz//a/show/168173644 data written.\n",
      "Car https://kolesa.kz//a/show/149816928 data written.\n",
      "Car https://kolesa.kz//a/show/168446832 data written.\n",
      "Car https://kolesa.kz//a/show/168734369 data written.\n",
      "Car https://kolesa.kz//a/show/163723200 data written.\n",
      "Car https://kolesa.kz//a/show/165658500 data written.\n",
      "Car https://kolesa.kz//a/show/168732616 data written.\n",
      "Car https://kolesa.kz//a/show/168248170 data written.\n",
      "Car https://kolesa.kz//a/show/168611049 data written.\n",
      "Car https://kolesa.kz//a/show/168726685 data written.\n",
      "Car https://kolesa.kz//a/show/166830227 data written.\n",
      "Car https://kolesa.kz//a/show/168722181 data written.\n",
      "Car https://kolesa.kz//a/show/168411181 data written.\n"
     ]
    },
    {
     "name": "stderr",
     "output_type": "stream",
     "text": [
      " 38%|███▊      | 152/400 [2:52:47<4:29:45, 65.26s/it]"
     ]
    },
    {
     "name": "stdout",
     "output_type": "stream",
     "text": [
      "Car https://kolesa.kz//a/show/168197825 data written.\n",
      "23\n",
      "iteration 153, finish\n",
      "Car https://kolesa.kz//a/show/168132236 data written.\n",
      "Car https://kolesa.kz//a/show/166250601 data written.\n",
      "Car https://kolesa.kz//a/show/167258775 data written.\n",
      "Car https://kolesa.kz//a/show/167578901 data written.\n",
      "Car https://kolesa.kz//a/show/168322909 data written.\n",
      "Car https://kolesa.kz//a/show/168739308 data written.\n",
      "Car https://kolesa.kz//a/show/165990882 data written.\n",
      "Car https://kolesa.kz//a/show/168173644 data written.\n",
      "Car https://kolesa.kz//a/show/149816928 data written.\n",
      "Car https://kolesa.kz//a/show/168446832 data written.\n",
      "Car https://kolesa.kz//a/show/168734369 data written.\n",
      "Car https://kolesa.kz//a/show/163723200 data written.\n",
      "Car https://kolesa.kz//a/show/165658500 data written.\n",
      "Car https://kolesa.kz//a/show/168732616 data written.\n",
      "Car https://kolesa.kz//a/show/168248170 data written.\n",
      "Car https://kolesa.kz//a/show/168611049 data written.\n",
      "Car https://kolesa.kz//a/show/168726685 data written.\n",
      "Car https://kolesa.kz//a/show/166830227 data written.\n",
      "Car https://kolesa.kz//a/show/168722181 data written.\n",
      "Car https://kolesa.kz//a/show/168411181 data written.\n",
      "Car https://kolesa.kz//a/show/168197825 data written.\n",
      "Car https://kolesa.kz//a/show/168402835 data written.\n"
     ]
    },
    {
     "name": "stderr",
     "output_type": "stream",
     "text": [
      " 38%|███▊      | 153/400 [2:53:53<4:29:50, 65.55s/it]"
     ]
    },
    {
     "name": "stdout",
     "output_type": "stream",
     "text": [
      "Car https://kolesa.kz//a/show/168400672 data written.\n",
      "23\n",
      "iteration 154, finish\n",
      "Car https://kolesa.kz//a/show/167686806 data written.\n",
      "Car https://kolesa.kz//a/show/164234011 data written.\n",
      "Car https://kolesa.kz//a/show/168456257 data written.\n",
      "Car https://kolesa.kz//a/show/168411181 data written.\n",
      "Car https://kolesa.kz//a/show/168197825 data written.\n",
      "Car https://kolesa.kz//a/show/168402835 data written.\n",
      "Car https://kolesa.kz//a/show/168400672 data written.\n",
      "Car https://kolesa.kz//a/show/158167350 data written.\n",
      "Car https://kolesa.kz//a/show/168391432 data written.\n",
      "Car https://kolesa.kz//a/show/168389467 data written.\n",
      "Car https://kolesa.kz//a/show/168709818 data written.\n",
      "Car https://kolesa.kz//a/show/168387535 data written.\n",
      "Car https://kolesa.kz//a/show/167976911 data written.\n",
      "Car https://kolesa.kz//a/show/166767312 data written.\n",
      "Car https://kolesa.kz//a/show/168705047 data written.\n",
      "Car https://kolesa.kz//a/show/164304111 data written.\n",
      "Car https://kolesa.kz//a/show/168701414 data written.\n",
      "Car https://kolesa.kz//a/show/168359637 data written.\n",
      "Car https://kolesa.kz//a/show/168583936 data written.\n",
      "Car https://kolesa.kz//a/show/168352521 data written.\n",
      "Car https://kolesa.kz//a/show/168203657 data written.\n",
      "Car https://kolesa.kz//a/show/164237187 data written.\n"
     ]
    },
    {
     "name": "stderr",
     "output_type": "stream",
     "text": [
      " 38%|███▊      | 154/400 [2:54:59<4:29:12, 65.66s/it]"
     ]
    },
    {
     "name": "stdout",
     "output_type": "stream",
     "text": [
      "Car https://kolesa.kz//a/show/168695099 data written.\n",
      "23\n",
      "iteration 155, finish\n",
      "Car https://kolesa.kz//a/show/168709640 data written.\n",
      "Car https://kolesa.kz//a/show/167686806 data written.\n",
      "Car https://kolesa.kz//a/show/167258775 data written.\n",
      "Car https://kolesa.kz//a/show/168203657 data written.\n",
      "Car https://kolesa.kz//a/show/164237187 data written.\n",
      "Car https://kolesa.kz//a/show/168695099 data written.\n",
      "Car https://kolesa.kz//a/show/168335629 data written.\n",
      "Car https://kolesa.kz//a/show/168696696 data written.\n",
      "Car https://kolesa.kz//a/show/168690862 data written.\n",
      "Car https://kolesa.kz//a/show/168327532 data written.\n",
      "Car https://kolesa.kz//a/show/152908993 data written.\n",
      "Car https://kolesa.kz//a/show/168332247 data written.\n",
      "Car https://kolesa.kz//a/show/167257762 data written.\n",
      "Car https://kolesa.kz//a/show/168299211 data written.\n",
      "Car https://kolesa.kz//a/show/149457881 data written.\n",
      "Car https://kolesa.kz//a/show/167557918 data written.\n",
      "Car https://kolesa.kz//a/show/168471237 data written.\n",
      "Car https://kolesa.kz//a/show/167017115 data written.\n",
      "Car https://kolesa.kz//a/show/168280985 data written.\n",
      "Car https://kolesa.kz//a/show/168864570 data written.\n",
      "Car https://kolesa.kz//a/show/168578498 data written.\n",
      "Car https://kolesa.kz//a/show/168866748 data written.\n"
     ]
    },
    {
     "name": "stderr",
     "output_type": "stream",
     "text": [
      " 39%|███▉      | 155/400 [2:56:06<4:29:35, 66.02s/it]"
     ]
    },
    {
     "name": "stdout",
     "output_type": "stream",
     "text": [
      "Car https://kolesa.kz//a/show/168866382 data written.\n",
      "23\n",
      "iteration 156, finish\n",
      "Car https://kolesa.kz//a/show/160938545 data written.\n",
      "Car https://kolesa.kz//a/show/167918294 data written.\n",
      "Car https://kolesa.kz//a/show/136040782 data written.\n",
      "Car https://kolesa.kz//a/show/167257762 data written.\n",
      "Car https://kolesa.kz//a/show/168299211 data written.\n",
      "Car https://kolesa.kz//a/show/149457881 data written.\n",
      "Car https://kolesa.kz//a/show/167557918 data written.\n",
      "Car https://kolesa.kz//a/show/168471237 data written.\n",
      "Car https://kolesa.kz//a/show/167017115 data written.\n",
      "Car https://kolesa.kz//a/show/168280985 data written.\n",
      "Car https://kolesa.kz//a/show/168864570 data written.\n",
      "Car https://kolesa.kz//a/show/168578498 data written.\n",
      "Car https://kolesa.kz//a/show/168866748 data written.\n",
      "Car https://kolesa.kz//a/show/168866382 data written.\n",
      "Car https://kolesa.kz//a/show/166932467 data written.\n",
      "Car https://kolesa.kz//a/show/167935072 data written.\n",
      "Car https://kolesa.kz//a/show/168656550?fromUserSearch=1 data written.\n",
      "Car https://kolesa.kz//a/show/167899548 data written.\n",
      "Car https://kolesa.kz//a/show/168860708 data written.\n",
      "Car https://kolesa.kz//a/show/161988597 data written.\n",
      "Car https://kolesa.kz//a/show/155763942 data written.\n",
      "Car https://kolesa.kz//a/show/167131035 data written.\n"
     ]
    },
    {
     "name": "stderr",
     "output_type": "stream",
     "text": [
      " 39%|███▉      | 156/400 [2:57:11<4:27:20, 65.74s/it]"
     ]
    },
    {
     "name": "stdout",
     "output_type": "stream",
     "text": [
      "Car https://kolesa.kz//a/show/168625794 data written.\n",
      "23\n",
      "iteration 157, finish\n",
      "Car https://kolesa.kz//a/show/168376061 data written.\n",
      "Car https://kolesa.kz//a/show/164863968 data written.\n",
      "Car https://kolesa.kz//a/show/168031384 data written.\n",
      "Car https://kolesa.kz//a/show/168866748 data written.\n",
      "Car https://kolesa.kz//a/show/168866382 data written.\n",
      "Car https://kolesa.kz//a/show/166932467 data written.\n",
      "Car https://kolesa.kz//a/show/167935072 data written.\n",
      "Car https://kolesa.kz//a/show/168656550?fromUserSearch=1 data written.\n",
      "Car https://kolesa.kz//a/show/167899548 data written.\n",
      "Car https://kolesa.kz//a/show/168860708 data written.\n",
      "Car https://kolesa.kz//a/show/161988597 data written.\n",
      "Car https://kolesa.kz//a/show/155763942 data written.\n",
      "Car https://kolesa.kz//a/show/167131035 data written.\n",
      "Car https://kolesa.kz//a/show/168625794 data written.\n",
      "Car https://kolesa.kz//a/show/168860011 data written.\n",
      "Car https://kolesa.kz//a/show/168240459 data written.\n",
      "Car https://kolesa.kz//a/show/168654830 data written.\n",
      "Car https://kolesa.kz//a/show/168856825 data written.\n",
      "Car https://kolesa.kz//a/show/168136095 data written.\n",
      "Car https://kolesa.kz//a/show/168857003 data written.\n",
      "Car https://kolesa.kz//a/show/168217933 data written.\n",
      "Car https://kolesa.kz//a/show/168565576 data written.\n"
     ]
    },
    {
     "name": "stderr",
     "output_type": "stream",
     "text": [
      " 39%|███▉      | 157/400 [2:58:17<4:26:09, 65.72s/it]"
     ]
    },
    {
     "name": "stdout",
     "output_type": "stream",
     "text": [
      "Car https://kolesa.kz//a/show/168196316 data written.\n",
      "23\n",
      "iteration 158, finish\n",
      "Car https://kolesa.kz//a/show/168501762 data written.\n",
      "Car https://kolesa.kz//a/show/141916471 data written.\n",
      "Car https://kolesa.kz//a/show/162342225 data written.\n",
      "Car https://kolesa.kz//a/show/168856825 data written.\n",
      "Car https://kolesa.kz//a/show/168136095 data written.\n",
      "Car https://kolesa.kz//a/show/168857003 data written.\n",
      "Car https://kolesa.kz//a/show/168217933 data written.\n",
      "Car https://kolesa.kz//a/show/168565576 data written.\n",
      "Car https://kolesa.kz//a/show/168196316 data written.\n",
      "Car https://kolesa.kz//a/show/168855176 data written.\n",
      "Car https://kolesa.kz//a/show/160510207 data written.\n",
      "Car https://kolesa.kz//a/show/167187099 data written.\n",
      "Car https://kolesa.kz//a/show/168844428 data written.\n",
      "Car https://kolesa.kz//a/show/168851036 data written.\n",
      "Car https://kolesa.kz//a/show/168632713 data written.\n",
      "Car https://kolesa.kz//a/show/168149905 data written.\n",
      "Car https://kolesa.kz//a/show/157815698 data written.\n",
      "Car https://kolesa.kz//a/show/168145841 data written.\n",
      "Car https://kolesa.kz//a/show/168629575 data written.\n",
      "Car https://kolesa.kz//a/show/168133946 data written.\n",
      "Car https://kolesa.kz//a/show/161864009 data written.\n",
      "Car https://kolesa.kz//a/show/164004360 data written.\n"
     ]
    },
    {
     "name": "stderr",
     "output_type": "stream",
     "text": [
      " 40%|███▉      | 158/400 [2:59:23<4:25:54, 65.93s/it]"
     ]
    },
    {
     "name": "stdout",
     "output_type": "stream",
     "text": [
      "Car https://kolesa.kz//a/show/156709631 data written.\n",
      "23\n",
      "iteration 159, finish\n",
      "Car https://kolesa.kz//a/show/168748574 data written.\n",
      "Car https://kolesa.kz//a/show/44373609 data written.\n",
      "Car https://kolesa.kz//a/show/168808050 data written.\n",
      "Car https://kolesa.kz//a/show/168133946 data written.\n",
      "Car https://kolesa.kz//a/show/161864009 data written.\n",
      "Car https://kolesa.kz//a/show/164004360 data written.\n",
      "Car https://kolesa.kz//a/show/156709631 data written.\n",
      "Car https://kolesa.kz//a/show/168848213 data written.\n",
      "Car https://kolesa.kz//a/show/168252410 data written.\n",
      "Car https://kolesa.kz//a/show/168105086 data written.\n",
      "Car https://kolesa.kz//a/show/168846307 data written.\n",
      "Car https://kolesa.kz//a/show/167847794 data written.\n",
      "Car https://kolesa.kz//a/show/168846158 data written.\n",
      "Car https://kolesa.kz//a/show/167975093 data written.\n",
      "Car https://kolesa.kz//a/show/168844327 data written.\n",
      "Car https://kolesa.kz//a/show/168833349 data written.\n",
      "Car https://kolesa.kz//a/show/168609822 data written.\n",
      "Car https://kolesa.kz//a/show/168841551 data written.\n",
      "Car https://kolesa.kz//a/show/168841053 data written.\n",
      "Car https://kolesa.kz//a/show/168103769 data written.\n",
      "Car https://kolesa.kz//a/show/168258121 data written.\n",
      "Car https://kolesa.kz//a/show/165583629 data written.\n"
     ]
    },
    {
     "name": "stderr",
     "output_type": "stream",
     "text": [
      " 40%|███▉      | 159/400 [3:00:35<4:31:49, 67.68s/it]"
     ]
    },
    {
     "name": "stdout",
     "output_type": "stream",
     "text": [
      "Car https://kolesa.kz//a/show/168835930 data written.\n",
      "23\n",
      "iteration 160, finish\n",
      "Car https://kolesa.kz//a/show/161097325 data written.\n",
      "Car https://kolesa.kz//a/show/168811155 data written.\n",
      "Car https://kolesa.kz//a/show/168748574 data written.\n",
      "Car https://kolesa.kz//a/show/168841053 data written.\n",
      "Car https://kolesa.kz//a/show/168103769 data written.\n",
      "Car https://kolesa.kz//a/show/168258121 data written.\n",
      "Car https://kolesa.kz//a/show/165583629 data written.\n",
      "Car https://kolesa.kz//a/show/168835930 data written.\n",
      "Car https://kolesa.kz//a/show/168096539 data written.\n",
      "Car https://kolesa.kz//a/show/168096582 data written.\n",
      "Car https://kolesa.kz//a/show/168194248 data written.\n",
      "Car https://kolesa.kz//a/show/148172971 data written.\n",
      "Car https://kolesa.kz//a/show/165942733 data written.\n",
      "Car https://kolesa.kz//a/show/168833354 data written.\n",
      "Car https://kolesa.kz//a/show/168093750 data written.\n",
      "Car https://kolesa.kz//a/show/168832800 data written.\n",
      "Car https://kolesa.kz//a/show/168385027 data written.\n",
      "Car https://kolesa.kz//a/show/168731297 data written.\n",
      "Car https://kolesa.kz//a/show/164286810 data written.\n",
      "Car https://kolesa.kz//a/show/168069289 data written.\n",
      "Car https://kolesa.kz//a/show/168578879 data written.\n",
      "Car https://kolesa.kz//a/show/166425534 data written.\n"
     ]
    },
    {
     "name": "stderr",
     "output_type": "stream",
     "text": [
      " 40%|████      | 160/400 [3:01:41<4:29:07, 67.28s/it]"
     ]
    },
    {
     "name": "stdout",
     "output_type": "stream",
     "text": [
      "Car https://kolesa.kz//a/show/168824894 data written.\n",
      "23\n",
      "iteration 161, finish\n",
      "Car https://kolesa.kz//a/show/167425257 data written.\n",
      "Car https://kolesa.kz//a/show/168732366 data written.\n",
      "Car https://kolesa.kz//a/show/168780629 data written.\n",
      "Car https://kolesa.kz//a/show/168824894 data written.\n",
      "Car https://kolesa.kz//a/show/158150223 data written.\n",
      "Car https://kolesa.kz//a/show/168009175 data written.\n",
      "Car https://kolesa.kz//a/show/168572406 data written.\n",
      "Car https://kolesa.kz//a/show/168824107 data written.\n",
      "Car https://kolesa.kz//a/show/161907127 data written.\n",
      "Car https://kolesa.kz//a/show/167718496 data written.\n",
      "Car https://kolesa.kz//a/show/164664175 data written.\n",
      "Car https://kolesa.kz//a/show/165427850 data written.\n",
      "Car https://kolesa.kz//a/show/167648296 data written.\n",
      "Car https://kolesa.kz//a/show/167270944 data written.\n",
      "Car https://kolesa.kz//a/show/168821582 data written.\n",
      "Car https://kolesa.kz//a/show/168568024 data written.\n",
      "Car https://kolesa.kz//a/show/164209390 data written.\n",
      "Car https://kolesa.kz//a/show/167441895 data written.\n",
      "Car https://kolesa.kz//a/show/168820455 data written.\n",
      "Car https://kolesa.kz//a/show/165481294 data written.\n",
      "Car https://kolesa.kz//a/show/168682263 data written.\n",
      "Car https://kolesa.kz//a/show/168364057 data written.\n"
     ]
    },
    {
     "name": "stderr",
     "output_type": "stream",
     "text": [
      " 40%|████      | 161/400 [3:02:47<4:26:02, 66.79s/it]"
     ]
    },
    {
     "name": "stdout",
     "output_type": "stream",
     "text": [
      "Car https://kolesa.kz//a/show/168572143 data written.\n",
      "23\n",
      "iteration 162, finish\n",
      "Car https://kolesa.kz//a/show/168594416 data written.\n",
      "Car https://kolesa.kz//a/show/168424684 data written.\n",
      "Car https://kolesa.kz//a/show/167082401 data written.\n",
      "Car https://kolesa.kz//a/show/168824107 data written.\n",
      "Car https://kolesa.kz//a/show/161907127 data written.\n",
      "Car https://kolesa.kz//a/show/167718496 data written.\n",
      "Car https://kolesa.kz//a/show/164664175 data written.\n",
      "Car https://kolesa.kz//a/show/165427850 data written.\n",
      "Car https://kolesa.kz//a/show/167648296 data written.\n",
      "Car https://kolesa.kz//a/show/167270944 data written.\n",
      "Car https://kolesa.kz//a/show/168821582 data written.\n",
      "Car https://kolesa.kz//a/show/168568024 data written.\n",
      "Car https://kolesa.kz//a/show/164209390 data written.\n",
      "Car https://kolesa.kz//a/show/167441895 data written.\n",
      "Car https://kolesa.kz//a/show/168820455 data written.\n",
      "Car https://kolesa.kz//a/show/165481294 data written.\n",
      "Car https://kolesa.kz//a/show/168682263 data written.\n",
      "Car https://kolesa.kz//a/show/168364057 data written.\n",
      "Car https://kolesa.kz//a/show/168572143 data written.\n",
      "Car https://kolesa.kz//a/show/166556078 data written.\n",
      "Car https://kolesa.kz//a/show/166509351 data written.\n",
      "Car https://kolesa.kz//a/show/164333882 data written.\n"
     ]
    },
    {
     "name": "stderr",
     "output_type": "stream",
     "text": [
      " 40%|████      | 162/400 [3:03:52<4:22:49, 66.26s/it]"
     ]
    },
    {
     "name": "stdout",
     "output_type": "stream",
     "text": [
      "Car https://kolesa.kz//a/show/160085343 data written.\n",
      "23\n",
      "iteration 163, finish\n",
      "Car https://kolesa.kz//a/show/168805229 data written.\n",
      "Car https://kolesa.kz//a/show/168027099 data written.\n",
      "Car https://kolesa.kz//a/show/141159785 data written.\n",
      "Car https://kolesa.kz//a/show/168364057 data written.\n",
      "Car https://kolesa.kz//a/show/168572143 data written.\n",
      "Car https://kolesa.kz//a/show/166556078 data written.\n",
      "Car https://kolesa.kz//a/show/166509351 data written.\n",
      "Car https://kolesa.kz//a/show/164333882 data written.\n",
      "Car https://kolesa.kz//a/show/160085343 data written.\n",
      "Car https://kolesa.kz//a/show/149345922 data written.\n",
      "Car https://kolesa.kz//a/show/168859726 data written.\n",
      "Car https://kolesa.kz//a/show/166866927 data written.\n",
      "Car https://kolesa.kz//a/show/160332889 data written.\n",
      "Car https://kolesa.kz//a/show/168205556 data written.\n",
      "Car https://kolesa.kz//a/show/164035218 data written.\n",
      "Car https://kolesa.kz//a/show/168538693 data written.\n",
      "Car https://kolesa.kz//a/show/167887195 data written.\n",
      "Car https://kolesa.kz//a/show/168528604 data written.\n",
      "Car https://kolesa.kz//a/show/168526890 data written.\n",
      "Car https://kolesa.kz//a/show/143594922 data written.\n",
      "Car https://kolesa.kz//a/show/166425097 data written.\n",
      "Car https://kolesa.kz//a/show/168508077 data written.\n"
     ]
    },
    {
     "name": "stderr",
     "output_type": "stream",
     "text": [
      " 41%|████      | 163/400 [3:04:56<4:19:24, 65.67s/it]"
     ]
    },
    {
     "name": "stdout",
     "output_type": "stream",
     "text": [
      "Car https://kolesa.kz//a/show/168494605 data written.\n",
      "23\n",
      "iteration 164, finish\n",
      "Car https://kolesa.kz//a/show/168739959 data written.\n",
      "Car https://kolesa.kz//a/show/156373030 data written.\n",
      "Car https://kolesa.kz//a/show/167584982 data written.\n",
      "Car https://kolesa.kz//a/show/143594922 data written.\n",
      "Car https://kolesa.kz//a/show/166425097 data written.\n",
      "Car https://kolesa.kz//a/show/168508077 data written.\n",
      "Car https://kolesa.kz//a/show/168494605 data written.\n",
      "Car https://kolesa.kz//a/show/159289846 data written.\n",
      "Car https://kolesa.kz//a/show/167024246 data written.\n",
      "Car https://kolesa.kz//a/show/168748255 data written.\n",
      "Car https://kolesa.kz//a/show/144273167 data written.\n",
      "Car https://kolesa.kz//a/show/152693774 data written.\n",
      "Car https://kolesa.kz//a/show/168471530 data written.\n",
      "Car https://kolesa.kz//a/show/168567238 data written.\n",
      "Car https://kolesa.kz//a/show/168486185 data written.\n",
      "Car https://kolesa.kz//a/show/168483752 data written.\n",
      "Car https://kolesa.kz//a/show/166388152 data written.\n",
      "Car https://kolesa.kz//a/show/166085806 data written.\n",
      "Car https://kolesa.kz//a/show/168129655 data written.\n",
      "Car https://kolesa.kz//a/show/168478180 data written.\n",
      "Car https://kolesa.kz//a/show/168381087 data written.\n",
      "Car https://kolesa.kz//a/show/168428985 data written.\n"
     ]
    },
    {
     "name": "stderr",
     "output_type": "stream",
     "text": [
      " 41%|████      | 164/400 [3:06:01<4:17:40, 65.51s/it]"
     ]
    },
    {
     "name": "stdout",
     "output_type": "stream",
     "text": [
      "Car https://kolesa.kz//a/show/168411053 data written.\n",
      "23\n",
      "iteration 165, finish\n",
      "Car https://kolesa.kz//a/show/153313178 data written.\n",
      "Car https://kolesa.kz//a/show/168023668 data written.\n",
      "Car https://kolesa.kz//a/show/165798973 data written.\n",
      "Car https://kolesa.kz//a/show/168381087 data written.\n",
      "Car https://kolesa.kz//a/show/168428985 data written.\n",
      "Car https://kolesa.kz//a/show/168411053 data written.\n",
      "Car https://kolesa.kz//a/show/160003451 data written.\n",
      "Car https://kolesa.kz//a/show/168451273 data written.\n",
      "Car https://kolesa.kz//a/show/166886760 data written.\n",
      "Car https://kolesa.kz//a/show/143913754 data written.\n",
      "Car https://kolesa.kz//a/show/168764169 data written.\n",
      "Car https://kolesa.kz//a/show/168453341 data written.\n",
      "Car https://kolesa.kz//a/show/166237199 data written.\n",
      "Car https://kolesa.kz//a/show/168441140 data written.\n",
      "Car https://kolesa.kz//a/show/168761218 data written.\n",
      "Car https://kolesa.kz//a/show/168758243 data written.\n",
      "Car https://kolesa.kz//a/show/167089777 data written.\n",
      "Car https://kolesa.kz//a/show/168439128 data written.\n",
      "Car https://kolesa.kz//a/show/167838337 data written.\n",
      "Car https://kolesa.kz//a/show/168747638 data written.\n",
      "Car https://kolesa.kz//a/show/168739354 data written.\n",
      "Car https://kolesa.kz//a/show/168432260 data written.\n"
     ]
    },
    {
     "name": "stderr",
     "output_type": "stream",
     "text": [
      " 41%|████▏     | 165/400 [3:07:08<4:17:56, 65.86s/it]"
     ]
    },
    {
     "name": "stdout",
     "output_type": "stream",
     "text": [
      "Car https://kolesa.kz//a/show/168865920 data written.\n",
      "23\n",
      "iteration 166, finish\n",
      "Car https://kolesa.kz//a/show/161966876 data written.\n",
      "Car https://kolesa.kz//a/show/166250601 data written.\n",
      "Car https://kolesa.kz//a/show/155858226 data written.\n",
      "Car https://kolesa.kz//a/show/168439128 data written.\n",
      "Car https://kolesa.kz//a/show/167838337 data written.\n",
      "Car https://kolesa.kz//a/show/168747638 data written.\n",
      "Car https://kolesa.kz//a/show/168739354 data written.\n",
      "Car https://kolesa.kz//a/show/168432260 data written.\n",
      "Car https://kolesa.kz//a/show/168865920 data written.\n",
      "Car https://kolesa.kz//a/show/168428918 data written.\n",
      "Car https://kolesa.kz//a/show/168737473 data written.\n",
      "Car https://kolesa.kz//a/show/168686330 data written.\n",
      "Car https://kolesa.kz//a/show/166344132 data written.\n",
      "Car https://kolesa.kz//a/show/168427912 data written.\n",
      "Car https://kolesa.kz//a/show/168866766 data written.\n",
      "Car https://kolesa.kz//a/show/168867190 data written.\n",
      "Car https://kolesa.kz//a/show/168733255 data written.\n",
      "Car https://kolesa.kz//a/show/168142666 data written.\n",
      "Car https://kolesa.kz//a/show/168416171 data written.\n",
      "Car https://kolesa.kz//a/show/168863020 data written.\n",
      "Car https://kolesa.kz//a/show/168410827 data written.\n",
      "Car https://kolesa.kz//a/show/168731823 data written.\n"
     ]
    },
    {
     "name": "stderr",
     "output_type": "stream",
     "text": [
      " 42%|████▏     | 166/400 [3:08:15<4:17:41, 66.07s/it]"
     ]
    },
    {
     "name": "stdout",
     "output_type": "stream",
     "text": [
      "Car https://kolesa.kz//a/show/168861922 data written.\n",
      "23\n",
      "iteration 167, finish\n",
      "Car https://kolesa.kz//a/show/168210266 data written.\n",
      "Car https://kolesa.kz//a/show/168709640 data written.\n",
      "Car https://kolesa.kz//a/show/168538486 data written.\n",
      "Car https://kolesa.kz//a/show/166344132 data written.\n",
      "Car https://kolesa.kz//a/show/168427912 data written.\n",
      "Car https://kolesa.kz//a/show/168866766 data written.\n",
      "Car https://kolesa.kz//a/show/168867190 data written.\n",
      "Car https://kolesa.kz//a/show/168733255 data written.\n",
      "Car https://kolesa.kz//a/show/168142666 data written.\n",
      "Car https://kolesa.kz//a/show/168416171 data written.\n",
      "Car https://kolesa.kz//a/show/168863020 data written.\n",
      "Car https://kolesa.kz//a/show/168410827 data written.\n",
      "Car https://kolesa.kz//a/show/168731823 data written.\n",
      "Car https://kolesa.kz//a/show/168861922 data written.\n",
      "Car https://kolesa.kz//a/show/168332881 data written.\n",
      "Car https://kolesa.kz//a/show/168862270 data written.\n",
      "Car https://kolesa.kz//a/show/168708933 data written.\n",
      "Car https://kolesa.kz//a/show/168861639 data written.\n",
      "Car https://kolesa.kz//a/show/167838743 data written.\n",
      "Car https://kolesa.kz//a/show/168731431 data written.\n",
      "Car https://kolesa.kz//a/show/168725156 data written.\n",
      "Car https://kolesa.kz//a/show/168397302 data written.\n"
     ]
    },
    {
     "name": "stderr",
     "output_type": "stream",
     "text": [
      " 42%|████▏     | 167/400 [3:09:20<4:15:29, 65.79s/it]"
     ]
    },
    {
     "name": "stdout",
     "output_type": "stream",
     "text": [
      "Car https://kolesa.kz//a/show/164221679 data written.\n",
      "23\n",
      "iteration 168, finish\n",
      "Car https://kolesa.kz//a/show/156648249 data written.\n",
      "Car https://kolesa.kz//a/show/164371922 data written.\n",
      "Car https://kolesa.kz//a/show/168634279 data written.\n",
      "Car https://kolesa.kz//a/show/168861639 data written.\n",
      "Car https://kolesa.kz//a/show/167838743 data written.\n",
      "Car https://kolesa.kz//a/show/168731431 data written.\n",
      "Car https://kolesa.kz//a/show/168725156 data written.\n",
      "Car https://kolesa.kz//a/show/168397302 data written.\n",
      "Car https://kolesa.kz//a/show/164221679 data written.\n",
      "Car https://kolesa.kz//a/show/166584238 data written.\n",
      "Car https://kolesa.kz//a/show/168861134 data written.\n",
      "Car https://kolesa.kz//a/show/168859550 data written.\n",
      "Car https://kolesa.kz//a/show/168718296 data written.\n",
      "Car https://kolesa.kz//a/show/165880040 data written.\n",
      "Car https://kolesa.kz//a/show/168710171 data written.\n",
      "Car https://kolesa.kz//a/show/168859241 data written.\n",
      "Car https://kolesa.kz//a/show/168858554 data written.\n",
      "Car https://kolesa.kz//a/show/168858903 data written.\n",
      "Car https://kolesa.kz//a/show/168242665 data written.\n",
      "Car https://kolesa.kz//a/show/154841080 data written.\n",
      "Car https://kolesa.kz//a/show/168380440 data written.\n",
      "Car https://kolesa.kz//a/show/168525085 data written.\n"
     ]
    },
    {
     "name": "stderr",
     "output_type": "stream",
     "text": [
      " 42%|████▏     | 168/400 [3:10:25<4:14:10, 65.74s/it]"
     ]
    },
    {
     "name": "stdout",
     "output_type": "stream",
     "text": [
      "Car https://kolesa.kz//a/show/160197022 data written.\n",
      "23\n",
      "iteration 169, finish\n",
      "Car https://kolesa.kz//a/show/168814395 data written.\n",
      "Car https://kolesa.kz//a/show/162035432 data written.\n",
      "Car https://kolesa.kz//a/show/168760585 data written.\n",
      "Car https://kolesa.kz//a/show/168858554 data written.\n",
      "Car https://kolesa.kz//a/show/168858903 data written.\n",
      "Car https://kolesa.kz//a/show/168242665 data written.\n",
      "Car https://kolesa.kz//a/show/154841080 data written.\n",
      "Car https://kolesa.kz//a/show/168380440 data written.\n",
      "Car https://kolesa.kz//a/show/168525085 data written.\n",
      "Car https://kolesa.kz//a/show/160197022 data written.\n",
      "Car https://kolesa.kz//a/show/168858297 data written.\n",
      "Car https://kolesa.kz//a/show/163313912 data written.\n",
      "Car https://kolesa.kz//a/show/168857231 data written.\n",
      "Car https://kolesa.kz//a/show/168708178 data written.\n",
      "Car https://kolesa.kz//a/show/168857021 data written.\n",
      "Car https://kolesa.kz//a/show/168707694 data written.\n",
      "Car https://kolesa.kz//a/show/163375946 data written.\n",
      "Car https://kolesa.kz//a/show/168856767 data written.\n",
      "Car https://kolesa.kz//a/show/168705505 data written.\n",
      "Car https://kolesa.kz//a/show/168855461 data written.\n",
      "Car https://kolesa.kz//a/show/168352020 data written.\n",
      "Car https://kolesa.kz//a/show/168855600 data written.\n"
     ]
    },
    {
     "name": "stderr",
     "output_type": "stream",
     "text": [
      " 42%|████▏     | 169/400 [3:11:31<4:12:45, 65.65s/it]"
     ]
    },
    {
     "name": "stdout",
     "output_type": "stream",
     "text": [
      "Car https://kolesa.kz//a/show/168351939 data written.\n",
      "23\n",
      "iteration 170, finish\n",
      "Car https://kolesa.kz//a/show/167258775 data written.\n",
      "Car https://kolesa.kz//a/show/161329677 data written.\n",
      "Car https://kolesa.kz//a/show/167918294 data written.\n",
      "Car https://kolesa.kz//a/show/168352020 data written.\n",
      "Car https://kolesa.kz//a/show/168855600 data written.\n",
      "Car https://kolesa.kz//a/show/168351939 data written.\n",
      "Car https://kolesa.kz//a/show/168514184 data written.\n",
      "Car https://kolesa.kz//a/show/152329308 data written.\n",
      "Car https://kolesa.kz//a/show/168692501 data written.\n",
      "Car https://kolesa.kz//a/show/168853981 data written.\n",
      "Car https://kolesa.kz//a/show/168688629 data written.\n",
      "Car https://kolesa.kz//a/show/167540024 data written.\n",
      "Car https://kolesa.kz//a/show/168686048 data written.\n",
      "Car https://kolesa.kz//a/show/167205017 data written.\n",
      "Car https://kolesa.kz//a/show/168319158 data written.\n",
      "Car https://kolesa.kz//a/show/168323365 data written.\n",
      "Car https://kolesa.kz//a/show/168664621 data written.\n",
      "Car https://kolesa.kz//a/show/168313623 data written.\n",
      "Car https://kolesa.kz//a/show/166839778 data written.\n",
      "Car https://kolesa.kz//a/show/168305664 data written.\n",
      "Car https://kolesa.kz//a/show/168846228 data written.\n",
      "Car https://kolesa.kz//a/show/168679759 data written.\n"
     ]
    },
    {
     "name": "stderr",
     "output_type": "stream",
     "text": [
      " 42%|████▎     | 170/400 [3:12:36<4:11:26, 65.60s/it]"
     ]
    },
    {
     "name": "stdout",
     "output_type": "stream",
     "text": [
      "Car https://kolesa.kz//a/show/168647095 data written.\n",
      "23\n",
      "iteration 171, finish\n",
      "Car https://kolesa.kz//a/show/168784989 data written.\n",
      "Car https://kolesa.kz//a/show/168160825 data written.\n",
      "Car https://kolesa.kz//a/show/157696818 data written.\n",
      "Car https://kolesa.kz//a/show/168352020 data written.\n",
      "Car https://kolesa.kz//a/show/168855600 data written.\n",
      "Car https://kolesa.kz//a/show/168351939 data written.\n",
      "Car https://kolesa.kz//a/show/168514184 data written.\n",
      "Car https://kolesa.kz//a/show/152329308 data written.\n",
      "Car https://kolesa.kz//a/show/168692501 data written.\n",
      "Car https://kolesa.kz//a/show/168853981 data written.\n",
      "Car https://kolesa.kz//a/show/168688629 data written.\n",
      "Car https://kolesa.kz//a/show/167540024 data written.\n",
      "Car https://kolesa.kz//a/show/168686048 data written.\n",
      "Car https://kolesa.kz//a/show/167205017 data written.\n",
      "Car https://kolesa.kz//a/show/168319158 data written.\n",
      "Car https://kolesa.kz//a/show/168323365 data written.\n",
      "Car https://kolesa.kz//a/show/168664621 data written.\n",
      "Car https://kolesa.kz//a/show/168313623 data written.\n",
      "Car https://kolesa.kz//a/show/166839778 data written.\n",
      "Car https://kolesa.kz//a/show/168305664 data written.\n",
      "Car https://kolesa.kz//a/show/168846228 data written.\n",
      "Car https://kolesa.kz//a/show/168679759 data written.\n"
     ]
    },
    {
     "name": "stderr",
     "output_type": "stream",
     "text": [
      " 43%|████▎     | 171/400 [3:13:41<4:09:57, 65.49s/it]"
     ]
    },
    {
     "name": "stdout",
     "output_type": "stream",
     "text": [
      "Car https://kolesa.kz//a/show/168647095 data written.\n",
      "23\n",
      "iteration 172, finish\n",
      "Car https://kolesa.kz//a/show/168810578 data written.\n",
      "Car https://kolesa.kz//a/show/168594985 data written.\n",
      "Car https://kolesa.kz//a/show/168638885 data written.\n",
      "Car https://kolesa.kz//a/show/168846228 data written.\n",
      "Car https://kolesa.kz//a/show/168679759 data written.\n",
      "Car https://kolesa.kz//a/show/168647095 data written.\n",
      "Car https://kolesa.kz//a/show/168816617 data written.\n",
      "Car https://kolesa.kz//a/show/168290804 data written.\n",
      "Car https://kolesa.kz//a/show/168793745 data written.\n",
      "Car https://kolesa.kz//a/show/168287551 data written.\n",
      "Car https://kolesa.kz//a/show/167002490 data written.\n",
      "Car https://kolesa.kz//a/show/167629799 data written.\n",
      "Car https://kolesa.kz//a/show/168668193 data written.\n",
      "Car https://kolesa.kz//a/show/168838425 data written.\n",
      "Car https://kolesa.kz//a/show/168667331 data written.\n",
      "Car https://kolesa.kz//a/show/168803489 data written.\n",
      "Car https://kolesa.kz//a/show/167671801 data written.\n",
      "Car https://kolesa.kz//a/show/168273308 data written.\n",
      "Car https://kolesa.kz//a/show/168271485 data written.\n",
      "Car https://kolesa.kz//a/show/168837451 data written.\n",
      "Car https://kolesa.kz//a/show/168837044 data written.\n",
      "Car https://kolesa.kz//a/show/168834487 data written.\n"
     ]
    },
    {
     "name": "stderr",
     "output_type": "stream",
     "text": [
      " 43%|████▎     | 172/400 [3:14:46<4:07:51, 65.22s/it]"
     ]
    },
    {
     "name": "stdout",
     "output_type": "stream",
     "text": [
      "Car https://kolesa.kz//a/show/168259471 data written.\n",
      "23\n",
      "iteration 173, finish\n",
      "Car https://kolesa.kz//a/show/168801959 data written.\n",
      "Car https://kolesa.kz//a/show/168016877 data written.\n",
      "Car https://kolesa.kz//a/show/168181385 data written.\n",
      "Car https://kolesa.kz//a/show/168837044 data written.\n",
      "Car https://kolesa.kz//a/show/168834487 data written.\n",
      "Car https://kolesa.kz//a/show/168259471 data written.\n",
      "Car https://kolesa.kz//a/show/167429330 data written.\n",
      "Car https://kolesa.kz//a/show/168257260 data written.\n",
      "Car https://kolesa.kz//a/show/168833757 data written.\n",
      "Car https://kolesa.kz//a/show/168655854 data written.\n",
      "Car https://kolesa.kz//a/show/168485413 data written.\n",
      "Car https://kolesa.kz//a/show/168655486 data written.\n",
      "Car https://kolesa.kz//a/show/168250016 data written.\n",
      "Car https://kolesa.kz//a/show/168648896 data written.\n",
      "Car https://kolesa.kz//a/show/168833296 data written.\n",
      "Car https://kolesa.kz//a/show/168643348 data written.\n",
      "Car https://kolesa.kz//a/show/168530385 data written.\n",
      "Car https://kolesa.kz//a/show/168828168 data written.\n",
      "Car https://kolesa.kz//a/show/168799668 data written.\n",
      "Car https://kolesa.kz//a/show/168231631 data written.\n",
      "Car https://kolesa.kz//a/show/168630359 data written.\n",
      "Car https://kolesa.kz//a/show/168832336 data written.\n"
     ]
    },
    {
     "name": "stderr",
     "output_type": "stream",
     "text": [
      " 43%|████▎     | 173/400 [3:15:51<4:06:36, 65.18s/it]"
     ]
    },
    {
     "name": "stdout",
     "output_type": "stream",
     "text": [
      "Car https://kolesa.kz//a/show/168231954 data written.\n",
      "23\n",
      "iteration 174, finish\n",
      "Car https://kolesa.kz//a/show/168742606 data written.\n",
      "Car https://kolesa.kz//a/show/165084484 data written.\n",
      "Car https://kolesa.kz//a/show/168781705 data written.\n",
      "Car https://kolesa.kz//a/show/168630359 data written.\n",
      "Car https://kolesa.kz//a/show/168832336 data written.\n",
      "Car https://kolesa.kz//a/show/168231954 data written.\n",
      "Car https://kolesa.kz//a/show/166635831 data written.\n",
      "Car https://kolesa.kz//a/show/168231375 data written.\n",
      "Car https://kolesa.kz//a/show/168226816 data written.\n",
      "Car https://kolesa.kz//a/show/167777680 data written.\n",
      "Car https://kolesa.kz//a/show/168227095 data written.\n",
      "Car https://kolesa.kz//a/show/168830729 data written.\n",
      "Car https://kolesa.kz//a/show/168829918 data written.\n",
      "Car https://kolesa.kz//a/show/168218428 data written.\n",
      "Car https://kolesa.kz//a/show/168216180 data written.\n",
      "Car https://kolesa.kz//a/show/168826531 data written.\n",
      "Car https://kolesa.kz//a/show/168204214 data written.\n",
      "Car https://kolesa.kz//a/show/168826325 data written.\n",
      "Car https://kolesa.kz//a/show/168620221 data written.\n",
      "Car https://kolesa.kz//a/show/168184177 data written.\n",
      "Car https://kolesa.kz//a/show/168179194 data written.\n",
      "Car https://kolesa.kz//a/show/142325235 data written.\n"
     ]
    },
    {
     "name": "stderr",
     "output_type": "stream",
     "text": [
      " 44%|████▎     | 174/400 [3:16:57<4:06:09, 65.35s/it]"
     ]
    },
    {
     "name": "stdout",
     "output_type": "stream",
     "text": [
      "Car https://kolesa.kz//a/show/168616838 data written.\n",
      "23\n",
      "iteration 175, finish\n",
      "Car https://kolesa.kz//a/show/166063454 data written.\n",
      "Car https://kolesa.kz//a/show/168756708 data written.\n",
      "Car https://kolesa.kz//a/show/161966876 data written.\n",
      "Car https://kolesa.kz//a/show/142325235 data written.\n",
      "Car https://kolesa.kz//a/show/168616838 data written.\n",
      "Car https://kolesa.kz//a/show/168448582 data written.\n",
      "Car https://kolesa.kz//a/show/167543074 data written.\n",
      "Car https://kolesa.kz//a/show/168163901 data written.\n",
      "Car https://kolesa.kz//a/show/168605129 data written.\n",
      "Car https://kolesa.kz//a/show/168820397 data written.\n",
      "Car https://kolesa.kz//a/show/162509374 data written.\n",
      "Car https://kolesa.kz//a/show/168134655 data written.\n",
      "Car https://kolesa.kz//a/show/167070964 data written.\n",
      "Car https://kolesa.kz//a/show/168129453 data written.\n",
      "Car https://kolesa.kz//a/show/168124201 data written.\n",
      "Car https://kolesa.kz//a/show/168596039 data written.\n",
      "Car https://kolesa.kz//a/show/167329449 data written.\n",
      "Car https://kolesa.kz//a/show/168596060 data written.\n",
      "Car https://kolesa.kz//a/show/168595537 data written.\n",
      "Car https://kolesa.kz//a/show/168106872 data written.\n",
      "Car https://kolesa.kz//a/show/168584021 data written.\n",
      "Car https://kolesa.kz//a/show/168583124 data written.\n"
     ]
    },
    {
     "name": "stderr",
     "output_type": "stream",
     "text": [
      " 44%|████▍     | 175/400 [3:18:03<4:06:23, 65.70s/it]"
     ]
    },
    {
     "name": "stdout",
     "output_type": "stream",
     "text": [
      "Car https://kolesa.kz//a/show/168582214 data written.\n",
      "23\n",
      "iteration 176, finish\n",
      "Car https://kolesa.kz//a/show/168808375 data written.\n",
      "Car https://kolesa.kz//a/show/167872941 data written.\n",
      "Car https://kolesa.kz//a/show/168756708 data written.\n",
      "Car https://kolesa.kz//a/show/168826325 data written.\n",
      "Car https://kolesa.kz//a/show/168620221 data written.\n",
      "Car https://kolesa.kz//a/show/168184177 data written.\n",
      "Car https://kolesa.kz//a/show/168179194 data written.\n",
      "Car https://kolesa.kz//a/show/142325235 data written.\n",
      "Car https://kolesa.kz//a/show/168616838 data written.\n",
      "Car https://kolesa.kz//a/show/168448582 data written.\n",
      "Car https://kolesa.kz//a/show/167543074 data written.\n",
      "Car https://kolesa.kz//a/show/168163901 data written.\n",
      "Car https://kolesa.kz//a/show/168605129 data written.\n",
      "Car https://kolesa.kz//a/show/168820397 data written.\n",
      "Car https://kolesa.kz//a/show/162509374 data written.\n",
      "Car https://kolesa.kz//a/show/168134655 data written.\n",
      "Car https://kolesa.kz//a/show/167070964 data written.\n",
      "Car https://kolesa.kz//a/show/168129453 data written.\n",
      "Car https://kolesa.kz//a/show/168124201 data written.\n",
      "Car https://kolesa.kz//a/show/168596039 data written.\n",
      "Car https://kolesa.kz//a/show/167329449 data written.\n",
      "Car https://kolesa.kz//a/show/168596060 data written.\n"
     ]
    },
    {
     "name": "stderr",
     "output_type": "stream",
     "text": [
      " 44%|████▍     | 176/400 [3:19:09<4:04:40, 65.54s/it]"
     ]
    },
    {
     "name": "stdout",
     "output_type": "stream",
     "text": [
      "Car https://kolesa.kz//a/show/168595537 data written.\n",
      "23\n",
      "iteration 177, finish\n",
      "Car https://kolesa.kz//a/show/167428683 data written.\n",
      "Car https://kolesa.kz//a/show/167344035 data written.\n",
      "Car https://kolesa.kz//a/show/167871081 data written.\n",
      "Car https://kolesa.kz//a/show/167329449 data written.\n",
      "Car https://kolesa.kz//a/show/168596060 data written.\n",
      "Car https://kolesa.kz//a/show/168595537 data written.\n",
      "Car https://kolesa.kz//a/show/168106872 data written.\n",
      "Car https://kolesa.kz//a/show/168584021 data written.\n",
      "Car https://kolesa.kz//a/show/168583124 data written.\n",
      "Car https://kolesa.kz//a/show/168582214 data written.\n",
      "Car https://kolesa.kz//a/show/168580851 data written.\n",
      "Car https://kolesa.kz//a/show/168816184 data written.\n",
      "Car https://kolesa.kz//a/show/168580460 data written.\n",
      "Car https://kolesa.kz//a/show/162769530 data written.\n",
      "Car https://kolesa.kz//a/show/168085947 data written.\n",
      "Car https://kolesa.kz//a/show/153529331 data written.\n",
      "Car https://kolesa.kz//a/show/168064627 data written.\n",
      "Car https://kolesa.kz//a/show/168576523 data written.\n",
      "Car https://kolesa.kz//a/show/168571961 data written.\n",
      "Car https://kolesa.kz//a/show/168060917 data written.\n",
      "Car https://kolesa.kz//a/show/166728822 data written.\n",
      "Car https://kolesa.kz//a/show/168803350 data written.\n"
     ]
    },
    {
     "name": "stderr",
     "output_type": "stream",
     "text": [
      " 44%|████▍     | 177/400 [3:20:16<4:05:20, 66.01s/it]"
     ]
    },
    {
     "name": "stdout",
     "output_type": "stream",
     "text": [
      "Car https://kolesa.kz//a/show/168050573 data written.\n",
      "23\n",
      "iteration 178, finish\n",
      "Car https://kolesa.kz//a/show/168227454 data written.\n",
      "Car https://kolesa.kz//a/show/166881470 data written.\n",
      "Car https://kolesa.kz//a/show/168523497 data written.\n",
      "Car https://kolesa.kz//a/show/168803350 data written.\n",
      "Car https://kolesa.kz//a/show/168050573 data written.\n",
      "Car https://kolesa.kz//a/show/165651752 data written.\n",
      "Car https://kolesa.kz//a/show/168477065 data written.\n",
      "Car https://kolesa.kz//a/show/168793195 data written.\n",
      "Car https://kolesa.kz//a/show/168465335 data written.\n",
      "Car https://kolesa.kz//a/show/168788302 data written.\n",
      "Car https://kolesa.kz//a/show/165956116 data written.\n",
      "Car https://kolesa.kz//a/show/167768469 data written.\n",
      "Car https://kolesa.kz//a/show/164507964 data written.\n",
      "Car https://kolesa.kz//a/show/152292349 data written.\n",
      "Car https://kolesa.kz//a/show/167309607?fromUserSearch=1 data written.\n",
      "Car https://kolesa.kz//a/show/149879008?fromUserSearch=1 data written.\n",
      "Car https://kolesa.kz//a/show/166701576 data written.\n",
      "Car https://kolesa.kz//a/show/159289263 data written.\n",
      "Car https://kolesa.kz//a/show/168752719 data written.\n",
      "Car https://kolesa.kz//a/show/168794904 data written.\n",
      "Car https://kolesa.kz//a/show/168344902 data written.\n",
      "Car https://kolesa.kz//a/show/159999850?fromUserSearch=1 data written.\n"
     ]
    },
    {
     "name": "stderr",
     "output_type": "stream",
     "text": [
      " 44%|████▍     | 178/400 [3:21:21<4:03:14, 65.74s/it]"
     ]
    },
    {
     "name": "stdout",
     "output_type": "stream",
     "text": [
      "Car https://kolesa.kz//a/show/168831604 data written.\n",
      "23\n",
      "iteration 179, finish\n",
      "Car https://kolesa.kz//a/show/168860235 data written.\n",
      "Car https://kolesa.kz//a/show/168492680 data written.\n",
      "Car https://kolesa.kz//a/show/163381130 data written.\n",
      "Car https://kolesa.kz//a/show/165653899 data written.\n",
      "Car https://kolesa.kz//a/show/168602932 data written.\n",
      "Car https://kolesa.kz//a/show/168599343 data written.\n",
      "Car https://kolesa.kz//a/show/168594518 data written.\n",
      "Car https://kolesa.kz//a/show/168582164 data written.\n",
      "Car https://kolesa.kz//a/show/168223870 data written.\n",
      "Car https://kolesa.kz//a/show/168681296 data written.\n",
      "Car https://kolesa.kz//a/show/148381868 data written.\n",
      "Car https://kolesa.kz//a/show/168567226 data written.\n",
      "Car https://kolesa.kz//a/show/156925833 data written.\n",
      "Car https://kolesa.kz//a/show/168827085 data written.\n",
      "Car https://kolesa.kz//a/show/164380990 data written.\n",
      "Car https://kolesa.kz//a/show/159540528 data written.\n",
      "Car https://kolesa.kz//a/show/168784973 data written.\n",
      "Car https://kolesa.kz//a/show/168241457 data written.\n",
      "Car https://kolesa.kz//a/show/168825137 data written.\n",
      "Car https://kolesa.kz//a/show/168824675 data written.\n",
      "Car https://kolesa.kz//a/show/168535804 data written.\n",
      "Car https://kolesa.kz//a/show/168529885 data written.\n"
     ]
    },
    {
     "name": "stderr",
     "output_type": "stream",
     "text": [
      " 45%|████▍     | 179/400 [3:22:26<4:01:19, 65.52s/it]"
     ]
    },
    {
     "name": "stdout",
     "output_type": "stream",
     "text": [
      "Car https://kolesa.kz//a/show/168527375 data written.\n",
      "23\n",
      "iteration 180, finish\n",
      "Car https://kolesa.kz//a/show/155914739 data written.\n",
      "Car https://kolesa.kz//a/show/168579507 data written.\n",
      "Car https://kolesa.kz//a/show/168806336 data written.\n",
      "Car https://kolesa.kz//a/show/159540528 data written.\n",
      "Car https://kolesa.kz//a/show/168784973 data written.\n",
      "Car https://kolesa.kz//a/show/168241457 data written.\n",
      "Car https://kolesa.kz//a/show/168825137 data written.\n",
      "Car https://kolesa.kz//a/show/168824675 data written.\n",
      "Car https://kolesa.kz//a/show/168535804 data written.\n",
      "Car https://kolesa.kz//a/show/168529885 data written.\n",
      "Car https://kolesa.kz//a/show/168527375 data written.\n",
      "Car https://kolesa.kz//a/show/168784309 data written.\n",
      "Car https://kolesa.kz//a/show/168518998 data written.\n",
      "Car https://kolesa.kz//a/show/168662389 data written.\n",
      "Car https://kolesa.kz//a/show/168128405 data written.\n",
      "Car https://kolesa.kz//a/show/168510729 data written.\n",
      "Car https://kolesa.kz//a/show/168816972 data written.\n",
      "Car https://kolesa.kz//a/show/168807492 data written.\n",
      "Car https://kolesa.kz//a/show/168504067 data written.\n",
      "Car https://kolesa.kz//a/show/166329274 data written.\n",
      "Car https://kolesa.kz//a/show/165800634 data written.\n",
      "Car https://kolesa.kz//a/show/167677008 data written.\n"
     ]
    },
    {
     "name": "stderr",
     "output_type": "stream",
     "text": [
      " 45%|████▌     | 180/400 [3:23:32<4:01:11, 65.78s/it]"
     ]
    },
    {
     "name": "stdout",
     "output_type": "stream",
     "text": [
      "Car https://kolesa.kz//a/show/168814146 data written.\n",
      "23\n",
      "iteration 181, finish\n",
      "Car https://kolesa.kz//a/show/168812341 data written.\n",
      "Car https://kolesa.kz//a/show/168646346 data written.\n",
      "Car https://kolesa.kz//a/show/164785068 data written.\n",
      "Car https://kolesa.kz//a/show/168375896 data written.\n",
      "Car https://kolesa.kz//a/show/160451144 data written.\n",
      "Car https://kolesa.kz//a/show/168795953 data written.\n",
      "Car https://kolesa.kz//a/show/162764473 data written.\n",
      "Car https://kolesa.kz//a/show/168489424 data written.\n",
      "Car https://kolesa.kz//a/show/153601347 data written.\n",
      "Car https://kolesa.kz//a/show/168784715 data written.\n",
      "Car https://kolesa.kz//a/show/160101000 data written.\n",
      "Car https://kolesa.kz//a/show/168761808 data written.\n",
      "Car https://kolesa.kz//a/show/168474741 data written.\n",
      "Car https://kolesa.kz//a/show/168466550 data written.\n",
      "Car https://kolesa.kz//a/show/168783279 data written.\n",
      "Car https://kolesa.kz//a/show/168317315 data written.\n",
      "Car https://kolesa.kz//a/show/168304892 data written.\n",
      "Car https://kolesa.kz//a/show/168468366 data written.\n",
      "Car https://kolesa.kz//a/show/156714393 data written.\n",
      "Car https://kolesa.kz//a/show/168466772 data written.\n",
      "Car https://kolesa.kz//a/show/168461489 data written.\n",
      "Car https://kolesa.kz//a/show/160468329 data written.\n"
     ]
    },
    {
     "name": "stderr",
     "output_type": "stream",
     "text": [
      " 45%|████▌     | 181/400 [3:24:39<4:01:42, 66.22s/it]"
     ]
    },
    {
     "name": "stdout",
     "output_type": "stream",
     "text": [
      "Car https://kolesa.kz//a/show/168457187 data written.\n",
      "23\n",
      "iteration 182, finish\n",
      "Car https://kolesa.kz//a/show/160793069 data written.\n",
      "Car https://kolesa.kz//a/show/168784914 data written.\n",
      "Car https://kolesa.kz//a/show/166526805 data written.\n",
      "Car https://kolesa.kz//a/show/160468329 data written.\n",
      "Car https://kolesa.kz//a/show/168457187 data written.\n",
      "Car https://kolesa.kz//a/show/168769810 data written.\n",
      "Car https://kolesa.kz//a/show/167336258 data written.\n",
      "Car https://kolesa.kz//a/show/168631690 data written.\n",
      "Car https://kolesa.kz//a/show/167411861 data written.\n",
      "Car https://kolesa.kz//a/show/167372489 data written.\n",
      "Car https://kolesa.kz//a/show/168424499 data written.\n",
      "Car https://kolesa.kz//a/show/165741769 data written.\n",
      "Car https://kolesa.kz//a/show/168545468 data written.\n",
      "Car https://kolesa.kz//a/show/161368161 data written.\n",
      "Car https://kolesa.kz//a/show/167276147 data written.\n",
      "Car https://kolesa.kz//a/show/168415019 data written.\n",
      "Car https://kolesa.kz//a/show/168761764 data written.\n",
      "Car https://kolesa.kz//a/show/167470923 data written.\n",
      "Car https://kolesa.kz//a/show/168758333 data written.\n",
      "Car https://kolesa.kz//a/show/168398803 data written.\n",
      "Car https://kolesa.kz//a/show/165612053 data written.\n",
      "Car https://kolesa.kz//a/show/166881696 data written.\n"
     ]
    },
    {
     "name": "stderr",
     "output_type": "stream",
     "text": [
      " 46%|████▌     | 182/400 [3:25:45<4:00:01, 66.06s/it]"
     ]
    },
    {
     "name": "stdout",
     "output_type": "stream",
     "text": [
      "Car https://kolesa.kz//a/show/168075472 data written.\n",
      "23\n",
      "iteration 183, finish\n",
      "Car https://kolesa.kz//a/show/168132236 data written.\n",
      "Car https://kolesa.kz//a/show/167779252 data written.\n",
      "Car https://kolesa.kz//a/show/168210266 data written.\n",
      "Car https://kolesa.kz//a/show/166881696 data written.\n",
      "Car https://kolesa.kz//a/show/168075472 data written.\n",
      "Car https://kolesa.kz//a/show/168599692 data written.\n",
      "Car https://kolesa.kz//a/show/168291893 data written.\n",
      "Car https://kolesa.kz//a/show/168754016 data written.\n",
      "Car https://kolesa.kz//a/show/168754030 data written.\n",
      "Car https://kolesa.kz//a/show/152614321 data written.\n",
      "Car https://kolesa.kz//a/show/168753486 data written.\n",
      "Car https://kolesa.kz//a/show/168749284 data written.\n",
      "Car https://kolesa.kz//a/show/168747932 data written.\n",
      "Car https://kolesa.kz//a/show/168746781 data written.\n",
      "Car https://kolesa.kz//a/show/162406546 data written.\n",
      "Car https://kolesa.kz//a/show/168744405 data written.\n",
      "Car https://kolesa.kz//a/show/168370393 data written.\n",
      "Car https://kolesa.kz//a/show/168370343 data written.\n",
      "Car https://kolesa.kz//a/show/165965222 data written.\n",
      "Car https://kolesa.kz//a/show/168347511 data written.\n",
      "Car https://kolesa.kz//a/show/168738453 data written.\n",
      "Car https://kolesa.kz//a/show/167994101 data written.\n"
     ]
    },
    {
     "name": "stderr",
     "output_type": "stream",
     "text": [
      " 46%|████▌     | 183/400 [3:27:03<4:11:29, 69.53s/it]"
     ]
    },
    {
     "name": "stdout",
     "output_type": "stream",
     "text": [
      "Car https://kolesa.kz//a/show/157954056 data written.\n",
      "23\n",
      "iteration 184, finish\n",
      "Car https://kolesa.kz//a/show/167872941 data written.\n",
      "Car https://kolesa.kz//a/show/168430266 data written.\n",
      "Car https://kolesa.kz//a/show/155858226 data written.\n",
      "Car https://kolesa.kz//a/show/157954056 data written.\n",
      "Car https://kolesa.kz//a/show/166265965 data written.\n",
      "Car https://kolesa.kz//a/show/168361804 data written.\n",
      "Car https://kolesa.kz//a/show/166390854 data written.\n",
      "Car https://kolesa.kz//a/show/166296693 data written.\n",
      "Car https://kolesa.kz//a/show/168324555 data written.\n",
      "Car https://kolesa.kz//a/show/161655893 data written.\n",
      "Car https://kolesa.kz//a/show/168314658 data written.\n",
      "Car https://kolesa.kz//a/show/168730989 data written.\n",
      "Car https://kolesa.kz//a/show/168311028 data written.\n",
      "Car https://kolesa.kz//a/show/168404969 data written.\n",
      "Car https://kolesa.kz//a/show/168713770 data written.\n",
      "Car https://kolesa.kz//a/show/168308518 data written.\n",
      "Car https://kolesa.kz//a/show/168303945 data written.\n",
      "Car https://kolesa.kz//a/show/167994606 data written.\n",
      "Car https://kolesa.kz//a/show/168301906 data written.\n",
      "Car https://kolesa.kz//a/show/168867152 data written.\n",
      "Car https://kolesa.kz//a/show/168300234 data written.\n",
      "Car https://kolesa.kz//a/show/168558462 data written.\n"
     ]
    },
    {
     "name": "stderr",
     "output_type": "stream",
     "text": [
      " 46%|████▌     | 184/400 [3:28:21<4:19:28, 72.08s/it]"
     ]
    },
    {
     "name": "stdout",
     "output_type": "stream",
     "text": [
      "Car https://kolesa.kz//a/show/168866878 data written.\n",
      "23\n",
      "iteration 185, finish\n",
      "Car https://kolesa.kz//a/show/168425207 data written.\n",
      "Car https://kolesa.kz//a/show/165776090 data written.\n",
      "Car https://kolesa.kz//a/show/168237535 data written.\n",
      "Car https://kolesa.kz//a/show/166296693 data written.\n",
      "Car https://kolesa.kz//a/show/168324555 data written.\n",
      "Car https://kolesa.kz//a/show/161655893 data written.\n",
      "Car https://kolesa.kz//a/show/168314658 data written.\n",
      "Car https://kolesa.kz//a/show/168730989 data written.\n",
      "Car https://kolesa.kz//a/show/168311028 data written.\n",
      "Car https://kolesa.kz//a/show/168404969 data written.\n",
      "Car https://kolesa.kz//a/show/168713770 data written.\n",
      "Car https://kolesa.kz//a/show/168308518 data written.\n",
      "Car https://kolesa.kz//a/show/168303945 data written.\n",
      "Car https://kolesa.kz//a/show/167994606 data written.\n",
      "Car https://kolesa.kz//a/show/168301906 data written.\n",
      "Car https://kolesa.kz//a/show/168867152 data written.\n",
      "Car https://kolesa.kz//a/show/168300234 data written.\n",
      "Car https://kolesa.kz//a/show/168558462 data written.\n",
      "Car https://kolesa.kz//a/show/168866878 data written.\n",
      "Car https://kolesa.kz//a/show/168710485 data written.\n",
      "Car https://kolesa.kz//a/show/166996013 data written.\n",
      "Car https://kolesa.kz//a/show/166300825 data written.\n"
     ]
    },
    {
     "name": "stderr",
     "output_type": "stream",
     "text": [
      " 46%|████▋     | 185/400 [3:29:38<4:23:54, 73.65s/it]"
     ]
    },
    {
     "name": "stdout",
     "output_type": "stream",
     "text": [
      "Car https://kolesa.kz//a/show/168278235 data written.\n",
      "23\n",
      "iteration 186, finish\n",
      "Car https://kolesa.kz//a/show/168739959 data written.\n",
      "Car https://kolesa.kz//a/show/168756708 data written.\n",
      "Car https://kolesa.kz//a/show/136040782 data written.\n",
      "Car https://kolesa.kz//a/show/166996013 data written.\n",
      "Car https://kolesa.kz//a/show/166300825 data written.\n",
      "Car https://kolesa.kz//a/show/168278235 data written.\n",
      "Car https://kolesa.kz//a/show/168823307 data written.\n",
      "Car https://kolesa.kz//a/show/165082724 data written.\n",
      "Car https://kolesa.kz//a/show/165153268 data written.\n",
      "Car https://kolesa.kz//a/show/168256118 data written.\n",
      "Car https://kolesa.kz//a/show/168709482 data written.\n",
      "Car https://kolesa.kz//a/show/168866777 data written.\n",
      "Car https://kolesa.kz//a/show/168698377 data written.\n",
      "Car https://kolesa.kz//a/show/168687891 data written.\n",
      "Car https://kolesa.kz//a/show/168221538 data written.\n",
      "Car https://kolesa.kz//a/show/168685208 data written.\n",
      "Car https://kolesa.kz//a/show/168861207 data written.\n",
      "Car https://kolesa.kz//a/show/168683193 data written.\n",
      "Car https://kolesa.kz//a/show/166046456 data written.\n",
      "Car https://kolesa.kz//a/show/165329058 data written.\n",
      "Car https://kolesa.kz//a/show/168859822 data written.\n",
      "Car https://kolesa.kz//a/show/168679970 data written.\n"
     ]
    },
    {
     "name": "stderr",
     "output_type": "stream",
     "text": [
      " 46%|████▋     | 186/400 [3:30:57<4:27:52, 75.10s/it]"
     ]
    },
    {
     "name": "stdout",
     "output_type": "stream",
     "text": [
      "Car https://kolesa.kz//a/show/168859246 data written.\n",
      "23\n",
      "iteration 187, finish\n",
      "Car https://kolesa.kz//a/show/168705943 data written.\n",
      "Car https://kolesa.kz//a/show/164259304 data written.\n",
      "Car https://kolesa.kz//a/show/166719473 data written.\n",
      "Car https://kolesa.kz//a/show/165329058 data written.\n",
      "Car https://kolesa.kz//a/show/168859822 data written.\n",
      "Car https://kolesa.kz//a/show/168679970 data written.\n",
      "Car https://kolesa.kz//a/show/168859246 data written.\n",
      "Car https://kolesa.kz//a/show/168677646 data written.\n",
      "Car https://kolesa.kz//a/show/164370176 data written.\n",
      "Car https://kolesa.kz//a/show/168190283 data written.\n",
      "Car https://kolesa.kz//a/show/167584143 data written.\n",
      "Car https://kolesa.kz//a/show/166284764 data written.\n",
      "Car https://kolesa.kz//a/show/168525524 data written.\n",
      "Car https://kolesa.kz//a/show/168182823 data written.\n",
      "Car https://kolesa.kz//a/show/167259774 data written.\n",
      "Car https://kolesa.kz//a/show/156949608 data written.\n",
      "Car https://kolesa.kz//a/show/168666745 data written.\n",
      "Car https://kolesa.kz//a/show/168855289 data written.\n",
      "Car https://kolesa.kz//a/show/163908186 data written.\n",
      "Car https://kolesa.kz//a/show/168179105 data written.\n",
      "Car https://kolesa.kz//a/show/165406942 data written.\n",
      "Car https://kolesa.kz//a/show/168599282 data written.\n"
     ]
    },
    {
     "name": "stderr",
     "output_type": "stream",
     "text": [
      " 47%|████▋     | 187/400 [3:32:13<4:28:17, 75.57s/it]"
     ]
    },
    {
     "name": "stdout",
     "output_type": "stream",
     "text": [
      "Car https://kolesa.kz//a/show/166060984 data written.\n",
      "23\n",
      "iteration 188, finish\n",
      "Car https://kolesa.kz//a/show/167668785 data written.\n",
      "Car https://kolesa.kz//a/show/168835814 data written.\n",
      "Car https://kolesa.kz//a/show/166063454 data written.\n",
      "Car https://kolesa.kz//a/show/167763284 data written.\n",
      "Car https://kolesa.kz//a/show/167647526 data written.\n",
      "Car https://kolesa.kz//a/show/168852148 data written.\n",
      "Car https://kolesa.kz//a/show/168850723 data written.\n",
      "Car https://kolesa.kz//a/show/167773664 data written.\n",
      "Car https://kolesa.kz//a/show/168851610 data written.\n",
      "Car https://kolesa.kz//a/show/168143362 data written.\n",
      "Car https://kolesa.kz//a/show/166989775 data written.\n",
      "Car https://kolesa.kz//a/show/168139845 data written.\n",
      "Car https://kolesa.kz//a/show/168849817 data written.\n",
      "Car https://kolesa.kz//a/show/168849074 data written.\n",
      "Car https://kolesa.kz//a/show/168634035 data written.\n",
      "Car https://kolesa.kz//a/show/168786405 data written.\n",
      "Car https://kolesa.kz//a/show/168642071 data written.\n",
      "Car https://kolesa.kz//a/show/168806424 data written.\n",
      "Car https://kolesa.kz//a/show/168639888 data written.\n",
      "Car https://kolesa.kz//a/show/168118311 data written.\n",
      "Car https://kolesa.kz//a/show/168847221 data written.\n",
      "Car https://kolesa.kz//a/show/168638374 data written.\n"
     ]
    },
    {
     "name": "stderr",
     "output_type": "stream",
     "text": [
      " 47%|████▋     | 188/400 [3:33:31<4:29:30, 76.27s/it]"
     ]
    },
    {
     "name": "stdout",
     "output_type": "stream",
     "text": [
      "Car https://kolesa.kz//a/show/167670058 data written.\n",
      "23\n",
      "iteration 189, finish\n",
      "Car https://kolesa.kz//a/show/168425207 data written.\n",
      "Car https://kolesa.kz//a/show/168162925 data written.\n",
      "Car https://kolesa.kz//a/show/156373030 data written.\n",
      "Car https://kolesa.kz//a/show/168634035 data written.\n",
      "Car https://kolesa.kz//a/show/168786405 data written.\n",
      "Car https://kolesa.kz//a/show/168642071 data written.\n",
      "Car https://kolesa.kz//a/show/168806424 data written.\n",
      "Car https://kolesa.kz//a/show/168639888 data written.\n",
      "Car https://kolesa.kz//a/show/168118311 data written.\n",
      "Car https://kolesa.kz//a/show/168847221 data written.\n",
      "Car https://kolesa.kz//a/show/168638374 data written.\n",
      "Car https://kolesa.kz//a/show/167670058 data written.\n",
      "Car https://kolesa.kz//a/show/168845741 data written.\n",
      "Car https://kolesa.kz//a/show/168845920 data written.\n",
      "Car https://kolesa.kz//a/show/168106789 data written.\n",
      "Car https://kolesa.kz//a/show/168369705 data written.\n",
      "Car https://kolesa.kz//a/show/150729798 data written.\n",
      "Car https://kolesa.kz//a/show/168631270 data written.\n",
      "Car https://kolesa.kz//a/show/164871803 data written.\n",
      "Car https://kolesa.kz//a/show/168630293 data written.\n",
      "Car https://kolesa.kz//a/show/164132033 data written.\n",
      "Car https://kolesa.kz//a/show/168623654 data written.\n"
     ]
    },
    {
     "name": "stderr",
     "output_type": "stream",
     "text": [
      " 47%|████▋     | 189/400 [3:34:50<4:31:18, 77.15s/it]"
     ]
    },
    {
     "name": "stdout",
     "output_type": "stream",
     "text": [
      "Car https://kolesa.kz//a/show/168143003 data written.\n",
      "23\n",
      "iteration 190, finish\n",
      "Car https://kolesa.kz//a/show/160405028 data written.\n",
      "Car https://kolesa.kz//a/show/168063072 data written.\n",
      "Car https://kolesa.kz//a/show/167279549 data written.\n",
      "Car https://kolesa.kz//a/show/168623654 data written.\n",
      "Car https://kolesa.kz//a/show/168143003 data written.\n",
      "Car https://kolesa.kz//a/show/168079203 data written.\n",
      "Car https://kolesa.kz//a/show/168841115 data written.\n",
      "Car https://kolesa.kz//a/show/168070680 data written.\n",
      "Car https://kolesa.kz//a/show/168838901 data written.\n",
      "Car https://kolesa.kz//a/show/168064964 data written.\n",
      "Car https://kolesa.kz//a/show/164686491 data written.\n",
      "Car https://kolesa.kz//a/show/167858849 data written.\n",
      "Car https://kolesa.kz//a/show/168648400 data written.\n",
      "Car https://kolesa.kz//a/show/160385586 data written.\n",
      "Car https://kolesa.kz//a/show/168837148 data written.\n",
      "Car https://kolesa.kz//a/show/168837182 data written.\n",
      "Car https://kolesa.kz//a/show/168835882 data written.\n",
      "Car https://kolesa.kz//a/show/141104751 data written.\n",
      "Car https://kolesa.kz//a/show/168609439 data written.\n",
      "Car https://kolesa.kz//a/show/168609104 data written.\n",
      "Car https://kolesa.kz//a/show/167328748 data written.\n",
      "Car https://kolesa.kz//a/show/168688322 data written.\n"
     ]
    },
    {
     "name": "stderr",
     "output_type": "stream",
     "text": [
      " 48%|████▊     | 190/400 [3:36:10<4:32:34, 77.88s/it]"
     ]
    },
    {
     "name": "stdout",
     "output_type": "stream",
     "text": [
      "Car https://kolesa.kz//a/show/168813425 data written.\n",
      "23\n",
      "iteration 191, finish\n",
      "Car https://kolesa.kz//a/show/167770453 data written.\n",
      "Car https://kolesa.kz//a/show/168517332 data written.\n",
      "Car https://kolesa.kz//a/show/168204441 data written.\n",
      "Car https://kolesa.kz//a/show/167328748 data written.\n",
      "Car https://kolesa.kz//a/show/168688322 data written.\n",
      "Car https://kolesa.kz//a/show/168813425 data written.\n",
      "Car https://kolesa.kz//a/show/163260818 data written.\n",
      "Car https://kolesa.kz//a/show/158988164 data written.\n",
      "Car https://kolesa.kz//a/show/166896752 data written.\n",
      "Car https://kolesa.kz//a/show/168039234 data written.\n",
      "Car https://kolesa.kz//a/show/168514186 data written.\n",
      "Car https://kolesa.kz//a/show/157978185 data written.\n",
      "Car https://kolesa.kz//a/show/161540605 data written.\n",
      "Car https://kolesa.kz//a/show/168616300 data written.\n",
      "Car https://kolesa.kz//a/show/167553446 data written.\n",
      "Car https://kolesa.kz//a/show/165748495 data written.\n",
      "Car https://kolesa.kz//a/show/168864086 data written.\n",
      "Car https://kolesa.kz//a/show/168397244 data written.\n",
      "Car https://kolesa.kz//a/show/168528648 data written.\n",
      "Car https://kolesa.kz//a/show/168603234 data written.\n",
      "Car https://kolesa.kz//a/show/167175097 data written.\n",
      "Car https://kolesa.kz//a/show/168572750 data written.\n"
     ]
    },
    {
     "name": "stderr",
     "output_type": "stream",
     "text": [
      " 48%|████▊     | 191/400 [3:37:26<4:29:25, 77.35s/it]"
     ]
    },
    {
     "name": "stdout",
     "output_type": "stream",
     "text": [
      "Car https://kolesa.kz//a/show/166926111 data written.\n",
      "23\n",
      "iteration 192, finish\n",
      "Car https://kolesa.kz//a/show/168533438 data written.\n",
      "Car https://kolesa.kz//a/show/164234011 data written.\n",
      "Car https://kolesa.kz//a/show/168336128 data written.\n",
      "Car https://kolesa.kz//a/show/163260818 data written.\n",
      "Car https://kolesa.kz//a/show/158988164 data written.\n",
      "Car https://kolesa.kz//a/show/166896752 data written.\n",
      "Car https://kolesa.kz//a/show/168039234 data written.\n",
      "Car https://kolesa.kz//a/show/168514186 data written.\n",
      "Car https://kolesa.kz//a/show/157978185 data written.\n",
      "Car https://kolesa.kz//a/show/161540605 data written.\n",
      "Car https://kolesa.kz//a/show/168616300 data written.\n",
      "Car https://kolesa.kz//a/show/167553446 data written.\n",
      "Car https://kolesa.kz//a/show/165748495 data written.\n",
      "Car https://kolesa.kz//a/show/168864086 data written.\n",
      "Car https://kolesa.kz//a/show/168397244 data written.\n",
      "Car https://kolesa.kz//a/show/168528648 data written.\n",
      "Car https://kolesa.kz//a/show/168603234 data written.\n",
      "Car https://kolesa.kz//a/show/167175097 data written.\n",
      "Car https://kolesa.kz//a/show/168572750 data written.\n",
      "Car https://kolesa.kz//a/show/166926111 data written.\n",
      "Car https://kolesa.kz//a/show/168584638 data written.\n",
      "Car https://kolesa.kz//a/show/168583659 data written.\n"
     ]
    },
    {
     "name": "stderr",
     "output_type": "stream",
     "text": [
      " 48%|████▊     | 192/400 [3:38:44<4:28:30, 77.46s/it]"
     ]
    },
    {
     "name": "stdout",
     "output_type": "stream",
     "text": [
      "Car https://kolesa.kz//a/show/168534405 data written.\n",
      "23\n",
      "iteration 193, finish\n",
      "Car https://kolesa.kz//a/show/168602727 data written.\n",
      "Car https://kolesa.kz//a/show/168799995 data written.\n",
      "Car https://kolesa.kz//a/show/168581166 data written.\n",
      "Car https://kolesa.kz//a/show/166926111 data written.\n",
      "Car https://kolesa.kz//a/show/168584638 data written.\n",
      "Car https://kolesa.kz//a/show/168583659 data written.\n",
      "Car https://kolesa.kz//a/show/168534405 data written.\n",
      "Car https://kolesa.kz//a/show/167702100 data written.\n",
      "Car https://kolesa.kz//a/show/168571351 data written.\n",
      "Car https://kolesa.kz//a/show/168570367 data written.\n",
      "Car https://kolesa.kz//a/show/168563832 data written.\n",
      "Car https://kolesa.kz//a/show/168561794 data written.\n",
      "Car https://kolesa.kz//a/show/164751528 data written.\n",
      "Car https://kolesa.kz//a/show/168691075 data written.\n",
      "Car https://kolesa.kz//a/show/166353320 data written.\n",
      "Car https://kolesa.kz//a/show/168827719 data written.\n",
      "Car https://kolesa.kz//a/show/168531775 data written.\n",
      "Car https://kolesa.kz//a/show/168827236 data written.\n",
      "Car https://kolesa.kz//a/show/168506622 data written.\n",
      "Car https://kolesa.kz//a/show/168176741 data written.\n",
      "Car https://kolesa.kz//a/show/168825514 data written.\n",
      "Car https://kolesa.kz//a/show/167890423 data written.\n"
     ]
    },
    {
     "name": "stderr",
     "output_type": "stream",
     "text": [
      " 48%|████▊     | 193/400 [3:40:02<4:28:16, 77.76s/it]"
     ]
    },
    {
     "name": "stdout",
     "output_type": "stream",
     "text": [
      "Car https://kolesa.kz//a/show/168824787 data written.\n",
      "23\n",
      "iteration 194, finish\n",
      "Car https://kolesa.kz//a/show/168085371 data written.\n",
      "Car https://kolesa.kz//a/show/168812341 data written.\n",
      "Car https://kolesa.kz//a/show/165988563 data written.\n",
      "Car https://kolesa.kz//a/show/167890423 data written.\n",
      "Car https://kolesa.kz//a/show/168824787 data written.\n",
      "Car https://kolesa.kz//a/show/166542638 data written.\n",
      "Car https://kolesa.kz//a/show/167950543 data written.\n",
      "Car https://kolesa.kz//a/show/168519460 data written.\n",
      "Car https://kolesa.kz//a/show/165518864 data written.\n",
      "Car https://kolesa.kz//a/show/168754392 data written.\n",
      "Car https://kolesa.kz//a/show/167340169 data written.\n",
      "Car https://kolesa.kz//a/show/167839240 data written.\n",
      "Car https://kolesa.kz//a/show/168514123 data written.\n",
      "Car https://kolesa.kz//a/show/168314804 data written.\n",
      "Car https://kolesa.kz//a/show/167111779 data written.\n",
      "Car https://kolesa.kz//a/show/168817782 data written.\n",
      "Car https://kolesa.kz//a/show/168491549 data written.\n",
      "Car https://kolesa.kz//a/show/163826834 data written.\n",
      "Car https://kolesa.kz//a/show/168815107 data written.\n",
      "Car https://kolesa.kz//a/show/168810091 data written.\n",
      "Car https://kolesa.kz//a/show/166614843 data written.\n",
      "Car https://kolesa.kz//a/show/168492149 data written.\n"
     ]
    },
    {
     "name": "stderr",
     "output_type": "stream",
     "text": [
      " 48%|████▊     | 194/400 [3:41:20<4:26:38, 77.66s/it]"
     ]
    },
    {
     "name": "stdout",
     "output_type": "stream",
     "text": [
      "Car https://kolesa.kz//a/show/168800508 data written.\n",
      "23\n",
      "iteration 195, finish\n",
      "Car https://kolesa.kz//a/show/168348370 data written.\n",
      "Car https://kolesa.kz//a/show/164813763 data written.\n",
      "Car https://kolesa.kz//a/show/166706868 data written.\n",
      "Car https://kolesa.kz//a/show/166614843 data written.\n",
      "Car https://kolesa.kz//a/show/168492149 data written.\n",
      "Car https://kolesa.kz//a/show/168800508 data written.\n",
      "Car https://kolesa.kz//a/show/168488959 data written.\n",
      "Car https://kolesa.kz//a/show/167555474 data written.\n",
      "Car https://kolesa.kz//a/show/168480214 data written.\n",
      "Car https://kolesa.kz//a/show/168470820 data written.\n",
      "Car https://kolesa.kz//a/show/168358010 data written.\n",
      "Car https://kolesa.kz//a/show/168348993 data written.\n",
      "Car https://kolesa.kz//a/show/168394127 data written.\n",
      "Car https://kolesa.kz//a/show/168768447 data written.\n",
      "Car https://kolesa.kz//a/show/146597662 data written.\n",
      "Car https://kolesa.kz//a/show/161612976 data written.\n",
      "Car https://kolesa.kz//a/show/168766814 data written.\n",
      "Car https://kolesa.kz//a/show/166953844 data written.\n",
      "Car https://kolesa.kz//a/show/168765949 data written.\n",
      "Car https://kolesa.kz//a/show/168428900 data written.\n",
      "Car https://kolesa.kz//a/show/162496248 data written.\n",
      "Car https://kolesa.kz//a/show/168427633 data written.\n"
     ]
    },
    {
     "name": "stderr",
     "output_type": "stream",
     "text": [
      " 49%|████▉     | 195/400 [3:42:37<4:25:30, 77.71s/it]"
     ]
    },
    {
     "name": "stdout",
     "output_type": "stream",
     "text": [
      "Car https://kolesa.kz//a/show/167330132 data written.\n",
      "23\n",
      "iteration 196, finish\n",
      "Car https://kolesa.kz//a/show/157711724 data written.\n",
      "Car https://kolesa.kz//a/show/168636653 data written.\n",
      "Car https://kolesa.kz//a/show/156373030 data written.\n",
      "Car https://kolesa.kz//a/show/168480214 data written.\n",
      "Car https://kolesa.kz//a/show/168470820 data written.\n",
      "Car https://kolesa.kz//a/show/168358010 data written.\n",
      "Car https://kolesa.kz//a/show/168348993 data written.\n",
      "Car https://kolesa.kz//a/show/168394127 data written.\n",
      "Car https://kolesa.kz//a/show/168768447 data written.\n",
      "Car https://kolesa.kz//a/show/146597662 data written.\n",
      "Car https://kolesa.kz//a/show/161612976 data written.\n",
      "Car https://kolesa.kz//a/show/168766814 data written.\n",
      "Car https://kolesa.kz//a/show/166953844 data written.\n",
      "Car https://kolesa.kz//a/show/168765949 data written.\n",
      "Car https://kolesa.kz//a/show/168428900 data written.\n",
      "Car https://kolesa.kz//a/show/162496248 data written.\n",
      "Car https://kolesa.kz//a/show/168427633 data written.\n",
      "Car https://kolesa.kz//a/show/167330132 data written.\n",
      "Car https://kolesa.kz//a/show/168408226 data written.\n",
      "Car https://kolesa.kz//a/show/168407720 data written.\n",
      "Car https://kolesa.kz//a/show/168541980 data written.\n",
      "Car https://kolesa.kz//a/show/168400439 data written.\n"
     ]
    },
    {
     "name": "stderr",
     "output_type": "stream",
     "text": [
      " 49%|████▉     | 196/400 [3:43:56<4:25:14, 78.01s/it]"
     ]
    },
    {
     "name": "stdout",
     "output_type": "stream",
     "text": [
      "Car https://kolesa.kz//a/show/168398763 data written.\n",
      "23\n",
      "iteration 197, finish\n",
      "Car https://kolesa.kz//a/show/168400906 data written.\n",
      "Car https://kolesa.kz//a/show/164452089 data written.\n",
      "Car https://kolesa.kz//a/show/168542154 data written.\n",
      "Car https://kolesa.kz//a/show/168541980 data written.\n",
      "Car https://kolesa.kz//a/show/168400439 data written.\n",
      "Car https://kolesa.kz//a/show/168398763 data written.\n",
      "Car https://kolesa.kz//a/show/165375317 data written.\n",
      "Car https://kolesa.kz//a/show/168755149 data written.\n",
      "Car https://kolesa.kz//a/show/168392837 data written.\n",
      "Car https://kolesa.kz//a/show/166903752 data written.\n",
      "Car https://kolesa.kz//a/show/168749290 data written.\n",
      "Car https://kolesa.kz//a/show/168214230 data written.\n",
      "Car https://kolesa.kz//a/show/168746099 data written.\n",
      "Car https://kolesa.kz//a/show/168740885 data written.\n",
      "Car https://kolesa.kz//a/show/168382659 data written.\n",
      "Car https://kolesa.kz//a/show/160580439 data written.\n",
      "Car https://kolesa.kz//a/show/168702788 data written.\n",
      "Car https://kolesa.kz//a/show/152510949 data written.\n",
      "Car https://kolesa.kz//a/show/168380245 data written.\n",
      "Car https://kolesa.kz//a/show/168377568 data written.\n",
      "Car https://kolesa.kz//a/show/168375948 data written.\n",
      "Car https://kolesa.kz//a/show/166200796 data written.\n"
     ]
    },
    {
     "name": "stderr",
     "output_type": "stream",
     "text": [
      " 49%|████▉     | 197/400 [3:45:15<4:24:25, 78.15s/it]"
     ]
    },
    {
     "name": "stdout",
     "output_type": "stream",
     "text": [
      "Car https://kolesa.kz//a/show/167645571 data written.\n",
      "23\n",
      "iteration 198, finish\n",
      "Car https://kolesa.kz//a/show/168695380 data written.\n",
      "Car https://kolesa.kz//a/show/167526571 data written.\n",
      "Car https://kolesa.kz//a/show/163978348 data written.\n",
      "Car https://kolesa.kz//a/show/168380245 data written.\n",
      "Car https://kolesa.kz//a/show/168377568 data written.\n",
      "Car https://kolesa.kz//a/show/168375948 data written.\n",
      "Car https://kolesa.kz//a/show/166200796 data written.\n",
      "Car https://kolesa.kz//a/show/167645571 data written.\n",
      "Car https://kolesa.kz//a/show/165337610 data written.\n",
      "Car https://kolesa.kz//a/show/164241767 data written.\n",
      "Car https://kolesa.kz//a/show/168357952 data written.\n",
      "Car https://kolesa.kz//a/show/168726481 data written.\n",
      "Car https://kolesa.kz//a/show/168342239 data written.\n",
      "Car https://kolesa.kz//a/show/168542533 data written.\n",
      "Car https://kolesa.kz//a/show/167056017 data written.\n",
      "Car https://kolesa.kz//a/show/168319478 data written.\n",
      "Car https://kolesa.kz//a/show/168313318 data written.\n",
      "Car https://kolesa.kz//a/show/166018056 data written.\n",
      "Car https://kolesa.kz//a/show/168301697 data written.\n",
      "Car https://kolesa.kz//a/show/168866172 data written.\n",
      "Car https://kolesa.kz//a/show/168284934 data written.\n",
      "Car https://kolesa.kz//a/show/168866113 data written.\n"
     ]
    },
    {
     "name": "stderr",
     "output_type": "stream",
     "text": [
      " 50%|████▉     | 198/400 [3:46:31<4:21:25, 77.65s/it]"
     ]
    },
    {
     "name": "stdout",
     "output_type": "stream",
     "text": [
      "Car https://kolesa.kz//a/show/168866364 data written.\n",
      "23\n",
      "iteration 199, finish\n",
      "Car https://kolesa.kz//a/show/168643324 data written.\n",
      "Car https://kolesa.kz//a/show/161097325 data written.\n",
      "Car https://kolesa.kz//a/show/168760658 data written.\n",
      "Car https://kolesa.kz//a/show/168866364 data written.\n",
      "Car https://kolesa.kz//a/show/168866543 data written.\n",
      "Car https://kolesa.kz//a/show/168237238 data written.\n",
      "Car https://kolesa.kz//a/show/168865421 data written.\n",
      "Car https://kolesa.kz//a/show/168864476 data written.\n",
      "Car https://kolesa.kz//a/show/162075795 data written.\n",
      "Car https://kolesa.kz//a/show/160494625 data written.\n",
      "Car https://kolesa.kz//a/show/168708051 data written.\n",
      "Car https://kolesa.kz//a/show/168862322 data written.\n",
      "Car https://kolesa.kz//a/show/168707350 data written.\n",
      "Car https://kolesa.kz//a/show/168650090 data written.\n",
      "Car https://kolesa.kz//a/show/167835467 data written.\n",
      "Car https://kolesa.kz//a/show/168237303 data written.\n",
      "Car https://kolesa.kz//a/show/168861484 data written.\n",
      "Car https://kolesa.kz//a/show/168695626 data written.\n",
      "Car https://kolesa.kz//a/show/168100323 data written.\n",
      "Car https://kolesa.kz//a/show/168787772 data written.\n",
      "Car https://kolesa.kz//a/show/168689348 data written.\n",
      "Car https://kolesa.kz//a/show/168848435 data written.\n"
     ]
    },
    {
     "name": "stderr",
     "output_type": "stream",
     "text": [
      " 50%|████▉     | 199/400 [3:47:50<4:21:10, 77.96s/it]"
     ]
    },
    {
     "name": "stdout",
     "output_type": "stream",
     "text": [
      "Car https://kolesa.kz//a/show/166363677 data written.\n",
      "23\n",
      "iteration 200, finish\n",
      "Car https://kolesa.kz//a/show/168712588 data written.\n",
      "Car https://kolesa.kz//a/show/168538486 data written.\n",
      "Car https://kolesa.kz//a/show/168709640 data written.\n",
      "Car https://kolesa.kz//a/show/168866543 data written.\n",
      "Car https://kolesa.kz//a/show/168237238 data written.\n",
      "Car https://kolesa.kz//a/show/168865421 data written.\n",
      "Car https://kolesa.kz//a/show/168864476 data written.\n",
      "Car https://kolesa.kz//a/show/162075795 data written.\n",
      "Car https://kolesa.kz//a/show/160494625 data written.\n",
      "Car https://kolesa.kz//a/show/168708051 data written.\n",
      "Car https://kolesa.kz//a/show/168862322 data written.\n",
      "Car https://kolesa.kz//a/show/168707350 data written.\n",
      "Car https://kolesa.kz//a/show/168650090 data written.\n",
      "Car https://kolesa.kz//a/show/167835467 data written.\n",
      "Car https://kolesa.kz//a/show/168237303 data written.\n",
      "Car https://kolesa.kz//a/show/168861484 data written.\n",
      "Car https://kolesa.kz//a/show/168695626 data written.\n",
      "Car https://kolesa.kz//a/show/168100323 data written.\n",
      "Car https://kolesa.kz//a/show/168787772 data written.\n",
      "Car https://kolesa.kz//a/show/168689348 data written.\n",
      "Car https://kolesa.kz//a/show/168848435 data written.\n",
      "Car https://kolesa.kz//a/show/166363677 data written.\n"
     ]
    },
    {
     "name": "stderr",
     "output_type": "stream",
     "text": [
      " 50%|█████     | 200/400 [3:49:07<4:19:09, 77.75s/it]"
     ]
    },
    {
     "name": "stdout",
     "output_type": "stream",
     "text": [
      "Car https://kolesa.kz//a/show/168860618 data written.\n",
      "23\n",
      "iteration 201, finish\n",
      "Car https://kolesa.kz//a/show/168758987 data written.\n",
      "Car https://kolesa.kz//a/show/168281477 data written.\n",
      "Car https://kolesa.kz//a/show/168732078 data written.\n",
      "Car https://kolesa.kz//a/show/168860618 data written.\n",
      "Car https://kolesa.kz//a/show/168554298 data written.\n",
      "Car https://kolesa.kz//a/show/166956554 data written.\n",
      "Car https://kolesa.kz//a/show/167518880 data written.\n",
      "Car https://kolesa.kz//a/show/165017890 data written.\n",
      "Car https://kolesa.kz//a/show/168179412 data written.\n",
      "Car https://kolesa.kz//a/show/168828119 data written.\n",
      "Car https://kolesa.kz//a/show/168457842 data written.\n",
      "Car https://kolesa.kz//a/show/167801230 data written.\n",
      "Car https://kolesa.kz//a/show/168202670 data written.\n",
      "Car https://kolesa.kz//a/show/167619479 data written.\n",
      "Car https://kolesa.kz//a/show/168855577 data written.\n",
      "Car https://kolesa.kz//a/show/151467257 data written.\n",
      "Car https://kolesa.kz//a/show/167764038 data written.\n",
      "Car https://kolesa.kz//a/show/168193805 data written.\n",
      "Car https://kolesa.kz//a/show/168853848 data written.\n",
      "Car https://kolesa.kz//a/show/168190457 data written.\n",
      "Car https://kolesa.kz//a/show/168632840 data written.\n",
      "Car https://kolesa.kz//a/show/168673186 data written.\n"
     ]
    },
    {
     "name": "stderr",
     "output_type": "stream",
     "text": [
      " 50%|█████     | 201/400 [3:50:27<4:20:20, 78.50s/it]"
     ]
    },
    {
     "name": "stdout",
     "output_type": "stream",
     "text": [
      "Car https://kolesa.kz//a/show/168178833 data written.\n",
      "23\n",
      "iteration 202, finish\n",
      "Car https://kolesa.kz//a/show/168313560 data written.\n",
      "Car https://kolesa.kz//a/show/168760658 data written.\n",
      "Car https://kolesa.kz//a/show/167902875 data written.\n",
      "Car https://kolesa.kz//a/show/168673186 data written.\n",
      "Car https://kolesa.kz//a/show/168178833 data written.\n",
      "Car https://kolesa.kz//a/show/168622254 data written.\n",
      "Car https://kolesa.kz//a/show/167218437 data written.\n",
      "Car https://kolesa.kz//a/show/168174669 data written.\n",
      "Car https://kolesa.kz//a/show/168136007 data written.\n",
      "Car https://kolesa.kz//a/show/159879731 data written.\n",
      "Car https://kolesa.kz//a/show/168122557 data written.\n",
      "Car https://kolesa.kz//a/show/167365951 data written.\n",
      "Car https://kolesa.kz//a/show/112296535 data written.\n",
      "Car https://kolesa.kz//a/show/168632971 data written.\n",
      "Car https://kolesa.kz//a/show/166793281 data written.\n",
      "Car https://kolesa.kz//a/show/168653527 data written.\n",
      "Car https://kolesa.kz//a/show/168846445 data written.\n",
      "Car https://kolesa.kz//a/show/168641308 data written.\n",
      "Car https://kolesa.kz//a/show/168640587 data written.\n",
      "Car https://kolesa.kz//a/show/168840731 data written.\n",
      "Car https://kolesa.kz//a/show/168639650 data written.\n",
      "Car https://kolesa.kz//a/show/166355108 data written.\n"
     ]
    },
    {
     "name": "stderr",
     "output_type": "stream",
     "text": [
      " 50%|█████     | 202/400 [3:51:46<4:19:12, 78.55s/it]"
     ]
    },
    {
     "name": "stdout",
     "output_type": "stream",
     "text": [
      "Car https://kolesa.kz//a/show/168096996 data written.\n",
      "23\n",
      "iteration 203, finish\n",
      "Car https://kolesa.kz//a/show/165960821 data written.\n",
      "Car https://kolesa.kz//a/show/165357296 data written.\n",
      "Car https://kolesa.kz//a/show/168740862 data written.\n",
      "Car https://kolesa.kz//a/show/168840731 data written.\n",
      "Car https://kolesa.kz//a/show/168639650 data written.\n",
      "Car https://kolesa.kz//a/show/166355108 data written.\n",
      "Car https://kolesa.kz//a/show/168096996 data written.\n",
      "Car https://kolesa.kz//a/show/167299325 data written.\n",
      "Car https://kolesa.kz//a/show/168635275 data written.\n",
      "Car https://kolesa.kz//a/show/168635235 data written.\n",
      "Car https://kolesa.kz//a/show/168739480 data written.\n",
      "Car https://kolesa.kz//a/show/167524118 data written.\n",
      "Car https://kolesa.kz//a/show/168430941 data written.\n",
      "Car https://kolesa.kz//a/show/166227764 data written.\n",
      "Car https://kolesa.kz//a/show/168833196 data written.\n",
      "Car https://kolesa.kz//a/show/168063944 data written.\n",
      "Car https://kolesa.kz//a/show/168830441 data written.\n",
      "Car https://kolesa.kz//a/show/168063975 data written.\n",
      "Car https://kolesa.kz//a/show/168622318 data written.\n",
      "Car https://kolesa.kz//a/show/168058671 data written.\n",
      "Car https://kolesa.kz//a/show/168826159 data written.\n",
      "Car https://kolesa.kz//a/show/162589443 data written.\n"
     ]
    },
    {
     "name": "stderr",
     "output_type": "stream",
     "text": [
      " 51%|█████     | 203/400 [3:53:05<4:17:50, 78.53s/it]"
     ]
    },
    {
     "name": "stdout",
     "output_type": "stream",
     "text": [
      "Car https://kolesa.kz//a/show/168731995 data written.\n",
      "23\n",
      "iteration 204, finish\n",
      "Car https://kolesa.kz//a/show/168501762 data written.\n",
      "Car https://kolesa.kz//a/show/168739959 data written.\n",
      "Car https://kolesa.kz//a/show/161966876 data written.\n",
      "Car https://kolesa.kz//a/show/168640587 data written.\n",
      "Car https://kolesa.kz//a/show/168840731 data written.\n",
      "Car https://kolesa.kz//a/show/168639650 data written.\n",
      "Car https://kolesa.kz//a/show/166355108 data written.\n",
      "Car https://kolesa.kz//a/show/168096996 data written.\n",
      "Car https://kolesa.kz//a/show/167299325 data written.\n",
      "Car https://kolesa.kz//a/show/168635275 data written.\n",
      "Car https://kolesa.kz//a/show/168635235 data written.\n",
      "Car https://kolesa.kz//a/show/168739480 data written.\n",
      "Car https://kolesa.kz//a/show/167524118 data written.\n",
      "Car https://kolesa.kz//a/show/168430941 data written.\n",
      "Car https://kolesa.kz//a/show/166227764 data written.\n",
      "Car https://kolesa.kz//a/show/168833196 data written.\n",
      "Car https://kolesa.kz//a/show/168063944 data written.\n",
      "Car https://kolesa.kz//a/show/168830441 data written.\n",
      "Car https://kolesa.kz//a/show/168063975 data written.\n",
      "Car https://kolesa.kz//a/show/168622318 data written.\n",
      "Car https://kolesa.kz//a/show/168058671 data written.\n",
      "Car https://kolesa.kz//a/show/168826159 data written.\n"
     ]
    },
    {
     "name": "stderr",
     "output_type": "stream",
     "text": [
      " 51%|█████     | 204/400 [3:54:22<4:15:06, 78.10s/it]"
     ]
    },
    {
     "name": "stdout",
     "output_type": "stream",
     "text": [
      "Car https://kolesa.kz//a/show/162589443 data written.\n",
      "23\n",
      "iteration 205, finish\n",
      "Car https://kolesa.kz//a/show/166681202 data written.\n",
      "Car https://kolesa.kz//a/show/168691750 data written.\n",
      "Car https://kolesa.kz//a/show/163955152 data written.\n",
      "Car https://kolesa.kz//a/show/168826159 data written.\n",
      "Car https://kolesa.kz//a/show/162589443 data written.\n",
      "Car https://kolesa.kz//a/show/168731995 data written.\n",
      "Car https://kolesa.kz//a/show/167340735 data written.\n",
      "Car https://kolesa.kz//a/show/163919758 data written.\n",
      "Car https://kolesa.kz//a/show/168583833 data written.\n",
      "Car https://kolesa.kz//a/show/168247868 data written.\n",
      "Car https://kolesa.kz//a/show/167438373 data written.\n",
      "Car https://kolesa.kz//a/show/166417631 data written.\n",
      "Car https://kolesa.kz//a/show/168567670 data written.\n",
      "Car https://kolesa.kz//a/show/168563989 data written.\n",
      "Car https://kolesa.kz//a/show/168563765 data written.\n",
      "Car https://kolesa.kz//a/show/168080626 data written.\n",
      "Car https://kolesa.kz//a/show/168556045 data written.\n",
      "Car https://kolesa.kz//a/show/168549349 data written.\n",
      "Car https://kolesa.kz//a/show/168650459 data written.\n",
      "Car https://kolesa.kz//a/show/168781902 data written.\n",
      "Car https://kolesa.kz//a/show/168748574 data written.\n",
      "Car https://kolesa.kz//a/show/168541639 data written.\n"
     ]
    },
    {
     "name": "stderr",
     "output_type": "stream",
     "text": [
      " 51%|█████▏    | 205/400 [3:55:39<4:12:52, 77.81s/it]"
     ]
    },
    {
     "name": "stdout",
     "output_type": "stream",
     "text": [
      "Car https://kolesa.kz//a/show/168778807 data written.\n",
      "23\n",
      "iteration 206, finish\n",
      "Car https://kolesa.kz//a/show/165696917 data written.\n",
      "Car https://kolesa.kz//a/show/166681202 data written.\n",
      "Car https://kolesa.kz//a/show/168285009 data written.\n",
      "Car https://kolesa.kz//a/show/168781902 data written.\n",
      "Car https://kolesa.kz//a/show/168748574 data written.\n",
      "Car https://kolesa.kz//a/show/168541639 data written.\n",
      "Car https://kolesa.kz//a/show/168778807 data written.\n",
      "Car https://kolesa.kz//a/show/168126159 data written.\n",
      "Car https://kolesa.kz//a/show/168534207 data written.\n",
      "Car https://kolesa.kz//a/show/168094983 data written.\n",
      "Car https://kolesa.kz//a/show/155121456 data written.\n",
      "Car https://kolesa.kz//a/show/167734612 data written.\n",
      "Car https://kolesa.kz//a/show/168505441 data written.\n",
      "Car https://kolesa.kz//a/show/167727565 data written.\n",
      "Car https://kolesa.kz//a/show/164994740 data written.\n",
      "Car https://kolesa.kz//a/show/168503611 data written.\n",
      "Car https://kolesa.kz//a/show/168347947 data written.\n",
      "Car https://kolesa.kz//a/show/168493576 data written.\n",
      "Car https://kolesa.kz//a/show/168761725 data written.\n",
      "Car https://kolesa.kz//a/show/166568323 data written.\n",
      "Car https://kolesa.kz//a/show/168760611 data written.\n",
      "Car https://kolesa.kz//a/show/167875482 data written.\n"
     ]
    },
    {
     "name": "stderr",
     "output_type": "stream",
     "text": [
      " 52%|█████▏    | 206/400 [3:56:56<4:10:40, 77.53s/it]"
     ]
    },
    {
     "name": "stdout",
     "output_type": "stream",
     "text": [
      "Car https://kolesa.kz//a/show/168755153 data written.\n",
      "23\n",
      "iteration 207, finish\n",
      "Car https://kolesa.kz//a/show/168778392 data written.\n",
      "Car https://kolesa.kz//a/show/167682885 data written.\n",
      "Car https://kolesa.kz//a/show/164785068 data written.\n",
      "Car https://kolesa.kz//a/show/166568323 data written.\n",
      "Car https://kolesa.kz//a/show/168760611 data written.\n",
      "Car https://kolesa.kz//a/show/167875482 data written.\n",
      "Car https://kolesa.kz//a/show/168755153 data written.\n",
      "Car https://kolesa.kz//a/show/156629100 data written.\n",
      "Car https://kolesa.kz//a/show/168753811 data written.\n",
      "Car https://kolesa.kz//a/show/168749431 data written.\n",
      "Car https://kolesa.kz//a/show/168482534 data written.\n",
      "Car https://kolesa.kz//a/show/168749628 data written.\n",
      "Car https://kolesa.kz//a/show/168747395 data written.\n",
      "Car https://kolesa.kz//a/show/168474457 data written.\n",
      "Car https://kolesa.kz//a/show/168743947 data written.\n",
      "Car https://kolesa.kz//a/show/168460715 data written.\n",
      "Car https://kolesa.kz//a/show/168543681 data written.\n",
      "Car https://kolesa.kz//a/show/168737499 data written.\n",
      "Car https://kolesa.kz//a/show/162785726 data written.\n",
      "Car https://kolesa.kz//a/show/164940690 data written.\n",
      "Car https://kolesa.kz//a/show/168733896 data written.\n",
      "Car https://kolesa.kz//a/show/168428439 data written.\n"
     ]
    },
    {
     "name": "stderr",
     "output_type": "stream",
     "text": [
      " 52%|█████▏    | 207/400 [3:58:13<4:08:47, 77.34s/it]"
     ]
    },
    {
     "name": "stdout",
     "output_type": "stream",
     "text": [
      "Car https://kolesa.kz//a/show/167127852 data written.\n",
      "23\n",
      "iteration 208, finish\n",
      "Car https://kolesa.kz//a/show/168164361 data written.\n",
      "Car https://kolesa.kz//a/show/167690324 data written.\n",
      "Car https://kolesa.kz//a/show/141916471 data written.\n",
      "Car https://kolesa.kz//a/show/156629100 data written.\n",
      "Car https://kolesa.kz//a/show/168753811 data written.\n",
      "Car https://kolesa.kz//a/show/168749431 data written.\n",
      "Car https://kolesa.kz//a/show/168482534 data written.\n",
      "Car https://kolesa.kz//a/show/168749628 data written.\n",
      "Car https://kolesa.kz//a/show/168747395 data written.\n",
      "Car https://kolesa.kz//a/show/168474457 data written.\n",
      "Car https://kolesa.kz//a/show/168743947 data written.\n",
      "Car https://kolesa.kz//a/show/168460715 data written.\n",
      "Car https://kolesa.kz//a/show/168543681 data written.\n",
      "Car https://kolesa.kz//a/show/168737499 data written.\n",
      "Car https://kolesa.kz//a/show/162785726 data written.\n",
      "Car https://kolesa.kz//a/show/164940690 data written.\n",
      "Car https://kolesa.kz//a/show/168733896 data written.\n",
      "Car https://kolesa.kz//a/show/168428439 data written.\n",
      "Car https://kolesa.kz//a/show/167127852 data written.\n",
      "Car https://kolesa.kz//a/show/168404727 data written.\n",
      "Car https://kolesa.kz//a/show/166064342 data written.\n",
      "Car https://kolesa.kz//a/show/168317495 data written.\n"
     ]
    },
    {
     "name": "stderr",
     "output_type": "stream",
     "text": [
      " 52%|█████▏    | 208/400 [3:59:31<4:08:40, 77.71s/it]"
     ]
    },
    {
     "name": "stdout",
     "output_type": "stream",
     "text": [
      "Car https://kolesa.kz//a/show/168388091 data written.\n",
      "23\n",
      "iteration 209, finish\n",
      "Car https://kolesa.kz//a/show/160199122 data written.\n",
      "Car https://kolesa.kz//a/show/168359766 data written.\n",
      "Car https://kolesa.kz//a/show/165960821 data written.\n",
      "Car https://kolesa.kz//a/show/168428439 data written.\n",
      "Car https://kolesa.kz//a/show/167127852 data written.\n",
      "Car https://kolesa.kz//a/show/168404727 data written.\n",
      "Car https://kolesa.kz//a/show/166064342 data written.\n",
      "Car https://kolesa.kz//a/show/168317495 data written.\n",
      "Car https://kolesa.kz//a/show/168388091 data written.\n",
      "Car https://kolesa.kz//a/show/168732339 data written.\n",
      "Car https://kolesa.kz//a/show/168387286 data written.\n",
      "Car https://kolesa.kz//a/show/168723178 data written.\n",
      "Car https://kolesa.kz//a/show/168721894 data written.\n",
      "Car https://kolesa.kz//a/show/167405701 data written.\n",
      "Car https://kolesa.kz//a/show/168720224 data written.\n",
      "Car https://kolesa.kz//a/show/168866592 data written.\n",
      "Car https://kolesa.kz//a/show/168655795 data written.\n",
      "Car https://kolesa.kz//a/show/168866605 data written.\n",
      "Car https://kolesa.kz//a/show/168211400 data written.\n",
      "Car https://kolesa.kz//a/show/168866512 data written.\n",
      "Car https://kolesa.kz//a/show/168357439 data written.\n",
      "Car https://kolesa.kz//a/show/168833601 data written.\n"
     ]
    },
    {
     "name": "stderr",
     "output_type": "stream",
     "text": [
      " 52%|█████▏    | 209/400 [4:00:49<4:07:16, 77.68s/it]"
     ]
    },
    {
     "name": "stdout",
     "output_type": "stream",
     "text": [
      "Car https://kolesa.kz//a/show/168758184 data written.\n",
      "23\n",
      "iteration 210, finish\n",
      "Car https://kolesa.kz//a/show/168241005 data written.\n",
      "Car https://kolesa.kz//a/show/164373163 data written.\n",
      "Car https://kolesa.kz//a/show/165446177 data written.\n",
      "Car https://kolesa.kz//a/show/168833601 data written.\n",
      "Car https://kolesa.kz//a/show/168758184 data written.\n",
      "Car https://kolesa.kz//a/show/168863236 data written.\n",
      "Car https://kolesa.kz//a/show/168594411 data written.\n",
      "Car https://kolesa.kz//a/show/168350549 data written.\n",
      "Car https://kolesa.kz//a/show/168709466 data written.\n",
      "Car https://kolesa.kz//a/show/168344728 data written.\n",
      "Car https://kolesa.kz//a/show/168386553 data written.\n",
      "Car https://kolesa.kz//a/show/168341757 data written.\n",
      "Car https://kolesa.kz//a/show/168861792 data written.\n",
      "Car https://kolesa.kz//a/show/168706250 data written.\n",
      "Car https://kolesa.kz//a/show/168861515 data written.\n",
      "Car https://kolesa.kz//a/show/164588971 data written.\n",
      "Car https://kolesa.kz//a/show/168340440 data written.\n",
      "Car https://kolesa.kz//a/show/168703621 data written.\n",
      "Car https://kolesa.kz//a/show/168861270 data written.\n",
      "Car https://kolesa.kz//a/show/163290452 data written.\n",
      "Car https://kolesa.kz//a/show/168659387 data written.\n",
      "Car https://kolesa.kz//a/show/113924334 data written.\n"
     ]
    },
    {
     "name": "stderr",
     "output_type": "stream",
     "text": [
      " 52%|█████▎    | 210/400 [4:02:05<4:04:39, 77.26s/it]"
     ]
    },
    {
     "name": "stdout",
     "output_type": "stream",
     "text": [
      "Car https://kolesa.kz//a/show/165839170 data written.\n",
      "23\n",
      "iteration 211, finish\n",
      "Car https://kolesa.kz//a/show/167247144 data written.\n",
      "Car https://kolesa.kz//a/show/168241005 data written.\n",
      "Car https://kolesa.kz//a/show/167486445 data written.\n",
      "Car https://kolesa.kz//a/show/113924334 data written.\n",
      "Car https://kolesa.kz//a/show/165839170 data written.\n",
      "Car https://kolesa.kz//a/show/168653084 data written.\n",
      "Car https://kolesa.kz//a/show/168697423 data written.\n",
      "Car https://kolesa.kz//a/show/168418456 data written.\n",
      "Car https://kolesa.kz//a/show/168690116 data written.\n",
      "Car https://kolesa.kz//a/show/168855172 data written.\n",
      "Car https://kolesa.kz//a/show/168314009 data written.\n",
      "Car https://kolesa.kz//a/show/168310143 data written.\n",
      "Car https://kolesa.kz//a/show/168852751 data written.\n",
      "Car https://kolesa.kz//a/show/165429480 data written.\n",
      "Car https://kolesa.kz//a/show/168682399 data written.\n",
      "Car https://kolesa.kz//a/show/168758456 data written.\n",
      "Car https://kolesa.kz//a/show/168300564 data written.\n",
      "Car https://kolesa.kz//a/show/168682251 data written.\n",
      "Car https://kolesa.kz//a/show/168852434 data written.\n",
      "Car https://kolesa.kz//a/show/168286621 data written.\n",
      "Car https://kolesa.kz//a/show/168849462 data written.\n",
      "Car https://kolesa.kz//a/show/168283064 data written.\n"
     ]
    },
    {
     "name": "stderr",
     "output_type": "stream",
     "text": [
      " 53%|█████▎    | 211/400 [4:03:22<4:02:53, 77.11s/it]"
     ]
    },
    {
     "name": "stdout",
     "output_type": "stream",
     "text": [
      "Car https://kolesa.kz//a/show/168153167 data written.\n",
      "23\n",
      "iteration 212, finish\n",
      "Car https://kolesa.kz//a/show/168456257 data written.\n",
      "Car https://kolesa.kz//a/show/168336128 data written.\n",
      "Car https://kolesa.kz//a/show/159363311 data written.\n",
      "Car https://kolesa.kz//a/show/113924334 data written.\n",
      "Car https://kolesa.kz//a/show/165839170 data written.\n",
      "Car https://kolesa.kz//a/show/168653084 data written.\n",
      "Car https://kolesa.kz//a/show/168697423 data written.\n",
      "Car https://kolesa.kz//a/show/168418456 data written.\n",
      "Car https://kolesa.kz//a/show/168690116 data written.\n",
      "Car https://kolesa.kz//a/show/168855172 data written.\n",
      "Car https://kolesa.kz//a/show/168314009 data written.\n",
      "Car https://kolesa.kz//a/show/168310143 data written.\n",
      "Car https://kolesa.kz//a/show/168852751 data written.\n",
      "Car https://kolesa.kz//a/show/165429480 data written.\n",
      "Car https://kolesa.kz//a/show/168682399 data written.\n",
      "Car https://kolesa.kz//a/show/168758456 data written.\n",
      "Car https://kolesa.kz//a/show/168300564 data written.\n",
      "Car https://kolesa.kz//a/show/168682251 data written.\n",
      "Car https://kolesa.kz//a/show/168852434 data written.\n",
      "Car https://kolesa.kz//a/show/168286621 data written.\n",
      "Car https://kolesa.kz//a/show/168849462 data written.\n",
      "Car https://kolesa.kz//a/show/168283064 data written.\n"
     ]
    },
    {
     "name": "stderr",
     "output_type": "stream",
     "text": [
      " 53%|█████▎    | 212/400 [4:04:38<4:00:44, 76.83s/it]"
     ]
    },
    {
     "name": "stdout",
     "output_type": "stream",
     "text": [
      "Car https://kolesa.kz//a/show/168153167 data written.\n",
      "23\n",
      "iteration 213, finish\n",
      "Car https://kolesa.kz//a/show/140775212 data written.\n",
      "Car https://kolesa.kz//a/show/168101076 data written.\n",
      "Car https://kolesa.kz//a/show/168808375 data written.\n",
      "Car https://kolesa.kz//a/show/168283064 data written.\n",
      "Car https://kolesa.kz//a/show/168153167 data written.\n",
      "Car https://kolesa.kz//a/show/168277456 data written.\n",
      "Car https://kolesa.kz//a/show/168846702 data written.\n",
      "Car https://kolesa.kz//a/show/165530355 data written.\n",
      "Car https://kolesa.kz//a/show/168732263 data written.\n",
      "Car https://kolesa.kz//a/show/166308230 data written.\n",
      "Car https://kolesa.kz//a/show/166527688 data written.\n",
      "Car https://kolesa.kz//a/show/168039677 data written.\n",
      "Car https://kolesa.kz//a/show/167561062 data written.\n",
      "Car https://kolesa.kz//a/show/168253375 data written.\n",
      "Car https://kolesa.kz//a/show/168842637 data written.\n",
      "Car https://kolesa.kz//a/show/168234967 data written.\n",
      "Car https://kolesa.kz//a/show/168231900 data written.\n",
      "Car https://kolesa.kz//a/show/168667522 data written.\n",
      "Car https://kolesa.kz//a/show/164265156 data written.\n",
      "Car https://kolesa.kz//a/show/168840996 data written.\n",
      "Car https://kolesa.kz//a/show/168841130 data written.\n",
      "Car https://kolesa.kz//a/show/168840124 data written.\n"
     ]
    },
    {
     "name": "stderr",
     "output_type": "stream",
     "text": [
      " 53%|█████▎    | 213/400 [4:05:58<4:02:15, 77.73s/it]"
     ]
    },
    {
     "name": "stdout",
     "output_type": "stream",
     "text": [
      "Car https://kolesa.kz//a/show/168662842 data written.\n",
      "23\n",
      "iteration 214, finish\n",
      "Car https://kolesa.kz//a/show/157450553 data written.\n",
      "Car https://kolesa.kz//a/show/168717142 data written.\n",
      "Car https://kolesa.kz//a/show/156373030 data written.\n",
      "Car https://kolesa.kz//a/show/168231900 data written.\n",
      "Car https://kolesa.kz//a/show/168667522 data written.\n",
      "Car https://kolesa.kz//a/show/164265156 data written.\n",
      "Car https://kolesa.kz//a/show/168840996 data written.\n",
      "Car https://kolesa.kz//a/show/168841130 data written.\n",
      "Car https://kolesa.kz//a/show/168840124 data written.\n",
      "Car https://kolesa.kz//a/show/168662842 data written.\n",
      "Car https://kolesa.kz//a/show/168612280 data written.\n",
      "Car https://kolesa.kz//a/show/158239918 data written.\n",
      "Car https://kolesa.kz//a/show/168660541 data written.\n",
      "Car https://kolesa.kz//a/show/162851545 data written.\n",
      "Car https://kolesa.kz//a/show/168431768 data written.\n",
      "Car https://kolesa.kz//a/show/167473490 data written.\n",
      "Car https://kolesa.kz//a/show/168197428 data written.\n",
      "Car https://kolesa.kz//a/show/168836382 data written.\n",
      "Car https://kolesa.kz//a/show/168193559 data written.\n",
      "Car https://kolesa.kz//a/show/168836079 data written.\n",
      "Car https://kolesa.kz//a/show/168188555 data written.\n",
      "Car https://kolesa.kz//a/show/168835139 data written.\n"
     ]
    },
    {
     "name": "stderr",
     "output_type": "stream",
     "text": [
      " 54%|█████▎    | 214/400 [4:07:15<4:00:29, 77.58s/it]"
     ]
    },
    {
     "name": "stdout",
     "output_type": "stream",
     "text": [
      "Car https://kolesa.kz//a/show/167780521 data written.\n",
      "23\n",
      "iteration 215, finish\n",
      "Car https://kolesa.kz//a/show/168739695 data written.\n",
      "Car https://kolesa.kz//a/show/168761708 data written.\n",
      "Car https://kolesa.kz//a/show/168770900 data written.\n",
      "Car https://kolesa.kz//a/show/168197428 data written.\n",
      "Car https://kolesa.kz//a/show/168836382 data written.\n",
      "Car https://kolesa.kz//a/show/168193559 data written.\n",
      "Car https://kolesa.kz//a/show/168836079 data written.\n",
      "Car https://kolesa.kz//a/show/168188555 data written.\n",
      "Car https://kolesa.kz//a/show/168835139 data written.\n",
      "Car https://kolesa.kz//a/show/167780521 data written.\n",
      "Car https://kolesa.kz//a/show/168834736 data written.\n",
      "Car https://kolesa.kz//a/show/160777977 data written.\n",
      "Car https://kolesa.kz//a/show/167642236 data written.\n",
      "Car https://kolesa.kz//a/show/168646770 data written.\n",
      "Car https://kolesa.kz//a/show/167120994 data written.\n",
      "Car https://kolesa.kz//a/show/168715668 data written.\n",
      "Car https://kolesa.kz//a/show/168830636 data written.\n",
      "Car https://kolesa.kz//a/show/163632741 data written.\n",
      "Car https://kolesa.kz//a/show/166109914 data written.\n",
      "Car https://kolesa.kz//a/show/168631535 data written.\n",
      "Car https://kolesa.kz//a/show/157887677 data written.\n",
      "Car https://kolesa.kz//a/show/167905185 data written.\n"
     ]
    },
    {
     "name": "stderr",
     "output_type": "stream",
     "text": [
      " 54%|█████▍    | 215/400 [4:08:33<3:59:38, 77.72s/it]"
     ]
    },
    {
     "name": "stdout",
     "output_type": "stream",
     "text": [
      "Car https://kolesa.kz//a/show/168827749 data written.\n",
      "23\n",
      "iteration 216, finish\n",
      "Car https://kolesa.kz//a/show/165446177 data written.\n",
      "Car https://kolesa.kz//a/show/168619829 data written.\n",
      "Car https://kolesa.kz//a/show/168200915 data written.\n",
      "Car https://kolesa.kz//a/show/168836382 data written.\n",
      "Car https://kolesa.kz//a/show/168193559 data written.\n",
      "Car https://kolesa.kz//a/show/168836079 data written.\n",
      "Car https://kolesa.kz//a/show/168188555 data written.\n",
      "Car https://kolesa.kz//a/show/168835139 data written.\n",
      "Car https://kolesa.kz//a/show/167780521 data written.\n",
      "Car https://kolesa.kz//a/show/168834736 data written.\n",
      "Car https://kolesa.kz//a/show/160777977 data written.\n",
      "Car https://kolesa.kz//a/show/167642236 data written.\n",
      "Car https://kolesa.kz//a/show/168646770 data written.\n",
      "Car https://kolesa.kz//a/show/167120994 data written.\n",
      "Car https://kolesa.kz//a/show/168715668 data written.\n",
      "Car https://kolesa.kz//a/show/168830636 data written.\n",
      "Car https://kolesa.kz//a/show/163632741 data written.\n",
      "Car https://kolesa.kz//a/show/166109914 data written.\n",
      "Car https://kolesa.kz//a/show/168631535 data written.\n",
      "Car https://kolesa.kz//a/show/157887677 data written.\n",
      "Car https://kolesa.kz//a/show/167905185 data written.\n",
      "Car https://kolesa.kz//a/show/168827749 data written.\n"
     ]
    },
    {
     "name": "stderr",
     "output_type": "stream",
     "text": [
      " 54%|█████▍    | 216/400 [4:09:51<3:58:35, 77.80s/it]"
     ]
    },
    {
     "name": "stdout",
     "output_type": "stream",
     "text": [
      "Car https://kolesa.kz//a/show/168437031 data written.\n",
      "23\n",
      "iteration 217, finish\n",
      "Car https://kolesa.kz//a/show/168586227 data written.\n",
      "Car https://kolesa.kz//a/show/168085371 data written.\n",
      "Car https://kolesa.kz//a/show/164234011 data written.\n",
      "Car https://kolesa.kz//a/show/167120994 data written.\n",
      "Car https://kolesa.kz//a/show/168715668 data written.\n",
      "Car https://kolesa.kz//a/show/168830636 data written.\n",
      "Car https://kolesa.kz//a/show/163632741 data written.\n",
      "Car https://kolesa.kz//a/show/166109914 data written.\n",
      "Car https://kolesa.kz//a/show/168631535 data written.\n",
      "Car https://kolesa.kz//a/show/157887677 data written.\n",
      "Car https://kolesa.kz//a/show/167905185 data written.\n",
      "Car https://kolesa.kz//a/show/168827749 data written.\n",
      "Car https://kolesa.kz//a/show/168437031 data written.\n",
      "Car https://kolesa.kz//a/show/166890553 data written.\n",
      "Car https://kolesa.kz//a/show/168134527 data written.\n",
      "Car https://kolesa.kz//a/show/168825083 data written.\n",
      "Car https://kolesa.kz//a/show/168595649 data written.\n",
      "Car https://kolesa.kz//a/show/168130496 data written.\n",
      "Car https://kolesa.kz//a/show/168819898 data written.\n",
      "Car https://kolesa.kz//a/show/167024807 data written.\n",
      "Car https://kolesa.kz//a/show/166216740 data written.\n",
      "Car https://kolesa.kz//a/show/168119967 data written.\n"
     ]
    },
    {
     "name": "stderr",
     "output_type": "stream",
     "text": [
      " 54%|█████▍    | 217/400 [4:11:08<3:56:52, 77.67s/it]"
     ]
    },
    {
     "name": "stdout",
     "output_type": "stream",
     "text": [
      "Car https://kolesa.kz//a/show/168819265 data written.\n",
      "23\n",
      "iteration 218, finish\n",
      "Car https://kolesa.kz//a/show/168792415 data written.\n",
      "Car https://kolesa.kz//a/show/168781705 data written.\n",
      "Car https://kolesa.kz//a/show/157450553 data written.\n",
      "Car https://kolesa.kz//a/show/168119967 data written.\n",
      "Car https://kolesa.kz//a/show/168819265 data written.\n",
      "Car https://kolesa.kz//a/show/168064330 data written.\n",
      "Car https://kolesa.kz//a/show/168111707 data written.\n",
      "Car https://kolesa.kz//a/show/168816654 data written.\n",
      "Car https://kolesa.kz//a/show/168615588 data written.\n",
      "Car https://kolesa.kz//a/show/168101005 data written.\n",
      "Car https://kolesa.kz//a/show/168098012 data written.\n",
      "Car https://kolesa.kz//a/show/168096192 data written.\n",
      "Car https://kolesa.kz//a/show/168290548 data written.\n",
      "Car https://kolesa.kz//a/show/168595811 data written.\n",
      "Car https://kolesa.kz//a/show/168254262 data written.\n",
      "Car https://kolesa.kz//a/show/155859182 data written.\n",
      "Car https://kolesa.kz//a/show/159883276 data written.\n",
      "Car https://kolesa.kz//a/show/168804368 data written.\n",
      "Car https://kolesa.kz//a/show/168391565 data written.\n",
      "Car https://kolesa.kz//a/show/168449451 data written.\n",
      "Car https://kolesa.kz//a/show/168796870 data written.\n",
      "Car https://kolesa.kz//a/show/168588380 data written.\n"
     ]
    },
    {
     "name": "stderr",
     "output_type": "stream",
     "text": [
      " 55%|█████▍    | 218/400 [4:12:26<3:55:43, 77.71s/it]"
     ]
    },
    {
     "name": "stdout",
     "output_type": "stream",
     "text": [
      "Car https://kolesa.kz//a/show/168586437 data written.\n",
      "23\n",
      "iteration 219, finish\n",
      "Car https://kolesa.kz//a/show/168135163 data written.\n",
      "Car https://kolesa.kz//a/show/167779252 data written.\n",
      "Car https://kolesa.kz//a/show/168475541 data written.\n",
      "Car https://kolesa.kz//a/show/168615588 data written.\n",
      "Car https://kolesa.kz//a/show/168101005 data written.\n",
      "Car https://kolesa.kz//a/show/168098012 data written.\n",
      "Car https://kolesa.kz//a/show/168096192 data written.\n",
      "Car https://kolesa.kz//a/show/168290548 data written.\n",
      "Car https://kolesa.kz//a/show/168595811 data written.\n",
      "Car https://kolesa.kz//a/show/168254262 data written.\n",
      "Car https://kolesa.kz//a/show/155859182 data written.\n",
      "Car https://kolesa.kz//a/show/159883276 data written.\n",
      "Car https://kolesa.kz//a/show/168804368 data written.\n",
      "Car https://kolesa.kz//a/show/168391565 data written.\n",
      "Car https://kolesa.kz//a/show/168449451 data written.\n",
      "Car https://kolesa.kz//a/show/168796870 data written.\n",
      "Car https://kolesa.kz//a/show/168588380 data written.\n",
      "Car https://kolesa.kz//a/show/168586437 data written.\n",
      "Car https://kolesa.kz//a/show/167896148 data written.\n",
      "Car https://kolesa.kz//a/show/167645518 data written.\n",
      "Car https://kolesa.kz//a/show/168583467 data written.\n",
      "Car https://kolesa.kz//a/show/168578473 data written.\n"
     ]
    },
    {
     "name": "stderr",
     "output_type": "stream",
     "text": [
      " 55%|█████▍    | 219/400 [4:13:44<3:54:12, 77.64s/it]"
     ]
    },
    {
     "name": "stdout",
     "output_type": "stream",
     "text": [
      "Car https://kolesa.kz//a/show/168576241 data written.\n",
      "23\n",
      "iteration 220, finish\n",
      "Car https://kolesa.kz//a/show/167779252 data written.\n",
      "Car https://kolesa.kz//a/show/168812341 data written.\n",
      "Car https://kolesa.kz//a/show/161032411 data written.\n",
      "Car https://kolesa.kz//a/show/168098012 data written.\n",
      "Car https://kolesa.kz//a/show/168096192 data written.\n",
      "Car https://kolesa.kz//a/show/168290548 data written.\n",
      "Car https://kolesa.kz//a/show/168595811 data written.\n",
      "Car https://kolesa.kz//a/show/168254262 data written.\n",
      "Car https://kolesa.kz//a/show/155859182 data written.\n",
      "Car https://kolesa.kz//a/show/159883276 data written.\n",
      "Car https://kolesa.kz//a/show/168804368 data written.\n",
      "Car https://kolesa.kz//a/show/168391565 data written.\n",
      "Car https://kolesa.kz//a/show/168449451 data written.\n",
      "Car https://kolesa.kz//a/show/168796870 data written.\n",
      "Car https://kolesa.kz//a/show/168588380 data written.\n",
      "Car https://kolesa.kz//a/show/168586437 data written.\n",
      "Car https://kolesa.kz//a/show/167896148 data written.\n",
      "Car https://kolesa.kz//a/show/167645518 data written.\n",
      "Car https://kolesa.kz//a/show/168583467 data written.\n",
      "Car https://kolesa.kz//a/show/168578473 data written.\n",
      "Car https://kolesa.kz//a/show/168576241 data written.\n",
      "Car https://kolesa.kz//a/show/167572824 data written.\n"
     ]
    },
    {
     "name": "stderr",
     "output_type": "stream",
     "text": [
      " 55%|█████▌    | 220/400 [4:15:02<3:53:17, 77.76s/it]"
     ]
    },
    {
     "name": "stdout",
     "output_type": "stream",
     "text": [
      "Car https://kolesa.kz//a/show/167314706 data written.\n",
      "23\n",
      "iteration 221, finish\n",
      "Car https://kolesa.kz//a/show/167960199 data written.\n",
      "Car https://kolesa.kz//a/show/168649586 data written.\n",
      "Car https://kolesa.kz//a/show/168200915 data written.\n",
      "Car https://kolesa.kz//a/show/168578473 data written.\n",
      "Car https://kolesa.kz//a/show/168576241 data written.\n",
      "Car https://kolesa.kz//a/show/167572824 data written.\n",
      "Car https://kolesa.kz//a/show/167314706 data written.\n",
      "Car https://kolesa.kz//a/show/168534266 data written.\n",
      "Car https://kolesa.kz//a/show/168631274 data written.\n",
      "Car https://kolesa.kz//a/show/167305965 data written.\n",
      "Car https://kolesa.kz//a/show/168414784 data written.\n",
      "Car https://kolesa.kz//a/show/160284676 data written.\n",
      "Car https://kolesa.kz//a/show/168504453 data written.\n",
      "Car https://kolesa.kz//a/show/167703474 data written.\n",
      "Car https://kolesa.kz//a/show/159191547 data written.\n",
      "Car https://kolesa.kz//a/show/168746130 data written.\n",
      "Car https://kolesa.kz//a/show/168569025 data written.\n",
      "Car https://kolesa.kz//a/show/168562032 data written.\n",
      "Car https://kolesa.kz//a/show/168560127 data written.\n",
      "Car https://kolesa.kz//a/show/167900883 data written.\n",
      "Car https://kolesa.kz//a/show/168552872 data written.\n",
      "Car https://kolesa.kz//a/show/168448928 data written.\n"
     ]
    },
    {
     "name": "stderr",
     "output_type": "stream",
     "text": [
      " 55%|█████▌    | 221/400 [4:16:18<3:51:00, 77.43s/it]"
     ]
    },
    {
     "name": "stdout",
     "output_type": "stream",
     "text": [
      "Car https://kolesa.kz//a/show/161127405 data written.\n",
      "23\n",
      "iteration 222, finish\n",
      "Car https://kolesa.kz//a/show/136040782 data written.\n",
      "Car https://kolesa.kz//a/show/168636653 data written.\n",
      "Car https://kolesa.kz//a/show/167258775 data written.\n",
      "Car https://kolesa.kz//a/show/159191547 data written.\n",
      "Car https://kolesa.kz//a/show/168746130 data written.\n",
      "Car https://kolesa.kz//a/show/168569025 data written.\n",
      "Car https://kolesa.kz//a/show/168562032 data written.\n",
      "Car https://kolesa.kz//a/show/168560127 data written.\n",
      "Car https://kolesa.kz//a/show/167900883 data written.\n",
      "Car https://kolesa.kz//a/show/168552872 data written.\n",
      "Car https://kolesa.kz//a/show/168448928 data written.\n",
      "Car https://kolesa.kz//a/show/161127405 data written.\n",
      "Car https://kolesa.kz//a/show/168515184 data written.\n",
      "Car https://kolesa.kz//a/show/168763412 data written.\n",
      "Car https://kolesa.kz//a/show/165901702 data written.\n",
      "Car https://kolesa.kz//a/show/167876158 data written.\n",
      "Car https://kolesa.kz//a/show/168540581 data written.\n",
      "Car https://kolesa.kz//a/show/160569291 data written.\n",
      "Car https://kolesa.kz//a/show/168538078 data written.\n",
      "Car https://kolesa.kz//a/show/164162354 data written.\n",
      "Car https://kolesa.kz//a/show/168649586 data written.\n",
      "Car https://kolesa.kz//a/show/168534855 data written.\n"
     ]
    },
    {
     "name": "stderr",
     "output_type": "stream",
     "text": [
      " 56%|█████▌    | 222/400 [4:17:37<3:50:57, 77.85s/it]"
     ]
    },
    {
     "name": "stdout",
     "output_type": "stream",
     "text": [
      "Car https://kolesa.kz//a/show/168508677 data written.\n",
      "23\n",
      "iteration 223, finish\n",
      "Car https://kolesa.kz//a/show/168586227 data written.\n",
      "Car https://kolesa.kz//a/show/167686806 data written.\n",
      "Car https://kolesa.kz//a/show/167779252 data written.\n",
      "Car https://kolesa.kz//a/show/168576241 data written.\n",
      "Car https://kolesa.kz//a/show/167572824 data written.\n",
      "Car https://kolesa.kz//a/show/167314706 data written.\n",
      "Car https://kolesa.kz//a/show/168534266 data written.\n",
      "Car https://kolesa.kz//a/show/168631274 data written.\n",
      "Car https://kolesa.kz//a/show/167305965 data written.\n",
      "Car https://kolesa.kz//a/show/168414784 data written.\n",
      "Car https://kolesa.kz//a/show/160284676 data written.\n",
      "Car https://kolesa.kz//a/show/168504453 data written.\n",
      "Car https://kolesa.kz//a/show/167703474 data written.\n",
      "Car https://kolesa.kz//a/show/159191547 data written.\n",
      "Car https://kolesa.kz//a/show/168746130 data written.\n",
      "Car https://kolesa.kz//a/show/168569025 data written.\n",
      "Car https://kolesa.kz//a/show/168562032 data written.\n",
      "Car https://kolesa.kz//a/show/168560127 data written.\n",
      "Car https://kolesa.kz//a/show/167900883 data written.\n",
      "Car https://kolesa.kz//a/show/168552872 data written.\n",
      "Car https://kolesa.kz//a/show/168448928 data written.\n",
      "Car https://kolesa.kz//a/show/161127405 data written.\n"
     ]
    },
    {
     "name": "stderr",
     "output_type": "stream",
     "text": [
      " 56%|█████▌    | 223/400 [4:18:55<3:49:29, 77.79s/it]"
     ]
    },
    {
     "name": "stdout",
     "output_type": "stream",
     "text": [
      "Car https://kolesa.kz//a/show/168515184 data written.\n",
      "23\n",
      "iteration 224, finish\n",
      "Car https://kolesa.kz//a/show/168596782 data written.\n",
      "Car https://kolesa.kz//a/show/167072948 data written.\n",
      "Car https://kolesa.kz//a/show/168704425 data written.\n",
      "Car https://kolesa.kz//a/show/168448928 data written.\n",
      "Car https://kolesa.kz//a/show/161127405 data written.\n",
      "Car https://kolesa.kz//a/show/168515184 data written.\n",
      "Car https://kolesa.kz//a/show/168763412 data written.\n",
      "Car https://kolesa.kz//a/show/165901702 data written.\n",
      "Car https://kolesa.kz//a/show/167876158 data written.\n",
      "Car https://kolesa.kz//a/show/168540581 data written.\n",
      "Car https://kolesa.kz//a/show/160569291 data written.\n",
      "Car https://kolesa.kz//a/show/168538078 data written.\n",
      "Car https://kolesa.kz//a/show/164162354 data written.\n",
      "Car https://kolesa.kz//a/show/168649586 data written.\n",
      "Car https://kolesa.kz//a/show/168534855 data written.\n",
      "Car https://kolesa.kz//a/show/168508677 data written.\n",
      "Car https://kolesa.kz//a/show/168756271 data written.\n",
      "Car https://kolesa.kz//a/show/168514438 data written.\n",
      "Car https://kolesa.kz//a/show/168752184 data written.\n",
      "Car https://kolesa.kz//a/show/168249242 data written.\n",
      "Car https://kolesa.kz//a/show/168376557 data written.\n",
      "Car https://kolesa.kz//a/show/168747020 data written.\n"
     ]
    },
    {
     "name": "stderr",
     "output_type": "stream",
     "text": [
      " 56%|█████▌    | 224/400 [4:20:13<3:48:47, 78.00s/it]"
     ]
    },
    {
     "name": "stdout",
     "output_type": "stream",
     "text": [
      "Car https://kolesa.kz//a/show/164054230 data written.\n",
      "23\n",
      "iteration 225, finish\n",
      "Car https://kolesa.kz//a/show/168321310 data written.\n",
      "Car https://kolesa.kz//a/show/167486445 data written.\n",
      "Car https://kolesa.kz//a/show/168761708 data written.\n",
      "Car https://kolesa.kz//a/show/168249242 data written.\n",
      "Car https://kolesa.kz//a/show/168376557 data written.\n",
      "Car https://kolesa.kz//a/show/168747020 data written.\n",
      "Car https://kolesa.kz//a/show/164054230 data written.\n",
      "Car https://kolesa.kz//a/show/165794615 data written.\n",
      "Car https://kolesa.kz//a/show/166944233 data written.\n",
      "Car https://kolesa.kz//a/show/161650414 data written.\n",
      "Car https://kolesa.kz//a/show/168865930 data written.\n",
      "Car https://kolesa.kz//a/show/167564383 data written.\n",
      "Car https://kolesa.kz//a/show/168866175 data written.\n",
      "Car https://kolesa.kz//a/show/168173417 data written.\n",
      "Car https://kolesa.kz//a/show/168472009 data written.\n",
      "Car https://kolesa.kz//a/show/168864864 data written.\n",
      "Car https://kolesa.kz//a/show/168864258 data written.\n",
      "Car https://kolesa.kz//a/show/168479759 data written.\n",
      "Car https://kolesa.kz//a/show/168864025 data written.\n",
      "Car https://kolesa.kz//a/show/168429413 data written.\n",
      "Car https://kolesa.kz//a/show/168862012 data written.\n",
      "Car https://kolesa.kz//a/show/168451593 data written.\n"
     ]
    },
    {
     "name": "stderr",
     "output_type": "stream",
     "text": [
      " 56%|█████▋    | 225/400 [4:21:31<3:47:26, 77.98s/it]"
     ]
    },
    {
     "name": "stdout",
     "output_type": "stream",
     "text": [
      "Car https://kolesa.kz//a/show/168470367 data written.\n",
      "23\n",
      "iteration 226, finish\n",
      "Car https://kolesa.kz//a/show/168776074 data written.\n",
      "Car https://kolesa.kz//a/show/168542399 data written.\n",
      "Car https://kolesa.kz//a/show/162746707 data written.\n",
      "Car https://kolesa.kz//a/show/168429413 data written.\n",
      "Car https://kolesa.kz//a/show/168862012 data written.\n",
      "Car https://kolesa.kz//a/show/168451593 data written.\n",
      "Car https://kolesa.kz//a/show/168470367 data written.\n",
      "Car https://kolesa.kz//a/show/168861438 data written.\n",
      "Car https://kolesa.kz//a/show/166510853 data written.\n",
      "Car https://kolesa.kz//a/show/153839229 data written.\n",
      "Car https://kolesa.kz//a/show/168860637 data written.\n",
      "Car https://kolesa.kz//a/show/165917129 data written.\n",
      "Car https://kolesa.kz//a/show/168721963 data written.\n",
      "Car https://kolesa.kz//a/show/168860990 data written.\n",
      "Car https://kolesa.kz//a/show/165514085 data written.\n",
      "Car https://kolesa.kz//a/show/168859567 data written.\n",
      "Car https://kolesa.kz//a/show/167202718 data written.\n",
      "Car https://kolesa.kz//a/show/168713023 data written.\n",
      "Car https://kolesa.kz//a/show/168856874 data written.\n",
      "Car https://kolesa.kz//a/show/168710836 data written.\n",
      "Car https://kolesa.kz//a/show/168856499 data written.\n",
      "Car https://kolesa.kz//a/show/165011368 data written.\n"
     ]
    },
    {
     "name": "stderr",
     "output_type": "stream",
     "text": [
      " 56%|█████▋    | 226/400 [4:22:50<3:46:28, 78.10s/it]"
     ]
    },
    {
     "name": "stdout",
     "output_type": "stream",
     "text": [
      "Car https://kolesa.kz//a/show/161060123 data written.\n",
      "23\n",
      "iteration 227, finish\n",
      "Car https://kolesa.kz//a/show/168336128 data written.\n",
      "Car https://kolesa.kz//a/show/168191585 data written.\n",
      "Car https://kolesa.kz//a/show/156373030 data written.\n",
      "Car https://kolesa.kz//a/show/166510853 data written.\n",
      "Car https://kolesa.kz//a/show/153839229 data written.\n",
      "Car https://kolesa.kz//a/show/168860637 data written.\n",
      "Car https://kolesa.kz//a/show/165917129 data written.\n",
      "Car https://kolesa.kz//a/show/168721963 data written.\n",
      "Car https://kolesa.kz//a/show/168860990 data written.\n",
      "Car https://kolesa.kz//a/show/165514085 data written.\n",
      "Car https://kolesa.kz//a/show/168859567 data written.\n",
      "Car https://kolesa.kz//a/show/167202718 data written.\n",
      "Car https://kolesa.kz//a/show/168713023 data written.\n",
      "Car https://kolesa.kz//a/show/168856874 data written.\n",
      "Car https://kolesa.kz//a/show/168710836 data written.\n",
      "Car https://kolesa.kz//a/show/168856499 data written.\n",
      "Car https://kolesa.kz//a/show/165011368 data written.\n",
      "Car https://kolesa.kz//a/show/161060123 data written.\n",
      "Car https://kolesa.kz//a/show/168808221 data written.\n",
      "Car https://kolesa.kz//a/show/168709207 data written.\n",
      "Car https://kolesa.kz//a/show/168441181 data written.\n",
      "Car https://kolesa.kz//a/show/168472988 data written.\n"
     ]
    },
    {
     "name": "stderr",
     "output_type": "stream",
     "text": [
      " 57%|█████▋    | 227/400 [4:24:07<3:44:51, 77.99s/it]"
     ]
    },
    {
     "name": "stdout",
     "output_type": "stream",
     "text": [
      "Car https://kolesa.kz//a/show/158712472 data written.\n",
      "23\n",
      "iteration 228, finish\n",
      "Car https://kolesa.kz//a/show/168210266 data written.\n",
      "Car https://kolesa.kz//a/show/168778392 data written.\n",
      "Car https://kolesa.kz//a/show/168739959 data written.\n",
      "Car https://kolesa.kz//a/show/158712472 data written.\n",
      "Car https://kolesa.kz//a/show/168853947 data written.\n",
      "Car https://kolesa.kz//a/show/139552268 data written.\n",
      "Car https://kolesa.kz//a/show/158673947 data written.\n",
      "Car https://kolesa.kz//a/show/168852113 data written.\n",
      "Car https://kolesa.kz//a/show/168701776 data written.\n",
      "Car https://kolesa.kz//a/show/167646227 data written.\n",
      "Car https://kolesa.kz//a/show/154847007 data written.\n",
      "Car https://kolesa.kz//a/show/168694204 data written.\n",
      "Car https://kolesa.kz//a/show/166897381 data written.\n",
      "Car https://kolesa.kz//a/show/168849457 data written.\n",
      "Car https://kolesa.kz//a/show/168689131 data written.\n",
      "Car https://kolesa.kz//a/show/168686463 data written.\n",
      "Car https://kolesa.kz//a/show/168055059 data written.\n",
      "Car https://kolesa.kz//a/show/168686151 data written.\n",
      "Car https://kolesa.kz//a/show/168411881 data written.\n",
      "Car https://kolesa.kz//a/show/158122387 data written.\n",
      "Car https://kolesa.kz//a/show/168847491 data written.\n",
      "Car https://kolesa.kz//a/show/168269155 data written.\n"
     ]
    },
    {
     "name": "stderr",
     "output_type": "stream",
     "text": [
      " 57%|█████▋    | 228/400 [4:25:25<3:43:07, 77.83s/it]"
     ]
    },
    {
     "name": "stdout",
     "output_type": "stream",
     "text": [
      "Car https://kolesa.kz//a/show/168727889 data written.\n",
      "23\n",
      "iteration 229, finish\n",
      "Car https://kolesa.kz//a/show/141916471 data written.\n",
      "Car https://kolesa.kz//a/show/168808375 data written.\n",
      "Car https://kolesa.kz//a/show/161638129 data written.\n",
      "Car https://kolesa.kz//a/show/158122387 data written.\n",
      "Car https://kolesa.kz//a/show/168847491 data written.\n",
      "Car https://kolesa.kz//a/show/168269155 data written.\n",
      "Car https://kolesa.kz//a/show/168727889 data written.\n",
      "Car https://kolesa.kz//a/show/163106513 data written.\n",
      "Car https://kolesa.kz//a/show/168844462 data written.\n",
      "Car https://kolesa.kz//a/show/168335721 data written.\n",
      "Car https://kolesa.kz//a/show/168316996 data written.\n",
      "Car https://kolesa.kz//a/show/167770226 data written.\n",
      "Car https://kolesa.kz//a/show/166994768 data written.\n",
      "Car https://kolesa.kz//a/show/168830144 data written.\n",
      "Car https://kolesa.kz//a/show/168673055 data written.\n",
      "Car https://kolesa.kz//a/show/168392452 data written.\n",
      "Car https://kolesa.kz//a/show/165482182 data written.\n",
      "Car https://kolesa.kz//a/show/168419508 data written.\n",
      "Car https://kolesa.kz//a/show/151311570 data written.\n",
      "Car https://kolesa.kz//a/show/168843023 data written.\n",
      "Car https://kolesa.kz//a/show/168828897 data written.\n",
      "Car https://kolesa.kz//a/show/168658225 data written.\n"
     ]
    },
    {
     "name": "stderr",
     "output_type": "stream",
     "text": [
      " 57%|█████▋    | 229/400 [4:26:44<3:42:57, 78.23s/it]"
     ]
    },
    {
     "name": "stdout",
     "output_type": "stream",
     "text": [
      "Car https://kolesa.kz//a/show/168842036 data written.\n",
      "23\n",
      "iteration 230, finish\n",
      "Car https://kolesa.kz//a/show/168525524 data written.\n",
      "Car https://kolesa.kz//a/show/168631568 data written.\n",
      "Car https://kolesa.kz//a/show/168672188 data written.\n",
      "Car https://kolesa.kz//a/show/168828897 data written.\n",
      "Car https://kolesa.kz//a/show/168658225 data written.\n",
      "Car https://kolesa.kz//a/show/168842036 data written.\n",
      "Car https://kolesa.kz//a/show/166709481 data written.\n",
      "Car https://kolesa.kz//a/show/168838048 data written.\n",
      "Car https://kolesa.kz//a/show/168791624 data written.\n",
      "Car https://kolesa.kz//a/show/168837299 data written.\n",
      "Car https://kolesa.kz//a/show/168835591 data written.\n",
      "Car https://kolesa.kz//a/show/168836753 data written.\n",
      "Car https://kolesa.kz//a/show/168766277 data written.\n",
      "Car https://kolesa.kz//a/show/168353319 data written.\n",
      "Car https://kolesa.kz//a/show/168789094 data written.\n",
      "Car https://kolesa.kz//a/show/168358617 data written.\n",
      "Car https://kolesa.kz//a/show/168351573 data written.\n",
      "Car https://kolesa.kz//a/show/168350848 data written.\n",
      "Car https://kolesa.kz//a/show/168654451 data written.\n",
      "Car https://kolesa.kz//a/show/168351803 data written.\n",
      "Car https://kolesa.kz//a/show/166633664 data written.\n",
      "Car https://kolesa.kz//a/show/167972063 data written.\n"
     ]
    },
    {
     "name": "stderr",
     "output_type": "stream",
     "text": [
      " 57%|█████▊    | 230/400 [4:28:02<3:41:19, 78.11s/it]"
     ]
    },
    {
     "name": "stdout",
     "output_type": "stream",
     "text": [
      "Car https://kolesa.kz//a/show/167280366 data written.\n",
      "23\n",
      "iteration 231, finish\n",
      "Car https://kolesa.kz//a/show/168516563 data written.\n",
      "Car https://kolesa.kz//a/show/168444411 data written.\n",
      "Car https://kolesa.kz//a/show/168370110 data written.\n",
      "Car https://kolesa.kz//a/show/166994768 data written.\n",
      "Car https://kolesa.kz//a/show/168830144 data written.\n",
      "Car https://kolesa.kz//a/show/168673055 data written.\n",
      "Car https://kolesa.kz//a/show/168392452 data written.\n",
      "Car https://kolesa.kz//a/show/165482182 data written.\n",
      "Car https://kolesa.kz//a/show/168419508 data written.\n",
      "Car https://kolesa.kz//a/show/151311570 data written.\n",
      "Car https://kolesa.kz//a/show/168843023 data written.\n",
      "Car https://kolesa.kz//a/show/168828897 data written.\n",
      "Car https://kolesa.kz//a/show/168658225 data written.\n",
      "Car https://kolesa.kz//a/show/168842036 data written.\n",
      "Car https://kolesa.kz//a/show/166709481 data written.\n",
      "Car https://kolesa.kz//a/show/168838048 data written.\n",
      "Car https://kolesa.kz//a/show/168791624 data written.\n",
      "Car https://kolesa.kz//a/show/168837299 data written.\n",
      "Car https://kolesa.kz//a/show/168835591 data written.\n",
      "Car https://kolesa.kz//a/show/168836753 data written.\n",
      "Car https://kolesa.kz//a/show/168766277 data written.\n",
      "Car https://kolesa.kz//a/show/168353319 data written.\n"
     ]
    },
    {
     "name": "stderr",
     "output_type": "stream",
     "text": [
      " 58%|█████▊    | 231/400 [4:29:19<3:39:09, 77.80s/it]"
     ]
    },
    {
     "name": "stdout",
     "output_type": "stream",
     "text": [
      "Car https://kolesa.kz//a/show/168789094 data written.\n",
      "23\n",
      "iteration 232, finish\n",
      "Car https://kolesa.kz//a/show/167266213 data written.\n",
      "Car https://kolesa.kz//a/show/157374891 data written.\n",
      "Car https://kolesa.kz//a/show/168780629 data written.\n",
      "Car https://kolesa.kz//a/show/168791624 data written.\n",
      "Car https://kolesa.kz//a/show/168837299 data written.\n",
      "Car https://kolesa.kz//a/show/168835591 data written.\n",
      "Car https://kolesa.kz//a/show/168836753 data written.\n",
      "Car https://kolesa.kz//a/show/168766277 data written.\n",
      "Car https://kolesa.kz//a/show/168353319 data written.\n",
      "Car https://kolesa.kz//a/show/168789094 data written.\n",
      "Car https://kolesa.kz//a/show/168358617 data written.\n",
      "Car https://kolesa.kz//a/show/168351573 data written.\n",
      "Car https://kolesa.kz//a/show/168350848 data written.\n",
      "Car https://kolesa.kz//a/show/168654451 data written.\n",
      "Car https://kolesa.kz//a/show/168351803 data written.\n",
      "Car https://kolesa.kz//a/show/166633664 data written.\n",
      "Car https://kolesa.kz//a/show/167972063 data written.\n",
      "Car https://kolesa.kz//a/show/167280366 data written.\n",
      "Car https://kolesa.kz//a/show/168159547 data written.\n",
      "Car https://kolesa.kz//a/show/168830736 data written.\n",
      "Car https://kolesa.kz//a/show/168331340 data written.\n",
      "Car https://kolesa.kz//a/show/168829599 data written.\n"
     ]
    },
    {
     "name": "stderr",
     "output_type": "stream",
     "text": [
      " 58%|█████▊    | 232/400 [4:30:36<3:37:22, 77.63s/it]"
     ]
    },
    {
     "name": "stdout",
     "output_type": "stream",
     "text": [
      "Car https://kolesa.kz//a/show/168633720 data written.\n",
      "23\n",
      "iteration 233, finish\n",
      "Car https://kolesa.kz//a/show/167943993 data written.\n",
      "Car https://kolesa.kz//a/show/168794578 data written.\n",
      "Car https://kolesa.kz//a/show/168208076 data written.\n",
      "Car https://kolesa.kz//a/show/168331340 data written.\n",
      "Car https://kolesa.kz//a/show/168829599 data written.\n",
      "Car https://kolesa.kz//a/show/168633720 data written.\n",
      "Car https://kolesa.kz//a/show/167659618 data written.\n",
      "Car https://kolesa.kz//a/show/168031043 data written.\n",
      "Car https://kolesa.kz//a/show/168632797 data written.\n",
      "Car https://kolesa.kz//a/show/168328267 data written.\n",
      "Car https://kolesa.kz//a/show/168631536 data written.\n",
      "Car https://kolesa.kz//a/show/168823894 data written.\n",
      "Car https://kolesa.kz//a/show/168505195 data written.\n",
      "Car https://kolesa.kz//a/show/168319453 data written.\n",
      "Car https://kolesa.kz//a/show/168632210 data written.\n",
      "Car https://kolesa.kz//a/show/168630965 data written.\n",
      "Car https://kolesa.kz//a/show/168316279 data written.\n",
      "Car https://kolesa.kz//a/show/167179648 data written.\n",
      "Car https://kolesa.kz//a/show/168418290 data written.\n",
      "Car https://kolesa.kz//a/show/168311319 data written.\n",
      "Car https://kolesa.kz//a/show/168626347 data written.\n",
      "Car https://kolesa.kz//a/show/167711496 data written.\n"
     ]
    },
    {
     "name": "stderr",
     "output_type": "stream",
     "text": [
      " 58%|█████▊    | 233/400 [4:31:53<3:35:14, 77.33s/it]"
     ]
    },
    {
     "name": "stdout",
     "output_type": "stream",
     "text": [
      "Car https://kolesa.kz//a/show/168547131 data written.\n",
      "23\n",
      "iteration 234, finish\n",
      "Car https://kolesa.kz//a/show/168538486 data written.\n",
      "Car https://kolesa.kz//a/show/168781705 data written.\n",
      "Car https://kolesa.kz//a/show/168717142 data written.\n",
      "Car https://kolesa.kz//a/show/168626347 data written.\n",
      "Car https://kolesa.kz//a/show/167711496 data written.\n",
      "Car https://kolesa.kz//a/show/168547131 data written.\n",
      "Car https://kolesa.kz//a/show/168304399 data written.\n",
      "Car https://kolesa.kz//a/show/168819943 data written.\n",
      "Car https://kolesa.kz//a/show/168622710 data written.\n",
      "Car https://kolesa.kz//a/show/168299666 data written.\n",
      "Car https://kolesa.kz//a/show/164613498 data written.\n",
      "Car https://kolesa.kz//a/show/166591618 data written.\n",
      "Car https://kolesa.kz//a/show/167758139 data written.\n",
      "Car https://kolesa.kz//a/show/168235007 data written.\n",
      "Car https://kolesa.kz//a/show/166565950 data written.\n",
      "Car https://kolesa.kz//a/show/168811104 data written.\n",
      "Car https://kolesa.kz//a/show/168212733 data written.\n",
      "Car https://kolesa.kz//a/show/168620601 data written.\n",
      "Car https://kolesa.kz//a/show/168802068 data written.\n",
      "Car https://kolesa.kz//a/show/168790130 data written.\n",
      "Car https://kolesa.kz//a/show/166874927 data written.\n",
      "Car https://kolesa.kz//a/show/168198101 data written.\n"
     ]
    },
    {
     "name": "stderr",
     "output_type": "stream",
     "text": [
      " 58%|█████▊    | 234/400 [4:33:10<3:33:51, 77.30s/it]"
     ]
    },
    {
     "name": "stdout",
     "output_type": "stream",
     "text": [
      "Car https://kolesa.kz//a/show/168188715 data written.\n",
      "23\n",
      "iteration 235, finish\n",
      "Car https://kolesa.kz//a/show/167072948 data written.\n",
      "Car https://kolesa.kz//a/show/165084484 data written.\n",
      "Car https://kolesa.kz//a/show/166817050 data written.\n",
      "Car https://kolesa.kz//a/show/168311319 data written.\n",
      "Car https://kolesa.kz//a/show/168626347 data written.\n",
      "Car https://kolesa.kz//a/show/167711496 data written.\n",
      "Car https://kolesa.kz//a/show/168547131 data written.\n",
      "Car https://kolesa.kz//a/show/168304399 data written.\n",
      "Car https://kolesa.kz//a/show/168819943 data written.\n",
      "Car https://kolesa.kz//a/show/168622710 data written.\n",
      "Car https://kolesa.kz//a/show/168299666 data written.\n",
      "Car https://kolesa.kz//a/show/164613498 data written.\n",
      "Car https://kolesa.kz//a/show/166591618 data written.\n",
      "Car https://kolesa.kz//a/show/167758139 data written.\n",
      "Car https://kolesa.kz//a/show/168235007 data written.\n",
      "Car https://kolesa.kz//a/show/166565950 data written.\n",
      "Car https://kolesa.kz//a/show/168811104 data written.\n",
      "Car https://kolesa.kz//a/show/168212733 data written.\n",
      "Car https://kolesa.kz//a/show/168620601 data written.\n",
      "Car https://kolesa.kz//a/show/168802068 data written.\n",
      "Car https://kolesa.kz//a/show/168790130 data written.\n",
      "Car https://kolesa.kz//a/show/166874927 data written.\n"
     ]
    },
    {
     "name": "stderr",
     "output_type": "stream",
     "text": [
      " 59%|█████▉    | 235/400 [4:34:28<3:33:06, 77.50s/it]"
     ]
    },
    {
     "name": "stdout",
     "output_type": "stream",
     "text": [
      "Car https://kolesa.kz//a/show/168198101 data written.\n",
      "23\n",
      "iteration 236, finish\n",
      "Car https://kolesa.kz//a/show/168014568 data written.\n",
      "Car https://kolesa.kz//a/show/167266213 data written.\n",
      "Car https://kolesa.kz//a/show/167711836 data written.\n",
      "Car https://kolesa.kz//a/show/166874927 data written.\n",
      "Car https://kolesa.kz//a/show/168198101 data written.\n",
      "Car https://kolesa.kz//a/show/168178777 data written.\n",
      "Car https://kolesa.kz//a/show/168794505 data written.\n",
      "Car https://kolesa.kz//a/show/168179795 data written.\n",
      "Car https://kolesa.kz//a/show/168176268 data written.\n",
      "Car https://kolesa.kz//a/show/168149852 data written.\n",
      "Car https://kolesa.kz//a/show/168171590 data written.\n",
      "Car https://kolesa.kz//a/show/168791109 data written.\n",
      "Car https://kolesa.kz//a/show/168120223 data written.\n",
      "Car https://kolesa.kz//a/show/165250063 data written.\n",
      "Car https://kolesa.kz//a/show/168781805 data written.\n",
      "Car https://kolesa.kz//a/show/168684564 data written.\n",
      "Car https://kolesa.kz//a/show/167775939 data written.\n",
      "Car https://kolesa.kz//a/show/168773602 data written.\n",
      "Car https://kolesa.kz//a/show/166924139 data written.\n",
      "Car https://kolesa.kz//a/show/168770115 data written.\n",
      "Car https://kolesa.kz//a/show/168070826 data written.\n",
      "Car https://kolesa.kz//a/show/164060223 data written.\n"
     ]
    },
    {
     "name": "stderr",
     "output_type": "stream",
     "text": [
      " 59%|█████▉    | 236/400 [4:35:44<3:30:57, 77.18s/it]"
     ]
    },
    {
     "name": "stdout",
     "output_type": "stream",
     "text": [
      "Car https://kolesa.kz//a/show/148905969 data written.\n",
      "23\n",
      "iteration 237, finish\n",
      "Car https://kolesa.kz//a/show/167063060 data written.\n",
      "Car https://kolesa.kz//a/show/168670109 data written.\n",
      "Car https://kolesa.kz//a/show/168454035 data written.\n",
      "Car https://kolesa.kz//a/show/164060223 data written.\n",
      "Car https://kolesa.kz//a/show/148905969 data written.\n",
      "Car https://kolesa.kz//a/show/167839256 data written.\n",
      "Car https://kolesa.kz//a/show/168767541 data written.\n",
      "Car https://kolesa.kz//a/show/166814561 data written.\n",
      "Car https://kolesa.kz//a/show/168058099 data written.\n",
      "Car https://kolesa.kz//a/show/167954498 data written.\n",
      "Car https://kolesa.kz//a/show/160969279 data written.\n",
      "Car https://kolesa.kz//a/show/167363296 data written.\n",
      "Car https://kolesa.kz//a/show/168580688 data written.\n",
      "Car https://kolesa.kz//a/show/167316289 data written.\n",
      "Car https://kolesa.kz//a/show/164943786 data written.\n",
      "Car https://kolesa.kz//a/show/168573572 data written.\n",
      "Car https://kolesa.kz//a/show/168519780 data written.\n",
      "Car https://kolesa.kz//a/show/168414280 data written.\n",
      "Car https://kolesa.kz//a/show/168852067 data written.\n",
      "Car https://kolesa.kz//a/show/167151330 data written.\n",
      "Car https://kolesa.kz//a/show/168476436 data written.\n",
      "Car https://kolesa.kz//a/show/166390001 data written.\n"
     ]
    },
    {
     "name": "stderr",
     "output_type": "stream",
     "text": [
      " 59%|█████▉    | 237/400 [4:37:00<3:28:29, 76.75s/it]"
     ]
    },
    {
     "name": "stdout",
     "output_type": "stream",
     "text": [
      "Car https://kolesa.kz//a/show/168848501 data written.\n",
      "23\n",
      "iteration 238, finish\n",
      "Car https://kolesa.kz//a/show/168542154 data written.\n",
      "Car https://kolesa.kz//a/show/168631568 data written.\n",
      "Car https://kolesa.kz//a/show/168019351 data written.\n",
      "Car https://kolesa.kz//a/show/168476436 data written.\n",
      "Car https://kolesa.kz//a/show/166390001 data written.\n",
      "Car https://kolesa.kz//a/show/168848501 data written.\n",
      "Car https://kolesa.kz//a/show/168693929 data written.\n",
      "Car https://kolesa.kz//a/show/153709027 data written.\n",
      "Car https://kolesa.kz//a/show/168655796 data written.\n",
      "Car https://kolesa.kz//a/show/168847033 data written.\n",
      "Car https://kolesa.kz//a/show/168847113 data written.\n",
      "Car https://kolesa.kz//a/show/168845164 data written.\n",
      "Car https://kolesa.kz//a/show/168845045 data written.\n",
      "Car https://kolesa.kz//a/show/167630567 data written.\n",
      "Car https://kolesa.kz//a/show/165134932 data written.\n",
      "Car https://kolesa.kz//a/show/168630935 data written.\n",
      "Car https://kolesa.kz//a/show/168840481 data written.\n",
      "Car https://kolesa.kz//a/show/166001532 data written.\n",
      "Car https://kolesa.kz//a/show/165333177 data written.\n",
      "Car https://kolesa.kz//a/show/168620666 data written.\n",
      "Car https://kolesa.kz//a/show/165855739 data written.\n",
      "Car https://kolesa.kz//a/show/168838753 data written.\n"
     ]
    },
    {
     "name": "stderr",
     "output_type": "stream",
     "text": [
      " 60%|█████▉    | 238/400 [4:38:17<3:26:56, 76.64s/it]"
     ]
    },
    {
     "name": "stdout",
     "output_type": "stream",
     "text": [
      "Car https://kolesa.kz//a/show/168838932 data written.\n",
      "23\n",
      "iteration 239, finish\n",
      "Car https://kolesa.kz//a/show/168378264 data written.\n",
      "Car https://kolesa.kz//a/show/161032411 data written.\n",
      "Car https://kolesa.kz//a/show/166435539 data written.\n",
      "Car https://kolesa.kz//a/show/168058099 data written.\n",
      "Car https://kolesa.kz//a/show/167954498 data written.\n",
      "Car https://kolesa.kz//a/show/160969279 data written.\n",
      "Car https://kolesa.kz//a/show/167363296 data written.\n",
      "Car https://kolesa.kz//a/show/168580688 data written.\n",
      "Car https://kolesa.kz//a/show/167316289 data written.\n",
      "Car https://kolesa.kz//a/show/164943786 data written.\n",
      "Car https://kolesa.kz//a/show/168573572 data written.\n",
      "Car https://kolesa.kz//a/show/168519780 data written.\n",
      "Car https://kolesa.kz//a/show/168414280 data written.\n",
      "Car https://kolesa.kz//a/show/168852067 data written.\n",
      "Car https://kolesa.kz//a/show/167151330 data written.\n",
      "Car https://kolesa.kz//a/show/168476436 data written.\n",
      "Car https://kolesa.kz//a/show/166390001 data written.\n",
      "Car https://kolesa.kz//a/show/168848501 data written.\n",
      "Car https://kolesa.kz//a/show/168693929 data written.\n",
      "Car https://kolesa.kz//a/show/153709027 data written.\n",
      "Car https://kolesa.kz//a/show/168655796 data written.\n",
      "Car https://kolesa.kz//a/show/168847033 data written.\n"
     ]
    },
    {
     "name": "stderr",
     "output_type": "stream",
     "text": [
      " 60%|█████▉    | 239/400 [4:39:31<3:24:13, 76.11s/it]"
     ]
    },
    {
     "name": "stdout",
     "output_type": "stream",
     "text": [
      "Car https://kolesa.kz//a/show/168847113 data written.\n",
      "23\n",
      "iteration 240, finish\n",
      "Car https://kolesa.kz//a/show/167599791 data written.\n",
      "Car https://kolesa.kz//a/show/168787656 data written.\n",
      "Car https://kolesa.kz//a/show/167824899 data written.\n",
      "Car https://kolesa.kz//a/show/153709027 data written.\n",
      "Car https://kolesa.kz//a/show/168655796 data written.\n",
      "Car https://kolesa.kz//a/show/168847033 data written.\n",
      "Car https://kolesa.kz//a/show/168847113 data written.\n",
      "Car https://kolesa.kz//a/show/168845164 data written.\n",
      "Car https://kolesa.kz//a/show/168845045 data written.\n",
      "Car https://kolesa.kz//a/show/167630567 data written.\n",
      "Car https://kolesa.kz//a/show/165134932 data written.\n",
      "Car https://kolesa.kz//a/show/168630935 data written.\n",
      "Car https://kolesa.kz//a/show/168840481 data written.\n",
      "Car https://kolesa.kz//a/show/166001532 data written.\n",
      "Car https://kolesa.kz//a/show/165333177 data written.\n",
      "Car https://kolesa.kz//a/show/168620666 data written.\n",
      "Car https://kolesa.kz//a/show/165855739 data written.\n",
      "Car https://kolesa.kz//a/show/168838753 data written.\n",
      "Car https://kolesa.kz//a/show/168838932 data written.\n",
      "Car https://kolesa.kz//a/show/140075478 data written.\n",
      "Car https://kolesa.kz//a/show/168830168 data written.\n",
      "Car https://kolesa.kz//a/show/168770157 data written.\n"
     ]
    },
    {
     "name": "stderr",
     "output_type": "stream",
     "text": [
      " 60%|██████    | 240/400 [4:40:48<3:22:57, 76.11s/it]"
     ]
    },
    {
     "name": "stdout",
     "output_type": "stream",
     "text": [
      "Car https://kolesa.kz//a/show/168426251 data written.\n",
      "23\n",
      "iteration 241, finish\n",
      "Car https://kolesa.kz//a/show/168465369 data written.\n",
      "Car https://kolesa.kz//a/show/168654406 data written.\n",
      "Car https://kolesa.kz//a/show/152825960 data written.\n",
      "Car https://kolesa.kz//a/show/168830168 data written.\n",
      "Car https://kolesa.kz//a/show/168770157 data written.\n",
      "Car https://kolesa.kz//a/show/168426251 data written.\n",
      "Car https://kolesa.kz//a/show/168618621 data written.\n",
      "Car https://kolesa.kz//a/show/168820912 data written.\n",
      "Car https://kolesa.kz//a/show/168604032 data written.\n",
      "Car https://kolesa.kz//a/show/168830515 data written.\n",
      "Car https://kolesa.kz//a/show/168830235 data written.\n",
      "Car https://kolesa.kz//a/show/168609293 data written.\n",
      "Car https://kolesa.kz//a/show/168702206 data written.\n",
      "Car https://kolesa.kz//a/show/160137987 data written.\n",
      "Car https://kolesa.kz//a/show/168562019 data written.\n",
      "Car https://kolesa.kz//a/show/168826354 data written.\n",
      "Car https://kolesa.kz//a/show/168597764 data written.\n",
      "Car https://kolesa.kz//a/show/167270518 data written.\n",
      "Car https://kolesa.kz//a/show/168587776 data written.\n",
      "Car https://kolesa.kz//a/show/168822335 data written.\n",
      "Car https://kolesa.kz//a/show/168579810 data written.\n",
      "Car https://kolesa.kz//a/show/168821293 data written.\n"
     ]
    },
    {
     "name": "stderr",
     "output_type": "stream",
     "text": [
      " 60%|██████    | 241/400 [4:42:04<3:22:02, 76.24s/it]"
     ]
    },
    {
     "name": "stdout",
     "output_type": "stream",
     "text": [
      "Car https://kolesa.kz//a/show/165474590 data written.\n",
      "23\n",
      "iteration 242, finish\n",
      "Car https://kolesa.kz//a/show/165855649 data written.\n",
      "Car https://kolesa.kz//a/show/168430266 data written.\n",
      "Car https://kolesa.kz//a/show/168769891 data written.\n",
      "Car https://kolesa.kz//a/show/168822335 data written.\n",
      "Car https://kolesa.kz//a/show/168579810 data written.\n",
      "Car https://kolesa.kz//a/show/168821293 data written.\n",
      "Car https://kolesa.kz//a/show/165474590 data written.\n",
      "Car https://kolesa.kz//a/show/168578960 data written.\n",
      "Car https://kolesa.kz//a/show/167598861 data written.\n",
      "Car https://kolesa.kz//a/show/167370861 data written.\n",
      "Car https://kolesa.kz//a/show/168567668 data written.\n",
      "Car https://kolesa.kz//a/show/168566883 data written.\n",
      "Car https://kolesa.kz//a/show/168767038 data written.\n",
      "Car https://kolesa.kz//a/show/159742340 data written.\n",
      "Car https://kolesa.kz//a/show/167328658 data written.\n",
      "Car https://kolesa.kz//a/show/168559276 data written.\n",
      "Car https://kolesa.kz//a/show/168536396 data written.\n",
      "Car https://kolesa.kz//a/show/168530672 data written.\n",
      "Car https://kolesa.kz//a/show/164450248 data written.\n",
      "Car https://kolesa.kz//a/show/168523865 data written.\n",
      "Car https://kolesa.kz//a/show/168523513 data written.\n",
      "Car https://kolesa.kz//a/show/168814947 data written.\n"
     ]
    },
    {
     "name": "stderr",
     "output_type": "stream",
     "text": [
      " 60%|██████    | 242/400 [4:43:21<3:21:01, 76.34s/it]"
     ]
    },
    {
     "name": "stdout",
     "output_type": "stream",
     "text": [
      "Car https://kolesa.kz//a/show/168520243 data written.\n",
      "23\n",
      "iteration 243, finish\n",
      "Car https://kolesa.kz//a/show/168321310 data written.\n",
      "Car https://kolesa.kz//a/show/168542399 data written.\n",
      "Car https://kolesa.kz//a/show/166843022 data written.\n",
      "Car https://kolesa.kz//a/show/168822335 data written.\n",
      "Car https://kolesa.kz//a/show/168579810 data written.\n",
      "Car https://kolesa.kz//a/show/168821293 data written.\n",
      "Car https://kolesa.kz//a/show/165474590 data written.\n",
      "Car https://kolesa.kz//a/show/168578960 data written.\n",
      "Car https://kolesa.kz//a/show/167598861 data written.\n",
      "Car https://kolesa.kz//a/show/167370861 data written.\n",
      "Car https://kolesa.kz//a/show/168567668 data written.\n",
      "Car https://kolesa.kz//a/show/168566883 data written.\n",
      "Car https://kolesa.kz//a/show/168767038 data written.\n",
      "Car https://kolesa.kz//a/show/159742340 data written.\n",
      "Car https://kolesa.kz//a/show/167328658 data written.\n",
      "Car https://kolesa.kz//a/show/168559276 data written.\n",
      "Car https://kolesa.kz//a/show/168536396 data written.\n",
      "Car https://kolesa.kz//a/show/168530672 data written.\n",
      "Car https://kolesa.kz//a/show/164450248 data written.\n",
      "Car https://kolesa.kz//a/show/168523865 data written.\n",
      "Car https://kolesa.kz//a/show/168523513 data written.\n",
      "Car https://kolesa.kz//a/show/168814947 data written.\n"
     ]
    },
    {
     "name": "stderr",
     "output_type": "stream",
     "text": [
      " 61%|██████    | 243/400 [4:44:38<3:20:31, 76.63s/it]"
     ]
    },
    {
     "name": "stdout",
     "output_type": "stream",
     "text": [
      "Car https://kolesa.kz//a/show/168520243 data written.\n",
      "23\n",
      "iteration 244, finish\n",
      "Car https://kolesa.kz//a/show/168739695 data written.\n",
      "Car https://kolesa.kz//a/show/159452162 data written.\n",
      "Car https://kolesa.kz//a/show/168530537 data written.\n",
      "Car https://kolesa.kz//a/show/168523513 data written.\n",
      "Car https://kolesa.kz//a/show/168814947 data written.\n",
      "Car https://kolesa.kz//a/show/168520243 data written.\n",
      "Car https://kolesa.kz//a/show/168800791 data written.\n",
      "Car https://kolesa.kz//a/show/168809628 data written.\n",
      "Car https://kolesa.kz//a/show/168513477 data written.\n",
      "Car https://kolesa.kz//a/show/168513187 data written.\n",
      "Car https://kolesa.kz//a/show/168508876 data written.\n",
      "Car https://kolesa.kz//a/show/166850573 data written.\n",
      "Car https://kolesa.kz//a/show/168077999 data written.\n",
      "Car https://kolesa.kz//a/show/165085767 data written.\n",
      "Car https://kolesa.kz//a/show/166750055 data written.\n",
      "Car https://kolesa.kz//a/show/164777603 data written.\n",
      "Car https://kolesa.kz//a/show/168794070 data written.\n",
      "Car https://kolesa.kz//a/show/168766017 data written.\n",
      "Car https://kolesa.kz//a/show/168792162 data written.\n",
      "Car https://kolesa.kz//a/show/156638315 data written.\n",
      "Car https://kolesa.kz//a/show/168790142 data written.\n",
      "Car https://kolesa.kz//a/show/168521047 data written.\n"
     ]
    },
    {
     "name": "stderr",
     "output_type": "stream",
     "text": [
      " 61%|██████    | 244/400 [4:45:57<3:20:48, 77.23s/it]"
     ]
    },
    {
     "name": "stdout",
     "output_type": "stream",
     "text": [
      "Car https://kolesa.kz//a/show/153631501 data written.\n",
      "23\n",
      "iteration 245, finish\n",
      "Car https://kolesa.kz//a/show/166257916 data written.\n",
      "Car https://kolesa.kz//a/show/168619829 data written.\n",
      "Car https://kolesa.kz//a/show/165305845 data written.\n",
      "Car https://kolesa.kz//a/show/153631501 data written.\n",
      "Car https://kolesa.kz//a/show/147745436 data written.\n",
      "Car https://kolesa.kz//a/show/167270111 data written.\n",
      "Car https://kolesa.kz//a/show/168779645 data written.\n",
      "Car https://kolesa.kz//a/show/168477697 data written.\n",
      "Car https://kolesa.kz//a/show/165944030 data written.\n",
      "Car https://kolesa.kz//a/show/168472339 data written.\n",
      "Car https://kolesa.kz//a/show/168774664 data written.\n",
      "Car https://kolesa.kz//a/show/168773177 data written.\n",
      "Car https://kolesa.kz//a/show/168332112 data written.\n",
      "Car https://kolesa.kz//a/show/168766920 data written.\n",
      "Car https://kolesa.kz//a/show/167862233 data written.\n",
      "Car https://kolesa.kz//a/show/168452781 data written.\n",
      "Car https://kolesa.kz//a/show/168444036 data written.\n",
      "Car https://kolesa.kz//a/show/166224208 data written.\n",
      "Car https://kolesa.kz//a/show/162104320 data written.\n",
      "Car https://kolesa.kz//a/show/168484275 data written.\n",
      "Car https://kolesa.kz//a/show/168425814 data written.\n",
      "Car https://kolesa.kz//a/show/168404692 data written.\n"
     ]
    },
    {
     "name": "stderr",
     "output_type": "stream",
     "text": [
      " 61%|██████▏   | 245/400 [4:47:13<3:18:42, 76.92s/it]"
     ]
    },
    {
     "name": "stdout",
     "output_type": "stream",
     "text": [
      "Car https://kolesa.kz//a/show/168754233 data written.\n",
      "23\n",
      "iteration 246, finish\n",
      "Car https://kolesa.kz//a/show/168717142 data written.\n",
      "Car https://kolesa.kz//a/show/168135163 data written.\n",
      "Car https://kolesa.kz//a/show/168538486 data written.\n",
      "Car https://kolesa.kz//a/show/168452781 data written.\n",
      "Car https://kolesa.kz//a/show/168444036 data written.\n",
      "Car https://kolesa.kz//a/show/166224208 data written.\n",
      "Car https://kolesa.kz//a/show/162104320 data written.\n",
      "Car https://kolesa.kz//a/show/168484275 data written.\n",
      "Car https://kolesa.kz//a/show/168425814 data written.\n",
      "Car https://kolesa.kz//a/show/168404692 data written.\n",
      "Car https://kolesa.kz//a/show/168754233 data written.\n",
      "Car https://kolesa.kz//a/show/168198504 data written.\n",
      "Car https://kolesa.kz//a/show/168746654 data written.\n",
      "Car https://kolesa.kz//a/show/165363332 data written.\n",
      "Car https://kolesa.kz//a/show/167399281 data written.\n",
      "Car https://kolesa.kz//a/show/168375436 data written.\n",
      "Car https://kolesa.kz//a/show/165796967 data written.\n",
      "Car https://kolesa.kz//a/show/168742147 data written.\n",
      "Car https://kolesa.kz//a/show/167532388 data written.\n",
      "Car https://kolesa.kz//a/show/168054338 data written.\n",
      "Car https://kolesa.kz//a/show/167612074 data written.\n",
      "Car https://kolesa.kz//a/show/168736665 data written.\n"
     ]
    },
    {
     "name": "stderr",
     "output_type": "stream",
     "text": [
      " 62%|██████▏   | 246/400 [4:48:28<3:16:27, 76.54s/it]"
     ]
    },
    {
     "name": "stdout",
     "output_type": "stream",
     "text": [
      "Car https://kolesa.kz//a/show/168358696 data written.\n",
      "23\n",
      "iteration 247, finish\n",
      "Car https://kolesa.kz//a/show/164395261 data written.\n",
      "Car https://kolesa.kz//a/show/166891134 data written.\n",
      "Car https://kolesa.kz//a/show/167943993 data written.\n",
      "Car https://kolesa.kz//a/show/168477697 data written.\n",
      "Car https://kolesa.kz//a/show/165944030 data written.\n",
      "Car https://kolesa.kz//a/show/168472339 data written.\n",
      "Car https://kolesa.kz//a/show/168774664 data written.\n",
      "Car https://kolesa.kz//a/show/168773177 data written.\n",
      "Car https://kolesa.kz//a/show/168332112 data written.\n",
      "Car https://kolesa.kz//a/show/168766920 data written.\n",
      "Car https://kolesa.kz//a/show/167862233 data written.\n",
      "Car https://kolesa.kz//a/show/168452781 data written.\n",
      "Car https://kolesa.kz//a/show/168444036 data written.\n",
      "Car https://kolesa.kz//a/show/162104320 data written.\n",
      "Car https://kolesa.kz//a/show/168484275 data written.\n",
      "Car https://kolesa.kz//a/show/168425814 data written.\n",
      "Car https://kolesa.kz//a/show/168404692 data written.\n",
      "Car https://kolesa.kz//a/show/168754233 data written.\n",
      "Car https://kolesa.kz//a/show/168198504 data written.\n",
      "Car https://kolesa.kz//a/show/168746654 data written.\n",
      "Car https://kolesa.kz//a/show/165363332 data written.\n",
      "Car https://kolesa.kz//a/show/167399281 data written.\n"
     ]
    },
    {
     "name": "stderr",
     "output_type": "stream",
     "text": [
      " 62%|██████▏   | 247/400 [4:49:44<3:14:13, 76.17s/it]"
     ]
    },
    {
     "name": "stdout",
     "output_type": "stream",
     "text": [
      "Car https://kolesa.kz//a/show/168375436 data written.\n",
      "23\n",
      "iteration 248, finish\n",
      "Car https://kolesa.kz//a/show/168541571 data written.\n",
      "Car https://kolesa.kz//a/show/160652513 data written.\n",
      "Car https://kolesa.kz//a/show/168577385 data written.\n",
      "Car https://kolesa.kz//a/show/168198504 data written.\n",
      "Car https://kolesa.kz//a/show/168746654 data written.\n",
      "Car https://kolesa.kz//a/show/165363332 data written.\n",
      "Car https://kolesa.kz//a/show/167399281 data written.\n",
      "Car https://kolesa.kz//a/show/168375436 data written.\n",
      "Car https://kolesa.kz//a/show/165796967 data written.\n",
      "Car https://kolesa.kz//a/show/168742147 data written.\n",
      "Car https://kolesa.kz//a/show/167532388 data written.\n",
      "Car https://kolesa.kz//a/show/168054338 data written.\n",
      "Car https://kolesa.kz//a/show/167612074 data written.\n",
      "Car https://kolesa.kz//a/show/168736665 data written.\n",
      "Car https://kolesa.kz//a/show/168358696 data written.\n",
      "Car https://kolesa.kz//a/show/168735734 data written.\n",
      "Car https://kolesa.kz//a/show/168353179 data written.\n",
      "Car https://kolesa.kz//a/show/168692289 data written.\n",
      "Car https://kolesa.kz//a/show/167973691 data written.\n",
      "Car https://kolesa.kz//a/show/165795111 data written.\n",
      "Car https://kolesa.kz//a/show/168347370 data written.\n",
      "Car https://kolesa.kz//a/show/168304453 data written.\n"
     ]
    },
    {
     "name": "stderr",
     "output_type": "stream",
     "text": [
      " 62%|██████▏   | 248/400 [4:51:00<3:13:20, 76.32s/it]"
     ]
    },
    {
     "name": "stdout",
     "output_type": "stream",
     "text": [
      "Car https://kolesa.kz//a/show/166399031 data written.\n",
      "23\n",
      "iteration 249, finish\n",
      "Car https://kolesa.kz//a/show/166063454 data written.\n",
      "Car https://kolesa.kz//a/show/168538486 data written.\n",
      "Car https://kolesa.kz//a/show/164452089 data written.\n",
      "Car https://kolesa.kz//a/show/168730704 data written.\n",
      "Car https://kolesa.kz//a/show/158111538 data written.\n",
      "Car https://kolesa.kz//a/show/168257459 data written.\n",
      "Car https://kolesa.kz//a/show/163758606 data written.\n",
      "Car https://kolesa.kz//a/show/158635275 data written.\n",
      "Car https://kolesa.kz//a/show/168865997 data written.\n",
      "Car https://kolesa.kz//a/show/167588287 data written.\n",
      "Car https://kolesa.kz//a/show/168238340 data written.\n",
      "Car https://kolesa.kz//a/show/168792209 data written.\n",
      "Car https://kolesa.kz//a/show/162062444 data written.\n",
      "Car https://kolesa.kz//a/show/168865797 data written.\n",
      "Car https://kolesa.kz//a/show/168201282 data written.\n",
      "Car https://kolesa.kz//a/show/168864467 data written.\n",
      "Car https://kolesa.kz//a/show/168864656 data written.\n",
      "Car https://kolesa.kz//a/show/168181655 data written.\n",
      "Car https://kolesa.kz//a/show/168864306 data written.\n",
      "Car https://kolesa.kz//a/show/153636715 data written.\n",
      "Car https://kolesa.kz//a/show/168861905 data written.\n",
      "Car https://kolesa.kz//a/show/168861807 data written.\n"
     ]
    },
    {
     "name": "stderr",
     "output_type": "stream",
     "text": [
      " 62%|██████▏   | 249/400 [4:52:17<3:12:16, 76.40s/it]"
     ]
    },
    {
     "name": "stdout",
     "output_type": "stream",
     "text": [
      "Car https://kolesa.kz//a/show/167875743 data written.\n",
      "23\n",
      "iteration 250, finish\n",
      "Car https://kolesa.kz//a/show/167968190 data written.\n",
      "Car https://kolesa.kz//a/show/168832116 data written.\n",
      "Car https://kolesa.kz//a/show/166891134 data written.\n",
      "Car https://kolesa.kz//a/show/168181655 data written.\n",
      "Car https://kolesa.kz//a/show/168864306 data written.\n",
      "Car https://kolesa.kz//a/show/153636715 data written.\n",
      "Car https://kolesa.kz//a/show/168861905 data written.\n",
      "Car https://kolesa.kz//a/show/168861807 data written.\n",
      "Car https://kolesa.kz//a/show/167875743 data written.\n",
      "Car https://kolesa.kz//a/show/167566665 data written.\n",
      "Car https://kolesa.kz//a/show/152805864 data written.\n",
      "Car https://kolesa.kz//a/show/168776927 data written.\n",
      "Car https://kolesa.kz//a/show/168860863 data written.\n",
      "Car https://kolesa.kz//a/show/168140613 data written.\n",
      "Car https://kolesa.kz//a/show/168140594 data written.\n",
      "Car https://kolesa.kz//a/show/168860322 data written.\n",
      "Car https://kolesa.kz//a/show/168697540 data written.\n",
      "Car https://kolesa.kz//a/show/168859917 data written.\n",
      "Car https://kolesa.kz//a/show/168245942 data written.\n",
      "Car https://kolesa.kz//a/show/168123478 data written.\n",
      "Car https://kolesa.kz//a/show/168689067 data written.\n",
      "Car https://kolesa.kz//a/show/168856573 data written.\n"
     ]
    },
    {
     "name": "stderr",
     "output_type": "stream",
     "text": [
      " 62%|██████▎   | 250/400 [4:53:33<3:10:21, 76.14s/it]"
     ]
    },
    {
     "name": "stdout",
     "output_type": "stream",
     "text": [
      "Car https://kolesa.kz//a/show/168720322 data written.\n",
      "23\n",
      "iteration 251, finish\n",
      "Car https://kolesa.kz//a/show/167960199 data written.\n",
      "Car https://kolesa.kz//a/show/168756131 data written.\n",
      "Car https://kolesa.kz//a/show/167718101 data written.\n",
      "Car https://kolesa.kz//a/show/168864306 data written.\n",
      "Car https://kolesa.kz//a/show/153636715 data written.\n",
      "Car https://kolesa.kz//a/show/168861905 data written.\n",
      "Car https://kolesa.kz//a/show/168861807 data written.\n",
      "Car https://kolesa.kz//a/show/167875743 data written.\n",
      "Car https://kolesa.kz//a/show/167566665 data written.\n",
      "Car https://kolesa.kz//a/show/152805864 data written.\n",
      "Car https://kolesa.kz//a/show/168776927 data written.\n",
      "Car https://kolesa.kz//a/show/168860863 data written.\n",
      "Car https://kolesa.kz//a/show/168140613 data written.\n",
      "Car https://kolesa.kz//a/show/168140594 data written.\n",
      "Car https://kolesa.kz//a/show/168860322 data written.\n",
      "Car https://kolesa.kz//a/show/168697540 data written.\n",
      "Car https://kolesa.kz//a/show/168859917 data written.\n",
      "Car https://kolesa.kz//a/show/168245942 data written.\n",
      "Car https://kolesa.kz//a/show/168123478 data written.\n",
      "Car https://kolesa.kz//a/show/168689067 data written.\n",
      "Car https://kolesa.kz//a/show/168856573 data written.\n",
      "Car https://kolesa.kz//a/show/168720322 data written.\n"
     ]
    },
    {
     "name": "stderr",
     "output_type": "stream",
     "text": [
      " 63%|██████▎   | 251/400 [4:54:49<3:09:33, 76.33s/it]"
     ]
    },
    {
     "name": "stdout",
     "output_type": "stream",
     "text": [
      "Car https://kolesa.kz//a/show/168218762 data written.\n",
      "23\n",
      "iteration 252, finish\n",
      "Car https://kolesa.kz//a/show/168358822 data written.\n",
      "Car https://kolesa.kz//a/show/168516563 data written.\n",
      "Car https://kolesa.kz//a/show/168370110 data written.\n",
      "Car https://kolesa.kz//a/show/168689067 data written.\n",
      "Car https://kolesa.kz//a/show/168856573 data written.\n",
      "Car https://kolesa.kz//a/show/168720322 data written.\n",
      "Car https://kolesa.kz//a/show/168218762 data written.\n",
      "Car https://kolesa.kz//a/show/168684664 data written.\n",
      "Car https://kolesa.kz//a/show/168077392 data written.\n",
      "Car https://kolesa.kz//a/show/168676227 data written.\n",
      "Car https://kolesa.kz//a/show/167576876 data written.\n",
      "Car https://kolesa.kz//a/show/168060393 data written.\n",
      "Car https://kolesa.kz//a/show/168055044 data written.\n",
      "Car https://kolesa.kz//a/show/168666147 data written.\n",
      "Car https://kolesa.kz//a/show/168556884 data written.\n",
      "Car https://kolesa.kz//a/show/168020853 data written.\n",
      "Car https://kolesa.kz//a/show/167978952 data written.\n",
      "Car https://kolesa.kz//a/show/168375455 data written.\n",
      "Car https://kolesa.kz//a/show/167710370 data written.\n",
      "Car https://kolesa.kz//a/show/157124538 data written.\n",
      "Car https://kolesa.kz//a/show/168779895 data written.\n",
      "Car https://kolesa.kz//a/show/168575104 data written.\n"
     ]
    },
    {
     "name": "stderr",
     "output_type": "stream",
     "text": [
      " 63%|██████▎   | 252/400 [4:56:05<3:07:27, 75.99s/it]"
     ]
    },
    {
     "name": "stdout",
     "output_type": "stream",
     "text": [
      "Car https://kolesa.kz//a/show/168855007 data written.\n",
      "23\n",
      "iteration 253, finish\n",
      "Car https://kolesa.kz//a/show/168556467 data written.\n",
      "Car https://kolesa.kz//a/show/168794195 data written.\n",
      "Car https://kolesa.kz//a/show/168542399 data written.\n",
      "Car https://kolesa.kz//a/show/168575104 data written.\n",
      "Car https://kolesa.kz//a/show/168855007 data written.\n",
      "Car https://kolesa.kz//a/show/168236552 data written.\n",
      "Car https://kolesa.kz//a/show/168026146 data written.\n",
      "Car https://kolesa.kz//a/show/168606263 data written.\n",
      "Car https://kolesa.kz//a/show/165164270 data written.\n",
      "Car https://kolesa.kz//a/show/168595863 data written.\n",
      "Car https://kolesa.kz//a/show/162247297 data written.\n",
      "Car https://kolesa.kz//a/show/166516631 data written.\n",
      "Car https://kolesa.kz//a/show/168751873 data written.\n",
      "Car https://kolesa.kz//a/show/168591321 data written.\n",
      "Car https://kolesa.kz//a/show/168589354 data written.\n",
      "Car https://kolesa.kz//a/show/156611031 data written.\n",
      "Car https://kolesa.kz//a/show/167923703 data written.\n",
      "Car https://kolesa.kz//a/show/168578280 data written.\n",
      "Car https://kolesa.kz//a/show/167000585 data written.\n",
      "Car https://kolesa.kz//a/show/157924429 data written.\n",
      "Car https://kolesa.kz//a/show/168036960 data written.\n",
      "Car https://kolesa.kz//a/show/168541411 data written.\n"
     ]
    },
    {
     "name": "stderr",
     "output_type": "stream",
     "text": [
      " 63%|██████▎   | 253/400 [4:57:20<3:05:26, 75.69s/it]"
     ]
    },
    {
     "name": "stdout",
     "output_type": "stream",
     "text": [
      "Car https://kolesa.kz//a/show/167823905 data written.\n",
      "23\n",
      "iteration 254, finish\n",
      "Car https://kolesa.kz//a/show/168502505 data written.\n",
      "Car https://kolesa.kz//a/show/167385160 data written.\n",
      "Car https://kolesa.kz//a/show/168519047 data written.\n",
      "Car https://kolesa.kz//a/show/156611031 data written.\n",
      "Car https://kolesa.kz//a/show/167923703 data written.\n",
      "Car https://kolesa.kz//a/show/168578280 data written.\n",
      "Car https://kolesa.kz//a/show/167000585 data written.\n",
      "Car https://kolesa.kz//a/show/157924429 data written.\n",
      "Car https://kolesa.kz//a/show/168036960 data written.\n",
      "Car https://kolesa.kz//a/show/168541411 data written.\n",
      "Car https://kolesa.kz//a/show/167823905 data written.\n",
      "Car https://kolesa.kz//a/show/168531706 data written.\n",
      "Car https://kolesa.kz//a/show/168775727 data written.\n",
      "Car https://kolesa.kz//a/show/168774302 data written.\n",
      "Car https://kolesa.kz//a/show/168764205 data written.\n",
      "Car https://kolesa.kz//a/show/168514848 data written.\n",
      "Car https://kolesa.kz//a/show/168503525 data written.\n",
      "Car https://kolesa.kz//a/show/168290680 data written.\n",
      "Car https://kolesa.kz//a/show/166428561 data written.\n",
      "Car https://kolesa.kz//a/show/168718577 data written.\n",
      "Car https://kolesa.kz//a/show/165140669 data written.\n",
      "Car https://kolesa.kz//a/show/168487045 data written.\n"
     ]
    },
    {
     "name": "stderr",
     "output_type": "stream",
     "text": [
      " 64%|██████▎   | 254/400 [4:58:36<3:04:40, 75.90s/it]"
     ]
    },
    {
     "name": "stdout",
     "output_type": "stream",
     "text": [
      "Car https://kolesa.kz//a/show/168732760 data written.\n",
      "23\n",
      "iteration 255, finish\n",
      "Car https://kolesa.kz//a/show/168858874 data written.\n",
      "Car https://kolesa.kz//a/show/168860235 data written.\n",
      "Car https://kolesa.kz//a/show/168411222 data written.\n",
      "Car https://kolesa.kz//a/show/168036960 data written.\n",
      "Car https://kolesa.kz//a/show/168541411 data written.\n",
      "Car https://kolesa.kz//a/show/167823905 data written.\n",
      "Car https://kolesa.kz//a/show/168531706 data written.\n",
      "Car https://kolesa.kz//a/show/168775727 data written.\n",
      "Car https://kolesa.kz//a/show/168774302 data written.\n",
      "Car https://kolesa.kz//a/show/168764205 data written.\n",
      "Car https://kolesa.kz//a/show/168514848 data written.\n",
      "Car https://kolesa.kz//a/show/168503525 data written.\n",
      "Car https://kolesa.kz//a/show/168290680 data written.\n",
      "Car https://kolesa.kz//a/show/166428561 data written.\n",
      "Car https://kolesa.kz//a/show/168718577 data written.\n",
      "Car https://kolesa.kz//a/show/165140669 data written.\n",
      "Car https://kolesa.kz//a/show/168487045 data written.\n",
      "Car https://kolesa.kz//a/show/168732760 data written.\n",
      "Car https://kolesa.kz//a/show/168752302 data written.\n",
      "Car https://kolesa.kz//a/show/168476922 data written.\n",
      "Car https://kolesa.kz//a/show/168750138 data written.\n",
      "Car https://kolesa.kz//a/show/168749477 data written.\n"
     ]
    },
    {
     "name": "stderr",
     "output_type": "stream",
     "text": [
      " 64%|██████▍   | 255/400 [4:59:50<3:02:12, 75.40s/it]"
     ]
    },
    {
     "name": "stdout",
     "output_type": "stream",
     "text": [
      "Car https://kolesa.kz//a/show/168740617 data written.\n",
      "23\n",
      "iteration 256, finish\n",
      "Car https://kolesa.kz//a/show/168505081 data written.\n",
      "Car https://kolesa.kz//a/show/168739695 data written.\n",
      "Car https://kolesa.kz//a/show/168369035 data written.\n",
      "Car https://kolesa.kz//a/show/168750138 data written.\n",
      "Car https://kolesa.kz//a/show/168749477 data written.\n",
      "Car https://kolesa.kz//a/show/168740617 data written.\n",
      "Car https://kolesa.kz//a/show/168739216 data written.\n",
      "Car https://kolesa.kz//a/show/168462406 data written.\n",
      "Car https://kolesa.kz//a/show/167948877 data written.\n",
      "Car https://kolesa.kz//a/show/168459978 data written.\n",
      "Car https://kolesa.kz//a/show/168585239 data written.\n",
      "Car https://kolesa.kz//a/show/168733981 data written.\n",
      "Car https://kolesa.kz//a/show/168449737 data written.\n",
      "Car https://kolesa.kz//a/show/168445311 data written.\n",
      "Car https://kolesa.kz//a/show/168398403 data written.\n",
      "Car https://kolesa.kz//a/show/167116110 data written.\n",
      "Car https://kolesa.kz//a/show/163253019 data written.\n",
      "Car https://kolesa.kz//a/show/167474921 data written.\n",
      "Car https://kolesa.kz//a/show/168411449 data written.\n",
      "Car https://kolesa.kz//a/show/156502200 data written.\n",
      "Car https://kolesa.kz//a/show/168484639 data written.\n",
      "Car https://kolesa.kz//a/show/168865986 data written.\n"
     ]
    },
    {
     "name": "stderr",
     "output_type": "stream",
     "text": [
      " 64%|██████▍   | 256/400 [5:01:06<3:01:13, 75.51s/it]"
     ]
    },
    {
     "name": "stdout",
     "output_type": "stream",
     "text": [
      "Car https://kolesa.kz//a/show/168865952 data written.\n",
      "23\n",
      "iteration 257, finish\n",
      "Car https://kolesa.kz//a/show/166630436 data written.\n",
      "Car https://kolesa.kz//a/show/168866547 data written.\n",
      "Car https://kolesa.kz//a/show/167978394 data written.\n",
      "Car https://kolesa.kz//a/show/168484639 data written.\n",
      "Car https://kolesa.kz//a/show/168865986 data written.\n",
      "Car https://kolesa.kz//a/show/168865952 data written.\n",
      "Car https://kolesa.kz//a/show/167260759 data written.\n",
      "Car https://kolesa.kz//a/show/168865563 data written.\n",
      "Car https://kolesa.kz//a/show/157427236 data written.\n",
      "Car https://kolesa.kz//a/show/168863569 data written.\n",
      "Car https://kolesa.kz//a/show/168863241 data written.\n",
      "Car https://kolesa.kz//a/show/168345566 data written.\n",
      "Car https://kolesa.kz//a/show/167702758 data written.\n",
      "Car https://kolesa.kz//a/show/168862872 data written.\n",
      "Car https://kolesa.kz//a/show/168862603 data written.\n",
      "Car https://kolesa.kz//a/show/168861921 data written.\n",
      "Car https://kolesa.kz//a/show/167576638 data written.\n",
      "Car https://kolesa.kz//a/show/166603077 data written.\n",
      "Car https://kolesa.kz//a/show/166269401 data written.\n",
      "Car https://kolesa.kz//a/show/168859576 data written.\n",
      "Car https://kolesa.kz//a/show/168689818 data written.\n",
      "Car https://kolesa.kz//a/show/168309363 data written.\n"
     ]
    },
    {
     "name": "stderr",
     "output_type": "stream",
     "text": [
      " 64%|██████▍   | 257/400 [5:02:23<3:01:06, 75.99s/it]"
     ]
    },
    {
     "name": "stdout",
     "output_type": "stream",
     "text": [
      "Car https://kolesa.kz//a/show/168760034 data written.\n",
      "23\n",
      "iteration 258, finish\n",
      "Car https://kolesa.kz//a/show/168593304 data written.\n",
      "Car https://kolesa.kz//a/show/159803823 data written.\n",
      "Car https://kolesa.kz//a/show/162764473 data written.\n",
      "Car https://kolesa.kz//a/show/168861921 data written.\n",
      "Car https://kolesa.kz//a/show/167576638 data written.\n",
      "Car https://kolesa.kz//a/show/166603077 data written.\n",
      "Car https://kolesa.kz//a/show/166269401 data written.\n",
      "Car https://kolesa.kz//a/show/168859576 data written.\n",
      "Car https://kolesa.kz//a/show/168689818 data written.\n",
      "Car https://kolesa.kz//a/show/168309363 data written.\n",
      "Car https://kolesa.kz//a/show/168760034 data written.\n",
      "Car https://kolesa.kz//a/show/166446179 data written.\n",
      "Car https://kolesa.kz//a/show/158809714 data written.\n",
      "Car https://kolesa.kz//a/show/166689100 data written.\n",
      "Car https://kolesa.kz//a/show/168730616 data written.\n",
      "Car https://kolesa.kz//a/show/168853139 data written.\n",
      "Car https://kolesa.kz//a/show/168301090 data written.\n",
      "Car https://kolesa.kz//a/show/168395963 data written.\n",
      "Car https://kolesa.kz//a/show/168853404 data written.\n",
      "Car https://kolesa.kz//a/show/168300419 data written.\n",
      "Car https://kolesa.kz//a/show/168290432 data written.\n",
      "Car https://kolesa.kz//a/show/168849727 data written.\n"
     ]
    },
    {
     "name": "stderr",
     "output_type": "stream",
     "text": [
      " 64%|██████▍   | 258/400 [5:03:41<3:01:04, 76.51s/it]"
     ]
    },
    {
     "name": "stdout",
     "output_type": "stream",
     "text": [
      "Car https://kolesa.kz//a/show/168613795 data written.\n",
      "23\n",
      "iteration 259, finish\n",
      "Car https://kolesa.kz//a/show/168710244 data written.\n",
      "Car https://kolesa.kz//a/show/168016877 data written.\n",
      "Car https://kolesa.kz//a/show/164075937 data written.\n",
      "Car https://kolesa.kz//a/show/168730616 data written.\n",
      "Car https://kolesa.kz//a/show/168853139 data written.\n",
      "Car https://kolesa.kz//a/show/168301090 data written.\n",
      "Car https://kolesa.kz//a/show/168395963 data written.\n",
      "Car https://kolesa.kz//a/show/168853404 data written.\n",
      "Car https://kolesa.kz//a/show/168300419 data written.\n",
      "Car https://kolesa.kz//a/show/168290432 data written.\n",
      "Car https://kolesa.kz//a/show/168849727 data written.\n",
      "Car https://kolesa.kz//a/show/168613795 data written.\n",
      "Car https://kolesa.kz//a/show/167752637 data written.\n",
      "Car https://kolesa.kz//a/show/168633395 data written.\n",
      "Car https://kolesa.kz//a/show/168278398 data written.\n",
      "Car https://kolesa.kz//a/show/168847488 data written.\n",
      "Car https://kolesa.kz//a/show/168275118 data written.\n",
      "Car https://kolesa.kz//a/show/168578336 data written.\n",
      "Car https://kolesa.kz//a/show/168453766 data written.\n",
      "Car https://kolesa.kz//a/show/167591507 data written.\n",
      "Car https://kolesa.kz//a/show/168847473 data written.\n",
      "Car https://kolesa.kz//a/show/168267989 data written.\n"
     ]
    },
    {
     "name": "stderr",
     "output_type": "stream",
     "text": [
      " 65%|██████▍   | 259/400 [5:05:01<3:02:12, 77.54s/it]"
     ]
    },
    {
     "name": "stdout",
     "output_type": "stream",
     "text": [
      "Car https://kolesa.kz//a/show/167842235 data written.\n",
      "23\n",
      "iteration 260, finish\n",
      "Car https://kolesa.kz//a/show/166171730 data written.\n",
      "Car https://kolesa.kz//a/show/164535936 data written.\n",
      "Car https://kolesa.kz//a/show/168751183 data written.\n",
      "Car https://kolesa.kz//a/show/168847473 data written.\n",
      "Car https://kolesa.kz//a/show/168267989 data written.\n",
      "Car https://kolesa.kz//a/show/167842235 data written.\n",
      "Car https://kolesa.kz//a/show/168847726 data written.\n",
      "Car https://kolesa.kz//a/show/168706650 data written.\n",
      "Car https://kolesa.kz//a/show/168385227 data written.\n",
      "Car https://kolesa.kz//a/show/168846439 data written.\n",
      "Car https://kolesa.kz//a/show/168189577 data written.\n",
      "Car https://kolesa.kz//a/show/168238069 data written.\n",
      "Car https://kolesa.kz//a/show/168844020 data written.\n",
      "Car https://kolesa.kz//a/show/168232424 data written.\n",
      "Car https://kolesa.kz//a/show/168662369 data written.\n",
      "Car https://kolesa.kz//a/show/168844312 data written.\n",
      "Car https://kolesa.kz//a/show/156987893 data written.\n",
      "Car https://kolesa.kz//a/show/168840695 data written.\n",
      "Car https://kolesa.kz//a/show/168649732 data written.\n",
      "Car https://kolesa.kz//a/show/168300098 data written.\n",
      "Car https://kolesa.kz//a/show/168649964 data written.\n",
      "Car https://kolesa.kz//a/show/168205114 data written.\n"
     ]
    },
    {
     "name": "stderr",
     "output_type": "stream",
     "text": [
      " 65%|██████▌   | 260/400 [5:06:19<3:01:37, 77.84s/it]"
     ]
    },
    {
     "name": "stdout",
     "output_type": "stream",
     "text": [
      "Car https://kolesa.kz//a/show/168028115 data written.\n",
      "23\n",
      "iteration 261, finish\n",
      "Car https://kolesa.kz//a/show/168348370 data written.\n",
      "Car https://kolesa.kz//a/show/157450553 data written.\n",
      "Car https://kolesa.kz//a/show/168162925 data written.\n",
      "Car https://kolesa.kz//a/show/168840695 data written.\n",
      "Car https://kolesa.kz//a/show/168649732 data written.\n",
      "Car https://kolesa.kz//a/show/168300098 data written.\n",
      "Car https://kolesa.kz//a/show/168649964 data written.\n",
      "Car https://kolesa.kz//a/show/168205114 data written.\n",
      "Car https://kolesa.kz//a/show/168028115 data written.\n",
      "Car https://kolesa.kz//a/show/167348598 data written.\n",
      "Car https://kolesa.kz//a/show/168706382 data written.\n",
      "Car https://kolesa.kz//a/show/167089733 data written.\n",
      "Car https://kolesa.kz//a/show/168838845 data written.\n",
      "Car https://kolesa.kz//a/show/168633997 data written.\n",
      "Car https://kolesa.kz//a/show/162029226 data written.\n",
      "Car https://kolesa.kz//a/show/156544948 data written.\n",
      "Car https://kolesa.kz//a/show/168837393 data written.\n",
      "Car https://kolesa.kz//a/show/168195195 data written.\n",
      "Car https://kolesa.kz//a/show/168627229 data written.\n",
      "Car https://kolesa.kz//a/show/168180474 data written.\n",
      "Car https://kolesa.kz//a/show/168622253 data written.\n",
      "Car https://kolesa.kz//a/show/168627583 data written.\n"
     ]
    },
    {
     "name": "stderr",
     "output_type": "stream",
     "text": [
      " 65%|██████▌   | 261/400 [5:07:37<3:00:24, 77.87s/it]"
     ]
    },
    {
     "name": "stdout",
     "output_type": "stream",
     "text": [
      "Car https://kolesa.kz//a/show/168260527 data written.\n",
      "23\n",
      "iteration 262, finish\n",
      "Car https://kolesa.kz//a/show/168576489 data written.\n",
      "Car https://kolesa.kz//a/show/168004244 data written.\n",
      "Car https://kolesa.kz//a/show/168530133 data written.\n",
      "Car https://kolesa.kz//a/show/156987893 data written.\n",
      "Car https://kolesa.kz//a/show/168840695 data written.\n",
      "Car https://kolesa.kz//a/show/168649732 data written.\n",
      "Car https://kolesa.kz//a/show/168300098 data written.\n",
      "Car https://kolesa.kz//a/show/168649964 data written.\n",
      "Car https://kolesa.kz//a/show/168205114 data written.\n",
      "Car https://kolesa.kz//a/show/168028115 data written.\n",
      "Car https://kolesa.kz//a/show/167348598 data written.\n",
      "Car https://kolesa.kz//a/show/168706382 data written.\n",
      "Car https://kolesa.kz//a/show/167089733 data written.\n",
      "Car https://kolesa.kz//a/show/168838845 data written.\n",
      "Car https://kolesa.kz//a/show/168633997 data written.\n",
      "Car https://kolesa.kz//a/show/162029226 data written.\n",
      "Car https://kolesa.kz//a/show/156544948 data written.\n",
      "Car https://kolesa.kz//a/show/168837393 data written.\n",
      "Car https://kolesa.kz//a/show/168195195 data written.\n",
      "Car https://kolesa.kz//a/show/168627229 data written.\n",
      "Car https://kolesa.kz//a/show/168180474 data written.\n",
      "Car https://kolesa.kz//a/show/168622253 data written.\n"
     ]
    },
    {
     "name": "stderr",
     "output_type": "stream",
     "text": [
      " 66%|██████▌   | 262/400 [5:08:55<2:59:19, 77.97s/it]"
     ]
    },
    {
     "name": "stdout",
     "output_type": "stream",
     "text": [
      "Car https://kolesa.kz//a/show/168627583 data written.\n",
      "23\n",
      "iteration 263, finish\n",
      "Car https://kolesa.kz//a/show/168431793 data written.\n",
      "Car https://kolesa.kz//a/show/162746707 data written.\n",
      "Car https://kolesa.kz//a/show/168115826 data written.\n",
      "Car https://kolesa.kz//a/show/168627583 data written.\n",
      "Car https://kolesa.kz//a/show/168260527 data written.\n",
      "Car https://kolesa.kz//a/show/168145264 data written.\n",
      "Car https://kolesa.kz//a/show/168170365 data written.\n",
      "Car https://kolesa.kz//a/show/168623348 data written.\n",
      "Car https://kolesa.kz//a/show/168168117 data written.\n",
      "Car https://kolesa.kz//a/show/164325532 data written.\n",
      "Car https://kolesa.kz//a/show/164977018 data written.\n",
      "Car https://kolesa.kz//a/show/168146547 data written.\n",
      "Car https://kolesa.kz//a/show/168828951 data written.\n",
      "Car https://kolesa.kz//a/show/168087679 data written.\n",
      "Car https://kolesa.kz//a/show/168827316 data written.\n",
      "Car https://kolesa.kz//a/show/168129495 data written.\n",
      "Car https://kolesa.kz//a/show/168111122 data written.\n",
      "Car https://kolesa.kz//a/show/168693409 data written.\n",
      "Car https://kolesa.kz//a/show/168820608 data written.\n",
      "Car https://kolesa.kz//a/show/168082590 data written.\n",
      "Car https://kolesa.kz//a/show/168077013 data written.\n",
      "Car https://kolesa.kz//a/show/168074857 data written.\n"
     ]
    },
    {
     "name": "stderr",
     "output_type": "stream",
     "text": [
      " 66%|██████▌   | 263/400 [5:10:13<2:58:04, 77.99s/it]"
     ]
    },
    {
     "name": "stdout",
     "output_type": "stream",
     "text": [
      "Car https://kolesa.kz//a/show/168056799 data written.\n",
      "23\n",
      "iteration 264, finish\n",
      "Car https://kolesa.kz//a/show/167761080 data written.\n",
      "Car https://kolesa.kz//a/show/168599855 data written.\n",
      "Car https://kolesa.kz//a/show/168082490 data written.\n",
      "Car https://kolesa.kz//a/show/168820608 data written.\n",
      "Car https://kolesa.kz//a/show/168082590 data written.\n",
      "Car https://kolesa.kz//a/show/168077013 data written.\n",
      "Car https://kolesa.kz//a/show/168074857 data written.\n",
      "Car https://kolesa.kz//a/show/168056799 data written.\n",
      "Car https://kolesa.kz//a/show/167926510 data written.\n",
      "Car https://kolesa.kz//a/show/167678938 data written.\n",
      "Car https://kolesa.kz//a/show/166951120 data written.\n",
      "Car https://kolesa.kz//a/show/168610075 data written.\n",
      "Car https://kolesa.kz//a/show/168573465 data written.\n",
      "Car https://kolesa.kz//a/show/167550668 data written.\n",
      "Car https://kolesa.kz//a/show/166294354?fromUserSearch=1 data written.\n",
      "Car https://kolesa.kz//a/show/166850193 data written.\n",
      "Car https://kolesa.kz//a/show/168634147 data written.\n",
      "Car https://kolesa.kz//a/show/168638541 data written.\n",
      "Car https://kolesa.kz//a/show/166398094 data written.\n",
      "Car https://kolesa.kz//a/show/168827153 data written.\n",
      "Car https://kolesa.kz//a/show/168417715 data written.\n",
      "Car https://kolesa.kz//a/show/168593315 data written.\n"
     ]
    },
    {
     "name": "stderr",
     "output_type": "stream",
     "text": [
      " 66%|██████▌   | 264/400 [5:11:32<2:56:54, 78.04s/it]"
     ]
    },
    {
     "name": "stdout",
     "output_type": "stream",
     "text": [
      "Car https://kolesa.kz//a/show/168455526 data written.\n",
      "23\n",
      "iteration 265, finish\n",
      "Car https://kolesa.kz//a/show/168004244 data written.\n",
      "Car https://kolesa.kz//a/show/168750599 data written.\n",
      "Car https://kolesa.kz//a/show/168794195 data written.\n",
      "Car https://kolesa.kz//a/show/168417715 data written.\n",
      "Car https://kolesa.kz//a/show/168593315 data written.\n",
      "Car https://kolesa.kz//a/show/168455526 data written.\n",
      "Car https://kolesa.kz//a/show/168820789 data written.\n",
      "Car https://kolesa.kz//a/show/168557850 data written.\n",
      "Car https://kolesa.kz//a/show/168557493 data written.\n",
      "Car https://kolesa.kz//a/show/167716384 data written.\n",
      "Car https://kolesa.kz//a/show/168554519 data written.\n",
      "Car https://kolesa.kz//a/show/166969614 data written.\n",
      "Car https://kolesa.kz//a/show/167420308 data written.\n",
      "Car https://kolesa.kz//a/show/168546142 data written.\n",
      "Car https://kolesa.kz//a/show/168811616 data written.\n",
      "Car https://kolesa.kz//a/show/168808376 data written.\n",
      "Car https://kolesa.kz//a/show/168539784 data written.\n",
      "Car https://kolesa.kz//a/show/168198163 data written.\n",
      "Car https://kolesa.kz//a/show/168482482 data written.\n",
      "Car https://kolesa.kz//a/show/167866629 data written.\n",
      "Car https://kolesa.kz//a/show/167052670 data written.\n",
      "Car https://kolesa.kz//a/show/168525993 data written.\n"
     ]
    },
    {
     "name": "stderr",
     "output_type": "stream",
     "text": [
      " 66%|██████▋   | 265/400 [5:12:50<2:56:04, 78.25s/it]"
     ]
    },
    {
     "name": "stdout",
     "output_type": "stream",
     "text": [
      "Car https://kolesa.kz//a/show/167908158 data written.\n",
      "23\n",
      "iteration 266, finish\n",
      "Car https://kolesa.kz//a/show/168551474 data written.\n",
      "Car https://kolesa.kz//a/show/166129578 data written.\n",
      "Car https://kolesa.kz//a/show/168359155 data written.\n",
      "Car https://kolesa.kz//a/show/168593315 data written.\n",
      "Car https://kolesa.kz//a/show/168455526 data written.\n",
      "Car https://kolesa.kz//a/show/168820789 data written.\n",
      "Car https://kolesa.kz//a/show/168557850 data written.\n",
      "Car https://kolesa.kz//a/show/168557493 data written.\n",
      "Car https://kolesa.kz//a/show/167716384 data written.\n",
      "Car https://kolesa.kz//a/show/168554519 data written.\n",
      "Car https://kolesa.kz//a/show/166969614 data written.\n",
      "Car https://kolesa.kz//a/show/167420308 data written.\n",
      "Car https://kolesa.kz//a/show/168546142 data written.\n",
      "Car https://kolesa.kz//a/show/168811616 data written.\n",
      "Car https://kolesa.kz//a/show/168808376 data written.\n",
      "Car https://kolesa.kz//a/show/168539784 data written.\n",
      "Car https://kolesa.kz//a/show/168198163 data written.\n",
      "Car https://kolesa.kz//a/show/168482482 data written.\n",
      "Car https://kolesa.kz//a/show/167866629 data written.\n",
      "Car https://kolesa.kz//a/show/167052670 data written.\n",
      "Car https://kolesa.kz//a/show/168525993 data written.\n",
      "Car https://kolesa.kz//a/show/167908158 data written.\n"
     ]
    },
    {
     "name": "stderr",
     "output_type": "stream",
     "text": [
      " 66%|██████▋   | 266/400 [5:14:11<2:56:08, 78.87s/it]"
     ]
    },
    {
     "name": "stdout",
     "output_type": "stream",
     "text": [
      "Car https://kolesa.kz//a/show/156240995 data written.\n",
      "23\n",
      "iteration 267, finish\n",
      "Car https://kolesa.kz//a/show/168580436 data written.\n",
      "Car https://kolesa.kz//a/show/168602522 data written.\n",
      "Car https://kolesa.kz//a/show/165659024 data written.\n",
      "Car https://kolesa.kz//a/show/168482482 data written.\n",
      "Car https://kolesa.kz//a/show/167866629 data written.\n",
      "Car https://kolesa.kz//a/show/167052670 data written.\n",
      "Car https://kolesa.kz//a/show/168525993 data written.\n",
      "Car https://kolesa.kz//a/show/167908158 data written.\n",
      "Car https://kolesa.kz//a/show/156240995 data written.\n",
      "Car https://kolesa.kz//a/show/166324420 data written.\n",
      "Car https://kolesa.kz//a/show/167718887 data written.\n",
      "Car https://kolesa.kz//a/show/168604883 data written.\n",
      "Car https://kolesa.kz//a/show/168674621 data written.\n",
      "Car https://kolesa.kz//a/show/158567751 data written.\n",
      "Car https://kolesa.kz//a/show/168449779 data written.\n",
      "Car https://kolesa.kz//a/show/168752005 data written.\n",
      "Car https://kolesa.kz//a/show/168751341 data written.\n",
      "Car https://kolesa.kz//a/show/168739747 data written.\n",
      "Car https://kolesa.kz//a/show/158034117 data written.\n",
      "Car https://kolesa.kz//a/show/168449576 data written.\n",
      "Car https://kolesa.kz//a/show/168442694 data written.\n",
      "Car https://kolesa.kz//a/show/168430822 data written.\n"
     ]
    },
    {
     "name": "stderr",
     "output_type": "stream",
     "text": [
      " 67%|██████▋   | 267/400 [5:15:28<2:53:52, 78.44s/it]"
     ]
    },
    {
     "name": "stdout",
     "output_type": "stream",
     "text": [
      "Car https://kolesa.kz//a/show/167164326 data written.\n",
      "23\n",
      "iteration 268, finish\n",
      "Car https://kolesa.kz//a/show/168346081 data written.\n",
      "Car https://kolesa.kz//a/show/155582380 data written.\n",
      "Car https://kolesa.kz//a/show/167486445 data written.\n",
      "Car https://kolesa.kz//a/show/168751341 data written.\n",
      "Car https://kolesa.kz//a/show/168739747 data written.\n",
      "Car https://kolesa.kz//a/show/158034117 data written.\n",
      "Car https://kolesa.kz//a/show/168449576 data written.\n",
      "Car https://kolesa.kz//a/show/168442694 data written.\n",
      "Car https://kolesa.kz//a/show/168430822 data written.\n",
      "Car https://kolesa.kz//a/show/167164326 data written.\n",
      "Car https://kolesa.kz//a/show/168729729 data written.\n",
      "Car https://kolesa.kz//a/show/168230728 data written.\n",
      "Car https://kolesa.kz//a/show/168724802 data written.\n",
      "Car https://kolesa.kz//a/show/168407235 data written.\n",
      "Car https://kolesa.kz//a/show/168405752 data written.\n",
      "Car https://kolesa.kz//a/show/168713665 data written.\n",
      "Car https://kolesa.kz//a/show/158323828 data written.\n",
      "Car https://kolesa.kz//a/show/158012616 data written.\n",
      "Car https://kolesa.kz//a/show/168377114 data written.\n",
      "Car https://kolesa.kz//a/show/167667826 data written.\n",
      "Car https://kolesa.kz//a/show/168351567 data written.\n",
      "Car https://kolesa.kz//a/show/168355971 data written.\n"
     ]
    },
    {
     "name": "stderr",
     "output_type": "stream",
     "text": [
      " 67%|██████▋   | 268/400 [5:16:47<2:52:40, 78.49s/it]"
     ]
    },
    {
     "name": "stdout",
     "output_type": "stream",
     "text": [
      "Car https://kolesa.kz//a/show/165708134 data written.\n",
      "23\n",
      "iteration 269, finish\n",
      "Car https://kolesa.kz//a/show/168546895 data written.\n",
      "Car https://kolesa.kz//a/show/168145972 data written.\n",
      "Car https://kolesa.kz//a/show/168338514 data written.\n",
      "Car https://kolesa.kz//a/show/167667826 data written.\n",
      "Car https://kolesa.kz//a/show/168351567 data written.\n",
      "Car https://kolesa.kz//a/show/168355971 data written.\n",
      "Car https://kolesa.kz//a/show/165708134 data written.\n",
      "Car https://kolesa.kz//a/show/168708491 data written.\n",
      "Car https://kolesa.kz//a/show/157135105 data written.\n",
      "Car https://kolesa.kz//a/show/168338135 data written.\n",
      "Car https://kolesa.kz//a/show/168700334 data written.\n",
      "Car https://kolesa.kz//a/show/163274932 data written.\n",
      "Car https://kolesa.kz//a/show/168692317 data written.\n",
      "Car https://kolesa.kz//a/show/168328822 data written.\n",
      "Car https://kolesa.kz//a/show/168690872 data written.\n",
      "Car https://kolesa.kz//a/show/168326944 data written.\n",
      "Car https://kolesa.kz//a/show/164868213 data written.\n",
      "Car https://kolesa.kz//a/show/168314344 data written.\n",
      "Car https://kolesa.kz//a/show/168125168 data written.\n",
      "Car https://kolesa.kz//a/show/166613472 data written.\n",
      "Car https://kolesa.kz//a/show/168258148 data written.\n",
      "Car https://kolesa.kz//a/show/152170852 data written.\n"
     ]
    },
    {
     "name": "stderr",
     "output_type": "stream",
     "text": [
      " 67%|██████▋   | 269/400 [5:18:04<2:50:53, 78.27s/it]"
     ]
    },
    {
     "name": "stdout",
     "output_type": "stream",
     "text": [
      "Car https://kolesa.kz//a/show/168673145 data written.\n",
      "23\n",
      "iteration 270, finish\n",
      "Car https://kolesa.kz//a/show/162333195 data written.\n",
      "Car https://kolesa.kz//a/show/166832826 data written.\n",
      "Car https://kolesa.kz//a/show/168866547 data written.\n",
      "Car https://kolesa.kz//a/show/168724802 data written.\n",
      "Car https://kolesa.kz//a/show/168407235 data written.\n",
      "Car https://kolesa.kz//a/show/168405752 data written.\n",
      "Car https://kolesa.kz//a/show/168713665 data written.\n",
      "Car https://kolesa.kz//a/show/158323828 data written.\n",
      "Car https://kolesa.kz//a/show/158012616 data written.\n",
      "Car https://kolesa.kz//a/show/168377114 data written.\n",
      "Car https://kolesa.kz//a/show/167667826 data written.\n",
      "Car https://kolesa.kz//a/show/168351567 data written.\n",
      "Car https://kolesa.kz//a/show/168355971 data written.\n",
      "Car https://kolesa.kz//a/show/165708134 data written.\n",
      "Car https://kolesa.kz//a/show/168708491 data written.\n",
      "Car https://kolesa.kz//a/show/157135105 data written.\n",
      "Car https://kolesa.kz//a/show/168338135 data written.\n",
      "Car https://kolesa.kz//a/show/168700334 data written.\n",
      "Car https://kolesa.kz//a/show/163274932 data written.\n",
      "Car https://kolesa.kz//a/show/168692317 data written.\n",
      "Car https://kolesa.kz//a/show/168328822 data written.\n",
      "Car https://kolesa.kz//a/show/168690872 data written.\n"
     ]
    },
    {
     "name": "stderr",
     "output_type": "stream",
     "text": [
      " 68%|██████▊   | 270/400 [5:19:22<2:48:59, 78.00s/it]"
     ]
    },
    {
     "name": "stdout",
     "output_type": "stream",
     "text": [
      "Car https://kolesa.kz//a/show/168326944 data written.\n",
      "23\n",
      "iteration 271, finish\n",
      "Car https://kolesa.kz//a/show/161966876 data written.\n",
      "Car https://kolesa.kz//a/show/155858226 data written.\n",
      "Car https://kolesa.kz//a/show/159363311 data written.\n",
      "Car https://kolesa.kz//a/show/168692317 data written.\n",
      "Car https://kolesa.kz//a/show/168328822 data written.\n",
      "Car https://kolesa.kz//a/show/168690872 data written.\n",
      "Car https://kolesa.kz//a/show/168326944 data written.\n",
      "Car https://kolesa.kz//a/show/164868213 data written.\n",
      "Car https://kolesa.kz//a/show/168314344 data written.\n",
      "Car https://kolesa.kz//a/show/168125168 data written.\n",
      "Car https://kolesa.kz//a/show/166613472 data written.\n",
      "Car https://kolesa.kz//a/show/168258148 data written.\n",
      "Car https://kolesa.kz//a/show/152170852 data written.\n",
      "Car https://kolesa.kz//a/show/168673145 data written.\n",
      "Car https://kolesa.kz//a/show/168293466 data written.\n",
      "Car https://kolesa.kz//a/show/168671680 data written.\n",
      "Car https://kolesa.kz//a/show/168292709 data written.\n",
      "Car https://kolesa.kz//a/show/168526856 data written.\n",
      "Car https://kolesa.kz//a/show/167956978 data written.\n",
      "Car https://kolesa.kz//a/show/168265626 data written.\n",
      "Car https://kolesa.kz//a/show/168665252 data written.\n",
      "Car https://kolesa.kz//a/show/167990773 data written.\n"
     ]
    },
    {
     "name": "stderr",
     "output_type": "stream",
     "text": [
      " 68%|██████▊   | 271/400 [5:20:40<2:47:34, 77.94s/it]"
     ]
    },
    {
     "name": "stdout",
     "output_type": "stream",
     "text": [
      "Car https://kolesa.kz//a/show/168461947 data written.\n",
      "23\n",
      "iteration 272, finish\n",
      "Car https://kolesa.kz//a/show/168692883 data written.\n",
      "Car https://kolesa.kz//a/show/168470951 data written.\n",
      "Car https://kolesa.kz//a/show/147331558 data written.\n",
      "Car https://kolesa.kz//a/show/168665252 data written.\n",
      "Car https://kolesa.kz//a/show/167990773 data written.\n",
      "Car https://kolesa.kz//a/show/168461947 data written.\n",
      "Car https://kolesa.kz//a/show/168258099 data written.\n",
      "Car https://kolesa.kz//a/show/152192657 data written.\n",
      "Car https://kolesa.kz//a/show/168246943 data written.\n",
      "Car https://kolesa.kz//a/show/168379728 data written.\n",
      "Car https://kolesa.kz//a/show/168246324 data written.\n",
      "Car https://kolesa.kz//a/show/164450888 data written.\n",
      "Car https://kolesa.kz//a/show/168244215 data written.\n",
      "Car https://kolesa.kz//a/show/168223462 data written.\n",
      "Car https://kolesa.kz//a/show/168196032 data written.\n",
      "Car https://kolesa.kz//a/show/168653344 data written.\n",
      "Car https://kolesa.kz//a/show/168155780 data written.\n",
      "Car https://kolesa.kz//a/show/168650191 data written.\n",
      "Car https://kolesa.kz//a/show/168201194 data written.\n",
      "Car https://kolesa.kz//a/show/168864699 data written.\n",
      "Car https://kolesa.kz//a/show/168860256 data written.\n",
      "Car https://kolesa.kz//a/show/168637161 data written.\n"
     ]
    },
    {
     "name": "stderr",
     "output_type": "stream",
     "text": [
      " 68%|██████▊   | 272/400 [5:21:59<2:47:29, 78.51s/it]"
     ]
    },
    {
     "name": "stdout",
     "output_type": "stream",
     "text": [
      "Car https://kolesa.kz//a/show/168187090 data written.\n",
      "23\n",
      "iteration 273, finish\n",
      "Car https://kolesa.kz//a/show/168555189 data written.\n",
      "Car https://kolesa.kz//a/show/168747407 data written.\n",
      "Car https://kolesa.kz//a/show/168588116 data written.\n",
      "Car https://kolesa.kz//a/show/168864699 data written.\n",
      "Car https://kolesa.kz//a/show/168860256 data written.\n",
      "Car https://kolesa.kz//a/show/168637161 data written.\n",
      "Car https://kolesa.kz//a/show/168187090 data written.\n",
      "Car https://kolesa.kz//a/show/168234109 data written.\n",
      "Car https://kolesa.kz//a/show/168185839 data written.\n",
      "Car https://kolesa.kz//a/show/168629338 data written.\n",
      "Car https://kolesa.kz//a/show/168861379 data written.\n",
      "Car https://kolesa.kz//a/show/168176952 data written.\n",
      "Car https://kolesa.kz//a/show/168861316 data written.\n",
      "Car https://kolesa.kz//a/show/168176602 data written.\n",
      "Car https://kolesa.kz//a/show/168859391 data written.\n",
      "Car https://kolesa.kz//a/show/168700979 data written.\n",
      "Car https://kolesa.kz//a/show/168004331 data written.\n",
      "Car https://kolesa.kz//a/show/168859152 data written.\n",
      "Car https://kolesa.kz//a/show/168858549 data written.\n",
      "Car https://kolesa.kz//a/show/166205034 data written.\n",
      "Car https://kolesa.kz//a/show/168799382 data written.\n",
      "Car https://kolesa.kz//a/show/168166877 data written.\n"
     ]
    },
    {
     "name": "stderr",
     "output_type": "stream",
     "text": [
      " 68%|██████▊   | 273/400 [5:23:17<2:45:46, 78.32s/it]"
     ]
    },
    {
     "name": "stdout",
     "output_type": "stream",
     "text": [
      "Car https://kolesa.kz//a/show/168855859 data written.\n",
      "23\n",
      "iteration 274, finish\n",
      "Car https://kolesa.kz//a/show/168756278 data written.\n",
      "Car https://kolesa.kz//a/show/168368932 data written.\n",
      "Car https://kolesa.kz//a/show/160058810 data written.\n",
      "Car https://kolesa.kz//a/show/168187090 data written.\n",
      "Car https://kolesa.kz//a/show/168234109 data written.\n",
      "Car https://kolesa.kz//a/show/168185839 data written.\n",
      "Car https://kolesa.kz//a/show/168629338 data written.\n",
      "Car https://kolesa.kz//a/show/168861379 data written.\n",
      "Car https://kolesa.kz//a/show/168176952 data written.\n",
      "Car https://kolesa.kz//a/show/168861316 data written.\n",
      "Car https://kolesa.kz//a/show/168176602 data written.\n",
      "Car https://kolesa.kz//a/show/168859391 data written.\n",
      "Car https://kolesa.kz//a/show/168700979 data written.\n",
      "Car https://kolesa.kz//a/show/168004331 data written.\n",
      "Car https://kolesa.kz//a/show/168859152 data written.\n",
      "Car https://kolesa.kz//a/show/168858549 data written.\n",
      "Car https://kolesa.kz//a/show/166205034 data written.\n",
      "Car https://kolesa.kz//a/show/168799382 data written.\n",
      "Car https://kolesa.kz//a/show/168166877 data written.\n",
      "Car https://kolesa.kz//a/show/168855859 data written.\n",
      "Car https://kolesa.kz//a/show/166205950 data written.\n",
      "Car https://kolesa.kz//a/show/158391382 data written.\n"
     ]
    },
    {
     "name": "stderr",
     "output_type": "stream",
     "text": [
      " 68%|██████▊   | 274/400 [5:24:38<2:45:51, 78.98s/it]"
     ]
    },
    {
     "name": "stdout",
     "output_type": "stream",
     "text": [
      "Car https://kolesa.kz//a/show/168115741 data written.\n",
      "23\n",
      "iteration 275, finish\n",
      "Car https://kolesa.kz//a/show/168115826 data written.\n",
      "Car https://kolesa.kz//a/show/168799746 data written.\n",
      "Car https://kolesa.kz//a/show/165295465 data written.\n",
      "Car https://kolesa.kz//a/show/158391382 data written.\n",
      "Car https://kolesa.kz//a/show/168115741 data written.\n",
      "Car https://kolesa.kz//a/show/152164402 data written.\n",
      "Car https://kolesa.kz//a/show/168851878 data written.\n",
      "Car https://kolesa.kz//a/show/168852146 data written.\n",
      "Car https://kolesa.kz//a/show/168608918 data written.\n",
      "Car https://kolesa.kz//a/show/168607814 data written.\n",
      "Car https://kolesa.kz//a/show/168847670 data written.\n",
      "Car https://kolesa.kz//a/show/168599210 data written.\n",
      "Car https://kolesa.kz//a/show/168708411 data written.\n",
      "Car https://kolesa.kz//a/show/168506733 data written.\n",
      "Car https://kolesa.kz//a/show/168577738 data written.\n",
      "Car https://kolesa.kz//a/show/166189126 data written.\n",
      "Car https://kolesa.kz//a/show/168587120 data written.\n",
      "Car https://kolesa.kz//a/show/168085663 data written.\n",
      "Car https://kolesa.kz//a/show/168586661 data written.\n",
      "Car https://kolesa.kz//a/show/168084950 data written.\n",
      "Car https://kolesa.kz//a/show/168083223 data written.\n",
      "Car https://kolesa.kz//a/show/168581897 data written.\n"
     ]
    },
    {
     "name": "stderr",
     "output_type": "stream",
     "text": [
      " 69%|██████▉   | 275/400 [5:25:57<2:44:32, 78.98s/it]"
     ]
    },
    {
     "name": "stdout",
     "output_type": "stream",
     "text": [
      "Car https://kolesa.kz//a/show/168665495 data written.\n",
      "23\n",
      "iteration 276, finish\n",
      "Car https://kolesa.kz//a/show/163381130 data written.\n",
      "Car https://kolesa.kz//a/show/168858537 data written.\n",
      "Car https://kolesa.kz//a/show/168685268 data written.\n",
      "Car https://kolesa.kz//a/show/168084950 data written.\n",
      "Car https://kolesa.kz//a/show/168083223 data written.\n",
      "Car https://kolesa.kz//a/show/168581897 data written.\n",
      "Car https://kolesa.kz//a/show/168665495 data written.\n",
      "Car https://kolesa.kz//a/show/168072257 data written.\n",
      "Car https://kolesa.kz//a/show/168841414 data written.\n",
      "Car https://kolesa.kz//a/show/168061560 data written.\n",
      "Car https://kolesa.kz//a/show/168840366 data written.\n",
      "Car https://kolesa.kz//a/show/165269493 data written.\n",
      "Car https://kolesa.kz//a/show/168569456 data written.\n",
      "Car https://kolesa.kz//a/show/168569078 data written.\n",
      "Car https://kolesa.kz//a/show/164687002 data written.\n",
      "Car https://kolesa.kz//a/show/167622344 data written.\n",
      "Car https://kolesa.kz//a/show/165875344 data written.\n",
      "Car https://kolesa.kz//a/show/167915063 data written.\n",
      "Car https://kolesa.kz//a/show/168465954 data written.\n",
      "Car https://kolesa.kz//a/show/168631059 data written.\n",
      "Car https://kolesa.kz//a/show/168564972 data written.\n",
      "Car https://kolesa.kz//a/show/168688159 data written.\n"
     ]
    },
    {
     "name": "stderr",
     "output_type": "stream",
     "text": [
      " 69%|██████▉   | 276/400 [5:27:14<2:42:17, 78.52s/it]"
     ]
    },
    {
     "name": "stdout",
     "output_type": "stream",
     "text": [
      "Car https://kolesa.kz//a/show/167463103 data written.\n",
      "23\n",
      "iteration 277, finish\n",
      "Car https://kolesa.kz//a/show/168593304 data written.\n",
      "Car https://kolesa.kz//a/show/167423242 data written.\n",
      "Car https://kolesa.kz//a/show/167385160 data written.\n",
      "Car https://kolesa.kz//a/show/168564972 data written.\n",
      "Car https://kolesa.kz//a/show/168688159 data written.\n",
      "Car https://kolesa.kz//a/show/167463103 data written.\n",
      "Car https://kolesa.kz//a/show/168831697 data written.\n",
      "Car https://kolesa.kz//a/show/167280789 data written.\n",
      "Car https://kolesa.kz//a/show/168630363 data written.\n",
      "Car https://kolesa.kz//a/show/168756061 data written.\n",
      "Car https://kolesa.kz//a/show/168643324 data written.\n",
      "Car https://kolesa.kz//a/show/166708284 data written.\n",
      "Car https://kolesa.kz//a/show/168563150 data written.\n",
      "Car https://kolesa.kz//a/show/168559374 data written.\n",
      "Car https://kolesa.kz//a/show/168426566 data written.\n",
      "Car https://kolesa.kz//a/show/168436228 data written.\n",
      "Car https://kolesa.kz//a/show/168542119 data written.\n",
      "Car https://kolesa.kz//a/show/168463542 data written.\n",
      "Car https://kolesa.kz//a/show/165229726 data written.\n",
      "Car https://kolesa.kz//a/show/168486398 data written.\n",
      "Car https://kolesa.kz//a/show/168536765 data written.\n",
      "Car https://kolesa.kz//a/show/168750179 data written.\n"
     ]
    },
    {
     "name": "stderr",
     "output_type": "stream",
     "text": [
      " 69%|██████▉   | 277/400 [5:28:33<2:40:59, 78.54s/it]"
     ]
    },
    {
     "name": "stdout",
     "output_type": "stream",
     "text": [
      "Car https://kolesa.kz//a/show/168534608 data written.\n",
      "23\n",
      "iteration 278, finish\n",
      "Car https://kolesa.kz//a/show/168805262 data written.\n",
      "Car https://kolesa.kz//a/show/168276356 data written.\n",
      "Car https://kolesa.kz//a/show/167686806 data written.\n",
      "Car https://kolesa.kz//a/show/168465954 data written.\n",
      "Car https://kolesa.kz//a/show/168631059 data written.\n",
      "Car https://kolesa.kz//a/show/168564972 data written.\n",
      "Car https://kolesa.kz//a/show/168688159 data written.\n",
      "Car https://kolesa.kz//a/show/167463103 data written.\n",
      "Car https://kolesa.kz//a/show/168831697 data written.\n",
      "Car https://kolesa.kz//a/show/167280789 data written.\n",
      "Car https://kolesa.kz//a/show/168630363 data written.\n",
      "Car https://kolesa.kz//a/show/168756061 data written.\n",
      "Car https://kolesa.kz//a/show/168643324 data written.\n",
      "Car https://kolesa.kz//a/show/166708284 data written.\n",
      "Car https://kolesa.kz//a/show/168563150 data written.\n",
      "Car https://kolesa.kz//a/show/168559374 data written.\n",
      "Car https://kolesa.kz//a/show/168426566 data written.\n",
      "Car https://kolesa.kz//a/show/168436228 data written.\n",
      "Car https://kolesa.kz//a/show/168542119 data written.\n",
      "Car https://kolesa.kz//a/show/168463542 data written.\n",
      "Car https://kolesa.kz//a/show/165229726 data written.\n",
      "Car https://kolesa.kz//a/show/168486398 data written.\n"
     ]
    },
    {
     "name": "stderr",
     "output_type": "stream",
     "text": [
      " 70%|██████▉   | 278/400 [5:29:51<2:39:45, 78.57s/it]"
     ]
    },
    {
     "name": "stdout",
     "output_type": "stream",
     "text": [
      "Car https://kolesa.kz//a/show/168536765 data written.\n",
      "23\n",
      "iteration 279, finish\n",
      "Error parsing https://kolesa.kz//a/show/153865290: Message: disconnected: Unable to receive message from renderer\n",
      "  (failed to check if window was closed: disconnected: not connected to DevTools)\n",
      "  (Session info: chrome=123.0.6312.107)\n",
      "Stacktrace:\n",
      "\tGetHandleVerifier [0x00EB4CA3+225091]\n",
      "\t(No symbol) [0x00DE4DF1]\n",
      "\t(No symbol) [0x00C89A7A]\n",
      "\t(No symbol) [0x00C7AD4C]\n",
      "\t(No symbol) [0x00C7ACF3]\n",
      "\t(No symbol) [0x00C793C3]\n",
      "\t(No symbol) [0x00C79B3D]\n",
      "\t(No symbol) [0x00C8C3F5]\n",
      "\t(No symbol) [0x00C8CA4C]\n",
      "\t(No symbol) [0x00C8FA76]\n",
      "\t(No symbol) [0x00CF65E2]\n",
      "\t(No symbol) [0x00CDF55C]\n",
      "\t(No symbol) [0x00CF5CB0]\n",
      "\t(No symbol) [0x00CDF2F6]\n",
      "\t(No symbol) [0x00CB79B9]\n",
      "\t(No symbol) [0x00CB879D]\n",
      "\tsqlite3_dbdata_init [0x01329A43+4064547]\n",
      "\tsqlite3_dbdata_init [0x0133104A+4094762]\n",
      "\tsqlite3_dbdata_init [0x0132B948+4072488]\n",
      "\tsqlite3_dbdata_init [0x0102C9A9+930953]\n",
      "\t(No symbol) [0x00DF07C4]\n",
      "\t(No symbol) [0x00DEACE8]\n",
      "\t(No symbol) [0x00DEAE11]\n",
      "\t(No symbol) [0x00DDCA80]\n",
      "\tBaseThreadInitThunk [0x7695FCC9+25]\n",
      "\tRtlGetAppContainerNamedObjectPath [0x771F7C5E+286]\n",
      "\tRtlGetAppContainerNamedObjectPath [0x771F7C2E+238]\n",
      "\n",
      "Error parsing https://kolesa.kz//a/show/168863653: Message: disconnected: not connected to DevTools\n",
      "  (failed to check if window was closed: disconnected: not connected to DevTools)\n",
      "  (Session info: chrome=123.0.6312.107)\n",
      "Stacktrace:\n",
      "\tGetHandleVerifier [0x00EB4CA3+225091]\n",
      "\t(No symbol) [0x00DE4DF1]\n",
      "\t(No symbol) [0x00C89A7A]\n",
      "\t(No symbol) [0x00C7A272]\n",
      "\t(No symbol) [0x00C79E79]\n",
      "\t(No symbol) [0x00C8B8F0]\n",
      "\t(No symbol) [0x00CF55C6]\n",
      "\t(No symbol) [0x00CDF2F6]\n",
      "\t(No symbol) [0x00CB79B9]\n",
      "\t(No symbol) [0x00CB879D]\n",
      "\tsqlite3_dbdata_init [0x01329A43+4064547]\n",
      "\tsqlite3_dbdata_init [0x0133104A+4094762]\n",
      "\tsqlite3_dbdata_init [0x0132B948+4072488]\n",
      "\tsqlite3_dbdata_init [0x0102C9A9+930953]\n",
      "\t(No symbol) [0x00DF07C4]\n",
      "\t(No symbol) [0x00DEACE8]\n",
      "\t(No symbol) [0x00DEAE11]\n",
      "\t(No symbol) [0x00DDCA80]\n",
      "\tBaseThreadInitThunk [0x7695FCC9+25]\n",
      "\tRtlGetAppContainerNamedObjectPath [0x771F7C5E+286]\n",
      "\tRtlGetAppContainerNamedObjectPath [0x771F7C2E+238]\n",
      "\n",
      "Error parsing https://kolesa.kz//a/show/168862857: Message: disconnected: not connected to DevTools\n",
      "  (failed to check if window was closed: disconnected: not connected to DevTools)\n",
      "  (Session info: chrome=123.0.6312.107)\n",
      "Stacktrace:\n",
      "\tGetHandleVerifier [0x00EB4CA3+225091]\n",
      "\t(No symbol) [0x00DE4DF1]\n",
      "\t(No symbol) [0x00C89A7A]\n",
      "\t(No symbol) [0x00C7A272]\n",
      "\t(No symbol) [0x00C79E79]\n",
      "\t(No symbol) [0x00C8B8F0]\n",
      "\t(No symbol) [0x00CF55C6]\n",
      "\t(No symbol) [0x00CDF2F6]\n",
      "\t(No symbol) [0x00CB79B9]\n",
      "\t(No symbol) [0x00CB879D]\n",
      "\tsqlite3_dbdata_init [0x01329A43+4064547]\n",
      "\tsqlite3_dbdata_init [0x0133104A+4094762]\n",
      "\tsqlite3_dbdata_init [0x0132B948+4072488]\n",
      "\tsqlite3_dbdata_init [0x0102C9A9+930953]\n",
      "\t(No symbol) [0x00DF07C4]\n",
      "\t(No symbol) [0x00DEACE8]\n",
      "\t(No symbol) [0x00DEAE11]\n",
      "\t(No symbol) [0x00DDCA80]\n",
      "\tBaseThreadInitThunk [0x7695FCC9+25]\n",
      "\tRtlGetAppContainerNamedObjectPath [0x771F7C5E+286]\n",
      "\tRtlGetAppContainerNamedObjectPath [0x771F7C2E+238]\n",
      "\n",
      "Error parsing https://kolesa.kz//a/show/165944178: Message: disconnected: not connected to DevTools\n",
      "  (failed to check if window was closed: disconnected: not connected to DevTools)\n",
      "  (Session info: chrome=123.0.6312.107)\n",
      "Stacktrace:\n",
      "\tGetHandleVerifier [0x00EB4CA3+225091]\n",
      "\t(No symbol) [0x00DE4DF1]\n",
      "\t(No symbol) [0x00C89A7A]\n",
      "\t(No symbol) [0x00C7A272]\n",
      "\t(No symbol) [0x00C79E79]\n",
      "\t(No symbol) [0x00C8B8F0]\n",
      "\t(No symbol) [0x00CF55C6]\n",
      "\t(No symbol) [0x00CDF2F6]\n",
      "\t(No symbol) [0x00CB79B9]\n",
      "\t(No symbol) [0x00CB879D]\n",
      "\tsqlite3_dbdata_init [0x01329A43+4064547]\n",
      "\tsqlite3_dbdata_init [0x0133104A+4094762]\n",
      "\tsqlite3_dbdata_init [0x0132B948+4072488]\n",
      "\tsqlite3_dbdata_init [0x0102C9A9+930953]\n",
      "\t(No symbol) [0x00DF07C4]\n",
      "\t(No symbol) [0x00DEACE8]\n",
      "\t(No symbol) [0x00DEAE11]\n",
      "\t(No symbol) [0x00DDCA80]\n",
      "\tBaseThreadInitThunk [0x7695FCC9+25]\n",
      "\tRtlGetAppContainerNamedObjectPath [0x771F7C5E+286]\n",
      "\tRtlGetAppContainerNamedObjectPath [0x771F7C2E+238]\n",
      "\n",
      "Error parsing https://kolesa.kz//a/show/168862794: Message: disconnected: not connected to DevTools\n",
      "  (failed to check if window was closed: disconnected: not connected to DevTools)\n",
      "  (Session info: chrome=123.0.6312.107)\n",
      "Stacktrace:\n",
      "\tGetHandleVerifier [0x00EB4CA3+225091]\n",
      "\t(No symbol) [0x00DE4DF1]\n",
      "\t(No symbol) [0x00C89A7A]\n",
      "\t(No symbol) [0x00C7A272]\n",
      "\t(No symbol) [0x00C79E79]\n",
      "\t(No symbol) [0x00C8B8F0]\n",
      "\t(No symbol) [0x00CF55C6]\n",
      "\t(No symbol) [0x00CDF2F6]\n",
      "\t(No symbol) [0x00CB79B9]\n",
      "\t(No symbol) [0x00CB879D]\n",
      "\tsqlite3_dbdata_init [0x01329A43+4064547]\n",
      "\tsqlite3_dbdata_init [0x0133104A+4094762]\n",
      "\tsqlite3_dbdata_init [0x0132B948+4072488]\n",
      "\tsqlite3_dbdata_init [0x0102C9A9+930953]\n",
      "\t(No symbol) [0x00DF07C4]\n",
      "\t(No symbol) [0x00DEACE8]\n",
      "\t(No symbol) [0x00DEAE11]\n",
      "\t(No symbol) [0x00DDCA80]\n",
      "\tBaseThreadInitThunk [0x7695FCC9+25]\n",
      "\tRtlGetAppContainerNamedObjectPath [0x771F7C5E+286]\n",
      "\tRtlGetAppContainerNamedObjectPath [0x771F7C2E+238]\n",
      "\n",
      "Error parsing https://kolesa.kz//a/show/168712588: Message: disconnected: not connected to DevTools\n",
      "  (failed to check if window was closed: disconnected: not connected to DevTools)\n",
      "  (Session info: chrome=123.0.6312.107)\n",
      "Stacktrace:\n",
      "\tGetHandleVerifier [0x00EB4CA3+225091]\n",
      "\t(No symbol) [0x00DE4DF1]\n",
      "\t(No symbol) [0x00C89A7A]\n",
      "\t(No symbol) [0x00C7A272]\n",
      "\t(No symbol) [0x00C79E79]\n",
      "\t(No symbol) [0x00C8B8F0]\n",
      "\t(No symbol) [0x00CF55C6]\n",
      "\t(No symbol) [0x00CDF2F6]\n",
      "\t(No symbol) [0x00CB79B9]\n",
      "\t(No symbol) [0x00CB879D]\n",
      "\tsqlite3_dbdata_init [0x01329A43+4064547]\n",
      "\tsqlite3_dbdata_init [0x0133104A+4094762]\n",
      "\tsqlite3_dbdata_init [0x0132B948+4072488]\n",
      "\tsqlite3_dbdata_init [0x0102C9A9+930953]\n",
      "\t(No symbol) [0x00DF07C4]\n",
      "\t(No symbol) [0x00DEACE8]\n",
      "\t(No symbol) [0x00DEAE11]\n",
      "\t(No symbol) [0x00DDCA80]\n",
      "\tBaseThreadInitThunk [0x7695FCC9+25]\n",
      "\tRtlGetAppContainerNamedObjectPath [0x771F7C5E+286]\n",
      "\tRtlGetAppContainerNamedObjectPath [0x771F7C2E+238]\n",
      "\n",
      "Error parsing https://kolesa.kz//a/show/168828420: Message: disconnected: not connected to DevTools\n",
      "  (failed to check if window was closed: disconnected: not connected to DevTools)\n",
      "  (Session info: chrome=123.0.6312.107)\n",
      "Stacktrace:\n",
      "\tGetHandleVerifier [0x00EB4CA3+225091]\n",
      "\t(No symbol) [0x00DE4DF1]\n",
      "\t(No symbol) [0x00C89A7A]\n",
      "\t(No symbol) [0x00C7A272]\n",
      "\t(No symbol) [0x00C79E79]\n",
      "\t(No symbol) [0x00C8B8F0]\n",
      "\t(No symbol) [0x00CF55C6]\n",
      "\t(No symbol) [0x00CDF2F6]\n",
      "\t(No symbol) [0x00CB79B9]\n",
      "\t(No symbol) [0x00CB879D]\n",
      "\tsqlite3_dbdata_init [0x01329A43+4064547]\n",
      "\tsqlite3_dbdata_init [0x0133104A+4094762]\n",
      "\tsqlite3_dbdata_init [0x0132B948+4072488]\n",
      "\tsqlite3_dbdata_init [0x0102C9A9+930953]\n",
      "\t(No symbol) [0x00DF07C4]\n",
      "\t(No symbol) [0x00DEACE8]\n",
      "\t(No symbol) [0x00DEAE11]\n",
      "\t(No symbol) [0x00DDCA80]\n",
      "\tBaseThreadInitThunk [0x7695FCC9+25]\n",
      "\tRtlGetAppContainerNamedObjectPath [0x771F7C5E+286]\n",
      "\tRtlGetAppContainerNamedObjectPath [0x771F7C2E+238]\n",
      "\n",
      "Error parsing https://kolesa.kz//a/show/157711724: Message: disconnected: not connected to DevTools\n",
      "  (failed to check if window was closed: disconnected: not connected to DevTools)\n",
      "  (Session info: chrome=123.0.6312.107)\n",
      "Stacktrace:\n",
      "\tGetHandleVerifier [0x00EB4CA3+225091]\n",
      "\t(No symbol) [0x00DE4DF1]\n",
      "\t(No symbol) [0x00C89A7A]\n",
      "\t(No symbol) [0x00C7A272]\n",
      "\t(No symbol) [0x00C79E79]\n",
      "\t(No symbol) [0x00C8B8F0]\n",
      "\t(No symbol) [0x00CF55C6]\n",
      "\t(No symbol) [0x00CDF2F6]\n",
      "\t(No symbol) [0x00CB79B9]\n",
      "\t(No symbol) [0x00CB879D]\n",
      "\tsqlite3_dbdata_init [0x01329A43+4064547]\n",
      "\tsqlite3_dbdata_init [0x0133104A+4094762]\n",
      "\tsqlite3_dbdata_init [0x0132B948+4072488]\n",
      "\tsqlite3_dbdata_init [0x0102C9A9+930953]\n",
      "\t(No symbol) [0x00DF07C4]\n",
      "\t(No symbol) [0x00DEACE8]\n",
      "\t(No symbol) [0x00DEAE11]\n",
      "\t(No symbol) [0x00DDCA80]\n",
      "\tBaseThreadInitThunk [0x7695FCC9+25]\n",
      "\tRtlGetAppContainerNamedObjectPath [0x771F7C5E+286]\n",
      "\tRtlGetAppContainerNamedObjectPath [0x771F7C2E+238]\n",
      "\n",
      "Error parsing https://kolesa.kz//a/show/168542119: Message: disconnected: not connected to DevTools\n",
      "  (failed to check if window was closed: disconnected: not connected to DevTools)\n",
      "  (Session info: chrome=123.0.6312.107)\n",
      "Stacktrace:\n",
      "\tGetHandleVerifier [0x00EB4CA3+225091]\n",
      "\t(No symbol) [0x00DE4DF1]\n",
      "\t(No symbol) [0x00C89A7A]\n",
      "\t(No symbol) [0x00C7A272]\n",
      "\t(No symbol) [0x00C79E79]\n",
      "\t(No symbol) [0x00C8B8F0]\n",
      "\t(No symbol) [0x00CF55C6]\n",
      "\t(No symbol) [0x00CDF2F6]\n",
      "\t(No symbol) [0x00CB79B9]\n",
      "\t(No symbol) [0x00CB879D]\n",
      "\tsqlite3_dbdata_init [0x01329A43+4064547]\n",
      "\tsqlite3_dbdata_init [0x0133104A+4094762]\n",
      "\tsqlite3_dbdata_init [0x0132B948+4072488]\n",
      "\tsqlite3_dbdata_init [0x0102C9A9+930953]\n",
      "\t(No symbol) [0x00DF07C4]\n",
      "\t(No symbol) [0x00DEACE8]\n",
      "\t(No symbol) [0x00DEAE11]\n",
      "\t(No symbol) [0x00DDCA80]\n",
      "\tBaseThreadInitThunk [0x7695FCC9+25]\n",
      "\tRtlGetAppContainerNamedObjectPath [0x771F7C5E+286]\n",
      "\tRtlGetAppContainerNamedObjectPath [0x771F7C2E+238]\n",
      "\n",
      "Error parsing https://kolesa.kz//a/show/168463542: Message: disconnected: not connected to DevTools\n",
      "  (failed to check if window was closed: disconnected: not connected to DevTools)\n",
      "  (Session info: chrome=123.0.6312.107)\n",
      "Stacktrace:\n",
      "\tGetHandleVerifier [0x00EB4CA3+225091]\n",
      "\t(No symbol) [0x00DE4DF1]\n",
      "\t(No symbol) [0x00C89A7A]\n",
      "\t(No symbol) [0x00C7A272]\n",
      "\t(No symbol) [0x00C79E79]\n",
      "\t(No symbol) [0x00C8B8F0]\n",
      "\t(No symbol) [0x00CF55C6]\n",
      "\t(No symbol) [0x00CDF2F6]\n",
      "\t(No symbol) [0x00CB79B9]\n",
      "\t(No symbol) [0x00CB879D]\n",
      "\tsqlite3_dbdata_init [0x01329A43+4064547]\n",
      "\tsqlite3_dbdata_init [0x0133104A+4094762]\n",
      "\tsqlite3_dbdata_init [0x0132B948+4072488]\n",
      "\tsqlite3_dbdata_init [0x0102C9A9+930953]\n",
      "\t(No symbol) [0x00DF07C4]\n",
      "\t(No symbol) [0x00DEACE8]\n",
      "\t(No symbol) [0x00DEAE11]\n",
      "\t(No symbol) [0x00DDCA80]\n",
      "\tBaseThreadInitThunk [0x7695FCC9+25]\n",
      "\tRtlGetAppContainerNamedObjectPath [0x771F7C5E+286]\n",
      "\tRtlGetAppContainerNamedObjectPath [0x771F7C2E+238]\n",
      "\n",
      "Error parsing https://kolesa.kz//a/show/165229726: Message: disconnected: not connected to DevTools\n",
      "  (failed to check if window was closed: disconnected: not connected to DevTools)\n",
      "  (Session info: chrome=123.0.6312.107)\n",
      "Stacktrace:\n",
      "\tGetHandleVerifier [0x00EB4CA3+225091]\n",
      "\t(No symbol) [0x00DE4DF1]\n",
      "\t(No symbol) [0x00C89A7A]\n",
      "\t(No symbol) [0x00C7A272]\n",
      "\t(No symbol) [0x00C79E79]\n",
      "\t(No symbol) [0x00C8B8F0]\n",
      "\t(No symbol) [0x00CF55C6]\n",
      "\t(No symbol) [0x00CDF2F6]\n",
      "\t(No symbol) [0x00CB79B9]\n",
      "\t(No symbol) [0x00CB879D]\n",
      "\tsqlite3_dbdata_init [0x01329A43+4064547]\n",
      "\tsqlite3_dbdata_init [0x0133104A+4094762]\n",
      "\tsqlite3_dbdata_init [0x0132B948+4072488]\n",
      "\tsqlite3_dbdata_init [0x0102C9A9+930953]\n",
      "\t(No symbol) [0x00DF07C4]\n",
      "\t(No symbol) [0x00DEACE8]\n",
      "\t(No symbol) [0x00DEAE11]\n",
      "\t(No symbol) [0x00DDCA80]\n",
      "\tBaseThreadInitThunk [0x7695FCC9+25]\n",
      "\tRtlGetAppContainerNamedObjectPath [0x771F7C5E+286]\n",
      "\tRtlGetAppContainerNamedObjectPath [0x771F7C2E+238]\n",
      "\n",
      "Error parsing https://kolesa.kz//a/show/168486398: Message: disconnected: not connected to DevTools\n",
      "  (failed to check if window was closed: disconnected: not connected to DevTools)\n",
      "  (Session info: chrome=123.0.6312.107)\n",
      "Stacktrace:\n",
      "\tGetHandleVerifier [0x00EB4CA3+225091]\n",
      "\t(No symbol) [0x00DE4DF1]\n",
      "\t(No symbol) [0x00C89A7A]\n",
      "\t(No symbol) [0x00C7A272]\n",
      "\t(No symbol) [0x00C79E79]\n",
      "\t(No symbol) [0x00C8B8F0]\n",
      "\t(No symbol) [0x00CF55C6]\n",
      "\t(No symbol) [0x00CDF2F6]\n",
      "\t(No symbol) [0x00CB79B9]\n",
      "\t(No symbol) [0x00CB879D]\n",
      "\tsqlite3_dbdata_init [0x01329A43+4064547]\n",
      "\tsqlite3_dbdata_init [0x0133104A+4094762]\n",
      "\tsqlite3_dbdata_init [0x0132B948+4072488]\n",
      "\tsqlite3_dbdata_init [0x0102C9A9+930953]\n",
      "\t(No symbol) [0x00DF07C4]\n",
      "\t(No symbol) [0x00DEACE8]\n",
      "\t(No symbol) [0x00DEAE11]\n",
      "\t(No symbol) [0x00DDCA80]\n",
      "\tBaseThreadInitThunk [0x7695FCC9+25]\n",
      "\tRtlGetAppContainerNamedObjectPath [0x771F7C5E+286]\n",
      "\tRtlGetAppContainerNamedObjectPath [0x771F7C2E+238]\n",
      "\n",
      "Error parsing https://kolesa.kz//a/show/168536765: Message: disconnected: not connected to DevTools\n",
      "  (failed to check if window was closed: disconnected: not connected to DevTools)\n",
      "  (Session info: chrome=123.0.6312.107)\n",
      "Stacktrace:\n",
      "\tGetHandleVerifier [0x00EB4CA3+225091]\n",
      "\t(No symbol) [0x00DE4DF1]\n",
      "\t(No symbol) [0x00C89A7A]\n",
      "\t(No symbol) [0x00C7A272]\n",
      "\t(No symbol) [0x00C79E79]\n",
      "\t(No symbol) [0x00C8B8F0]\n",
      "\t(No symbol) [0x00CF55C6]\n",
      "\t(No symbol) [0x00CDF2F6]\n",
      "\t(No symbol) [0x00CB79B9]\n",
      "\t(No symbol) [0x00CB879D]\n",
      "\tsqlite3_dbdata_init [0x01329A43+4064547]\n",
      "\tsqlite3_dbdata_init [0x0133104A+4094762]\n",
      "\tsqlite3_dbdata_init [0x0132B948+4072488]\n",
      "\tsqlite3_dbdata_init [0x0102C9A9+930953]\n",
      "\t(No symbol) [0x00DF07C4]\n",
      "\t(No symbol) [0x00DEACE8]\n",
      "\t(No symbol) [0x00DEAE11]\n",
      "\t(No symbol) [0x00DDCA80]\n",
      "\tBaseThreadInitThunk [0x7695FCC9+25]\n",
      "\tRtlGetAppContainerNamedObjectPath [0x771F7C5E+286]\n",
      "\tRtlGetAppContainerNamedObjectPath [0x771F7C2E+238]\n",
      "\n",
      "Error parsing https://kolesa.kz//a/show/168750179: Message: disconnected: not connected to DevTools\n",
      "  (failed to check if window was closed: disconnected: not connected to DevTools)\n",
      "  (Session info: chrome=123.0.6312.107)\n",
      "Stacktrace:\n",
      "\tGetHandleVerifier [0x00EB4CA3+225091]\n",
      "\t(No symbol) [0x00DE4DF1]\n",
      "\t(No symbol) [0x00C89A7A]\n",
      "\t(No symbol) [0x00C7A272]\n",
      "\t(No symbol) [0x00C79E79]\n",
      "\t(No symbol) [0x00C8B8F0]\n",
      "\t(No symbol) [0x00CF55C6]\n",
      "\t(No symbol) [0x00CDF2F6]\n",
      "\t(No symbol) [0x00CB79B9]\n",
      "\t(No symbol) [0x00CB879D]\n",
      "\tsqlite3_dbdata_init [0x01329A43+4064547]\n",
      "\tsqlite3_dbdata_init [0x0133104A+4094762]\n",
      "\tsqlite3_dbdata_init [0x0132B948+4072488]\n",
      "\tsqlite3_dbdata_init [0x0102C9A9+930953]\n",
      "\t(No symbol) [0x00DF07C4]\n",
      "\t(No symbol) [0x00DEACE8]\n",
      "\t(No symbol) [0x00DEAE11]\n",
      "\t(No symbol) [0x00DDCA80]\n",
      "\tBaseThreadInitThunk [0x7695FCC9+25]\n",
      "\tRtlGetAppContainerNamedObjectPath [0x771F7C5E+286]\n",
      "\tRtlGetAppContainerNamedObjectPath [0x771F7C2E+238]\n",
      "\n",
      "Error parsing https://kolesa.kz//a/show/168534608: Message: disconnected: not connected to DevTools\n",
      "  (failed to check if window was closed: disconnected: not connected to DevTools)\n",
      "  (Session info: chrome=123.0.6312.107)\n",
      "Stacktrace:\n",
      "\tGetHandleVerifier [0x00EB4CA3+225091]\n",
      "\t(No symbol) [0x00DE4DF1]\n",
      "\t(No symbol) [0x00C89A7A]\n",
      "\t(No symbol) [0x00C7A272]\n",
      "\t(No symbol) [0x00C79E79]\n",
      "\t(No symbol) [0x00C8B8F0]\n",
      "\t(No symbol) [0x00CF55C6]\n",
      "\t(No symbol) [0x00CDF2F6]\n",
      "\t(No symbol) [0x00CB79B9]\n",
      "\t(No symbol) [0x00CB879D]\n",
      "\tsqlite3_dbdata_init [0x01329A43+4064547]\n",
      "\tsqlite3_dbdata_init [0x0133104A+4094762]\n",
      "\tsqlite3_dbdata_init [0x0132B948+4072488]\n",
      "\tsqlite3_dbdata_init [0x0102C9A9+930953]\n",
      "\t(No symbol) [0x00DF07C4]\n",
      "\t(No symbol) [0x00DEACE8]\n",
      "\t(No symbol) [0x00DEAE11]\n",
      "\t(No symbol) [0x00DDCA80]\n",
      "\tBaseThreadInitThunk [0x7695FCC9+25]\n",
      "\tRtlGetAppContainerNamedObjectPath [0x771F7C5E+286]\n",
      "\tRtlGetAppContainerNamedObjectPath [0x771F7C2E+238]\n",
      "\n",
      "Error parsing https://kolesa.kz//a/show/168746745: Message: disconnected: not connected to DevTools\n",
      "  (failed to check if window was closed: disconnected: not connected to DevTools)\n",
      "  (Session info: chrome=123.0.6312.107)\n",
      "Stacktrace:\n",
      "\tGetHandleVerifier [0x00EB4CA3+225091]\n",
      "\t(No symbol) [0x00DE4DF1]\n",
      "\t(No symbol) [0x00C89A7A]\n",
      "\t(No symbol) [0x00C7A272]\n",
      "\t(No symbol) [0x00C79E79]\n",
      "\t(No symbol) [0x00C8B8F0]\n",
      "\t(No symbol) [0x00CF55C6]\n",
      "\t(No symbol) [0x00CDF2F6]\n",
      "\t(No symbol) [0x00CB79B9]\n",
      "\t(No symbol) [0x00CB879D]\n",
      "\tsqlite3_dbdata_init [0x01329A43+4064547]\n",
      "\tsqlite3_dbdata_init [0x0133104A+4094762]\n",
      "\tsqlite3_dbdata_init [0x0132B948+4072488]\n",
      "\tsqlite3_dbdata_init [0x0102C9A9+930953]\n",
      "\t(No symbol) [0x00DF07C4]\n",
      "\t(No symbol) [0x00DEACE8]\n",
      "\t(No symbol) [0x00DEAE11]\n",
      "\t(No symbol) [0x00DDCA80]\n",
      "\tBaseThreadInitThunk [0x7695FCC9+25]\n",
      "\tRtlGetAppContainerNamedObjectPath [0x771F7C5E+286]\n",
      "\tRtlGetAppContainerNamedObjectPath [0x771F7C2E+238]\n",
      "\n",
      "Error parsing https://kolesa.kz//a/show/168740806: Message: disconnected: not connected to DevTools\n",
      "  (failed to check if window was closed: disconnected: not connected to DevTools)\n",
      "  (Session info: chrome=123.0.6312.107)\n",
      "Stacktrace:\n",
      "\tGetHandleVerifier [0x00EB4CA3+225091]\n",
      "\t(No symbol) [0x00DE4DF1]\n",
      "\t(No symbol) [0x00C89A7A]\n",
      "\t(No symbol) [0x00C7A272]\n",
      "\t(No symbol) [0x00C79E79]\n",
      "\t(No symbol) [0x00C8B8F0]\n",
      "\t(No symbol) [0x00CF55C6]\n",
      "\t(No symbol) [0x00CDF2F6]\n",
      "\t(No symbol) [0x00CB79B9]\n",
      "\t(No symbol) [0x00CB879D]\n",
      "\tsqlite3_dbdata_init [0x01329A43+4064547]\n",
      "\tsqlite3_dbdata_init [0x0133104A+4094762]\n",
      "\tsqlite3_dbdata_init [0x0132B948+4072488]\n",
      "\tsqlite3_dbdata_init [0x0102C9A9+930953]\n",
      "\t(No symbol) [0x00DF07C4]\n",
      "\t(No symbol) [0x00DEACE8]\n",
      "\t(No symbol) [0x00DEAE11]\n",
      "\t(No symbol) [0x00DDCA80]\n",
      "\tBaseThreadInitThunk [0x7695FCC9+25]\n",
      "\tRtlGetAppContainerNamedObjectPath [0x771F7C5E+286]\n",
      "\tRtlGetAppContainerNamedObjectPath [0x771F7C2E+238]\n",
      "\n",
      "Error parsing https://kolesa.kz//a/show/168739814: Message: disconnected: not connected to DevTools\n",
      "  (failed to check if window was closed: disconnected: not connected to DevTools)\n",
      "  (Session info: chrome=123.0.6312.107)\n",
      "Stacktrace:\n",
      "\tGetHandleVerifier [0x00EB4CA3+225091]\n",
      "\t(No symbol) [0x00DE4DF1]\n",
      "\t(No symbol) [0x00C89A7A]\n",
      "\t(No symbol) [0x00C7A272]\n",
      "\t(No symbol) [0x00C79E79]\n",
      "\t(No symbol) [0x00C8B8F0]\n",
      "\t(No symbol) [0x00CF55C6]\n",
      "\t(No symbol) [0x00CDF2F6]\n",
      "\t(No symbol) [0x00CB79B9]\n",
      "\t(No symbol) [0x00CB879D]\n",
      "\tsqlite3_dbdata_init [0x01329A43+4064547]\n",
      "\tsqlite3_dbdata_init [0x0133104A+4094762]\n",
      "\tsqlite3_dbdata_init [0x0132B948+4072488]\n",
      "\tsqlite3_dbdata_init [0x0102C9A9+930953]\n",
      "\t(No symbol) [0x00DF07C4]\n",
      "\t(No symbol) [0x00DEACE8]\n",
      "\t(No symbol) [0x00DEAE11]\n",
      "\t(No symbol) [0x00DDCA80]\n",
      "\tBaseThreadInitThunk [0x7695FCC9+25]\n",
      "\tRtlGetAppContainerNamedObjectPath [0x771F7C5E+286]\n",
      "\tRtlGetAppContainerNamedObjectPath [0x771F7C2E+238]\n",
      "\n",
      "Error parsing https://kolesa.kz//a/show/168530429: Message: disconnected: not connected to DevTools\n",
      "  (failed to check if window was closed: disconnected: not connected to DevTools)\n",
      "  (Session info: chrome=123.0.6312.107)\n",
      "Stacktrace:\n",
      "\tGetHandleVerifier [0x00EB4CA3+225091]\n",
      "\t(No symbol) [0x00DE4DF1]\n",
      "\t(No symbol) [0x00C89A7A]\n",
      "\t(No symbol) [0x00C7A272]\n",
      "\t(No symbol) [0x00C79E79]\n",
      "\t(No symbol) [0x00C8B8F0]\n",
      "\t(No symbol) [0x00CF55C6]\n",
      "\t(No symbol) [0x00CDF2F6]\n",
      "\t(No symbol) [0x00CB79B9]\n",
      "\t(No symbol) [0x00CB879D]\n",
      "\tsqlite3_dbdata_init [0x01329A43+4064547]\n",
      "\tsqlite3_dbdata_init [0x0133104A+4094762]\n",
      "\tsqlite3_dbdata_init [0x0132B948+4072488]\n",
      "\tsqlite3_dbdata_init [0x0102C9A9+930953]\n",
      "\t(No symbol) [0x00DF07C4]\n",
      "\t(No symbol) [0x00DEACE8]\n",
      "\t(No symbol) [0x00DEAE11]\n",
      "\t(No symbol) [0x00DDCA80]\n",
      "\tBaseThreadInitThunk [0x7695FCC9+25]\n",
      "\tRtlGetAppContainerNamedObjectPath [0x771F7C5E+286]\n",
      "\tRtlGetAppContainerNamedObjectPath [0x771F7C2E+238]\n",
      "\n",
      "Error parsing https://kolesa.kz//a/show/168531260: Message: disconnected: not connected to DevTools\n",
      "  (failed to check if window was closed: disconnected: not connected to DevTools)\n",
      "  (Session info: chrome=123.0.6312.107)\n",
      "Stacktrace:\n",
      "\tGetHandleVerifier [0x00EB4CA3+225091]\n",
      "\t(No symbol) [0x00DE4DF1]\n",
      "\t(No symbol) [0x00C89A7A]\n",
      "\t(No symbol) [0x00C7A272]\n",
      "\t(No symbol) [0x00C79E79]\n",
      "\t(No symbol) [0x00C8B8F0]\n",
      "\t(No symbol) [0x00CF55C6]\n",
      "\t(No symbol) [0x00CDF2F6]\n",
      "\t(No symbol) [0x00CB79B9]\n",
      "\t(No symbol) [0x00CB879D]\n",
      "\tsqlite3_dbdata_init [0x01329A43+4064547]\n",
      "\tsqlite3_dbdata_init [0x0133104A+4094762]\n",
      "\tsqlite3_dbdata_init [0x0132B948+4072488]\n",
      "\tsqlite3_dbdata_init [0x0102C9A9+930953]\n",
      "\t(No symbol) [0x00DF07C4]\n",
      "\t(No symbol) [0x00DEACE8]\n",
      "\t(No symbol) [0x00DEAE11]\n",
      "\t(No symbol) [0x00DDCA80]\n",
      "\tBaseThreadInitThunk [0x7695FCC9+25]\n",
      "\tRtlGetAppContainerNamedObjectPath [0x771F7C5E+286]\n",
      "\tRtlGetAppContainerNamedObjectPath [0x771F7C2E+238]\n",
      "\n",
      "Error parsing https://kolesa.kz//a/show/168430747: Message: disconnected: not connected to DevTools\n",
      "  (failed to check if window was closed: disconnected: not connected to DevTools)\n",
      "  (Session info: chrome=123.0.6312.107)\n",
      "Stacktrace:\n",
      "\tGetHandleVerifier [0x00EB4CA3+225091]\n",
      "\t(No symbol) [0x00DE4DF1]\n",
      "\t(No symbol) [0x00C89A7A]\n",
      "\t(No symbol) [0x00C7A272]\n",
      "\t(No symbol) [0x00C79E79]\n",
      "\t(No symbol) [0x00C8B8F0]\n",
      "\t(No symbol) [0x00CF55C6]\n",
      "\t(No symbol) [0x00CDF2F6]\n",
      "\t(No symbol) [0x00CB79B9]\n",
      "\t(No symbol) [0x00CB879D]\n",
      "\tsqlite3_dbdata_init [0x01329A43+4064547]\n",
      "\tsqlite3_dbdata_init [0x0133104A+4094762]\n",
      "\tsqlite3_dbdata_init [0x0132B948+4072488]\n",
      "\tsqlite3_dbdata_init [0x0102C9A9+930953]\n",
      "\t(No symbol) [0x00DF07C4]\n",
      "\t(No symbol) [0x00DEACE8]\n",
      "\t(No symbol) [0x00DEAE11]\n",
      "\t(No symbol) [0x00DDCA80]\n",
      "\tBaseThreadInitThunk [0x7695FCC9+25]\n",
      "\tRtlGetAppContainerNamedObjectPath [0x771F7C5E+286]\n",
      "\tRtlGetAppContainerNamedObjectPath [0x771F7C2E+238]\n",
      "\n",
      "Error parsing https://kolesa.kz//a/show/168734237: Message: disconnected: not connected to DevTools\n",
      "  (failed to check if window was closed: disconnected: not connected to DevTools)\n",
      "  (Session info: chrome=123.0.6312.107)\n",
      "Stacktrace:\n",
      "\tGetHandleVerifier [0x00EB4CA3+225091]\n",
      "\t(No symbol) [0x00DE4DF1]\n",
      "\t(No symbol) [0x00C89A7A]\n",
      "\t(No symbol) [0x00C7A272]\n",
      "\t(No symbol) [0x00C79E79]\n",
      "\t(No symbol) [0x00C8B8F0]\n",
      "\t(No symbol) [0x00CF55C6]\n",
      "\t(No symbol) [0x00CDF2F6]\n",
      "\t(No symbol) [0x00CB79B9]\n",
      "\t(No symbol) [0x00CB879D]\n",
      "\tsqlite3_dbdata_init [0x01329A43+4064547]\n",
      "\tsqlite3_dbdata_init [0x0133104A+4094762]\n",
      "\tsqlite3_dbdata_init [0x0132B948+4072488]\n",
      "\tsqlite3_dbdata_init [0x0102C9A9+930953]\n",
      "\t(No symbol) [0x00DF07C4]\n",
      "\t(No symbol) [0x00DEACE8]\n",
      "\t(No symbol) [0x00DEAE11]\n",
      "\t(No symbol) [0x00DDCA80]\n",
      "\tBaseThreadInitThunk [0x7695FCC9+25]\n",
      "\tRtlGetAppContainerNamedObjectPath [0x771F7C5E+286]\n",
      "\tRtlGetAppContainerNamedObjectPath [0x771F7C2E+238]\n",
      "\n"
     ]
    },
    {
     "name": "stderr",
     "output_type": "stream",
     "text": [
      " 70%|██████▉   | 279/400 [10:15:39<4:27:00, 132.40s/it]   "
     ]
    },
    {
     "name": "stdout",
     "output_type": "stream",
     "text": [
      "Error parsing https://kolesa.kz//a/show/168525860: Message: disconnected: not connected to DevTools\n",
      "  (failed to check if window was closed: disconnected: not connected to DevTools)\n",
      "  (Session info: chrome=123.0.6312.107)\n",
      "Stacktrace:\n",
      "\tGetHandleVerifier [0x00EB4CA3+225091]\n",
      "\t(No symbol) [0x00DE4DF1]\n",
      "\t(No symbol) [0x00C89A7A]\n",
      "\t(No symbol) [0x00C7A272]\n",
      "\t(No symbol) [0x00C79E79]\n",
      "\t(No symbol) [0x00C8B8F0]\n",
      "\t(No symbol) [0x00CF55C6]\n",
      "\t(No symbol) [0x00CDF2F6]\n",
      "\t(No symbol) [0x00CB79B9]\n",
      "\t(No symbol) [0x00CB879D]\n",
      "\tsqlite3_dbdata_init [0x01329A43+4064547]\n",
      "\tsqlite3_dbdata_init [0x0133104A+4094762]\n",
      "\tsqlite3_dbdata_init [0x0132B948+4072488]\n",
      "\tsqlite3_dbdata_init [0x0102C9A9+930953]\n",
      "\t(No symbol) [0x00DF07C4]\n",
      "\t(No symbol) [0x00DEACE8]\n",
      "\t(No symbol) [0x00DEAE11]\n",
      "\t(No symbol) [0x00DDCA80]\n",
      "\tBaseThreadInitThunk [0x7695FCC9+25]\n",
      "\tRtlGetAppContainerNamedObjectPath [0x771F7C5E+286]\n",
      "\tRtlGetAppContainerNamedObjectPath [0x771F7C2E+238]\n",
      "\n",
      "Error occurred: Message: disconnected: not connected to DevTools\n",
      "  (failed to check if window was closed: disconnected: not connected to DevTools)\n",
      "  (Session info: chrome=123.0.6312.107)\n",
      "Stacktrace:\n",
      "\tGetHandleVerifier [0x00EB4CA3+225091]\n",
      "\t(No symbol) [0x00DE4DF1]\n",
      "\t(No symbol) [0x00C89A7A]\n",
      "\t(No symbol) [0x00C7A272]\n",
      "\t(No symbol) [0x00C79E79]\n",
      "\t(No symbol) [0x00C8B8F0]\n",
      "\t(No symbol) [0x00CF55C6]\n",
      "\t(No symbol) [0x00CDF2F6]\n",
      "\t(No symbol) [0x00CB79B9]\n",
      "\t(No symbol) [0x00CB879D]\n",
      "\tsqlite3_dbdata_init [0x01329A43+4064547]\n",
      "\tsqlite3_dbdata_init [0x0133104A+4094762]\n",
      "\tsqlite3_dbdata_init [0x0132B948+4072488]\n",
      "\tsqlite3_dbdata_init [0x0102C9A9+930953]\n",
      "\t(No symbol) [0x00DF07C4]\n",
      "\t(No symbol) [0x00DEACE8]\n",
      "\t(No symbol) [0x00DEAE11]\n",
      "\t(No symbol) [0x00DDCA80]\n",
      "\tBaseThreadInitThunk [0x7695FCC9+25]\n",
      "\tRtlGetAppContainerNamedObjectPath [0x771F7C5E+286]\n",
      "\tRtlGetAppContainerNamedObjectPath [0x771F7C2E+238]\n",
      "\n"
     ]
    },
    {
     "name": "stderr",
     "output_type": "stream",
     "text": [
      "\n"
     ]
    }
   ],
   "source": [
    "import csv\n",
    "import asyncio\n",
    "from selenium import webdriver\n",
    "from selenium.webdriver.chrome.service import Service as ChromeService\n",
    "from webdriver_manager.chrome import ChromeDriverManager\n",
    "from selenium.webdriver.chrome.options import Options\n",
    "from selenium.webdriver.common.keys import Keys\n",
    "from selenium.webdriver.common.action_chains import ActionChains\n",
    "from bs4 import BeautifulSoup\n",
    "from fake_useragent import UserAgent\n",
    "from tqdm import tqdm\n",
    "from time import sleep\n",
    "\n",
    "def parse_data(src, car_number):\n",
    "    try:\n",
    "        soup = BeautifulSoup(src, 'lxml')\n",
    "\n",
    "        layer_1 = soup.find('div', class_=\"offer\")\n",
    "        name_header = layer_1.find('header', class_=\"offer__header\")\n",
    "        name = name_header.find('h1', class_=\"offer__title\").text\n",
    "        list_name = name.split()\n",
    "        brand = list_name[0]\n",
    "        name = list_name[-3]\n",
    "        year = int(list_name[-2])\n",
    "\n",
    "        layer_2 = soup.find('section', class_=\"offer__container\")\n",
    "        layer_3 = layer_2.find('div', class_=\"offer__sidebar\").find('div', class_=\"offer__sidebar-info\")\n",
    "\n",
    "        price = layer_3.find('div', class_=\"offer__sidebar-header\").find('div', class_=\"offer__price\").text\n",
    "        price = int(''.join(price.split()[:-1]))\n",
    "\n",
    "        layer_4 = layer_3.find('div', class_=\"offer__parameters\")\n",
    "        dls = layer_4.find_all('dl')\n",
    "\n",
    "        city = dls[0].find('dd').text\n",
    "        body = dls[2].find('dd').text\n",
    "\n",
    "        eng_fuel = (dls[3].find('dd').text).split()\n",
    "        if len(eng_fuel) >= 2:\n",
    "            engine = float(eng_fuel[0])\n",
    "            fuel = eng_fuel[1][1:-1]\n",
    "        else:\n",
    "            engine = None\n",
    "            fuel = eng_fuel[0]\n",
    "\n",
    "        if dls[4].find('dt', title='Пробег'):\n",
    "            mileage = int(''.join(dls[4].find('dd').text.split()[:-1]))\n",
    "            transmission = dls[5].find('dd').text\n",
    "            drive = dls[6].find('dd').text\n",
    "            color = dls[8].find('dd').text.split()[0] if len(dls[8].find('dd').text.split()[0]) > 3 else None\n",
    "        else:\n",
    "            mileage = None\n",
    "            transmission = dls[4].find('dd').text\n",
    "            drive = dls[5].find('dd').text\n",
    "            color = dls[7].find('dd').text.split()[0] if len(dls[7].find('dd').text.split()[0]) > 3 else None\n",
    "\n",
    "        with open(f\"car_kolesa.csv\", \"a\", encoding=\"utf-8\", newline='') as file:\n",
    "            writer = csv.writer(file)\n",
    "            writer.writerow(\n",
    "                (\n",
    "                    brand,\n",
    "                    name,\n",
    "                    year,\n",
    "                    price,\n",
    "                    city,\n",
    "                    body,\n",
    "                    engine,\n",
    "                    fuel,\n",
    "                    mileage,\n",
    "                    transmission,\n",
    "                    drive,\n",
    "                    color,\n",
    "                    car_number\n",
    "                )\n",
    "            )\n",
    "        sleep(2)\n",
    "        print(f\"Car {car_number} data written.\")\n",
    "    except Exception as e:\n",
    "        print(f\"Error processing car {car_number}: {e}\")\n",
    "\n",
    "async def parse_single(driver, url):\n",
    "    try:\n",
    "        driver.execute_script(f\"window.open('{url}', '_blank');\")\n",
    "        driver.switch_to.window(driver.window_handles[1])\n",
    "        await asyncio.sleep(5)  # Добавьте задержку, чтобы страница загрузилась полностью\n",
    "        parse_data(driver.page_source, url)\n",
    "        driver.close()\n",
    "        driver.switch_to.window(driver.window_handles[-1])\n",
    "    except Exception as e:\n",
    "        print(f\"Error parsing {url}: {e}\")\n",
    "\n",
    "async def parse_urls(driver, urls):\n",
    "    tasks = [parse_single(driver, url) for url in urls]\n",
    "    await asyncio.gather(*tasks)\n",
    "\n",
    "async def main():        \n",
    "    directory = ChromeDriverManager().install()\n",
    "    useragent = UserAgent()\n",
    "    options = Options()\n",
    "    options.add_argument(\"--disable-blink-features=AutomationControlled\")\n",
    "    options.add_argument(f\"user-agent={useragent.random}\")\n",
    "    driver = webdriver.Chrome(service=ChromeService(directory), options=options)\n",
    "\n",
    "    try:\n",
    "        list_urls = []\n",
    "        driver.get(\"https://kolesa.kz/\")\n",
    "        sleep(10)\n",
    "        url = \"https://kolesa.kz/cars/avtomobili-s-probegom/?auto-car-grbody=1&_sys-hasphoto=2&page=1\"\n",
    "        driver.get(url)\n",
    "\n",
    "        for i in tqdm(range(1, 401)):\n",
    "            list_urls = []\n",
    "            soup = BeautifulSoup(driver.page_source, 'lxml')\n",
    "            layer_1 = soup.find('div', id='results')\n",
    "            if layer_1:\n",
    "                layer_2 = layer_1.find('div', class_='vip-block')\n",
    "                if layer_2:\n",
    "                    find_vip = layer_2.find_all('div', class_=\"vip-block__item vip-card js__a-card\")\n",
    "                    for j in find_vip:\n",
    "                        href_vip = 'https://kolesa.kz/' + j.find('a', class_=\"vip-card__link\").get('href')\n",
    "                        list_urls.append(href_vip)\n",
    "\n",
    "                find = layer_1.find('div', class_='a-list')\n",
    "                if find:\n",
    "                    find_list = find.find_all('div', class_='a-card__picture')\n",
    "                    for j in find_list:\n",
    "                        if j.find('a'):\n",
    "                            href = 'https://kolesa.kz/' + j.find('a').get('href')\n",
    "                            list_urls.append(href)\n",
    "            sleep(3)\n",
    "            print(len(list_urls))\n",
    "                    \n",
    "            print(f'iteration {i}, finish')\n",
    "            actions = ActionChains(driver)\n",
    "            actions.key_down(Keys.CONTROL).send_keys(Keys.ARROW_RIGHT).key_up(Keys.CONTROL).perform()\n",
    "\n",
    "            await parse_urls(driver, list_urls)\n",
    "\n",
    "    except Exception as e:\n",
    "        print(f\"Error occurred: {e}\")\n",
    "    finally:\n",
    "        driver.quit()\n",
    "\n",
    "await main()"
   ]
  },
  {
   "cell_type": "code",
   "execution_count": null,
   "metadata": {},
   "outputs": [],
   "source": []
  }
 ],
 "metadata": {
  "kernelspec": {
   "display_name": "Python 3",
   "language": "python",
   "name": "python3"
  },
  "language_info": {
   "codemirror_mode": {
    "name": "ipython",
    "version": 3
   },
   "file_extension": ".py",
   "mimetype": "text/x-python",
   "name": "python",
   "nbconvert_exporter": "python",
   "pygments_lexer": "ipython3",
   "version": "3.12.2"
  }
 },
 "nbformat": 4,
 "nbformat_minor": 2
}
